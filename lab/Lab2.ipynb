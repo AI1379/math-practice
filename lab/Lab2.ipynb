{
  "cells": [
    {
      "cell_type": "raw",
      "id": "88369a36",
      "metadata": {
        "lines_to_next_cell": 0
      },
      "source": [
        "---\n",
        "title: \"Lab 2: Data Visulization\"\n",
        "date: \"2025/06/27\"\n",
        "output: pdf_document\n",
        "---"
      ]
    },
    {
      "cell_type": "code",
      "execution_count": null,
      "id": "f1fa64db",
      "metadata": {
        "message": false,
        "name": "setup",
        "tags": [
          "remove_cell"
        ]
      },
      "outputs": [],
      "source": [
        "library(tidyverse)"
      ]
    },
    {
      "cell_type": "markdown",
      "id": "12a61f03",
      "metadata": {
        "lines_to_next_cell": 0
      },
      "source": [
        "Today's agenda: data visualization with ggplot2. Get help on dataset ChickWeight by `?ChickWeight`. Play with the following R code to figure out what we are doing here.\n",
        "\n",
        "### First plot"
      ]
    },
    {
      "cell_type": "code",
      "execution_count": null,
      "id": "3b7e26a6",
      "metadata": {
        "lines_to_next_cell": 0
      },
      "outputs": [],
      "source": [
        "p1 <- ggplot(ChickWeight, aes(x=Time, y=weight, colour=Diet)) +\n",
        "    geom_point(alpha=.3) +\n",
        "    geom_smooth(alpha=.2, size=1) +\n",
        "    ggtitle(\"Fitted growth curve per diet\")\n",
        "p1"
      ]
    },
    {
      "cell_type": "markdown",
      "id": "02a06195",
      "metadata": {
        "lines_to_next_cell": 0
      },
      "source": [
        "----\n",
        "### Second plot"
      ]
    },
    {
      "cell_type": "code",
      "execution_count": null,
      "id": "346e4ed1",
      "metadata": {
        "lines_to_next_cell": 0
      },
      "outputs": [],
      "source": [
        "p2 <- ggplot(subset(ChickWeight, Time==21), aes(x=weight, colour=Diet)) +\n",
        "    geom_density() +\n",
        "    ggtitle(\"Final weight, by diet\")\n",
        "p2"
      ]
    },
    {
      "cell_type": "markdown",
      "id": "f57669fe",
      "metadata": {
        "lines_to_next_cell": 0
      },
      "source": [
        "----\n",
        "### Third plot"
      ]
    },
    {
      "cell_type": "code",
      "execution_count": null,
      "id": "dbbf38ee",
      "metadata": {
        "lines_to_next_cell": 0
      },
      "outputs": [],
      "source": [
        "p3 <- ggplot(subset(ChickWeight, Time==21), aes(x=weight, fill=Diet)) +\n",
        "    geom_histogram(colour=\"black\", binwidth=50) +\n",
        "    facet_grid(Diet ~ .) +\n",
        "    ggtitle(\"Final weight, by diet\") +\n",
        "    theme(legend.position=\"none\")        # No legend (redundant in this graph)\n",
        "p3"
      ]
    },
    {
      "cell_type": "markdown",
      "id": "bc9d3719",
      "metadata": {},
      "source": []
    }
  ],
  "metadata": {
    "jupytext": {
      "cell_metadata_filter": "name,tags,message,-all",
      "main_language": "R",
      "notebook_metadata_filter": "-all"
    },
    "kernelspec": {
      "name": "ir",
      "display_name": "R",
      "language": "R"
    },
    "language_info": {
      "name": "R"
    }
  },
  "nbformat": 4,
  "nbformat_minor": 5
}