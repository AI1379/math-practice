{
  "cells": [
    {
      "cell_type": "raw",
      "id": "8421c082",
      "metadata": {
        "lines_to_next_cell": 0
      },
      "source": [
        "---\n",
        "title: 'Lab 6: How the Tetracycline Came to Peoria'\n",
        "date: \"2025/07/01\"\n",
        "output: pdf_document\n",
        "---"
      ]
    },
    {
      "cell_type": "code",
      "execution_count": null,
      "id": "eeca9e52",
      "metadata": {
        "message": false,
        "name": "setup",
        "tags": [
          "remove_cell"
        ]
      },
      "outputs": [],
      "source": [
        "library(tidyverse)"
      ]
    },
    {
      "cell_type": "markdown",
      "id": "a24c6fad",
      "metadata": {},
      "source": [
        "***Agenda:*** Transforming data; combining information from multiple objects; practice with selective access; practice applying functions.\n",
        "\n",
        "Now-common ideas like “early adopters” and “viral marketing” grew from sociological studies of the diffusion of innovations. One of the most famous of these studies tracked how a then-new antibiotic, tetracycline, spread among doctors in four small cities in Illionis in the 1950s. In this lab, we will go back to that data to look at one of the crucial ideas, that of the innovation (prescribing tetracycline) “spreading” from person to person.\n",
        "You will use two data files, [ckm_nodes.csv] and [ckm_network.dat]. The former has information about each individual doctor in the four towns. The latter records which doctors knew each other.\n",
        "\n",
        "Part I\n",
        "------\n",
        "1. Load the dataset [ckm_nodes.csv] into a data frame, `ckm_nodes`. Check that it has 246 rows and 13 columns. Check that there are columns named `city` and `adoption_date`."
      ]
    },
    {
      "cell_type": "code",
      "execution_count": null,
      "id": "122e2eec",
      "metadata": {},
      "outputs": [],
      "source": [
        "ckm_nodes <- read_csv('data/ckm_nodes.csv')\n",
        "dim(ckm_nodes)"
      ]
    },
    {
      "cell_type": "markdown",
      "id": "45950df7",
      "metadata": {
        "lines_to_next_cell": 0
      },
      "source": [
        "2. `adoption_date` records the month in which the doctor began prescribing tetracycline, counting from November 1953. If the doctor did not begin prescribing it by month 17, i.e., February 1955, when the study ended, this is recorded as `Inf`. If it’s not known when or if a doctor adopted tetracycline, their value is `NA`.\n",
        "    a. How many doctors began prescribing tetracycline in each month of the study? How many never prescribed? How many are NAs? Hints: `table()`, `is.na()`, `sum()`."
      ]
    },
    {
      "cell_type": "code",
      "execution_count": null,
      "id": "27709616",
      "metadata": {
        "lines_to_next_cell": 0
      },
      "outputs": [],
      "source": [
        "table(ckm_nodes$adoption_date)\n",
        "sum(is.na(ckm_nodes$adoption_date))"
      ]
    },
    {
      "cell_type": "markdown",
      "id": "88eddefa",
      "metadata": {
        "lines_to_next_cell": 0
      },
      "source": [
        "    b. Create a vector which records the index numbers of doctors for whom `adoption_date` is not `NA`. Check that this vector has length 125. Re-assign `ckm_nodes` so it only contains those rows. (Do not drop rows if they have a value for `adoption_date` but are `NA` in some other column.) Use this cleaned version of `ckm_nodes` for the rest of the lab."
      ]
    },
    {
      "cell_type": "code",
      "execution_count": null,
      "id": "5625a517",
      "metadata": {},
      "outputs": [],
      "source": [
        "adate <- !is.na(ckm_nodes$adoption_date)\n",
        "ckm_nodes <-  ckm_nodes %>% dplyr::filter(adate)"
      ]
    },
    {
      "cell_type": "markdown",
      "id": "8f56d249",
      "metadata": {
        "lines_to_next_cell": 0
      },
      "source": [
        "3. Create plots of the number of doctors who began prescribing tetracycline each month versus time. (It is OK for the numbers on the horizontal axis to just be integers rather than formatted dates.) Produce another plot of the total number of doctors prescribing tetracycline in each month. The curve for total adoptions should first rise rapidly and then level out around month 6."
      ]
    },
    {
      "cell_type": "code",
      "execution_count": null,
      "id": "f66ca8a5",
      "metadata": {},
      "outputs": [],
      "source": [
        "adopt_no <- ckm_nodes %>% group_by(adoption_date) %>% \n",
        "  summarize(doctor_no = n()) %>% \n",
        "  ungroup()\n",
        "\n",
        "adopt_no <- adopt_no %>% mutate(doctor_tot = cumsum(doctor_no))\n",
        "\n",
        "adopt_no %>% ggplot(aes(x = adoption_date, y = doctor_no)) +\n",
        "  geom_point()\n",
        "\n",
        "adopt_no %>% ggplot(aes(x = adoption_date, y = doctor_tot)) +\n",
        "  geom_point()"
      ]
    },
    {
      "cell_type": "markdown",
      "id": "6a9a600e",
      "metadata": {
        "lines_to_next_cell": 0
      },
      "source": [
        "4. Adopted already or not yet?\n",
        "    a. Create a Boolean vector which indicates, for each doctor, whether they had begun prescribing tetracycline by month 2. Convert it to a vector of index numbers. There should be twenty such doctors.\n",
        "    b. Create a Boolean vector which indicates, for each doctor, whether they began prescribing tetracycline after month 14, or never prescribed it. Convert it to a vector of index numbers. There should be twenty-three such doctors.\n",
        "\n",
        "Part II\n",
        "----------\n",
        "5. The file `ckm_network.dat` contains a binary matrix; the entry in row $i$, column $j$ is 1 if doctor number $i$ said that doctor $j$ was a friend or close professional contact, and 0 otherwise. Load the file into R as `ckm_network`, and verify that gives you a square matrix which contains only 0s and 1s, and that it has 246 rows and columns. Drop the rows and columns corresponding to doctors with missing `adoption_date` values. Check that the result has 125 rows and columns. Use this reduced matrix, and its row and column numbers, for the rest of the lab."
      ]
    },
    {
      "cell_type": "code",
      "execution_count": null,
      "id": "6565e169",
      "metadata": {},
      "outputs": [],
      "source": [
        "ckm_network <- read.table('data/ckm_network.dat', header = F )\n",
        "dim(ckm_network)\n",
        "\n",
        "ckm_network <- ckm_network %>% dplyr::filter(adate) %>% \n",
        "  dplyr::select(which(adate))\n",
        "\n",
        "dim(ckm_network)"
      ]
    },
    {
      "cell_type": "markdown",
      "id": "9fc4d50c",
      "metadata": {},
      "source": [
        "6. Create a vector which stores the number of contacts each doctor has. Do not use a loop. Check that doctor number 41 had 3 contacts.\n",
        "Hint: You could do this using apply, but you can also do it in one line with a single function.\n",
        "\n",
        "7. Counting Peer Pressure\n",
        "    a. Create a Boolean vector which indicates, for each doctor, whether they were contacts of doctor number 37, and had begun prescribing tetracycline by month 5. Count the number of such doctors without converting the Boolean vector to a vector of indices. There should be three such doctors.\n",
        "    b. What proportion of doctor 37’s friends do those two doctors represent? "
      ]
    }
  ],
  "metadata": {
    "jupytext": {
      "cell_metadata_filter": "message,tags,name,-all",
      "main_language": "R",
      "notebook_metadata_filter": "-all"
    },
    "kernelspec": {
      "name": "ir",
      "display_name": "R",
      "language": "R"
    },
    "language_info": {
      "name": "R"
    }
  },
  "nbformat": 4,
  "nbformat_minor": 5
}