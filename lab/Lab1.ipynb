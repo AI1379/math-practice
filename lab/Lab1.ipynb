{
  "cells": [
    {
      "cell_type": "raw",
      "id": "33427ffb",
      "metadata": {
        "lines_to_next_cell": 0
      },
      "source": [
        "---\n",
        "title: 'Lab 1: Data Manipulation, Random Number Generation'\n",
        "date: \"2025/06/26\"\n",
        "output:\n",
        "  html_document:\n",
        "    df_print: paged\n",
        "---"
      ]
    },
    {
      "cell_type": "code",
      "execution_count": null,
      "id": "1919c0fa",
      "metadata": {
        "tags": [
          "remove_cell"
        ]
      },
      "outputs": [],
      "source": [
        "options(tinytex.verbose = TRUE)"
      ]
    },
    {
      "cell_type": "code",
      "execution_count": null,
      "id": "d2cc7b82",
      "metadata": {
        "message": false,
        "name": "setup",
        "tags": [
          "remove_cell"
        ]
      },
      "outputs": [],
      "source": [
        "library(tidyverse)"
      ]
    },
    {
      "cell_type": "markdown",
      "id": "81b9af46",
      "metadata": {},
      "source": [
        "Today's agenda: Manipulating data objects; using the built-in functions,\n",
        "  doing numerical calculations, and basic plots; reinforcing core probabilistic ideas.\n",
        "\n",
        "0. Open a new R Markdown file; set the output to HTML mode and \"Knit\". This should produce a web page with the knitting procedure executing your code blocks. You can edit this new file to produce your homework submission.\n",
        "\n",
        "Background\n",
        "----------\n",
        "\n",
        "The exponential distribution is defined by its cumulative distribution function\n",
        "\n",
        "$$F(x) = 1-e^{-\\lambda x}$$\n",
        "\n",
        "The R function `rexp` generates random variables with an exponential\n",
        "distribution."
      ]
    },
    {
      "cell_type": "code",
      "execution_count": null,
      "id": "130ce4b3",
      "metadata": {},
      "outputs": [],
      "source": [
        "rexp(n=10, rate=5)"
      ]
    },
    {
      "cell_type": "markdown",
      "id": "af824289",
      "metadata": {},
      "source": [
        "produces 10 exponentially-distributed numbers with rate ($\\lambda$) of 5.  If the second argument is omitted, the default rate is 1; this is the `standard exponential distribution`.\n",
        "\n",
        "Part I\n",
        "----------\n",
        "\n",
        "1. Generate 200 random values from the standard exponential distribution and store them in a vector `exp.draws.1`.  Find the mean and standard deviation of `exp.draws.1`.\n",
        "\n",
        "2. Repeat, but change the rate to 0.1, 0.5, 5 and 10, storing the results in vectors called  `exp.draws.0.1`,  `exp.draws.0.5`,  `exp.draws.5` and  `exp.draws.10`. \n",
        "\n",
        "3. The function `plot()` is the generic function in R for the visual display of data. `hist()` is a function that takes in and bins data as a side effect. To use this function, we must first specify what we'd like to plot.\n",
        "    a. Use the `hist()` function to produce a histogram of your standard exponential distribution. \n",
        "    b. Use `plot()` with this vector to display the random values from your standard distribution in order.\n",
        "    c. Now, use `plot()` with two arguments -- any two of your other stored random value vectors -- to create a scatterplot of the two vectors against each other.\n",
        "\n",
        "4. We'd now like to compare the properties of each of our vectors. Begin by creating a vector of the means of each of our five distributions in the order we created them and saving this to a variable name of your choice. Using this and other similar vectors, create the following scatterplots:\n",
        "    a. The five means versus the five rates used to generate the distribution.\n",
        "    b. The standard deviations versus the rates.\n",
        "    c. The means versus the standard deviations.\n",
        "\n",
        "For each plot, explain in words what's going on.\n",
        "\n",
        "Part II\n",
        "-------\n",
        "\n",
        "5. R's capacity for data and computation is large to what was available 10 years ago. \n",
        "    a. To show this, generate 1.1 million numbers from the standard exponential distribution and store them in a vector called `big.exp.draws.1`. Calculate the mean and standard deviation.\n",
        "    b. Plot a histogram of `big.exp.draws.1`.  Does it match the function $1-e^{-x}$?  Should it? \n",
        "    c. Find the mean of all of the entries in `big.exp.draws.1` which are strictly greater than 1. You may need to first create a new vector to identify which elements satisfy this.\n",
        "    d. Create a matrix, `big.exp.draws.1.mat`, containing the the values in \n",
        "`big.exp.draws.1`, with 1100 rows and 1000 columns. Use this matrix as the input to the `hist()` function and save the result to a variable of your choice. What happens to your data?\n",
        "    e. Calculate the mean of the 371st column of `big.exp.draws.1.mat`.\n",
        "    f. Now, find the means of all 1000 columns of `big.exp.draws.1.mat` simultaneously. Plot the histogram of column means.  Explain why its shape does not match the histogram in problem 5b).\n",
        "    g. Take the square of each number in `big.exp.draws.1`, and find the mean of this new vector.  Explain this in terms of the mean and standard deviation of `big.exp.draws.1`. ***Hint:*** think carefully about the formula R uses to calculate the standard deviation.\n",
        "\n",
        "\n",
        "\n",
        "\n",
        "\n"
      ]
    }
  ],
  "metadata": {
    "jupytext": {
      "cell_metadata_filter": "name,message,tags,-all",
      "main_language": "R",
      "notebook_metadata_filter": "-all"
    },
    "kernelspec": {
      "name": "ir",
      "display_name": "R",
      "language": "R"
    },
    "language_info": {
      "name": "R"
    }
  },
  "nbformat": 4,
  "nbformat_minor": 5
}