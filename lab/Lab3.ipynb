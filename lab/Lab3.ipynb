{
  "cells": [
    {
      "cell_type": "raw",
      "id": "9aa0899f",
      "metadata": {
        "lines_to_next_cell": 0
      },
      "source": [
        "---\n",
        "title: 'Lab 3: Data Wrangling on Soccer Tournament Data'\n",
        "date: '2025/06/28'\n",
        "output:\n",
        "  pdf_document: default\n",
        "  html_document: default\n",
        "---"
      ]
    },
    {
      "cell_type": "code",
      "execution_count": null,
      "id": "420df4b1",
      "metadata": {
        "message": false,
        "name": "setup",
        "tags": [
          "remove_cell"
        ]
      },
      "outputs": [],
      "source": [
        "library(tidyverse)"
      ]
    },
    {
      "cell_type": "markdown",
      "id": "b08c59c6",
      "metadata": {
        "lines_to_next_cell": 0
      },
      "source": [
        "Soccer tournament data wrangling\n",
        "--------------------------\n",
        "Read the dataset of football games."
      ]
    },
    {
      "cell_type": "code",
      "execution_count": null,
      "id": "2be9e2d1",
      "metadata": {},
      "outputs": [],
      "source": [
        "d <- read_csv(\"data/results.csv\")"
      ]
    },
    {
      "cell_type": "markdown",
      "id": "f7deeb32",
      "metadata": {
        "lines_to_next_cell": 0
      },
      "source": [
        "1. Select variables `date`, `home_team` and `away_team`."
      ]
    },
    {
      "cell_type": "code",
      "execution_count": null,
      "id": "fc919fdf",
      "metadata": {
        "lines_to_next_cell": 0
      },
      "outputs": [],
      "source": []
    },
    {
      "cell_type": "markdown",
      "id": "d673c8dc",
      "metadata": {
        "lines_to_next_cell": 0
      },
      "source": [
        "2. Subset games with **Brazil** as the home team."
      ]
    },
    {
      "cell_type": "code",
      "execution_count": null,
      "id": "bfd3579f",
      "metadata": {},
      "outputs": [],
      "source": []
    },
    {
      "cell_type": "markdown",
      "id": "990e8c90",
      "metadata": {
        "lines_to_next_cell": 0
      },
      "source": [
        "3. Choose the games that Brazil won as the home team, and select variables `date`, `away_team` and `tournament`."
      ]
    },
    {
      "cell_type": "code",
      "execution_count": null,
      "id": "3056c1ad",
      "metadata": {},
      "outputs": [],
      "source": []
    },
    {
      "cell_type": "markdown",
      "id": "4ef1eb5d",
      "metadata": {
        "lines_to_next_cell": 0
      },
      "source": [
        "4. Add the difference of goals, and an indicator variable called `goleada` for when the difference of goals is large,  and select what we did only for Brazil. **Hint: use `ifelse`**."
      ]
    },
    {
      "cell_type": "code",
      "execution_count": null,
      "id": "782be72c",
      "metadata": {},
      "outputs": [],
      "source": []
    },
    {
      "cell_type": "markdown",
      "id": "954ee090",
      "metadata": {
        "lines_to_next_cell": 0
      },
      "source": [
        "5. What was the largest difference in goals within these games?"
      ]
    },
    {
      "cell_type": "code",
      "execution_count": null,
      "id": "bb66f837",
      "metadata": {},
      "outputs": [],
      "source": []
    },
    {
      "cell_type": "markdown",
      "id": "8710f885",
      "metadata": {
        "lines_to_next_cell": 0
      },
      "source": [
        "6. The top 5 goleadas?"
      ]
    },
    {
      "cell_type": "code",
      "execution_count": null,
      "id": "f7f46fe2",
      "metadata": {
        "lines_to_next_cell": 0
      },
      "outputs": [],
      "source": []
    },
    {
      "cell_type": "markdown",
      "id": "f7949862",
      "metadata": {
        "lines_to_next_cell": 0
      },
      "source": [
        "7. Summary on goals scored by home teams, such as `mean` of `home_score` and `away_score`, `std`, using `group_by` and `summarise`"
      ]
    },
    {
      "cell_type": "code",
      "execution_count": null,
      "id": "0362a4d2",
      "metadata": {},
      "outputs": [],
      "source": []
    },
    {
      "cell_type": "markdown",
      "id": "96d6c481",
      "metadata": {
        "lines_to_next_cell": 0
      },
      "source": [
        "8. Proportion of victories of **Brazil** on different tournaments against each opponent, for instance, **Argentina**."
      ]
    },
    {
      "cell_type": "code",
      "execution_count": null,
      "id": "43e7537d",
      "metadata": {},
      "outputs": [],
      "source": []
    }
  ],
  "metadata": {
    "jupytext": {
      "cell_metadata_filter": "tags,name,message,-all",
      "main_language": "R",
      "notebook_metadata_filter": "-all"
    },
    "kernelspec": {
      "name": "ir",
      "display_name": "R",
      "language": "R"
    },
    "language_info": {
      "name": "R"
    }
  },
  "nbformat": 4,
  "nbformat_minor": 5
}