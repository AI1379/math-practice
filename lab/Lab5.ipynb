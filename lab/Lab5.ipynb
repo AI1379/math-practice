{
  "cells": [
    {
      "cell_type": "raw",
      "id": "358b6794",
      "metadata": {
        "lines_to_next_cell": 0
      },
      "source": [
        "---\n",
        "title: 'Lab 5: Planning Production Continued'\n",
        "date: '2025/06/30'\n",
        "output:\n",
        "  pdf_document: default\n",
        "  html_document: default\n",
        "---"
      ]
    },
    {
      "cell_type": "code",
      "execution_count": null,
      "id": "24c461ea",
      "metadata": {
        "message": false,
        "name": "setup",
        "tags": [
          "remove_cell"
        ]
      },
      "outputs": [],
      "source": [
        "library(tidyverse)"
      ]
    },
    {
      "cell_type": "markdown",
      "id": "6d8666d0",
      "metadata": {
        "lines_to_next_cell": 0
      },
      "source": [
        "Reproducibility and Functions\n",
        "==========================================\n",
        "\n",
        "Some of the lectures have included examples of planning production for a factory that turns steel and labor into cars and trucks.  Below is a piece of code that optimizes the factory's output (roughly) given the available resources, using a `repeat` loop.  It's embedded in a function to make it easier for you to run."
      ]
    },
    {
      "cell_type": "code",
      "execution_count": null,
      "id": "8f7f342a",
      "metadata": {},
      "outputs": [],
      "source": [
        "factory.function <- function (cars.output=10, trucks.output=5) {\n",
        "  factory <- matrix(c(40,1,60,3),nrow=2,\n",
        "    dimnames=list(c(\"labor\",\"steel\"),c(\"cars\",\"trucks\")))\n",
        "  available <- c(1600,70); names(available) <- rownames(factory)\n",
        "  slack <- c(8,1)/5; names(slack) <- rownames(factory)\n",
        "  output <- c(cars.output, trucks.output); names(output) <- colnames(factory)\n",
        "\n",
        "  passes <- 0 # How many times have we  been around the loop?\n",
        "  repeat {\n",
        "     passes <- passes + 1\n",
        "     needed <- factory %*% output # What do we need for that output level?\n",
        "     # If we're not using too much, and are within the slack, we're done\n",
        "     if (all(needed <= available) &&\n",
        "         all((available - needed) <= slack)) {\n",
        "       break()\n",
        "     }\n",
        "     # If we're using too much of everything, cut back by 10%\n",
        "     if (all(needed > available)) {\n",
        "       output <- output * 0.9\n",
        "       next()\n",
        "     }\n",
        "     # If we're using too little of everything, increase by 10%\n",
        "     if (all(needed < available)) {\n",
        "       output <- output * 1.1\n",
        "       next()\n",
        "     }\n",
        "     # If we're using too much of some resources but not others, randomly\n",
        "     # tweak the plan by up to 10%\n",
        "      # runif == Random number, UNIFormly distributed, not \"run if\"\n",
        "     output <- output * (1+runif(length(output),min=-0.1,max=0.1))\n",
        "  }\n",
        "\n",
        "  return(list(output=output,pass=passes))\n",
        "}"
      ]
    },
    {
      "cell_type": "markdown",
      "id": "8bd5f8b1",
      "metadata": {},
      "source": [
        "5. Run the function above with the command"
      ]
    },
    {
      "cell_type": "code",
      "execution_count": null,
      "id": "e80f161c",
      "metadata": {},
      "outputs": [],
      "source": [
        "factory.function()"
      ]
    },
    {
      "cell_type": "markdown",
      "id": "6c235e3a",
      "metadata": {},
      "source": [
        "to obtain a default output value, starting from a very low initial planned output. What is the final output capacity obtained?\n",
        "\n",
        "6. Repeat this four more times to obtain new output values. Do these answers differ from each other? If so why? If not, why not?\n",
        "\n",
        "7. Right now, the number of `passes` is a value held within the function itself and not shared. Change the code so that the number of `passes` will be returned at the end of the function, as well as the final `output`.\n",
        "\n",
        "8. Now, set the initial output levels to 30 cars and 20 trucks and run the code.  What is the final output plan (`output`)?  What is the final demand for resources (`needed`)?  Is the plan within budget and within the slack?  How many iterations did it take to converge (`passes`)? For all but `output` you will need to either print this message out deliberately, or return an object that contains all the quantities you want.\n",
        "\n"
      ]
    }
  ],
  "metadata": {
    "jupytext": {
      "cell_metadata_filter": "tags,message,name,-all",
      "main_language": "R",
      "notebook_metadata_filter": "-all"
    },
    "kernelspec": {
      "name": "ir",
      "display_name": "R",
      "language": "R"
    },
    "language_info": {
      "name": "R"
    }
  },
  "nbformat": 4,
  "nbformat_minor": 5
}