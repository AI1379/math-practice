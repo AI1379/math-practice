{
  "cells": [
    {
      "cell_type": "raw",
      "id": "c4631c8f",
      "metadata": {
        "lines_to_next_cell": 0
      },
      "source": [
        "---\n",
        "title: 'Lab 4: Heart of the (Tiny) Tiger'\n",
        "date: \"2025/06/29\"\n",
        "output: pdf_document\n",
        "---"
      ]
    },
    {
      "cell_type": "code",
      "execution_count": null,
      "id": "509498bb",
      "metadata": {
        "message": false,
        "name": "setup",
        "tags": [
          "remove_cell"
        ]
      },
      "outputs": [],
      "source": [
        "library(tidyverse)"
      ]
    },
    {
      "cell_type": "markdown",
      "id": "96c49f89",
      "metadata": {},
      "source": [
        "_Agenda_: Writing functions to automate repetitive tasks; fitting statistical models.\n",
        "\n",
        "The ***gamma*** distributions are a family of probability distributions defined by the density functions,\n",
        "\n",
        "$$ f(x) = \\frac{x^{a-1} e^{-x/s}}{s^a \\Gamma(a)} $$\n",
        "\n",
        "where the ***gamma function*** $\\Gamma(a) = \\int_{0}^{\\infty}{u^{a-1} e^{-u} du}$ is chosen so that the total probability of all non-negative $x$ is 1. The parameter $a$ is called the ***shape***, and $s$ is the ***scale***.  When $a=1$, this becomes the exponential distributions we saw in the first lab.  The gamma probability density function is called `dgamma()` in R.  You can prove (as a calculus exercise) that the expectation value of this distribution is $as$, and the variance $as^2$.  If the mean and variance are known, $\\mu$ and $\\sigma^2$, then we can solve for the parameters,\n",
        "\n",
        "$$ a = \\frac{a^2s^2}{as^2} = \\frac{\\mu^2}{\\sigma^2} $$\n",
        "$$ s = \\frac{as^2}{as} = \\frac{\\sigma^2}{\\mu} $$\n",
        "\n",
        "In this lab, you will fit a gamma distribution to data, and estimate the\n",
        "uncertainty in the fit.\n",
        "\n",
        "Our data today are measurements of the weight of the hearts of 144 cats.\n",
        "\n",
        "Part I\n",
        "==========\n",
        "\n",
        "1. The data is contained in a data frame called `cats`, in the R package `MASS`.  (This package is part of the standard R installation.)  This records the sex of each cat, its weight in kilograms, and the weight of its heart in grams.  Load the data as follows:"
      ]
    },
    {
      "cell_type": "code",
      "execution_count": null,
      "id": "cfb2c490",
      "metadata": {},
      "outputs": [],
      "source": [
        "library(MASS)\n",
        "data(cats)\n",
        "summary(cats)"
      ]
    },
    {
      "cell_type": "markdown",
      "id": "aea8cedb",
      "metadata": {
        "lines_to_next_cell": 0
      },
      "source": [
        "Run `summary(cats)` and explain the results.\n",
        "\n",
        "2. Plot a histogram of these weights using the `probability=TRUE` option. Add a vertical line with your calculated mean using `abline(v=yourmeanvaluehere)`. Does this calculated mean look correct?"
      ]
    },
    {
      "cell_type": "code",
      "execution_count": null,
      "id": "5dbaa734",
      "metadata": {
        "lines_to_next_cell": 2
      },
      "outputs": [],
      "source": [
        "par(mfrow = c(1, 2))\n",
        "hist(cats$Bwt, probability=TRUE); abline(v = 2.724)\n",
        "hist(cats$Hwt, probability=TRUE); abline(v = 10.63)\n",
        "par(mfrow = c(1,1))"
      ]
    },
    {
      "cell_type": "markdown",
      "id": "7a9c7142",
      "metadata": {},
      "source": [
        "3. Define two variables, `fake.mean <- 10` and `fake.var <- 8`. Write an expression for $a$ using these placeholder values. Does it equal what you expected given the solutions above? Once it does, write another such expression for $s$ and confirm."
      ]
    },
    {
      "cell_type": "code",
      "execution_count": null,
      "id": "a146917f",
      "metadata": {},
      "outputs": [],
      "source": [
        "fake.mean <- 10\n",
        "fake.var <- 8\n",
        "a <- fake.mean ^ 2 / fake.var\n",
        "s <- fake.var / fake.mean"
      ]
    },
    {
      "cell_type": "markdown",
      "id": "9ebca2bc",
      "metadata": {},
      "source": [
        "4. Calculate the mean, standard deviation, and variance of the heart weights using R's existing functions for these tasks. Plug the mean and variance of the cats' hearts into your formulas from the previous question and get estimates of $a$ and $s$.  What are they?  Do not report them to more significant digits than is reasonable."
      ]
    },
    {
      "cell_type": "code",
      "execution_count": null,
      "id": "cb728df5",
      "metadata": {},
      "outputs": [],
      "source": [
        "Hwt.mean <- mean(cats$Hwt)\n",
        "Hwt.var <- var(cats$Hwt)\n",
        "a <- Hwt.mean ^ 2 / Hwt.var\n",
        "s <- Hwt.var / Hwt.mean"
      ]
    },
    {
      "cell_type": "markdown",
      "id": "ac5a8975",
      "metadata": {},
      "source": [
        "5. Write a function, `cat.stats()`, which takes as input a vector of numbers and returns the mean and variances of these cat hearts. (You can use the existing mean and variance functions within this function.) Confirm that you are returning the values from above."
      ]
    },
    {
      "cell_type": "markdown",
      "id": "c8e4982d",
      "metadata": {},
      "source": [
        "Part II\n",
        "=======\n",
        "\n",
        "6. Now, use your existing function as a template for a new function, `gamma.cat()`, that calculates the mean and variances and returns the estimate of $a$ and $s$. What estimates does it give on the cats' hearts weight? Should it agree with your previous calculation?\n",
        "\n",
        "7. Estimate the $a$ and $s$ separately for all the male cats and all the female cats, using `gamma.cat()`. Give the commands you used and the results.\n",
        "\n",
        "8. Now, produce a histogram for the female cats. On top of this, add the shape of the gamma PDF using `curve()` with its first argument as `dgamma()`, the known PDF for the Gamma distribution. Is this distribution consistent with the empirical probability density of the histogram?\n",
        "\n",
        "9. Repeat the previous step for male cats. How do the distributions compare?\n",
        "\n"
      ]
    }
  ],
  "metadata": {
    "jupytext": {
      "cell_metadata_filter": "message,tags,name,-all",
      "main_language": "R",
      "notebook_metadata_filter": "-all"
    },
    "kernelspec": {
      "name": "ir",
      "display_name": "R",
      "language": "R"
    },
    "language_info": {
      "name": "R"
    }
  },
  "nbformat": 4,
  "nbformat_minor": 5
}