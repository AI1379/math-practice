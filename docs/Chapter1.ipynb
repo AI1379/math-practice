{
  "cells": [
    {
      "cell_type": "raw",
      "id": "1e041b18",
      "metadata": {},
      "source": [
        "---\n",
        "title: \"Date Science with R\"\n",
        "subtitle: \"R, RStudio & GitHub\"\n",
        "author: \"Peng Zhang\"\n",
        "institute: \"School of Mathematical Sciences, Zhejiang Universtiy\"\n",
        "date: \"2025/06/25\"\n",
        "output:\n",
        "  xaringan::moon_reader:\n",
        "    lib_dir: libs\n",
        "    nature:\n",
        "      highlightStyle: github\n",
        "      highlightLines: true\n",
        "      countIncrementalSlides: false\n",
        "---"
      ]
    },
    {
      "cell_type": "code",
      "execution_count": null,
      "id": "93f539b1",
      "metadata": {
        "lines_to_next_cell": 0,
        "name": "setup",
        "tags": [
          "remove_cell"
        ],
        "vscode": {
          "languageId": "r"
        }
      },
      "outputs": [],
      "source": [
        "options(htmltools.dir.version = FALSE)\n",
        "# source('xaringan2pdf.R')\n",
        "#source('xaringan-chromote-print.R')\n",
        "# xaringan_to_pdf('Chapter1.html')"
      ]
    },
    {
      "cell_type": "markdown",
      "id": "ee26f5c2",
      "metadata": {
        "lines_to_next_cell": 0
      },
      "source": [
        "## R\n",
        "### Objectives\n",
        "\n",
        "In this lesson we will:\n",
        "\n",
        "* get oriented to the RStudio interface\n",
        "* work with R in the console\n",
        "* be introduced to built-in R functions\n",
        "* learn to use the help pages\n",
        "* explore RMarkdown\n",
        "\n",
        "---\n",
        "### Preparation\n",
        "\n",
        "1. Download and install up-to-date versions of:\n",
        " + R: https://cloud.r-project.org\n",
        " + RStudio: http://www.rstudio.com/download\n",
        " + Git: https://git-scm.com/downloads _Note: open the download and follow normal install procedures on your computer but you won’t see any software installed when you’re done_\n",
        "2. Create a GitHub account: https://github.com _Note! Shorter names that kind of identify you are better, and use your work email!_\n",
        "\n",
        "#### Why learn R with RStudio?\n",
        "* Think of yourself as a pilot, and R is your airplane.\n",
        "* And if R were an airplane, RStudio is the airport.\n",
        "\n",
        "---\n",
        "### R at the console\n",
        "\n",
        "![alt text](figures/RStudio_IDE.png)\n",
        "\n",
        "Notice the default panes:\n",
        "\n",
        "* Console (entire left)\n",
        "* Environment/History (tabbed in upper right)\n",
        "* Files/Plots/Packages/Help (tabbed in lower right)\n",
        "---\n",
        "Let’s go into the Console, where we interact with the live R process.\n",
        "\n",
        "Make an assignment and then inspect the object you created by typing its name on its own."
      ]
    },
    {
      "cell_type": "code",
      "execution_count": null,
      "id": "3571ae82",
      "metadata": {
        "lines_to_next_cell": 0,
        "vscode": {
          "languageId": "r"
        }
      },
      "outputs": [],
      "source": [
        "x <- 3 * 4\n",
        "x"
      ]
    },
    {
      "cell_type": "markdown",
      "id": "51e46cd2",
      "metadata": {
        "lines_to_next_cell": 0
      },
      "source": [
        "All R statements where you create objects – “assignments” – have this form: _objectName <- value_.\n",
        "\n",
        "Object names cannot start with a digit and cannot contain certain other characters such as a comma or a space. You will be wise to adopt a convention for demarcating words in names."
      ]
    },
    {
      "cell_type": "code",
      "execution_count": null,
      "id": "4b289bd7",
      "metadata": {
        "vscode": {
          "languageId": "r"
        }
      },
      "outputs": [],
      "source": [
        "# i_use_snake_case\n",
        "# other.people.use.periods\n",
        "# evenOthersUseCamelCase"
      ]
    },
    {
      "cell_type": "markdown",
      "id": "5c38a605",
      "metadata": {
        "lines_to_next_cell": 0
      },
      "source": [
        "---\n",
        "### Operators\n",
        "- **Unary** `-` for arithmetic negation, `!` for Boolean\n",
        "- **Binary** usual arithmetic operators, plus ones for modulo and integer division; take two numbers and give a number"
      ]
    },
    {
      "cell_type": "code",
      "execution_count": null,
      "id": "b2c65611",
      "metadata": {
        "vscode": {
          "languageId": "r"
        }
      },
      "outputs": [],
      "source": [
        "7 + 5\n",
        "7 / 5\n",
        "7 %% 5\n",
        "7 %/% 5\n"
      ]
    },
    {
      "cell_type": "markdown",
      "id": "35255d91",
      "metadata": {},
      "source": [
        "---\n",
        "### Logical operators and expressions\n",
        "**Comparisons** are also binary operators; they take two objects, like numbers, and give a Boolean\n",
        "\n",
        "* `==` means ‘is equal to’\n",
        "* `!=` means ‘is not equal to’\n",
        "* `<` means ‘is less than’\n",
        "* `>` means ‘is greater than’\n",
        "* `<=` means  ‘is less than or equal to’\n",
        "* `>=` means ‘is greater than or equal to’"
      ]
    },
    {
      "cell_type": "code",
      "execution_count": null,
      "id": "ab1a2c81",
      "metadata": {
        "lines_to_next_cell": 0,
        "vscode": {
          "languageId": "r"
        }
      },
      "outputs": [],
      "source": [
        "7 > 5\n",
        "7 == 5\n",
        "7 != 5"
      ]
    },
    {
      "cell_type": "markdown",
      "id": "26cd6fa3",
      "metadata": {
        "lines_to_next_cell": 0
      },
      "source": [
        "---\n",
        "### Boolean operators\n",
        "\n",
        "Basically \"and\" and \"or\":"
      ]
    },
    {
      "cell_type": "code",
      "execution_count": null,
      "id": "6ac19dab",
      "metadata": {
        "vscode": {
          "languageId": "r"
        }
      },
      "outputs": [],
      "source": [
        "(5 > 7) & (6*7 == 42)\n",
        "(5 > 7) | (6*7 == 42)"
      ]
    },
    {
      "cell_type": "markdown",
      "id": "4ae7fff4",
      "metadata": {
        "lines_to_next_cell": 0
      },
      "source": [
        "<small>(will see special doubled forms, `&&` and `||`, later)</small>\n",
        "\n",
        "---\n",
        "### R functions, help pages\n",
        "\n",
        "Let’s try using seq() which makes regular sequences of numbers."
      ]
    },
    {
      "cell_type": "code",
      "execution_count": null,
      "id": "7250882a",
      "metadata": {
        "lines_to_next_cell": 0,
        "vscode": {
          "languageId": "r"
        }
      },
      "outputs": [],
      "source": [
        "seq(1, 10)"
      ]
    },
    {
      "cell_type": "markdown",
      "id": "6288256a",
      "metadata": {
        "lines_to_next_cell": 0
      },
      "source": [
        "For help on `seq()` function, try"
      ]
    },
    {
      "cell_type": "code",
      "execution_count": null,
      "id": "6eb98b90",
      "metadata": {
        "lines_to_next_cell": 0,
        "vscode": {
          "languageId": "r"
        }
      },
      "outputs": [],
      "source": [
        "?seq\n",
        "help(seq) # same as ?seq"
      ]
    },
    {
      "cell_type": "markdown",
      "id": "a5b5fe64",
      "metadata": {},
      "source": [
        "---\n",
        "The help page tells the name of the package in the top left, and broken down into sections:\n",
        "\n",
        "* Description: An extended description of what the function does.\n",
        "* Usage: The arguments of the function and their default values.\n",
        "* Arguments: An explanation of the data each argument is expecting.\n",
        "* Details: Any important details to be aware of.\n",
        "* Value: The data the function returns.\n",
        "* See Also: Any related functions you might find useful.\n",
        "* Examples: Some examples for how to use the function."
      ]
    },
    {
      "cell_type": "code",
      "execution_count": null,
      "id": "c5bf152e",
      "metadata": {
        "lines_to_next_cell": 0,
        "vscode": {
          "languageId": "r"
        }
      },
      "outputs": [],
      "source": [
        "seq(from = 1, to = 10)\n",
        "seq(from = 1, to = 10, by = 2)"
      ]
    },
    {
      "cell_type": "markdown",
      "id": "a029057b",
      "metadata": {
        "lines_to_next_cell": 0
      },
      "source": [
        "---\n",
        "### Your turn\n",
        "\n",
        "Exercise: Look up the help file for a function that you know or expect to exist. Here are some ideas: `?getwd(), ?plot(), min(), max(), ?mean(), ?log()`.\n",
        "\n",
        "---\n",
        "### Packages\n",
        "\n",
        "One of the amazing things about R is that a vast user community is always creating new functions and packages that expand R’s capabilities. \n",
        "* In R, the fundamental unit of shareable code is the package. \n",
        "* A package bundles together code, data, documentation, and tests, and is easy to share with others. \n",
        "* The traditional place to download packages is from CRAN, the Comprehensive R Archive Network, which is where you downloaded R. You can also install packages from GitHub, which we’ll do later.\n",
        "* You don’t need to go to CRAN’s website to install packages, this can be accomplished within R using the command `install.packages(\"package-name-in-quotes\")`."
      ]
    },
    {
      "cell_type": "code",
      "execution_count": null,
      "id": "3c10798a",
      "metadata": {
        "vscode": {
          "languageId": "r"
        }
      },
      "outputs": [],
      "source": [
        "#install.packages(\"praise\")\n",
        "library(praise)\n",
        "praise()"
      ]
    },
    {
      "cell_type": "markdown",
      "id": "6d671799",
      "metadata": {},
      "source": [
        "---\n",
        "### Clearing the environment\n",
        "\n",
        "Now look at the objects in your environment (workspace) – in the upper right pane. The workspace is where user-defined objects accumulate.\n",
        "\n",
        "You can also get a listing of these objects with a few different R commands:"
      ]
    },
    {
      "cell_type": "code",
      "execution_count": null,
      "id": "f980a057",
      "metadata": {
        "lines_to_next_cell": 0,
        "vscode": {
          "languageId": "r"
        }
      },
      "outputs": [],
      "source": [
        "objects()\n",
        "ls()\n",
        "rm(x)"
      ]
    },
    {
      "cell_type": "markdown",
      "id": "5b249ecd",
      "metadata": {},
      "source": [
        "To remove everything:"
      ]
    },
    {
      "cell_type": "code",
      "execution_count": null,
      "id": "21b5385f",
      "metadata": {
        "lines_to_next_cell": 0,
        "vscode": {
          "languageId": "r"
        }
      },
      "outputs": [],
      "source": [
        "rm(list = ls())"
      ]
    },
    {
      "cell_type": "markdown",
      "id": "d6ebe124",
      "metadata": {},
      "source": [
        "or click the broom in RStudio’s Environment pane.\n",
        "---\n",
        "\n",
        "For reproducibility, it is critical that you delete your objects and restart your R session frequently. Go to the top menus: Session > Restart R.\n",
        "\n",
        "#### Your turn\n",
        "**Exercise:** Clear your workspace, then create a few new variables. Create a variable that is the mean of a sequence of 1-20. What’s a good name for your variable? Does it matter what your ‘by’ argument is? Why?\n",
        "\n",
        "---\n",
        "## RMarkdown\n",
        "An RMarkdown file will allow us to weave markdown text with chunks of R code to be evaluated and output content like tables and plots.\n",
        "\n",
        "File -> New File -> RMarkdown… -> Document of output format HTML, OK."
      ]
    },
    {
      "cell_type": "code",
      "execution_count": null,
      "id": "6ff581ab",
      "metadata": {
        "echo": false,
        "out.height": "350px",
        "out.width": "450px",
        "vscode": {
          "languageId": "r"
        }
      },
      "outputs": [],
      "source": [
        "knitr::include_graphics(\"figures/rstudio_new-rmd-doc-html.png\")"
      ]
    },
    {
      "cell_type": "markdown",
      "id": "1a709b4f",
      "metadata": {
        "lines_to_next_cell": 0
      },
      "source": [
        "---\n",
        "This RMarkdown file has 2 different languages within it: **R** and **Markdown**.\n",
        "\n",
        "There are some good cheatsheets to get you started, and here is one built into RStudio: Go to Help > Markdown Quick Reference\n",
        "\n",
        "#### Your Turn\n",
        "1. In Markdown write some italic text, make a numbered list, and add a few subheaders. Use the Markdown Quick Reference (in the menu bar: Help > Markdown Quick Reference).\n",
        "2. Reknit your html file.\n",
        "\n",
        "### Code chunks\n",
        "\n",
        "Create a new chunk in your RMarkdown first in one of these ways:\n",
        "\n",
        "* click “Insert > R” at the top of the editor pane\n",
        "* type by hand ````markdown `r ''````{r} ``` ````\n",
        "* if you haven’t deleted a chunk that came with the new file, edit that one\n",
        "Now, let’s write some R code."
      ]
    },
    {
      "cell_type": "code",
      "execution_count": null,
      "id": "d19820a8",
      "metadata": {
        "lines_to_next_cell": 0,
        "vscode": {
          "languageId": "r"
        }
      },
      "outputs": [],
      "source": [
        "x <- 1:15"
      ]
    },
    {
      "cell_type": "markdown",
      "id": "baa9ecf1",
      "metadata": {
        "lines_to_next_cell": 0
      },
      "source": [
        "---\n",
        "\n",
        "To execute it, we need to get what we typed in the the R chunk (the grey R code) down into the console. How do we do it? There are several ways (let’s do each of them):\n",
        "\n",
        "1. copy-paste this line into the console.\n",
        "2. select the line (or simply put the cursor there), and click ‘Run’. This is available from\n",
        "   + the bar above the file (green arrow)\n",
        "   + the menu bar: Code > Run Selected Line(s)\n",
        "   + keyboard shortcut: command-return\n",
        "3. click the green arrow at the right of the code chunk\n",
        " \n",
        "#### Your turn\n",
        "Add a few more commands to your file from this lecture. Execute them by trying the three ways above. Then, save your R Markdown file.\n",
        "\n",
        "---\n",
        "## GitHub\n",
        "\n",
        "We will learn about version control using git and GitHub, and we will interface with this through RStudio. Why use version control? To save time when working with your most important collaborator: you.\n",
        "\n",
        "git will track and version your files, GitHub stores this online and enables you to collaborate with others (and yourself). \n",
        "\n",
        "We will interface with GitHub from our local computers using RStudio. \n",
        "\n",
        "Here’s what we’ll do after we set up git on your computers:\n",
        "\n",
        "1. create a repository on Github.com\n",
        "2. clone locally using RStudio\n",
        "3. learn the RStudio-GitHub workflow by syncing to Github.com: pull, stage, commit, push\n",
        "4. explore github.com: files, commit history, file history\n",
        "5. practice the RStudio-GitHub workflow by editing and adding files\n",
        "6. practice R Markdown\n",
        "\n",
        "---\n",
        "### What are Git and Github?\n",
        "* **Git** is a version control system that lets you track changes to files over time. These files can be any kind of file (eg .doc, .pdf, .xls), but free text differences are most easily visible (eg txt, csv, md).\n",
        "\n",
        "* **Github** is a website for storing your git versioned files remotely. \n",
        "\n",
        "---\n",
        "### Some Github terminology\n",
        "* **User:** A Github account for you (e.g., jules32).\n",
        "Organization: The Github account for one or more user (e.g., datacarpentry).\n",
        "* **Repository:** A folder within the organization that includes files dedicated to a project.\n",
        "* **Local Github:** Copies of Github files located your computer.\n",
        "* **Remote Github:** Github files located on the https://github.com website.\n",
        "* **Clone:** Process of making a local copy of a remote Github repository. This only needs to be done once (unless you mess up your local copy).\n",
        "* **Pull:** Copy changes on the remote Github repository to your local Github repository. This is useful if multiple people are making changes to a repository.\n",
        "* **Push:** Save local changes to remote Github\n",
        "\n",
        "---"
      ]
    },
    {
      "cell_type": "code",
      "execution_count": null,
      "id": "2b773d27",
      "metadata": {
        "echo": false,
        "out.height": "550px",
        "out.width": "500px",
        "vscode": {
          "languageId": "r"
        }
      },
      "outputs": [],
      "source": [
        "knitr::include_graphics(\"figures/push_pull_clone.png\")"
      ]
    },
    {
      "cell_type": "markdown",
      "id": "093a79c2",
      "metadata": {},
      "source": [
        "---\n",
        "### Setup Git & GitHub\n",
        "\n",
        "We’re going to switch gears from R for a moment and set up Git and GitHub. This set up is a one-time thing! \n",
        "\n",
        "1. Create **Github** account at http://github.com, if you don’t already have one. For username, I recommend all lower-case letters, short as you can. I recommend using your _zju.edu.cn_ email.\n",
        "\n",
        "2. You will use the `usethis` package to configure **git** with global commands, which means it will apply ‘globally’ to all files on your computer, rather than to a specific folder."
      ]
    },
    {
      "cell_type": "code",
      "execution_count": null,
      "id": "4f5192ac",
      "metadata": {
        "eval": false,
        "lines_to_next_cell": 0,
        "vscode": {
          "languageId": "r"
        }
      },
      "outputs": [],
      "source": [
        "install.packages(\"usethis\")\n",
        "library(usethis)\n",
        "use_git_config(user.name = \"pengyan2000\", user.email = \"pengz@zju.edu.cn\")"
      ]
    },
    {
      "cell_type": "markdown",
      "id": "02a79848",
      "metadata": {
        "lines_to_next_cell": 0
      },
      "source": [
        "---\n",
        "\n",
        "_BACKUP PLAN_ If `usethis` fails, the following is the classic approach to configuring git. Open the Git Bash program (Windows) or the Terminal (Mac) and type the following:\n",
        "\n",
        "```\n",
        "# display your version of git\n",
        "git --version\n",
        "    \n",
        "# replace USER with your Github user account\n",
        "git config --global user.name USER\n",
        "    \n",
        "# replace NAME@EMAIL.EDU with the email you used to register with Github\n",
        "git config --global user.email NAME@EMAIL.EDU\n",
        "    \n",
        "# list your config to confirm user.* variables set\n",
        "git config --list\n",
        "```\n",
        "---\n",
        "\n",
        "### Create a repository on Github.com\n",
        "\n",
        "First, go to your account on github.com and click “New repository”.\n",
        "![alt text](figures/create_repository.png)\n",
        "\n",
        "---\n",
        "Choose a name. Call it whatever you want (the shorter the better), or follow me for convenience. I will call mine `my-repo`.\n",
        "\n",
        "Also, add a description, make it public, create a README file, and create your repo!\n",
        "\n",
        "![alt text](figures/create_repository_2.png)\n",
        "\n",
        "---\n",
        "The _Add gitignore_ option adds a document where you can identify files or file-types you want Github to ignore. These files will stay in on the local Github folder (the one on your computer), but will not be uploaded onto the web version of Github.\n",
        "\n",
        "The _Add a license_ option adds a license that describes how other people can use your Github files (e.g., open source, but no one can profit from them, etc.). We won’t worry about this today.\n",
        "\n",
        "Check out our new repository!\n",
        "\n",
        "Notice how the README.md file we created is automatically displayed at the bottom. The .md means that it is Markdown (remember how .Rmd was RMarkdown?) so the formatting we learned in the last lesson apply here.\n",
        "![alt text](figures/New_repository.png)\n",
        "---\n",
        "### Clone your repository using RStudio\n",
        "\n",
        "We’ll start of by cloning to our local computer using RStudio. We are going to be cloning a copy of our Remote repository on Github.com to our local computers. Unlike downloading, cloning keeps all the version control and user information bundled with the files.\n",
        "\n",
        "**Step 0:** Create your `github` folder\n",
        "\n",
        "This is really important! We need to be organized and deliberate about where we want to keep all of our GitHub repositories (since this is the first of many in your career).\n",
        "\n",
        "Let’s all make a folder called `github` (all lowercase!) in our home directories. So it will look like this:\n",
        "\n",
        "* Windows: `Users\\[User]\\Documents\\github\\`\n",
        "* Mac: `Users/[User]/github/`\n",
        "\n",
        "This will let us take advantage of something that is really key about GitHub.com: you can easily navigate through folders within repositories and the urls reflect this navigation. The greatness of this will be evident soon. So let’s set ourselves up for easily translating (and remembering) those navigation paths by having a folder called `github` that will serve as our ‘github.com’.\n",
        "\n",
        "---\n",
        "\n",
        "**Step 1:** Copy the web address of the repository you want to clone.\n",
        "\n",
        "![alt text](figures/clone_step1.png)\n",
        "\n",
        "---\n",
        "**Step 2:** from RStudio, go to New Project (also in the File menu).\n",
        "\n",
        "![alt text](figures/new_project_1.png)\n",
        "\n",
        "---\n",
        "**Step 3:** Select Version Control\n",
        "\n",
        "![alt text](figures/new_project_2.png)\n",
        "\n",
        "---\n",
        "**Step 4:** Select Git\n",
        "\n",
        "![alt text](figures/new_project_3.png)\n",
        "---\n",
        "**Step 5:** Paste it in the Repository URL field, and type **tab** to autofill the Project Directory name. Make sure you keep the Project Directory Name **THE SAME** as the repository name from the URL.\n",
        "\n",
        "Save it in your github folder (click on Browse) to do this.\n",
        "\n",
        "![alt text](figures/new_project_4.png)\n",
        "\n",
        "---\n",
        "If everything went well, the repository will be added to the list located here:\n",
        "\n",
        "![alt text](figures/select_project.png)\n",
        "\n",
        "---\n",
        "And the repository will be saved to the Github folder on your computer:\n",
        "\n",
        "![alt text](figures/cloned_repository.png)\n",
        "\n",
        "---\n",
        "### Inspect your repository\n",
        "\n",
        "Notice a few things in our repo here:\n",
        "\n",
        "1. Our working directory is set to `~/github/my-repo`. This means that I can start working with the files I have in here without setting the filepath. This is that when we cloned this from RStudio, it created an RStudio project, which you can tell because:\n",
        "  + `.RProj` file, which you can see in the Files pane.\n",
        "  + The project is named in the top right hand corner\n",
        "2. We have a git tab! This is how we will interface directly to Github.com\n",
        "\n",
        "---"
      ]
    },
    {
      "cell_type": "code",
      "execution_count": null,
      "id": "9735245c",
      "metadata": {
        "echo": false,
        "lines_to_next_cell": 0,
        "out.height": "580px",
        "out.width": "700px",
        "vscode": {
          "languageId": "r"
        }
      },
      "outputs": [],
      "source": [
        "knitr::include_graphics('figures/RStudio_IDE_git.png')"
      ]
    },
    {
      "cell_type": "markdown",
      "id": "79c985c4",
      "metadata": {},
      "source": [
        "---\n",
        "\n",
        "When you first clone a repo through RStudio, RStudio will add an `.Rproj` file to your repo. And if you didn’t add a `.gitignore` file when you originally created the repo on GitHub.com, RStudio will also add this for you. These will show up with little yellow ? icons in your git tab. This is GitHub’s way of saying: “I am responsible for tracking everything that happens in this repo, but I haven’t seen these files yet. Do you want me to track them too?” (We’ll see that when you click the box to stage them, they will turn into `A `s because they have been added to the repo.\n",
        "\n",
        "---\n",
        "### Add files to our local repo\n",
        "The repository will contain:\n",
        "\n",
        "* `.gitignore` file\n",
        "* README.md\n",
        "* Rproj\n",
        "And, I typically create the following:\n",
        "\n",
        "* folders for “data” and “figures”\n",
        "* R scripts\n",
        "* etc.\n",
        "I’m going to go to the Finder (Windows Explorer on a PC) and copy a file into my repository from there. And then I’m going to go back to RStudio – it shows up in the git tab! So the repository is being tracked, no matter how you make changes to it (changes do not have to be done only through RStudio).\n",
        "\n",
        "---"
      ]
    },
    {
      "cell_type": "markdown",
      "id": "f26d054e",
      "metadata": {
        "lines_to_next_cell": 0
      },
      "source": [
        "To make changes to the repository, you will work from your computer (“local Github”).\n",
        "\n",
        "When files are changed in the local repository, these changes will be reflected in the Git tab of RStudio:\n",
        "\n",
        "---"
      ]
    },
    {
      "cell_type": "code",
      "execution_count": null,
      "id": "a381aa4b",
      "metadata": {
        "echo": false,
        "out.height": "580px",
        "out.width": "750px",
        "vscode": {
          "languageId": "r"
        }
      },
      "outputs": [],
      "source": [
        "knitr::include_graphics('figures/modify_files.png')"
      ]
    },
    {
      "cell_type": "markdown",
      "id": "28d75ee6",
      "metadata": {
        "lines_to_next_cell": 0
      },
      "source": [
        "---\n",
        "### Sync from RStudio to GitHub\n",
        "When you are ready to commit your changes, you follow these steps:\n",
        "\n",
        "![alt text](figures/commit_overview.png)\n",
        "\n",
        "We walk through this process below:\n",
        "\n",
        "---\n",
        "#### Pull\n",
        "From the Git tab, “Pull” the repository. This makes sure your local repository is synced with the remote repository. This is very important if other people are making changes to the repository or if you are working from multiple computers.\n",
        "\n",
        "![alt text](figures/pull.png)\n",
        "\n",
        "---\n",
        "#### Stage\n",
        "Stage the files you want to commit. In RStudio, this involves checking the “Staged” boxes:\n",
        "\n",
        "![alt text](figures/staged.png)\n",
        "\n",
        "---\n",
        "#### Commit"
      ]
    },
    {
      "cell_type": "code",
      "execution_count": null,
      "id": "9ffe08f4",
      "metadata": {
        "echo": false,
        "out.height": "500px",
        "out.width": "600px",
        "vscode": {
          "languageId": "r"
        }
      },
      "outputs": [],
      "source": [
        "knitr::include_graphics('figures/commit.png')"
      ]
    },
    {
      "cell_type": "markdown",
      "id": "46048919",
      "metadata": {
        "lines_to_next_cell": 0
      },
      "source": [
        "---\n",
        "#### Push\n",
        "\n",
        "![alt text](figures/push.png)\n",
        "\n",
        "---\n",
        "### Explore remote Github\n",
        "The files you added should be on github.com:"
      ]
    },
    {
      "cell_type": "code",
      "execution_count": null,
      "id": "88156673",
      "metadata": {
        "echo": false,
        "lines_to_next_cell": 2,
        "out.height": "500px",
        "out.width": "650px",
        "vscode": {
          "languageId": "r"
        }
      },
      "outputs": [],
      "source": [
        "knitr::include_graphics('figures/Github_remote.png')"
      ]
    },
    {
      "cell_type": "markdown",
      "id": "e970826f",
      "metadata": {},
      "source": [
        "---\n",
        "#### Your turn!\n",
        "This time let’s edit an existing file instead of adding something new. Open your README file by clicking on it in the Files pane (lower right corner). Write a few lines of text, save, and see what happens in your Git Tab. Sync it to your remote repository (Github.com).\n",
        "\n",
        "Also, go to your Finder/Windows Explorer, and copy-paste something into your local GitHub repo. Then go back to RStudio and confirm that git tracked it. Remember, git will track anything within that folder (the way Dropbox does), it’s not specific to RStudio!\n",
        "\n",
        "---\n",
        "### Create a new R Markdown file\n",
        "Let’s go back to RStudio, and get ourselves back into learning R. We are going to use R Markdown so that you can write notes to yourself in Markdown, and have a record of all your R code. Writing R commands in the console like we did this morning is great, but limited; it’s hard to keep track of and hard to efficiently share with others. Plus, as your analyses get more complicated, you need to be able to see them all in one place.\n",
        "\n",
        "Go to File > New File > R Markdown (or click the green plus in the top left corner).\n",
        "\n",
        "Let’s set up this file so we can use it for the rest of the day. I’m going to delete all the text that is already there and write some new text.\n",
        "\n",
        "Now, let’s save it. I’m going to call my file `ggplot2.Rmd`.\n",
        "\n",
        "Then, sync your file to GitHub.\n",
        "\n",
        "What if a file doesn’t show up in the Git tab and you expect that it should? Check to make sure you’ve saved the file. If the filename is red with an asterix, there have been changes since it was saved. Remember to save before syncing to GitHub!\n",
        "---\n",
        "### Committing - how often? Tracking changes in your files\n",
        "Whenever you make changes to the files in Github, you will walk through the Pull -> Stage -> Commit -> Push steps.\n",
        "\n",
        "I tend to do this every time I finish a task (basically when I start getting nervous that I will lose my work). Once something is committed, it is very difficult to lose it.\n",
        "\n",
        "One thing that I love about about Github is that it is easy to see how files have changed over time. \n",
        "\n",
        "Usually I compare commits through github.com.\n",
        "\n",
        "You can click on the commits to see how the files changed from the previous commit."
      ]
    }
  ],
  "metadata": {
    "jupytext": {
      "cell_metadata_filter": "tags,out.width,echo,eval,out.height,name,-all",
      "main_language": "R",
      "notebook_metadata_filter": "-all"
    },
    "kernelspec": {
      "name": "ir",
      "display_name": "R",
      "language": "R"
    },
    "language_info": {
      "name": "R"
    }
  },
  "nbformat": 4,
  "nbformat_minor": 5
}