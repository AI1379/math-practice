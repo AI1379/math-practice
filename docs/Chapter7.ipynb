{
  "cells": [
    {
      "cell_type": "raw",
      "id": "d87828cb",
      "metadata": {},
      "source": [
        "---\n",
        "title: \"Date Science with R\"\n",
        "subtitle: \"Simulation methods\"\n",
        "author: \"Peng Zhang\"\n",
        "institute: \"School of Mathematical Sciences, Zhejiang University\"\n",
        "date: \"2025/07/01\"\n",
        "output:\n",
        "  xaringan::moon_reader:\n",
        "    lib_dir: libs\n",
        "    nature:\n",
        "      highlightStyle: github\n",
        "      highlightLines: true\n",
        "      countIncrementalSlides: false\n",
        "---"
      ]
    },
    {
      "cell_type": "code",
      "execution_count": null,
      "id": "13d8bdb4",
      "metadata": {
        "lines_to_next_cell": 0,
        "message": false,
        "name": "setup",
        "tags": [
          "remove_cell"
        ]
      },
      "outputs": [],
      "source": [
        "options(htmltools.dir.version = FALSE)\n",
        "# source('xaringan2pdf.R')\n",
        "# xaringan_to_pdf('Chapter7.html')\n",
        "library(tidyverse)\n",
        "library(readxl)"
      ]
    },
    {
      "cell_type": "markdown",
      "id": "d105b029",
      "metadata": {},
      "source": [
        "## Agenda\n",
        "\n",
        "- Writing simulations using random number generation\n",
        "- From the jackknife to the bootstrap\n",
        "- Processes that have memory\n",
        "- Finally, `for` loops!\n",
        "\n",
        "### `[dpqr]unif`, etc.\n",
        "\n",
        "Recall how we drew from various distributions: `runif()`: draws from the uniform distribution (others follow)\n",
        "\n",
        "Home-baked discrete distributions: Use `sample()`"
      ]
    },
    {
      "cell_type": "code",
      "execution_count": null,
      "id": "76e7c334",
      "metadata": {
        "lines_to_next_cell": 0
      },
      "outputs": [],
      "source": [
        "population.values <- 1:3\n",
        "probs <- c(5,2,3)\n",
        "my.draw <- sample (population.values, 100000, probs, replace=TRUE)\n",
        "table(my.draw)"
      ]
    },
    {
      "cell_type": "markdown",
      "id": "5ea166a1",
      "metadata": {},
      "source": [
        "---\n",
        "### Permutations with `sample()`\n",
        "\n",
        "`sample()` is powerful -- it works on any object that has a defined `length()`. Permutations:"
      ]
    },
    {
      "cell_type": "code",
      "execution_count": null,
      "id": "b72df962",
      "metadata": {
        "lines_to_next_cell": 0
      },
      "outputs": [],
      "source": [
        "sample(1:6)\n",
        "replicate(3,sample(c(\"Curly\",\"Larry\",\"Moe\",\"Shemp\")))\n",
        "sample(list(\"A\",3,sum))"
      ]
    },
    {
      "cell_type": "markdown",
      "id": "040418f5",
      "metadata": {},
      "source": [
        "---\n",
        "### Resampling with `sample()`\n",
        "\n",
        "Resampling from any existing distribution gets us the **bootstrap** family of estimators:"
      ]
    },
    {
      "cell_type": "code",
      "execution_count": null,
      "id": "4a0ae09d",
      "metadata": {},
      "outputs": [],
      "source": [
        "bootstrap.resample <- function (object){\n",
        "  sample (object, length(object), replace=TRUE)}\n",
        "replicate(5, bootstrap.resample (6:10))"
      ]
    },
    {
      "cell_type": "markdown",
      "id": "4491ad1c",
      "metadata": {},
      "source": [
        "Recall: the *jackknife* worked by removing one point from the sample and recalculating the statistic of interest. Here we resample the same length with replacement.\n",
        "---\n",
        "### Bootstrap test\n",
        "\n",
        "The 2-sample `t`-test checks for differences in means according to a known null distribution. Let's resample and generate the sampling distribution under the bootstrap assumption:"
      ]
    },
    {
      "cell_type": "code",
      "execution_count": null,
      "id": "296f1e9d",
      "metadata": {
        "lines_to_next_cell": 0
      },
      "outputs": [],
      "source": [
        "library(MASS)\n",
        "diff.in.means <- function(df) {\n",
        "  mean(df[df$Sex==\"M\",\"Hwt\"]) - mean(df[df$Sex==\"F\",\"Hwt\"])\n",
        "}\n",
        "resample.diffs <- replicate(1000, \n",
        "  diff.in.means(cats[bootstrap.resample(1:nrow(cats)),]))"
      ]
    },
    {
      "cell_type": "markdown",
      "id": "2f14224d",
      "metadata": {
        "lines_to_next_cell": 0
      },
      "source": [
        "---"
      ]
    },
    {
      "cell_type": "code",
      "execution_count": null,
      "id": "6e681730",
      "metadata": {
        "dpi": 300,
        "fig.height": 5,
        "fig.width": 7,
        "lines_to_next_cell": 0
      },
      "outputs": [],
      "source": [
        "tibble(d = resample.diffs) %>% ggplot(mapping = aes(x = d))+\n",
        "  geom_histogram(bins = 25)+\n",
        "  geom_vline(aes(xintercept = diff.in.means(cats)), col='red')"
      ]
    },
    {
      "cell_type": "markdown",
      "id": "7d7ba1e3",
      "metadata": {},
      "source": [
        "---\n",
        "### Dependence\n",
        "\n",
        "Most interesting examples in probability have a little dependence added in: \"If it rained yesterday, what is the probability it rains today?\"\n",
        "\n",
        "Use this to generate weather patterns and probabilities for some time in the future. Almost always occurs with time series; can occur with other dependence (spatial -- if it's sunny in Dallas today, will it also be sunny in Fort Worth?)\n",
        "\n",
        "#### Markov Dependence\n",
        "\n",
        "Suppose we have a sequence of observations that are dependent. In a time series, what happens next depends on what happened before:\n",
        "\n",
        "$p(X_1, X_2, ..., X_n) = p(X_1)p(X_2|X_1)...p(X_n|X_{n-1},...,X_1)$\n",
        "\n",
        "(Note: you could, of course, condition on the future to predict the past, if you had a time machine.)\n",
        "\n",
        "Markov dependence: each outcome only depends on the one that came before.\n",
        "\n",
        "$p(X_1, X_2, ..., X_n) = p(X_1)\\prod_{i=2}^np(X_i|X_{i-1})$\n",
        "---\n",
        "### Generating a Markov Chain\n",
        "\n",
        "1. Set up the conditional distribution.\n",
        "2. Draw the initial state of the chain.\n",
        "3. For every additional draw, use the previous draw to inform the new one.\n",
        "\n",
        "Simple weather model: \n",
        "- if it was sunny yesterday, today's chance of sun is 80%.\n",
        "- if it wasn't sunny yesterday, today's chance of sun is 20%.\n",
        "\n",
        "Simulate for one year (at the equator?)"
      ]
    },
    {
      "cell_type": "code",
      "execution_count": null,
      "id": "8bfda295",
      "metadata": {
        "lines_to_next_cell": 0
      },
      "outputs": [],
      "source": [
        "sunny.year <- rep(NA, 365)\n",
        "sunny.year[1] <- 1\n",
        "for (day in 2:365) {\n",
        "  sunny.year[day] <- rbinom(1,1,0.2 + 0.6*sunny.year[day-1])}"
      ]
    },
    {
      "cell_type": "markdown",
      "id": "4dc61a63",
      "metadata": {},
      "source": [
        "---\n",
        "### And `for` loops are back in play!"
      ]
    },
    {
      "cell_type": "code",
      "execution_count": null,
      "id": "4994e65a",
      "metadata": {
        "dpi": 300,
        "fig.height": 7,
        "fig.width": 12,
        "lines_to_next_cell": 0
      },
      "outputs": [],
      "source": [
        "tibble(x = 1:365, y = sunny.year) %>% ggplot(aes(x = x, y = y))+\n",
        "  geom_line()+\n",
        "  labs(title=\"Sunny Days in An Equatorial City\", x=\"Day\", y=\"Sunshine?\")"
      ]
    },
    {
      "cell_type": "markdown",
      "id": "bc46162b",
      "metadata": {},
      "source": [
        "---\n",
        "### Different From Independence"
      ]
    },
    {
      "cell_type": "code",
      "execution_count": null,
      "id": "c831dc38",
      "metadata": {
        "dpi": 300,
        "fig.height": 6.5,
        "fig.width": 12,
        "lines_to_next_cell": 0
      },
      "outputs": [],
      "source": [
        "boring.year <- tibble(day = 1:365, rain = rbinom(365, 1, 0.5))\n",
        "boring.year %>% ggplot(aes(x = day, y = rain))+ \n",
        "  geom_line()+\n",
        "  labs(title=\"Sunny Days in A Coin Flip City\", x=\"Day\", ylab=\"Sunshine?\")"
      ]
    },
    {
      "cell_type": "markdown",
      "id": "bc3a633f",
      "metadata": {},
      "source": [
        "---\n",
        "### The above chain\n",
        "\n",
        "Transitions are represented as a matrix: $Q_{ij}$ is $P(X_t = j|X_{t-1} = i)$."
      ]
    },
    {
      "cell_type": "code",
      "execution_count": null,
      "id": "dc22d460",
      "metadata": {
        "tags": [
          "remove_input"
        ]
      },
      "outputs": [],
      "source": [
        "matrix (c(0.8, 0.2, 0.2, 0.8), nrow=2)"
      ]
    },
    {
      "cell_type": "markdown",
      "id": "ce78274f",
      "metadata": {},
      "source": [
        "#### Flippy chain"
      ]
    },
    {
      "cell_type": "code",
      "execution_count": null,
      "id": "e95c7434",
      "metadata": {
        "lines_to_next_cell": 0
      },
      "outputs": [],
      "source": [
        "weird.year <- rep(NA, 365)\n",
        "weird.year[1] <- 1\n",
        "transition.matrix <- matrix (c(0.2, 0.8, 0.8, 0.2), nrow=2)\n",
        "for (day in 2:365) weird.year[day] <- \n",
        "  sample(1:2, 1, prob=transition.matrix[weird.year[day-1],])\n",
        "weird.year <- weird.year - 1"
      ]
    },
    {
      "cell_type": "markdown",
      "id": "dae4fd17",
      "metadata": {
        "lines_to_next_cell": 0
      },
      "source": [
        "---"
      ]
    },
    {
      "cell_type": "code",
      "execution_count": null,
      "id": "b7bcfe1d",
      "metadata": {
        "dpi": 300,
        "fig.height": 8,
        "fig.width": 12,
        "lines_to_next_cell": 0
      },
      "outputs": [],
      "source": [
        "tibble(day = 1:365, rain = weird.year) %>% \n",
        "ggplot(aes(x = day, y = rain))+\n",
        "  geom_line()+\n",
        "  labs(title=\"Sunny Days in Al Gore's Nightmare\", x=\"Day\", y=\"Sunshine?\")"
      ]
    },
    {
      "cell_type": "markdown",
      "id": "872c8e23",
      "metadata": {},
      "source": [
        "---\n",
        "### General Markov Chain"
      ]
    },
    {
      "cell_type": "code",
      "execution_count": null,
      "id": "bd97bb8e",
      "metadata": {
        "lines_to_next_cell": 0
      },
      "outputs": [],
      "source": [
        "rmarkovchain <- function (nn, transition.matrix, \n",
        "    start=sample(1:nrow(transition.matrix), 1)) {\n",
        "  output <- rep (NA, nn)\n",
        "  output[1] <- start\n",
        "  for (day in 2:nn) output[day] <- \n",
        "    sample(ncol(transition.matrix), 1, \n",
        "           prob=transition.matrix[output[day-1],])\n",
        "}"
      ]
    },
    {
      "cell_type": "markdown",
      "id": "b1c0b063",
      "metadata": {},
      "source": [
        "---\n",
        "### Simple Unbounded Markov Chain\n",
        "\n",
        "\"Unbiased Random Walk\": Independent events atop a dependent structure."
      ]
    },
    {
      "cell_type": "code",
      "execution_count": null,
      "id": "adfbadb5",
      "metadata": {
        "lines_to_next_cell": 0
      },
      "outputs": [],
      "source": [
        "randomwalk <- function (nn, upprob=0.5, start=50) {\n",
        "  output <- rep (NA, nn)\n",
        "  output[1] <- start\n",
        "  for (iteration in 2:nn) \n",
        "    output[iteration] <- \n",
        "      output[iteration-1] + 2*rbinom(1, 1, upprob) - 1\n",
        "  output  \n",
        "}"
      ]
    },
    {
      "cell_type": "markdown",
      "id": "cea6ec9c",
      "metadata": {
        "lines_to_next_cell": 0
      },
      "source": [
        "---"
      ]
    },
    {
      "cell_type": "code",
      "execution_count": null,
      "id": "cab0975b",
      "metadata": {
        "dpi": 300,
        "fig.height": 8,
        "fig.width": 12,
        "lines_to_next_cell": 0
      },
      "outputs": [],
      "source": [
        "tibble(x = 1:10000, y = randomwalk(10000, start=200)) %>% \n",
        "  ggplot(aes(x, y))+ geom_line()+\n",
        "  labs(title=\"Simple Random Walk\")"
      ]
    },
    {
      "cell_type": "markdown",
      "id": "c96c75a9",
      "metadata": {},
      "source": [
        "---\n",
        "### Simple Unbounded Markov Chain"
      ]
    },
    {
      "cell_type": "code",
      "execution_count": null,
      "id": "6d10ebca",
      "metadata": {
        "dpi": 300,
        "fig.height": 7,
        "fig.width": 12,
        "lines_to_next_cell": 0
      },
      "outputs": [],
      "source": [
        "tibble(x = 1:10000, y = randomwalk(10000, start=200)) %>% \n",
        "  ggplot(aes(x, y))+ geom_line()+\n",
        "  labs(title=\"Simple Random Walk\")"
      ]
    },
    {
      "cell_type": "markdown",
      "id": "d4df274c",
      "metadata": {},
      "source": [
        "---\n",
        "### Simple Unbounded Markov Chain"
      ]
    },
    {
      "cell_type": "code",
      "execution_count": null,
      "id": "38065d40",
      "metadata": {
        "dpi": 300,
        "fig.height": 7,
        "fig.width": 12,
        "lines_to_next_cell": 0
      },
      "outputs": [],
      "source": [
        "tibble(x = 1:10000, y = randomwalk(10000, start=200)) %>% \n",
        "  ggplot(aes(x, y))+ geom_line()+\n",
        "  labs(title=\"Simple Random Walk\")"
      ]
    },
    {
      "cell_type": "markdown",
      "id": "0a321a5a",
      "metadata": {},
      "source": [
        "---\n",
        "### Simple Unbounded Markov Chain"
      ]
    },
    {
      "cell_type": "code",
      "execution_count": null,
      "id": "2f5d65d3",
      "metadata": {
        "dpi": 300,
        "fig.height": 7,
        "fig.width": 12,
        "lines_to_next_cell": 2
      },
      "outputs": [],
      "source": [
        "tibble(x = 1:10000, y = randomwalk(10000, start=200)) %>% \n",
        "  ggplot(aes(x, y))+ geom_line()+\n",
        "  labs(title=\"Simple Random Walk\")"
      ]
    },
    {
      "cell_type": "markdown",
      "id": "623eee1f",
      "metadata": {},
      "source": [
        "### Applications to Probability\n",
        "\n",
        "Where the Bayesian revolution takes over: drawing from complex probability distributions\n",
        "\n",
        "- rejection sampling\n",
        "- The Metropolis algorithm\n",
        "- General introduction to \"Markov Chain Monte Carlo\" \n",
        "\n",
        "#### One-dimension probability distributions\n",
        "\n",
        "We have [dpqr]{norm, binom, pois, ...} for known distributions. For many good reasons, we'd like to be able to: \n",
        "\n",
        "- draw from complex distributions\n",
        "- find the solution to relevant integrals\n",
        "- eventually, go to many higher dimensions\n",
        "---\n",
        "What's available?\n",
        "\n",
        "#### Integration by Simulation\n",
        "\n",
        "Law of large numbers: if $X_1, X_2, \\ldots X_n$ all IID with p.d.f. $p$,\n",
        "\n",
        "$$\\frac{1}{n}\\sum_{i=1}^{n}{f(X_i)} \\rightarrow \\mathbb{E}_{p}[f(X)] =\n",
        "  \\int{f(x) p(x) dx}$$\n",
        "\n",
        "The **Monte Carlo principle**: to find $\\int{g(x) dx}$, draw from $p$ and take the sample mean of $f(x) = g(x)/p(x)$."
      ]
    },
    {
      "cell_type": "markdown",
      "id": "8a58b999",
      "metadata": {},
      "source": [
        "#### And it works, too\n",
        "\n",
        "Central limit theorem:\n",
        "\n",
        "$$\\frac{1}{n}\\sum_{i=1}^{n}{\\frac{g(x_i)}{p(x_i)}} \\rightsquigarrow\n",
        "  \\mathcal{N}\\left(\\int{g(x)dx}, \\frac{\\sigma^2_{g/p}}{n}\\right)$$\n",
        "\n",
        "The Monte Carlo approximation to the integral is unbiased, with root mean square error $\\propto n^{-1/2}$ -- just keep taking Monte Carlo draws, and the error gets as small as you like, even if $g$ or $x$ are very complicated.\n",
        "---\n",
        "\n",
        "### Taking unknown samples\n",
        "\n",
        "Generating from $p$ is easy if it's a standard distribution or we have a nice, invertible CDF (quantile method). What can we do if all we've got is the probability density function $p$?\n",
        "\n",
        "Suppose the pdf $f$ is zero outside an interval $[c,d]$, and $\\leq M$ on the interval."
      ]
    },
    {
      "cell_type": "code",
      "execution_count": null,
      "id": "ce67895f",
      "metadata": {
        "dpi": 300,
        "fig.height": 6,
        "fig.width": 12,
        "lines_to_next_cell": 0,
        "tags": [
          "remove_input"
        ]
      },
      "outputs": [],
      "source": [
        "plot(c(0,1), c(0,3), ty=\"n\", main=\"A Sample Distribution\", ylab=\"Density f(x)\", xlab=\"x\")\n",
        "curve (dbeta(x, 3, 6), add=TRUE)\n",
        "lines(c(0,0,1,1), c(0,3,3,0))"
      ]
    },
    {
      "cell_type": "markdown",
      "id": "f98f5a49",
      "metadata": {},
      "source": [
        "---\n",
        "### Rejection sampling\n",
        "\n",
        "We know how to draw from uniform distributions in any dimension. Do it in two:"
      ]
    },
    {
      "cell_type": "code",
      "execution_count": null,
      "id": "bb67f519",
      "metadata": {},
      "outputs": [],
      "source": [
        "x1 <- runif(300, 0, 1); y1 <- runif(300, 0, 2.6); \n",
        "selected <- y1 < dbeta(x1, 3, 6)"
      ]
    },
    {
      "cell_type": "code",
      "execution_count": null,
      "id": "b2249d37",
      "metadata": {
        "dpi": 300,
        "fig.height": 6,
        "fig.width": 12,
        "lines_to_next_cell": 0,
        "tags": [
          "remove_input"
        ]
      },
      "outputs": [],
      "source": [
        "plot(c(0,1), c(0,3), ty=\"n\", main=\"A Sample Distribution\", \n",
        "     ylab=\"Density f(x)\", xlab=\"x\")\n",
        "curve (dbeta(x, 3, 6), add=TRUE)\n",
        "lines(c(0,0,1,1), c(0,3,3,0))\n",
        "points (x1, y1, col=1+1*selected, cex=0.1)"
      ]
    },
    {
      "cell_type": "markdown",
      "id": "a653dbf7",
      "metadata": {},
      "source": [
        "---\n",
        "### Rejection sampling"
      ]
    },
    {
      "cell_type": "code",
      "execution_count": null,
      "id": "dc4cc6e9",
      "metadata": {},
      "outputs": [],
      "source": [
        "mean(selected)\n",
        "accepted.points <- x1[selected]\n",
        "mean(accepted.points < 0.5)\n",
        "pbeta(0.5, 3, 6)"
      ]
    },
    {
      "cell_type": "markdown",
      "id": "73d775c6",
      "metadata": {},
      "source": [
        "For this to work efficiently: we have to cover the target distribution with one that sits close to it. "
      ]
    },
    {
      "cell_type": "code",
      "execution_count": null,
      "id": "cd209199",
      "metadata": {},
      "outputs": [],
      "source": [
        "x2 <- runif(100000, 0, 1); y2 <- runif(100000, 0, 10); \n",
        "selected <- y2 < dbeta(x2, 3, 6)\n",
        "mean(selected)"
      ]
    },
    {
      "cell_type": "code",
      "execution_count": null,
      "id": "c7810a6a",
      "metadata": {
        "eval": false,
        "lines_to_next_cell": 0
      },
      "outputs": [],
      "source": [
        "png('figures/rejection.png', width = 500, height = 350, units = 'mm', res = 500)\n",
        "plot(c(0,1), c(0,6), ty=\"n\", main=\"A Sample Distribution\", \n",
        "     ylab=\"Density f(x)\", xlab=\"x\")\n",
        "curve (dbeta(x, 3, 6), add=TRUE)\n",
        "lines(c(0,0,1,1), c(0,3,3,0))\n",
        "points (x2, y2, col=1+1*selected, cex=0.1)\n",
        "dev.off()"
      ]
    },
    {
      "cell_type": "markdown",
      "id": "894b8349",
      "metadata": {},
      "source": [
        "---\n",
        "## Rejection sampling"
      ]
    },
    {
      "cell_type": "code",
      "execution_count": null,
      "id": "2d5949a6",
      "metadata": {
        "echo": false,
        "lines_to_next_cell": 0,
        "out.height": "500px"
      },
      "outputs": [],
      "source": [
        "knitr::include_graphics('figures/rejection.png')"
      ]
    },
    {
      "cell_type": "markdown",
      "id": "d5cbc7d5",
      "metadata": {},
      "source": [
        "---\n",
        "### Metropolis Algorithm\n",
        "\n",
        "(Really: Metropolis, Rosenbluth x2, Teller x2, 1953)\n",
        "\n",
        "Rejection sampling works if we know the complete distribution $p(x)$, with $\\int p(x) = 1$. For many, many problems, we know the function up to the normalizing constant.\n",
        "\n",
        "Example: Equations of the canonical ensemble of energy formations in the state of uncontrolled hydrogen fusion,\n",
        "\n",
        "$$p(E) = \\frac{1}{|Z|} exp(f(E)/kT)$$\n",
        "\n",
        "$|Z|$ is legendarily hard to calculate precisely.\n",
        "---\n",
        "### Basic Metropolis\n",
        "\n",
        "On integer steps:"
      ]
    },
    {
      "cell_type": "code",
      "execution_count": null,
      "id": "0824d017",
      "metadata": {},
      "outputs": [],
      "source": [
        "metropolis.one <- function (xx, fun=dpois, ...) {\n",
        "  prop <- 2*rbinom(1,1,0.5) - 1 + xx\n",
        "  acc.ratio <- fun(prop, ...)/fun(xx, ...)\n",
        "  output <- if (acc.ratio > runif(1)) prop else xx\n",
        "  output\n",
        "}\n",
        "replicate (10, metropolis.one(10, lambda=5))"
      ]
    },
    {
      "cell_type": "code",
      "execution_count": null,
      "id": "89577bbd",
      "metadata": {
        "lines_to_next_cell": 0
      },
      "outputs": [],
      "source": [
        "start <- 50\n",
        "draws <- rep(NA, 10000)\n",
        "for (iteration in 1:10000) {\n",
        "  start <- metropolis.one (start, lambda= 10)\n",
        "  draws[iteration] <- start\n",
        "}"
      ]
    },
    {
      "cell_type": "markdown",
      "id": "a730102f",
      "metadata": {},
      "source": [
        "---\n",
        "### Basic Metropolis"
      ]
    },
    {
      "cell_type": "code",
      "execution_count": null,
      "id": "4d515d8d",
      "metadata": {
        "dpi": 300,
        "fig.height": 7,
        "fig.width": 12,
        "lines_to_next_cell": 0
      },
      "outputs": [],
      "source": [
        "tibble(n = 1:10000, draws = draws) %>% \n",
        "  ggplot(aes(n, draws))+ geom_point()"
      ]
    },
    {
      "cell_type": "markdown",
      "id": "b4071006",
      "metadata": {},
      "source": [
        "---\n",
        "### Basic Metropolis\n",
        "\n",
        "Have to discard the initial state for \"burn-in\""
      ]
    },
    {
      "cell_type": "code",
      "execution_count": null,
      "id": "d73e4738",
      "metadata": {
        "dpi": 300,
        "fig.height": 6,
        "fig.width": 12
      },
      "outputs": [],
      "source": [
        "tibble(n = 201:10000, draws = draws[-(1:200)]) %>% \n",
        "  ggplot(aes(n, draws))+ geom_point()"
      ]
    },
    {
      "cell_type": "markdown",
      "id": "380b0c55",
      "metadata": {},
      "source": [
        "---\n",
        "\n",
        "### Basic Metropolis\n",
        "\n",
        "Have to discard the initial state for \"burn-in\""
      ]
    },
    {
      "cell_type": "code",
      "execution_count": null,
      "id": "f62ea292",
      "metadata": {
        "dpi": 300,
        "fig.height": 6,
        "fig.width": 12
      },
      "outputs": [],
      "source": [
        "tibble(draws = draws[-(1:200)], poir = rpois(9800, 10)) %>% \n",
        "  ggplot()+\n",
        "  geom_histogram(aes(x = draws), bins = 20, alpha = 0.6)+\n",
        "  geom_histogram(aes(x = poir), bins = 20, col='red', alpha = 0.6)"
      ]
    },
    {
      "cell_type": "markdown",
      "id": "23420488",
      "metadata": {},
      "source": [
        "---\n",
        "\n",
        "### Basic Metropolis\n",
        "\n",
        "On integer steps:"
      ]
    },
    {
      "cell_type": "code",
      "execution_count": null,
      "id": "b3d20281",
      "metadata": {},
      "outputs": [],
      "source": [
        "metropolis.cts <- function (xx, fun=dgamma, ...) {\n",
        "  prop <- rnorm(1, xx, 1)\n",
        "  acc.ratio <- fun(prop, ...)/fun(xx, ...)\n",
        "  output <- if (acc.ratio > runif(1)) prop else xx\n",
        "  output\n",
        "}\n",
        "replicate (20, metropolis.cts(20, shape=100, rate=10))"
      ]
    },
    {
      "cell_type": "code",
      "execution_count": null,
      "id": "327f290f",
      "metadata": {
        "lines_to_next_cell": 0
      },
      "outputs": [],
      "source": [
        "start <- 50\n",
        "draws <- rep(NA, 100000)\n",
        "for (iteration in 1:100000) {\n",
        "  start <- metropolis.cts (start, fun=dgamma, shape=100, rate=10)\n",
        "  draws[iteration] <- start\n",
        "}"
      ]
    },
    {
      "cell_type": "markdown",
      "id": "60a99579",
      "metadata": {},
      "source": [
        "---\n",
        "### Basic Metropolis"
      ]
    },
    {
      "cell_type": "code",
      "execution_count": null,
      "id": "d47b9ba1",
      "metadata": {
        "dpi": 300,
        "fig.height": 7,
        "fig.width": 12
      },
      "outputs": [],
      "source": [
        "tibble(n = 1:100000, draws = draws) %>% \n",
        "  ggplot(aes(n, draws))+ geom_point()"
      ]
    },
    {
      "cell_type": "markdown",
      "id": "800aa96b",
      "metadata": {},
      "source": [
        "---\n",
        "### Basic Metropolis\n",
        "\n",
        "Have to discard the initial state for \"burn-in\""
      ]
    },
    {
      "cell_type": "code",
      "execution_count": null,
      "id": "bcb3a52f",
      "metadata": {
        "dpi": 300,
        "fig.height": 6,
        "fig.width": 12
      },
      "outputs": [],
      "source": [
        "tibble(n = 201:100000, draws = draws[-(1:200)]) %>% \n",
        "  ggplot(aes(n, draws))+ geom_point()"
      ]
    },
    {
      "cell_type": "markdown",
      "id": "237dbc60",
      "metadata": {},
      "source": [
        "---\n",
        "### Basic Metropolis\n",
        "\n",
        "Have to discard the initial state for \"burn-in\""
      ]
    },
    {
      "cell_type": "code",
      "execution_count": null,
      "id": "95c81eef",
      "metadata": {
        "dpi": 300,
        "fig.height": 6,
        "fig.width": 12
      },
      "outputs": [],
      "source": [
        "tibble(draws = draws[-(1:200)], gamr = rgamma(99800, 100, 10)) %>%\n",
        "  ggplot()+\n",
        "  geom_histogram(aes(x = draws), bins = 20, alpha = 0.6)+\n",
        "  geom_histogram(aes(x = gamr), bins = 20, col='red', alpha = 0.6)"
      ]
    },
    {
      "cell_type": "markdown",
      "id": "a85f1738",
      "metadata": {},
      "source": [
        "### More use for simulations\n",
        "\n",
        "- Simulations instead of probability calculations\n",
        "- Simulations as models\n",
        "- Building simulations\n",
        "    + Live coding of a simulation model under the direction of the class"
      ]
    },
    {
      "cell_type": "markdown",
      "id": "8cdd2fef",
      "metadata": {
        "lines_to_next_cell": 0
      },
      "source": [
        "#### Previously\n",
        "- Drawing independent random variables\n",
        "- Making random variables dependent on each other\n",
        "- Using Monte Carlo to short-cut integration\n",
        "\n",
        "#### vs. Probability Calculations\n",
        "\n",
        "- Monte Carlo:\n",
        "$$\\int{g(x) p(x) dx} \\approx \\frac{1}{n}\\sum_{i=1}^{n}{g(X_i)} ~ \\mathrm{when} ~ X_i \\sim p$$\n",
        "- Not just integrals:\n",
        "Probability of anything $\\approx$ how often does it happen in the simulation\n",
        "---\n",
        "### Example: Prediction Intervals\n",
        "\n",
        "Returns of the S\\&P 500 index:"
      ]
    },
    {
      "cell_type": "code",
      "execution_count": null,
      "id": "1efb4999",
      "metadata": {},
      "outputs": [],
      "source": [
        "SP <- read_excel(\"data/Stock_Bond.xls\") %>% dplyr::select(Date, `S&P_AC`) %>%\n",
        "  rename(Index = `S&P_AC`)\n",
        "SP.returns <- na.omit(as.vector(diff(log(SP$Index))))"
      ]
    },
    {
      "cell_type": "markdown",
      "id": "514d8371",
      "metadata": {
        "lines_to_next_cell": 0
      },
      "source": [
        "#### Prediction Intervals\n",
        "\n",
        "Regress tomorrow's returns on today's:"
      ]
    },
    {
      "cell_type": "code",
      "execution_count": null,
      "id": "d58d09a1",
      "metadata": {
        "lines_to_next_cell": 0
      },
      "outputs": [],
      "source": [
        "SP.ar <- lm(SP.returns[-1] ~ SP.returns[-length(SP.returns)])\n",
        "coefficients(SP.ar)"
      ]
    },
    {
      "cell_type": "markdown",
      "id": "64b7df7a",
      "metadata": {},
      "source": [
        "---\n",
        "\n",
        "### Example: Prediction Intervals"
      ]
    },
    {
      "cell_type": "code",
      "execution_count": null,
      "id": "6f429f94",
      "metadata": {
        "dpi": 300,
        "fig.height": 6,
        "fig.width": 12,
        "lines_to_next_cell": 0
      },
      "outputs": [],
      "source": [
        "SPrf <- tibble(day = 1:(length(SP.returns)-1), obs = SP.returns[-1], \n",
        "  fitted = fitted(SP.ar)) \n",
        "SPrf %>%  ggplot() + geom_point(aes(x = day, y = obs))+\n",
        "  geom_point(aes(x = day, y = fitted), col=\"blue\")"
      ]
    },
    {
      "cell_type": "markdown",
      "id": "665dda8e",
      "metadata": {},
      "source": [
        "---\n",
        "### Example: Prediction Intervals\n",
        "\n",
        "Could work out prediction intervals from theory, if they were Gaussian\n",
        "... or just simulate"
      ]
    },
    {
      "cell_type": "code",
      "execution_count": null,
      "id": "4ff2d9d4",
      "metadata": {
        "lines_to_next_cell": 0
      },
      "outputs": [],
      "source": [
        "prediction.interval <- function(model, confidence=0.95, n=1e3) {\n",
        "  residuals <- residuals(model)\n",
        "  sim <- sample(residuals, size=n, replace=TRUE)\n",
        "  lower.limit <- (1-confidence)/2\n",
        "  upper.limit <- 1-lower.limit\n",
        "  return(quantile(sim, c(lower.limit, upper.limit)))\n",
        "}\n",
        "(SP.interval95 <- prediction.interval(SP.ar))"
      ]
    },
    {
      "cell_type": "markdown",
      "id": "fbcd3153",
      "metadata": {},
      "source": [
        "---\n",
        "### Example: Prediction Intervals"
      ]
    },
    {
      "cell_type": "code",
      "execution_count": null,
      "id": "5a774ef7",
      "metadata": {
        "dpi": 300,
        "fig.height": 6,
        "fig.width": 12,
        "lines_to_next_cell": 0
      },
      "outputs": [],
      "source": [
        "SPrf %>% mutate(lowbound = fitted + SP.interval95[1], \n",
        "  upbound = fitted + SP.interval95[2])  %>% ggplot() +\n",
        "  geom_point(aes(x = day, y = obs))+\n",
        "  geom_point(aes(x = day, y = fitted), col=\"blue\")+\n",
        "  geom_line(aes(x = day, y = lowbound), linetype= 2, col=\"blue\")+\n",
        "  geom_line(aes(x = day, y = upbound), linetype= 2, col=\"blue\")"
      ]
    },
    {
      "cell_type": "markdown",
      "id": "4a07d046",
      "metadata": {
        "lines_to_next_cell": 0
      },
      "source": [
        "---\n",
        "### Simulations as Models\n",
        "- Sometimes the only convenient way to specify the statistical model is as a simulation\n",
        "  + Lots of details, no simplifying math\n",
        "- Running the simulation is then how we see what the model does at given\n",
        "parameters\n",
        "- Fit by matching simulation output to data\n",
        "\n",
        "#### Example: Antibiotics Again\n",
        "- Doctors have either adopted or they haven't\n",
        "- Every day, two random doctors meet\n",
        "- If one has adopted but the other hasn't, the hold-out adopts with probability $p$\n",
        "- Look at number of adoptions over time\n",
        "\n",
        "This was originally a model of disease spread, but now the \"disease\" is adopting a new drug\n",
        "---\n",
        "### Example: Antibiotics Again\n",
        "\n",
        "Code written by section 1:"
      ]
    },
    {
      "cell_type": "code",
      "execution_count": null,
      "id": "e85650c8",
      "metadata": {
        "lines_to_next_cell": 0
      },
      "outputs": [],
      "source": [
        "sim_doctors_1 <- function(num.doctors, num.days, initial_doctors, p) {\n",
        "  # Remember to set up all_doctors\n",
        "  all_doctors <- 1:num.doctors\n",
        "  # Remember to set up has_adopted as binary vector\n",
        "  has_adopted <- matrix(0,nrow=num.doctors,ncol=num.days)\n",
        "  # Set some doctors to have initially adopted\n",
        "    # initial_doctors are indices of doctors who are using as of day 1\n",
        "  has_adopted[initial_doctors,1:num.days] <- 1\n",
        "  for (today in 1:num.days) {\n",
        "    # pull two random doctors\n",
        "    todays_doctors <- sample(all_doctors,size=2,replace=FALSE)\n",
        "    # check that one has adopted and the other hasn't\n",
        "    if(sum(has_adopted[todays_doctors,today])==1) {\n",
        "      # make the non-adopter adopt with probability p\n",
        "      which_of_todays <- which(has_adopted[todays_doctors,today]==0)\n",
        "      receiver <- todays_doctors[which_of_todays]\n",
        "      has_adopted[receiver,today:num.days] <- rbinom(n=1,size=1,prob=p)\n",
        "    }\n",
        "  }\n",
        "  return(has_adopted)\n",
        "}"
      ]
    },
    {
      "cell_type": "markdown",
      "id": "22ca53a9",
      "metadata": {
        "lines_to_next_cell": 0
      },
      "source": [
        "---\n",
        "### Example: Antibiotics Again\n",
        "\n",
        "Code written by section 2:"
      ]
    },
    {
      "cell_type": "code",
      "execution_count": null,
      "id": "b3350451",
      "metadata": {
        "lines_to_next_cell": 0
      },
      "outputs": [],
      "source": [
        "sim_doctors_2 <- function(num.doctors,num.meetings,starting_adopters, prob) {\n",
        "  # vector to keep track of which doctors have adopted\n",
        "  has_adopted <- rep(FALSE, num.doctors)\n",
        "  # Set some to have adopted initially\n",
        "  has_adopted[1:round(starting_adopters*num.doctors)] <- TRUE\n",
        "  # matrix to keep track of adoptions over time\n",
        "  adoptions_vs_time <- matrix(FALSE,nrow=num.doctors,ncol=num.meetings)\n",
        "  for (meeting in 1:num.meetings) {\n",
        "    # select 2 doctors at random\n",
        "    meeting_pair <- sample(1:num.doctors,size=2)\n",
        "    # check whether exactly one selected doctor has adopted\n",
        "    if(has_adopted[meeting_pair[1]] != has_adopted[meeting_pair[2]]) {\n",
        "      # With probability prob., update the vector of adopters\n",
        "      if(rbinom(n=1,size=1,prob=prob)) { has_adopted[meeting_pair] <- TRUE }\n",
        "    }\n",
        "    # update adoptions_vs_time matrix\n",
        "    adoptions_vs_time[,meeting] <- has_adopted    \n",
        "  }\n",
        "  return(adoptions_vs_time)\n",
        "}"
      ]
    },
    {
      "cell_type": "markdown",
      "id": "868bc38a",
      "metadata": {},
      "source": [
        "---\n",
        "### Example: Antibiotics Again"
      ]
    },
    {
      "cell_type": "code",
      "execution_count": null,
      "id": "8310a30b",
      "metadata": {
        "lines_to_next_cell": 0
      },
      "outputs": [],
      "source": [
        "sim2 <- sim_doctors_2(num.doctors=10,num.meetings=10,starting_adopters=0.1,prob=1.0)"
      ]
    },
    {
      "cell_type": "markdown",
      "id": "4c7cce54",
      "metadata": {
        "lines_to_next_cell": 0
      },
      "source": [
        "- Start small for debugging\n",
        "- Making transmission always successful lets us see about updating\n",
        "---"
      ]
    },
    {
      "cell_type": "code",
      "execution_count": null,
      "id": "a555b009",
      "metadata": {
        "dpi": 300,
        "fig.height": 7,
        "fig.width": 12,
        "lines_to_next_cell": 0
      },
      "outputs": [],
      "source": [
        "tibble(m = 1:ncol(sim2), n = colSums(sim2)) %>% \n",
        "  ggplot(aes(m, n))+ \n",
        "  geom_point() + labs(x = \"Meeting\", y =\"Number of adoptees\")"
      ]
    },
    {
      "cell_type": "markdown",
      "id": "084e9617",
      "metadata": {
        "lines_to_next_cell": 0
      },
      "source": [
        "---\n",
        "### Example: Antibiotics Again\n",
        "\n",
        "Maybe not that small?  With only 10 time-steps it's pretty likely we never pick the one initial adoptee\n",
        "---"
      ]
    },
    {
      "cell_type": "code",
      "execution_count": null,
      "id": "f5cd4201",
      "metadata": {
        "dpi": 300,
        "fig.height": 7,
        "fig.width": 12,
        "lines_to_next_cell": 0
      },
      "outputs": [],
      "source": [
        "sim2.1 <- sim_doctors_2(num.doctors=10,num.meetings=100,starting_adopters=0.1,prob=1.0)\n",
        "tibble(m = 1:ncol(sim2.1), n = colSums(sim2.1)) %>%     \n",
        "  ggplot(aes(m, n)) + \n",
        "  geom_point() + labs(x = \"Meeting\", y =\"Number of adoptees\")"
      ]
    },
    {
      "cell_type": "markdown",
      "id": "5717ea1e",
      "metadata": {},
      "source": [
        "---\n",
        "### Example: Antibiotics Again"
      ]
    },
    {
      "cell_type": "code",
      "execution_count": null,
      "id": "8968912d",
      "metadata": {
        "dpi": 300,
        "fig.height": 6,
        "fig.width": 12
      },
      "outputs": [],
      "source": [
        "sim.big <- sim_doctors_2(num.doctors=1000,num.meetings=10000,starting_adopters=0.01,prob=0.5)\n",
        "tibble(m = 1:ncol(sim.big), n = colSums(sim.big)) %>%     \n",
        "  ggplot(aes(m, n)) + \n",
        "  geom_point() + labs(x=\"Meeting\",y=\"Number of adoptees\")"
      ]
    },
    {
      "cell_type": "markdown",
      "id": "161e94d5",
      "metadata": {},
      "source": [
        "Elapsed time from starting to code to final figure: 20 minutes\n",
        "---\n",
        "### Example: Antibiotics Again\n",
        "\n",
        "- These **logistic** or **sigmoid** curves are very characteristic of actual product-adoption curves, and of a lot of epidemiology\n",
        "- This is the \"susceptible-infectious\" (SI) model\n",
        "Lots of variants\n",
        "    + susceptible-infectious-susceptible (SIS), susceptible-infectious-recovered (SIR)\n",
        "    + multiple stages of infectiousness\n",
        "    + competing infections\n",
        "    + can only transmit to network neighbors, not random pairing\n",
        "    + etc., etc.\n",
        "\n",
        "### Summary\n",
        "\n",
        "- When we don't have exact probability formulas or they don't apply, we can simulate to get arbitrarily-good approximations\n",
        "- If we can describe the process of our model, we can set up a simulation of it\n",
        "\n",
        "\n"
      ]
    }
  ],
  "metadata": {
    "jupytext": {
      "cell_metadata_filter": "eval,tags,fig.width,dpi,message,out.height,echo,fig.height,name,-all",
      "main_language": "R",
      "notebook_metadata_filter": "-all"
    },
    "kernelspec": {
      "name": "ir",
      "display_name": "R",
      "language": "R"
    },
    "language_info": {
      "name": "R"
    }
  },
  "nbformat": 4,
  "nbformat_minor": 5
}