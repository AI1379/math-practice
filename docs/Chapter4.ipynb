{
  "cells": [
    {
      "cell_type": "raw",
      "id": "f49beb5e",
      "metadata": {},
      "source": [
        "---\n",
        "title: \"Date Science with R\"\n",
        "subtitle: \"Tidy data\"\n",
        "author: \"Peng Zhang\"\n",
        "institute: \"School of Mathematical Sciences, Zhejiang Universtiy\"\n",
        "date: \"2025/06/28\"\n",
        "output:\n",
        "  xaringan::moon_reader:\n",
        "    lib_dir: libs\n",
        "    nature:\n",
        "      highlightStyle: github\n",
        "      highlightLines: true\n",
        "      countIncrementalSlides: false\n",
        "---"
      ]
    },
    {
      "cell_type": "code",
      "execution_count": null,
      "id": "f85fb0dd",
      "metadata": {
        "lines_to_next_cell": 0,
        "name": "setup",
        "tags": [
          "remove_cell"
        ]
      },
      "outputs": [],
      "source": [
        "options(htmltools.dir.version = FALSE)\n",
        "library(tidyverse)\n",
        "# source('xaringan2pdf.R')\n",
        "# xaringan_to_pdf('Chapter4.html')"
      ]
    },
    {
      "cell_type": "markdown",
      "id": "fbaa6920",
      "metadata": {
        "lines_to_next_cell": 0
      },
      "source": [
        "## Data wrangling: `dplyr`\n",
        "\n",
        "> Data scientists, according to interviews and expert estimates, spend from 50 percent to 80 percent of their time mired in the mundane labor of collecting and preparing data, before it can be explored for useful information. - NYTimes (2014)\n",
        "\n",
        "What are some common things you like to do with your data? Maybe remove rows or columns, do calculations and maybe add new columns? This is called **data wrangling**. It’s not data management or data manipulation: you **keep the raw data raw** and do these things programatically in R with the tidyverse.\n",
        "\n",
        "We are going to introduce you to data wrangling in R first with the tidyverse. The tidyverse is a suite of packages that match a philosophy of data science developed by Hadley Wickham and the RStudio team. I find it to be a more straight-forward way to learn R. We will also show you by comparison what code will look like in “Base R”.\n",
        "\n",
        "---\n",
        "### Objectives\n",
        "- discuss tidy data\n",
        "- read data from online into R\n",
        "- explore gapminder data with base-R functions\n",
        "- wrangle gapminder data with dplyr tidyverse functions\n",
        "- practice RStudio-GitHub workflow\n",
        "\n",
        "### Data and packages\n",
        "**Gapminder data**\n",
        "\n",
        "We’ll be using Gapminder data, which represents the health and wealth of nations. It was pioneered by Hans Rosling, who is famous for describing the prosperity of nations over time through famines, wars and other historic events with this beautiful data visualization in his [2006 TED Talk: The best stats you’ve ever seen](https://www.ted.com/talks/hans_rosling_shows_the_best_stats_you_ve_ever_seen):\n",
        "---\n",
        "#### [Gapminder Motion Chart](http://www.gapminder.org/world)"
      ]
    },
    {
      "cell_type": "code",
      "execution_count": null,
      "id": "23267e90",
      "metadata": {
        "echo": false,
        "lines_to_next_cell": 0,
        "out.height": "430px"
      },
      "outputs": [],
      "source": [
        "knitr::include_graphics('figures/gapminder_motion.png')"
      ]
    },
    {
      "cell_type": "markdown",
      "id": "45709317",
      "metadata": {},
      "source": [
        "We’ll use the package `dplyr`, which is bundled within the `tidyverse` package. Please install the `tidyverse` ahead of time:"
      ]
    },
    {
      "cell_type": "code",
      "execution_count": null,
      "id": "ce032092",
      "metadata": {
        "eval": false
      },
      "outputs": [],
      "source": [
        "install.packages(\"tidyverse\")"
      ]
    },
    {
      "cell_type": "markdown",
      "id": "062af6a9",
      "metadata": {
        "lines_to_next_cell": 0
      },
      "source": [
        "---\n",
        "### Tidy Data\n",
        "Let’s start off discussing Tidy Data.\n",
        "\n",
        "Hadley Wickham, RStudio’s Chief Scientist, and his team have been building R packages for data wrangling and visualization based on the idea of tidy data.\n",
        "\n",
        "Tidy data has a simple convention: put variables in the columns and observations in the rows."
      ]
    },
    {
      "cell_type": "code",
      "execution_count": null,
      "id": "19ccbb26",
      "metadata": {
        "echo": false,
        "lines_to_next_cell": 0,
        "out.height": "250px"
      },
      "outputs": [],
      "source": [
        "knitr::include_graphics('figures/tidy_data.png')"
      ]
    },
    {
      "cell_type": "markdown",
      "id": "a1338566",
      "metadata": {
        "lines_to_next_cell": 0
      },
      "source": [
        "---\n",
        "When data are tidy, you are set up to work with it for your analyses, plots, etc."
      ]
    },
    {
      "cell_type": "code",
      "execution_count": null,
      "id": "f78394c7",
      "metadata": {
        "echo": false,
        "out.height": "250px"
      },
      "outputs": [],
      "source": [
        "knitr::include_graphics('figures/tidy_img_np.png')"
      ]
    },
    {
      "cell_type": "markdown",
      "id": "fe1e35d8",
      "metadata": {
        "lines_to_next_cell": 0
      },
      "source": [
        "Right now we are going to use `dplyr` to wrangle this tidy-ish data set (the transform part of the cycle), and then come back to tidying messy data using `tidyr` once we’ve had some fun wrangling. These are both part of the `tidyverse` package that we’ve already installed.\n",
        "---"
      ]
    },
    {
      "cell_type": "code",
      "execution_count": null,
      "id": "cfcef4b5",
      "metadata": {
        "echo": false,
        "lines_to_next_cell": 0,
        "out.height": "300px"
      },
      "outputs": [],
      "source": [
        "knitr::include_graphics('figures/r4ds_data-science.png')"
      ]
    },
    {
      "cell_type": "markdown",
      "id": "28ce726b",
      "metadata": {
        "lines_to_next_cell": 0
      },
      "source": [
        "Conceptually, making data tidy first is really critical. Instead of building your analyses around whatever (likely weird) format your data are in, take deliberate steps to make your data tidy. When your data are tidy, you can use a growing assortment of powerful analytical and visualization tools instead of inventing home-grown ways to accommodate your data. This will save you time since you aren’t reinventing the wheel, and will make your work more clear and understandable to your collaborators (most importantly, Future You).\n",
        "\n",
        "---\n",
        "#### Setup\n",
        "We’ll do this in a new RMarkdown file.\n",
        "\n",
        "Here’s what to do:\n",
        "\n",
        "Clear your workspace (Session > Restart R)\n",
        "1. New File > R Markdown\n",
        "2. Save as `gapminder-wrangle.Rmd`\n",
        "3. Delete the irrelevant text and write a little note to yourself about how we’ll be wrangling gapminder data using `dplyr`. You can edit the title too if you need to.\n",
        "---\n",
        "#### load `tidyverse` (which has `dplyr` inside)\n",
        "In your R Markdown file, let’s make sure we’ve got our libraries loaded. Write the following:"
      ]
    },
    {
      "cell_type": "code",
      "execution_count": null,
      "id": "0b2dd442",
      "metadata": {
        "eval": false,
        "lines_to_next_cell": 0
      },
      "outputs": [],
      "source": [
        "library(tidyverse)     ## install.packages(\"tidyverse\")"
      ]
    },
    {
      "cell_type": "markdown",
      "id": "4c57772d",
      "metadata": {
        "lines_to_next_cell": 0
      },
      "source": [
        "This is becoming standard practice for how to load a library in a file, and if you get an error that the library doesn’t exist, you can install the package easily by running the code within the comment (highlight `install.packages(\"tidyverse\")` and run it).\n",
        "\n",
        "---\n",
        "### Explore the gapminder data.frame\n",
        "#### read data with `readr::read_csv()`\n",
        "\n",
        "In our R Markdown, let’s read this csv file and name the variable “gapminder”. We will use the `read_csv()` function from the `readr` package (part of the tidyverse, so it’s already installed!)."
      ]
    },
    {
      "cell_type": "code",
      "execution_count": null,
      "id": "5220f3a0",
      "metadata": {
        "echo": false,
        "lines_to_next_cell": 0,
        "message": false
      },
      "outputs": [],
      "source": [
        "## read gapminder csv. Note the readr:: prefix identifies which package it's in\n",
        "gapminder <- readr::read_csv('data/gapminder.csv') "
      ]
    },
    {
      "cell_type": "markdown",
      "id": "a5158641",
      "metadata": {
        "lines_to_next_cell": 0
      },
      "source": [
        "Let’s inspect:"
      ]
    },
    {
      "cell_type": "code",
      "execution_count": null,
      "id": "99d649c3",
      "metadata": {
        "eval": false,
        "lines_to_next_cell": 0
      },
      "outputs": [],
      "source": [
        "View(gapminder)"
      ]
    },
    {
      "cell_type": "markdown",
      "id": "83908ab5",
      "metadata": {},
      "source": [
        "Let’s use head and tail:"
      ]
    },
    {
      "cell_type": "code",
      "execution_count": null,
      "id": "bdbef438",
      "metadata": {
        "lines_to_next_cell": 0
      },
      "outputs": [],
      "source": [
        "head(gapminder) # shows first 6"
      ]
    },
    {
      "cell_type": "markdown",
      "id": "ac0737f9",
      "metadata": {
        "lines_to_next_cell": 0
      },
      "source": [
        "---"
      ]
    },
    {
      "cell_type": "code",
      "execution_count": null,
      "id": "3e6bf4bd",
      "metadata": {
        "lines_to_next_cell": 0
      },
      "outputs": [],
      "source": [
        "tail(gapminder) # shows last 6\n",
        "head(gapminder, 10) # shows first X that you indicate"
      ]
    },
    {
      "cell_type": "markdown",
      "id": "d92c9413",
      "metadata": {
        "lines_to_next_cell": 0
      },
      "source": [
        "---\n",
        "`str()` will provide a sensible description of almost anything: when in doubt, inspect using str() on some of the recently created objects to get some ideas about what to do next."
      ]
    },
    {
      "cell_type": "code",
      "execution_count": null,
      "id": "a8b0ee29",
      "metadata": {
        "lines_to_next_cell": 0
      },
      "outputs": [],
      "source": [
        "str(gapminder) # ?str - displays the structure of an object"
      ]
    },
    {
      "cell_type": "markdown",
      "id": "57067117",
      "metadata": {
        "lines_to_next_cell": 0
      },
      "source": [
        "---\n",
        "`gapminder` is a `data.frame`. It is also a `tibble`, a modern extended structure based on data.frame. \n",
        "\n",
        "- Tibbles are data.frames but modify some older behaviours to make life a little easier\n",
        "\n",
        "- Preferred data format in the tidyverse\n",
        "\n",
        "- No need to worry about this!\n",
        "---\n",
        "### `dplyr` basics\n",
        "\n",
        "There are five `dplyr` functions that you will use to do the vast majority of data manipulations:\n",
        "\n",
        "- `filter()`: pick observations by their values\n",
        "- `select()`: pick variables by their names\n",
        "- `mutate()`: create new variables with functions of existing variables\n",
        "- `summarise()`: collapse many values down to a single summary\n",
        "- `arrange()`: reorder the rows\n",
        "\n",
        "These can all be used in conjunction with `group_by()` which changes the scope of each function from operating on the entire dataset to operating on it group-by-group. These six functions provide the verbs for a language of data manipulation.\n",
        "\n",
        "All verbs work similarly:\n",
        "\n",
        "1. The first argument is a data frame.\n",
        "2. The subsequent arguments describe what to do with the data frame. You can refer to columns in the data frame directly without using `$`.\n",
        "3. The result is a new data frame.\n",
        "\n",
        "Together these properties make it easy to chain together multiple simple steps to achieve a complex result.\n",
        "---\n",
        "#### `filter()` subsets data row-wise (observations)\n",
        "You will want to isolate bits of your data; maybe you want to only look at a single country or a few years. R calls this subsetting.\n",
        "\n",
        "`filter()` is a function in dplyr that takes logical expressions and returns the rows for which all are TRUE.\n",
        "\n",
        "Visually, we are doing this (thanks RStudio for your cheatsheet):"
      ]
    },
    {
      "cell_type": "code",
      "execution_count": null,
      "id": "d0ae378a",
      "metadata": {
        "echo": false,
        "lines_to_next_cell": 0,
        "out.height": "400px"
      },
      "outputs": [],
      "source": [
        "knitr::include_graphics('figures/rstudio-cheatsheet-filter.png')"
      ]
    },
    {
      "cell_type": "markdown",
      "id": "6eafffa0",
      "metadata": {
        "lines_to_next_cell": 0
      },
      "source": [
        "---\n",
        "Remember your logical expressions? Conditional operators accepted in filter: `==, <, >, <=, >=, is.na(), !is.na(), %in%, !, |, &, xor()`"
      ]
    },
    {
      "cell_type": "code",
      "execution_count": null,
      "id": "c0711801",
      "metadata": {
        "lines_to_next_cell": 0
      },
      "outputs": [],
      "source": [
        "filter(gapminder, lifeExp < 29)"
      ]
    },
    {
      "cell_type": "markdown",
      "id": "9974a95c",
      "metadata": {
        "lines_to_next_cell": 0
      },
      "source": [
        "You can say this out loud: “Filter the gapminder data for life expectancy less than 29”. Notice that when we do this, all the columns are returned, but only the rows that have the life expectancy less than 29. We’ve subsetted by row.\n",
        "---\n",
        "Let’s try another: “Filter the gapminder data for the country Mexico”."
      ]
    },
    {
      "cell_type": "code",
      "execution_count": null,
      "id": "7e90036c",
      "metadata": {
        "lines_to_next_cell": 0
      },
      "outputs": [],
      "source": [
        "filter(gapminder, country == \"Mexico\")"
      ]
    },
    {
      "cell_type": "markdown",
      "id": "75c4725b",
      "metadata": {
        "lines_to_next_cell": 0
      },
      "source": [
        "---\n",
        "How about if we want two country names? We can’t use the `==` operator here, because it can only operate on one thing at a time. We will use the `%in%` operator:"
      ]
    },
    {
      "cell_type": "code",
      "execution_count": null,
      "id": "01536692",
      "metadata": {
        "lines_to_next_cell": 0
      },
      "outputs": [],
      "source": [
        "filter(gapminder, country %in% c(\"Mexico\", \"Peru\"))"
      ]
    },
    {
      "cell_type": "markdown",
      "id": "5f3a0d6b",
      "metadata": {
        "lines_to_next_cell": 0
      },
      "source": [
        "---\n",
        "How about if we want Mexico in 2002? You can pass filter different criteria:"
      ]
    },
    {
      "cell_type": "code",
      "execution_count": null,
      "id": "7de5a6a2",
      "metadata": {},
      "outputs": [],
      "source": [
        "filter(gapminder, country == \"Mexico\", year == 2002)"
      ]
    },
    {
      "cell_type": "markdown",
      "id": "f0f97e9c",
      "metadata": {
        "lines_to_next_cell": 0
      },
      "source": [
        "#### Exercise\n",
        "\n",
        "What was the average life expectency in Brazil between 1987 and 2007?\n",
        "Hint: do this in 2 steps by assigning a variable and then using the `mean()` function."
      ]
    },
    {
      "cell_type": "code",
      "execution_count": null,
      "id": "c1a897a8",
      "metadata": {
        "eval": false,
        "include": false
      },
      "outputs": [],
      "source": [
        "x <- filter(gapminder, country == \"Brazil\", year > 1986)  \n",
        "mean(x$lifeExp)  "
      ]
    },
    {
      "cell_type": "markdown",
      "id": "2f78fe95",
      "metadata": {
        "lines_to_next_cell": 0
      },
      "source": [
        "Then, sync to Github.com (pull, stage, commit, push).\n",
        "---\n",
        "### `select()` subsets data column-wise (variables)\n",
        "We use `select()` to subset the data on variables or columns.\n",
        "\n",
        "Visually, we are doing this (thanks RStudio for your cheatsheet):"
      ]
    },
    {
      "cell_type": "code",
      "execution_count": null,
      "id": "03cdeeb9",
      "metadata": {
        "echo": false,
        "lines_to_next_cell": 0,
        "out.height": "400px"
      },
      "outputs": [],
      "source": [
        "knitr::include_graphics('figures/rstudio-cheatsheet-select.png')"
      ]
    },
    {
      "cell_type": "markdown",
      "id": "1962192f",
      "metadata": {
        "lines_to_next_cell": 0
      },
      "source": [
        "---\n",
        "- We can select multiple columns with a comma, after we specify the data frame (gapminder)."
      ]
    },
    {
      "cell_type": "code",
      "execution_count": null,
      "id": "74c33a7a",
      "metadata": {
        "lines_to_next_cell": 0
      },
      "outputs": [],
      "source": [
        "gap1 <- dplyr::select(gapminder, year, country, lifeExp) \n",
        "head(gap1, 3)"
      ]
    },
    {
      "cell_type": "markdown",
      "id": "c55a30b6",
      "metadata": {
        "lines_to_next_cell": 0
      },
      "source": [
        "- We can select a range of variables with a semicolon."
      ]
    },
    {
      "cell_type": "code",
      "execution_count": null,
      "id": "fb7a945f",
      "metadata": {
        "lines_to_next_cell": 0
      },
      "outputs": [],
      "source": [
        "gap2 <- dplyr::select(gapminder, year:lifeExp) \n",
        "head(gap2, 3)"
      ]
    },
    {
      "cell_type": "markdown",
      "id": "8c3279ca",
      "metadata": {
        "lines_to_next_cell": 0
      },
      "source": [
        "---\n",
        "- We can select columns with indices."
      ]
    },
    {
      "cell_type": "code",
      "execution_count": null,
      "id": "350cc990",
      "metadata": {},
      "outputs": [],
      "source": [
        "gap3 <- dplyr::select(gapminder, 1, 2, 4) \n",
        "head(gap3, 3)"
      ]
    },
    {
      "cell_type": "markdown",
      "id": "0c5c0d63",
      "metadata": {
        "lines_to_next_cell": 0
      },
      "source": [
        "- We can also use `-` to deselect columns"
      ]
    },
    {
      "cell_type": "code",
      "execution_count": null,
      "id": "b29492e8",
      "metadata": {
        "lines_to_next_cell": 0
      },
      "outputs": [],
      "source": [
        "gap4 <- dplyr::select(gapminder, -continent, -lifeExp) # you can use - to deselect columns\n",
        "head(gap4, 3)"
      ]
    },
    {
      "cell_type": "markdown",
      "id": "712c847b",
      "metadata": {
        "lines_to_next_cell": 0
      },
      "source": [
        "---\n",
        "### Use `select()` and `filter()` together\n",
        "Let’s filter for Cambodia and remove the continent and lifeExp columns. We’ll save this as a variable. Actually, as two temporary variables, which means that for the second one we need to operate on `gap_cambodia`, not `gapminder`."
      ]
    },
    {
      "cell_type": "code",
      "execution_count": null,
      "id": "1c4555b1",
      "metadata": {
        "lines_to_next_cell": 0
      },
      "outputs": [],
      "source": [
        "gap_cambodia  <- filter(gapminder, country == \"Cambodia\")\n",
        "gap_cambodia2 <- dplyr::select(gap_cambodia, -continent, -lifeExp) "
      ]
    },
    {
      "cell_type": "markdown",
      "id": "d84d96f7",
      "metadata": {
        "lines_to_next_cell": 0
      },
      "source": [
        "We also could have called them both `gap_cambodia` and overwritten the first assignment. Either way, naming them and keeping track of them gets super cumbersome, which means more time to understand what’s going on and opportunities for confusion or error.\n",
        "---\n",
        "### Meet the new pipe `%>%` (`|>`) operator\n",
        "\n",
        "Before we go any further, we should explore the new pipe operator that `dplyr` imports from the `magrittr` package by Stefan Bache. This is going to **change your life**. You no longer need to enact multi-operation commands by nesting them inside each other. And we won’t need to make temporary variables like we did in the Cambodia example above. This new syntax leads to code that is much easier to write and to read: it actually tells the story of your analysis.\n",
        "\n",
        "Here’s what it looks like: `%>%`. The RStudio keyboard shortcut: Ctrl + Shift + M (Windows), Cmd + Shift + M (Mac). Or you can use the base R pipe `|>` built into R 4.1 and later version. Go to the Global Options window, select \"Code\" and you'll see an option for \"use native pipe operator, |>\". \n",
        "\n",
        "Let’s demo then I’ll explain:"
      ]
    },
    {
      "cell_type": "code",
      "execution_count": null,
      "id": "2e107eb4",
      "metadata": {
        "lines_to_next_cell": 0
      },
      "outputs": [],
      "source": [
        "gapminder |> head(3)"
      ]
    },
    {
      "cell_type": "markdown",
      "id": "2de33d42",
      "metadata": {
        "lines_to_next_cell": 0
      },
      "source": [
        "---\n",
        "This is equivalent to `head(gapminder, 3)`. This pipe operator takes the thing on the left-hand-side and **pipes** it into the function call on the right-hand-side. It literally drops it in as the first argument.\n",
        "\n",
        "**You should think “and then” whenever you see the pipe operator, `|>`.**\n",
        "\n",
        "One of the most awesome things about this is that you START with the data before you say what you’re doing to DO to it. So above: “take the gapminder data, and then give me the first three entries”.\n",
        "\n",
        "This means that instead of this:"
      ]
    },
    {
      "cell_type": "code",
      "execution_count": null,
      "id": "d3f3693c",
      "metadata": {
        "eval": false
      },
      "outputs": [],
      "source": [
        "## instead of this...\n",
        "gap_cambodia  <- filter(gapminder, country == \"Cambodia\")\n",
        "gap_cambodia2 <- dplyr::select(gap_cambodia, -continent, -lifeExp) \n",
        "\n",
        "## ...we can do this\n",
        "gap_cambodia  <- gapminder |> filter(country == \"Cambodia\")\n",
        "gap_cambodia2 <- gap_cambodia |> dplyr::select(-continent, -lifeExp) "
      ]
    },
    {
      "cell_type": "markdown",
      "id": "50d5cae7",
      "metadata": {
        "lines_to_next_cell": 0
      },
      "source": [
        "So you can see that we’ll start with gapminder in the first example line, and then `gap_cambodia` in the second. This makes it a bit easier to see what data we are starting with and what we are doing to it.\n",
        "\n",
        "But, we still have those temporary variables so we’re not truly that better off. But get ready to be majorly impressed:\n",
        "---\n",
        "### Revel in the convenience\n",
        "We can use the pipe to chain those two operations together:"
      ]
    },
    {
      "cell_type": "code",
      "execution_count": null,
      "id": "8ec86ef3",
      "metadata": {
        "lines_to_next_cell": 0
      },
      "outputs": [],
      "source": [
        "gap_cambodia  <- gapminder |> \n",
        "  filter(country == \"Cambodia\") |>\n",
        "  dplyr::select(-continent, -lifeExp) "
      ]
    },
    {
      "cell_type": "markdown",
      "id": "79137d3c",
      "metadata": {},
      "source": [
        "What’s happening here? In the second line, we were able to delete `gap_cambodia2 <- gap_cambodia`, and put the pipe operator above. This is possible since we wanted to operate on the `gap_cambodia` data anyways. And we weren’t truly excited about having a second variable named `gap_cambodia2` anyways, so we can get rid of it. This is huge, because most of your data wrangling will have many more than 2 steps, and we don’t want a `gap_cambodia14`!\n",
        "---\n",
        "By using multiple lines I can actually read this like a story and there aren’t temporary variables that get super confusing. In my head:\n",
        "\n",
        ">“start with the gapminder data, and then filter for Cambodia, and then drop the variables continent and lifeExp.”\n",
        "\n",
        "Being able to read a story out of code like this is really game-changing. We’ll continue using this syntax as we learn the other dplyr verbs.\n",
        "---\n",
        "### `mutate()` adds new variables\n",
        "Let’s say we needed to add an index column so we know which order these data came in. Let’s not make a new variable, let’s add a column to our gapminder data frame. How do we do that? With the ·mutate()· function.\n",
        "\n",
        "Visually, we are doing this (thanks RStudio for your cheatsheet):"
      ]
    },
    {
      "cell_type": "code",
      "execution_count": null,
      "id": "d1a0468e",
      "metadata": {
        "echo": false,
        "lines_to_next_cell": 0,
        "out.height": "400px"
      },
      "outputs": [],
      "source": [
        "knitr::include_graphics('figures/rstudio-cheatsheet-mutate.png')"
      ]
    },
    {
      "cell_type": "markdown",
      "id": "54cd32e8",
      "metadata": {},
      "source": [
        "---\n",
        "Imagine we want to know each country’s annual GDP. We can multiply pop by gdpPercap to create a new column named gdp."
      ]
    },
    {
      "cell_type": "code",
      "execution_count": null,
      "id": "9d25700a",
      "metadata": {
        "lines_to_next_cell": 0
      },
      "outputs": [],
      "source": [
        "gapminder |>\n",
        "  mutate(gdp = pop * gdpPercap)"
      ]
    },
    {
      "cell_type": "markdown",
      "id": "f16aa38d",
      "metadata": {
        "lines_to_next_cell": 0
      },
      "source": [
        "#### Your turn\n",
        "\n",
        "> Calculate the population in thousands for all Asian countries in the year 2007 and add it as a new column."
      ]
    },
    {
      "cell_type": "code",
      "execution_count": null,
      "id": "8b783976",
      "metadata": {
        "eval": false,
        "include": false
      },
      "outputs": [],
      "source": [
        "gapminder |>\n",
        "  filter(continent == \"Asia\",\n",
        "         year == 2007) |>\n",
        "  mutate(pop_thousands = pop/1000) |>\n",
        "  dplyr::select(country, year, pop_thousands) #this cleans up the dataframe but isn't necessary"
      ]
    },
    {
      "cell_type": "markdown",
      "id": "d54529c4",
      "metadata": {},
      "source": [
        "> Then, sync to Github.com (pull, stage, commit, push).\n",
        "\n",
        "---\n",
        "### Functions in `mutate()`\n",
        "\n",
        "- arithmetic operators: `+, -, *, /, ^`\n",
        "- modular arithmetic: `%/%, %%`\n",
        "- logs: `log(), log2(), log10()`\n",
        "- offsets: `lead(), lag()`\n",
        "- cumulative and rolling aggregates: `cumsum(), cumprod(), cummin(), cummax(), cummean()`\n",
        "- logical comparisons: `<, <=, >, >=, !=`\n",
        "- ranking: `min_rank(), row_number(), dense_rank(), percent_rank(), cume_dist(), ntile()`\n",
        "\n",
        "- Any R or custom function that returns a **vector** with the same length as the number of rows\n",
        "---\n",
        "### `group_by()` operates on groups\n",
        "\n",
        "What if we wanted to know the total population on each continent in 2002? Answering this question requires a **grouping variable**.\n",
        "\n",
        "Visually, we are doing this (thanks RStudio for your cheatsheet):"
      ]
    },
    {
      "cell_type": "code",
      "execution_count": null,
      "id": "cc002ac1",
      "metadata": {
        "echo": false,
        "out.height": "400px"
      },
      "outputs": [],
      "source": [
        "knitr::include_graphics('figures/rstudio-cheatsheet-group_by.png')"
      ]
    },
    {
      "cell_type": "markdown",
      "id": "a5c4ef49",
      "metadata": {
        "lines_to_next_cell": 0
      },
      "source": [
        "---\n",
        "By using `group_by()` we can set our grouping variable to `continent` and create a new column called `cont_pop` that will add up all country populations by their associated continents."
      ]
    },
    {
      "cell_type": "code",
      "execution_count": null,
      "id": "19e14f37",
      "metadata": {
        "lines_to_next_cell": 0
      },
      "outputs": [],
      "source": [
        "gapminder |>\n",
        "  filter(year == 2002) |>\n",
        "  group_by(continent) |> \n",
        "  mutate(cont_pop = sum(pop))"
      ]
    },
    {
      "cell_type": "markdown",
      "id": "a3feb121",
      "metadata": {},
      "source": [
        "---\n",
        "What if we don’t care about the other columns and we only want each continent and their population in 2002? Here’s the next function:\n",
        "\n",
        "### `summarize()` with `group_by()`\n",
        "\n",
        "We want to operate on a group, but actually collapse or distill the output from that group. The `summarize()` function will do that for us.\n",
        "\n",
        "Visually, we are doing this (thanks RStudio for your cheatsheet):"
      ]
    },
    {
      "cell_type": "code",
      "execution_count": null,
      "id": "8c409ad2",
      "metadata": {
        "echo": false,
        "lines_to_next_cell": 0,
        "out.height": "400px"
      },
      "outputs": [],
      "source": [
        "knitr::include_graphics('figures/rstudio-cheatsheet-summarise.png')"
      ]
    },
    {
      "cell_type": "markdown",
      "id": "4b65592a",
      "metadata": {
        "lines_to_next_cell": 0
      },
      "source": [
        "---\n",
        "Here we go:"
      ]
    },
    {
      "cell_type": "code",
      "execution_count": null,
      "id": "acc8f139",
      "metadata": {
        "lines_to_next_cell": 0
      },
      "outputs": [],
      "source": [
        "gapminder |>\n",
        "  group_by(continent) |>\n",
        "  summarize(cont_pop = sum(pop)) |>\n",
        "  ungroup()"
      ]
    },
    {
      "cell_type": "markdown",
      "id": "0e1beb0f",
      "metadata": {
        "lines_to_next_cell": 0
      },
      "source": [
        "`summarize()` will actually only keep the columns that are `grouped_by` or summarized. So if we wanted to keep other columns, we’d have to do have a few more steps. `ungroup()` removes the grouping and it’s good to get in the habit of using it after a `group_by()`.\n",
        "\n",
        "---\n",
        "We can use more than one grouping variable. Let’s get total populations by continent and year."
      ]
    },
    {
      "cell_type": "code",
      "execution_count": null,
      "id": "f6740b2a",
      "metadata": {
        "lines_to_next_cell": 0
      },
      "outputs": [],
      "source": [
        "gapminder |>\n",
        "  group_by(continent, year) |>\n",
        "  summarize(cont_pop = sum(pop))"
      ]
    },
    {
      "cell_type": "markdown",
      "id": "e546c83e",
      "metadata": {},
      "source": [
        "---\n",
        "### Functions in `summarise()`\n",
        "\n",
        "- location: `mean(x), median(x)`\n",
        "- spread: `sd(x), IQR(x), mad(x)`\n",
        "- rank: `min(x), quantile(x, 0.25), max(x)`\n",
        "- position: `first(x), nth(x, 2), last(x)`\n",
        "- count: `n(x), sum(!is.na(x)), n_distinct(x)`\n",
        "- any base R or custom function that returns **one summary value**\n",
        "\n",
        "---\n",
        "### arrange() orders columns\n",
        "This is ordered alphabetically, which is cool. But let’s say we wanted to order it in ascending order for year. The dplyr function is arrange()."
      ]
    },
    {
      "cell_type": "code",
      "execution_count": null,
      "id": "a9c3f4b7",
      "metadata": {
        "lines_to_next_cell": 0
      },
      "outputs": [],
      "source": [
        "gapminder |>\n",
        "  group_by(continent, year) |>\n",
        "  summarize(cont_pop = sum(pop)) |>\n",
        "  arrange(year)"
      ]
    },
    {
      "cell_type": "markdown",
      "id": "8d4a0547",
      "metadata": {},
      "source": [
        "- Use `desc(var)` to arrange in decreasing order\n",
        "- Possible to use multiple variables (categorical)\n",
        "---\n",
        "#### Your turn\n",
        "> What is the maximum GDP per continent across all years?"
      ]
    },
    {
      "cell_type": "code",
      "execution_count": null,
      "id": "1f8354b3",
      "metadata": {
        "eval": false,
        "include": false
      },
      "outputs": [],
      "source": [
        "gapminder |>\n",
        "  mutate(gdp = pop * gdpPercap) |>\n",
        "  group_by(continent) |>\n",
        "  mutate(max_gdp = max(gdp)) |>\n",
        "  filter(gdp == max_gdp)"
      ]
    },
    {
      "cell_type": "markdown",
      "id": "319b3674",
      "metadata": {},
      "source": [
        "#### Your turn\n",
        "> 1. arrange your data frame in descending order (opposite of what we’ve done). Expect that this is possible: ?arrange\n",
        "> 2. save your data frame as a variable\n",
        "> 3. find the maximum life expectancy for countries in Asia. What is the earliest year you encounter? The latest? Hint: you can use or `base::max` and `dplyr::arrange()`\n",
        "> 4. Knit your RMarkdown file, and sync it to GitHub (pull, stage, commit, push)"
      ]
    },
    {
      "cell_type": "code",
      "execution_count": null,
      "id": "c11e4c73",
      "metadata": {
        "eval": false,
        "include": false
      },
      "outputs": [],
      "source": [
        "asia_life_exp <- gapminder |>\n",
        "  filter(continent == 'Asia') |>\n",
        "  group_by(country) |>\n",
        "  filter(lifeExp == max(lifeExp)) |>\n",
        "  arrange(year) "
      ]
    },
    {
      "cell_type": "markdown",
      "id": "9e366fcc",
      "metadata": {},
      "source": [
        "---\n",
        "### All together now\n",
        "We have done a pretty incredible amount of work in a few lines. Our whole analysis is this. Imagine the possibilities from here. It’s very readable: you see the data as the first thing, it’s not nested. Then, you can read the verbs. This is the whole thing, with explicit package calls from `readr::` and `dplyr::`:"
      ]
    },
    {
      "cell_type": "code",
      "execution_count": null,
      "id": "f2285a51",
      "metadata": {
        "eval": false,
        "lines_to_next_cell": 0
      },
      "outputs": [],
      "source": [
        "## load libraries\n",
        "library(tidyverse) ## install.packages('tidyverse')\n",
        "\n",
        "## read in data\n",
        "gapminder <- readr::read_csv('data/gapminder.csv') \n",
        "\n",
        "## summarize\n",
        "gap_max_life_exp <- gapminder |> \n",
        "  dplyr::select(-continent, -lifeExp) |> # or select(country, year, pop, gdpPercap)\n",
        "  dplyr::group_by(country) |>\n",
        "  dplyr::mutate(gdp = pop * gdpPercap) |>\n",
        "  dplyr::summarize(max_gdp = max(gdp)) |>\n",
        "  dplyr::ungroup() "
      ]
    },
    {
      "cell_type": "markdown",
      "id": "69472c2c",
      "metadata": {},
      "source": [
        "---\n",
        "### Compare to base R\n",
        "\n",
        "Instead of calculating the max for each country like we did with dplyr above, here we will calculate the max for one country, Mexico."
      ]
    },
    {
      "cell_type": "code",
      "execution_count": null,
      "id": "1d36004f",
      "metadata": {
        "eval": false,
        "lines_to_next_cell": 0
      },
      "outputs": [],
      "source": [
        "gapminder <- read.csv('data/gapminder.csv', stringsAsFactors = FALSE) \n",
        "x1  <- gapminder[ , c('country', 'year', 'pop', 'gdpPercap') ]# subset columns\n",
        "mex <- x1[x1$country == \"Mexico\", ] # subset rows\n",
        "mex$gdp <- mex$pop * mex$gdpPercap # add new columns\n",
        "mex$max_gdp <- max(mex$gdp)"
      ]
    },
    {
      "cell_type": "markdown",
      "id": "b2f9105d",
      "metadata": {},
      "source": [
        "Note too that the chain operator `|>` that we used with the `tidyverse` lets us get away from the temporary variable `x1`.\n",
        "\n",
        "---\n",
        "## Joining datasets\n",
        "Most of the time you will have data coming from different places or in different files, and you want to put them together so you can analyze them. Datasets you’ll be joining can be called relational data, because it has some kind of relationship between them that you’ll be acting upon. In the `tidyverse`, combining data that has a relationship is called “joining”.\n",
        "\n",
        "From the RStudio cheatsheet (note: this is an earlier version of the cheatsheet but I like the graphics):"
      ]
    },
    {
      "cell_type": "code",
      "execution_count": null,
      "id": "c0d29689",
      "metadata": {
        "echo": false,
        "lines_to_next_cell": 0,
        "out.height": "200px"
      },
      "outputs": [],
      "source": [
        "knitr::include_graphics('figures/rstudio-cheatsheet-combine.png')"
      ]
    },
    {
      "cell_type": "markdown",
      "id": "838abf50",
      "metadata": {},
      "source": [
        "---\n",
        "Let’s have a look at this and pretend that the x1 column is a study site and x2 is the variables we’ve recorded (like species count) and x3 is data from an instrument (like temperature data). Notice how you may not have exactly the same observations in the two datasets: in the x1 column, observations A and B appear in both datasets, but notice how the table on the left has observation C, and the table on the right has observation D.\n",
        "---\n",
        "If you wanted to combine these two tables, how would you do it? There are some decisions you’d have to make about what was important to you. The cheatsheet visualizes it for us:"
      ]
    },
    {
      "cell_type": "code",
      "execution_count": null,
      "id": "37b15be4",
      "metadata": {
        "echo": false,
        "out.height": "500px"
      },
      "outputs": [],
      "source": [
        "knitr::include_graphics('figures/rstudio-cheatsheet-combine-options1.png')"
      ]
    },
    {
      "cell_type": "markdown",
      "id": "74278bab",
      "metadata": {},
      "source": [
        "---\n",
        "We will only talk about this briefly here, but you can refer to this more as you have your own datasets that you want to join. This describes the figure above:\n",
        "\n",
        "- `left_join` keeps everything from the left table and matches as much as it can from the right table. In R, the first thing that you type will be the left table (because it’s on the left)\n",
        "- `right_join` keeps everything from the right table and matches as much as it can from the left table\n",
        "- `inner_join` only keeps the observations that are similar between the two tables\n",
        "- `full_join` keeps all observations from both tables.\n",
        "\n",
        "---\n",
        "Let’s play with these CO2 emissions data to illustrate:"
      ]
    },
    {
      "cell_type": "code",
      "execution_count": null,
      "id": "41eb0c55",
      "metadata": {
        "lines_to_next_cell": 0,
        "message": false
      },
      "outputs": [],
      "source": [
        "## read in the data. (same URL as yesterday, with co2.csv instead of gapminder.csv)\n",
        "co2 <- read_csv(\"data/co2.csv\")\n",
        "\n",
        "## explore\n",
        "co2 |> head()\n",
        "co2 |> dim() # 12"
      ]
    },
    {
      "cell_type": "markdown",
      "id": "cdd24381",
      "metadata": {
        "lines_to_next_cell": 0
      },
      "source": [
        "---"
      ]
    },
    {
      "cell_type": "code",
      "execution_count": null,
      "id": "bd71368b",
      "metadata": {
        "lines_to_next_cell": 0
      },
      "outputs": [],
      "source": [
        "## create new variable that is only 2007 data\n",
        "gap_2007 <- gapminder |>\n",
        "  filter(year == 2007) \n",
        "gap_2007 |> dim() # 142  \n",
        "\n",
        "## left_join gap_2007 to co2\n",
        "lj <- left_join(gap_2007, co2, by = \"country\")\n",
        "\n",
        "## explore\n",
        "lj |> dim() #142\n",
        "lj |> head(3) # lots of NAs in the co2_2017 columm"
      ]
    },
    {
      "cell_type": "markdown",
      "id": "cba82fc8",
      "metadata": {
        "lines_to_next_cell": 0
      },
      "source": [
        "---"
      ]
    },
    {
      "cell_type": "code",
      "execution_count": null,
      "id": "d54185a0",
      "metadata": {
        "lines_to_next_cell": 0
      },
      "outputs": [],
      "source": [
        "## right_join gap_2007 and co2\n",
        "rj <- right_join(gap_2007, co2, by = \"country\")\n",
        "\n",
        "## explore\n",
        "rj |> dim() # 12\n",
        "rj |> head(3)"
      ]
    },
    {
      "cell_type": "markdown",
      "id": "00d9ea4d",
      "metadata": {
        "lines_to_next_cell": 0
      },
      "source": [
        "---\n",
        "### Key Points\n",
        "Data manipulation functions in `dplyr` allow you to `filter()` by rows and `select()` by columns, create new columns with `mutate()`, and `group_by()` unique column values to apply `summarize()` for new columns that define aggregate values across groupings.\n",
        "The “then” operator `|>` allows you to chain successive operations without needing to define intermediary variables for creating the most parsimonious, easily read analysis.\n",
        "\n",
        "#### Error: unexpected SPECIAL in \"`|>`\"\n",
        "If you get this error, it is probably because you have a line that starts with a pipe. The pipe should be at the end of the previous line, not the start of the current line.\n",
        "\n",
        "**Yes:**"
      ]
    },
    {
      "cell_type": "code",
      "execution_count": null,
      "id": "82c62585",
      "metadata": {},
      "outputs": [],
      "source": [
        "gap_cambodia  <- gapminder |> filter(country == \"Cambodia\") |>\n",
        "  select(-continent, -lifeExp)"
      ]
    },
    {
      "cell_type": "markdown",
      "id": "768ffbc1",
      "metadata": {
        "lines_to_next_cell": 0
      },
      "source": [
        "**No:**"
      ]
    },
    {
      "cell_type": "code",
      "execution_count": null,
      "id": "44fb5a72",
      "metadata": {
        "eval": false
      },
      "outputs": [],
      "source": [
        "gap_cambodia  <- gapminder |> filter(country == \"Cambodia\") \n",
        "  |> select(-continent, -lifeExp)\n",
        "# Error: unexpected SPECIAL in \"  |>\""
      ]
    },
    {
      "cell_type": "code",
      "execution_count": null,
      "id": "47dd3942",
      "metadata": {
        "eval": false,
        "include": false,
        "lines_to_next_cell": 0
      },
      "outputs": [],
      "source": [
        "gap_china  <- gapminder |> filter(country == \"China\") |>\n",
        "  select(-continent, -lifeExp) |> mutate(gdp = pop * gdpPercap, loggdp = log(gdp))\n",
        "gap_china |> ggplot(aes(x = year, y = gdp))+ geom_point()+\n",
        "  geom_line(col = 'red')\n",
        "gap_china |> ggplot(aes(x = year, y = loggdp))+ geom_point()+\n",
        "  geom_line(col = 'red')"
      ]
    },
    {
      "cell_type": "markdown",
      "id": "657c7fbf",
      "metadata": {
        "lines_to_next_cell": 0
      },
      "source": [
        "---\n",
        "## Data Wrangling: `tidyr`\n",
        "\n",
        "Now you have some experience working with tidy data and seeing the logic of wrangling when data are structured in a tidy way. But ‘real’ data often don’t start off in a tidy way, and require some reshaping to become tidy. The `tidyr` package is for reshaping data. You won’t use `tidyr` functions as much as you use dplyr functions, but it is incredibly powerful when you need it.\n",
        "\n",
        "Why is this important? Well, if your data are formatted in a standard way, you will be able to use analysis tools that operate on that standard way. Your analyses will be streamlined and you won’t have to reinvent the wheel every time you see data in a different.\n",
        "\n",
        "Data are often entered in a _wide_ format where each row is often a site/subject/patient and you have multiple observation variables containing the same type of data.\n",
        "---\n",
        "An example of data in a _wide_ format is the `AirPassengers` dataset which provides information on monthly airline passenger numbers from 1949-1960. You’ll notice that each row is a single year and the columns are each month Jan - Dec."
      ]
    },
    {
      "cell_type": "code",
      "execution_count": null,
      "id": "c107b292",
      "metadata": {
        "lines_to_next_cell": 0
      },
      "outputs": [],
      "source": [
        "AirPassengers"
      ]
    },
    {
      "cell_type": "markdown",
      "id": "f247f811",
      "metadata": {},
      "source": [
        "---\n",
        "This format is intuitive for data entry, but less so for data analysis. If you wanted to calculate the monthly mean, where would you put it? As another row?\n",
        "\n",
        "Often, data must be reshaped for it to become tidy data. What does that mean? There are four main verbs we’ll use, which are essentially pairs of opposites:\n",
        "\n",
        "- turn columns into rows (`gather()`),\n",
        "- turn rows into columns (`spread()`),\n",
        "- turn a character column into multiple columns (`separate()`),\n",
        "- turn multiple character columns into a single column (`unite()`)"
      ]
    },
    {
      "cell_type": "code",
      "execution_count": null,
      "id": "ca82fdbf",
      "metadata": {
        "echo": false,
        "lines_to_next_cell": 0,
        "out.height": "350px"
      },
      "outputs": [],
      "source": [
        "knitr::include_graphics('figures/rstudio-cheatsheet-spread-gather-sep-unite.png')"
      ]
    },
    {
      "cell_type": "markdown",
      "id": "5b825ac0",
      "metadata": {},
      "source": [
        "---\n",
        "### Explore gapminder dataset\n",
        "First have a look at the _wide_ format data.\n",
        "\n",
        "You can see there are a lot more columns than the version we looked at before. This format is pretty common, because it can be a lot more intuitive to enter data in this way."
      ]
    },
    {
      "cell_type": "code",
      "execution_count": null,
      "id": "11a2af4c",
      "metadata": {
        "echo": false,
        "lines_to_next_cell": 0,
        "out.height": "400px"
      },
      "outputs": [],
      "source": [
        "knitr::include_graphics('figures/gapminder_wide_gh.png')"
      ]
    },
    {
      "cell_type": "markdown",
      "id": "e931bd98",
      "metadata": {},
      "source": [
        "---\n",
        "### Setup\n",
        "We’ll learn `tidyr` in an RMarkdown file within a GitHub repository so we can practice what we’ve learned so far. You can either continue from the same RMarkdown as yesterday, or begin a new one.\n",
        "\n",
        "**Here’s what to do**:\n",
        "\n",
        "1. Clear your workspace (Session > Restart R)\n",
        "2. New File > R Markdown..., save as something other than `gapminder-wrangle.Rmd` and delete irrelevant info, or just continue using `gapminder-wrangle.Rmd`\n",
        "---\n",
        "#### load `tidyverse` (which has `tidyr` inside)\n",
        "First load `tidyr` in an R chunk. You already have installed the tidyverse, so you should be able to just load it like this (using the comment so you can run `install.packages(\"tidyverse\")` easily if need be):"
      ]
    },
    {
      "cell_type": "code",
      "execution_count": null,
      "id": "3d4c591e",
      "metadata": {
        "eval": false
      },
      "outputs": [],
      "source": [
        "library(tidyverse) # install.packages(\"tidyverse\")"
      ]
    },
    {
      "cell_type": "markdown",
      "id": "e0b3ca13",
      "metadata": {},
      "source": [
        "### `gather()` data from wide to long format"
      ]
    },
    {
      "cell_type": "code",
      "execution_count": null,
      "id": "36157a4b",
      "metadata": {
        "echo": false,
        "lines_to_next_cell": 0,
        "out.width": "400px"
      },
      "outputs": [],
      "source": [
        "knitr::include_graphics('figures/rstudio-cheatsheet-reshaping-data-gather.png')"
      ]
    },
    {
      "cell_type": "markdown",
      "id": "897f5434",
      "metadata": {
        "lines_to_next_cell": 0
      },
      "source": [
        "---\n",
        "Read in the data. Let’s also read in the gapminder data from yesterday so that we can use it to compare later on."
      ]
    },
    {
      "cell_type": "code",
      "execution_count": null,
      "id": "0bf49be4",
      "metadata": {
        "lines_to_next_cell": 0,
        "message": false
      },
      "outputs": [],
      "source": [
        "## wide format\n",
        "gap_wide <- readr::read_csv('data/gapminder_wide.csv')\n",
        "gapminder <- readr::read_csv('data/gapminder.csv')"
      ]
    },
    {
      "cell_type": "markdown",
      "id": "ca1d30cf",
      "metadata": {},
      "source": [
        "Let’s have a look:"
      ]
    },
    {
      "cell_type": "code",
      "execution_count": null,
      "id": "f1710cce",
      "metadata": {
        "lines_to_next_cell": 0
      },
      "outputs": [],
      "source": [
        "#head(gap_wide)\n",
        "str(gap_wide)"
      ]
    },
    {
      "cell_type": "markdown",
      "id": "3e405ebe",
      "metadata": {},
      "source": [
        "---\n",
        "While wide format is nice for data entry, it’s not nice for calculations. Some of the columns are a mix of variable (e.g. “gdpPercap”) and data (“1952”). What if you were asked for the mean population after 1990 in Algeria? Possible, but ugly. But we know it doesn’t need to be so ugly. Let’s tidy it back to the format we’ve been using.\n",
        "\n",
        "> Question: let’s talk this through together. If we’re trying to turn the `gap_wide` format into `gapminder` format, what structure does it have that we like? And what do we want to change?\n",
        "\n",
        "- We like the continent and country columns. We won’t want to change those.\n",
        "- We want 1 column identifying the variable name (`tidyr` calls this a **‘key’**), and 1 column for the data (`tidyr` calls this the **’value’**).\n",
        "- We actually want 3 different columns for variable: `gdpPercap`, `lifeExp`, and `pop`.\n",
        "- We would like year as a separate column.\n",
        "---\n",
        "Let’s get it to long format. We’ll have to do this in 2 steps. The first step is to take all of those column names (e.g. `lifeExp_1970`) and make them a variable in a new column, and transfer the values into another column. \n",
        "\n",
        "> Question: What is our **key-value pair**?\n",
        "\n",
        "We need to name two new variables in the key-value pair, one for the key, one for the value. It can be hard to wrap your mind around this, so let’s give it a try. Let’s name them `obstype_year` and `obs_values`.\n",
        "\n",
        "Here’s the start of what we’ll do:"
      ]
    },
    {
      "cell_type": "code",
      "execution_count": null,
      "id": "e5b35bcc",
      "metadata": {},
      "outputs": [],
      "source": [
        "gap_long <- gap_wide |> \n",
        "  gather(key   = obstype_year,\n",
        "         value = obs_values)"
      ]
    },
    {
      "cell_type": "markdown",
      "id": "4f07cd8d",
      "metadata": {},
      "source": [
        "Let's inspect our work."
      ]
    },
    {
      "cell_type": "code",
      "execution_count": null,
      "id": "d134e228",
      "metadata": {
        "lines_to_next_cell": 0
      },
      "outputs": [],
      "source": [
        "str(gap_long)"
      ]
    },
    {
      "cell_type": "markdown",
      "id": "8c531bdc",
      "metadata": {
        "lines_to_next_cell": 0
      },
      "source": [
        "---"
      ]
    },
    {
      "cell_type": "code",
      "execution_count": null,
      "id": "1a73dd17",
      "metadata": {
        "lines_to_next_cell": 0
      },
      "outputs": [],
      "source": [
        "head(gap_long)\n",
        "tail(gap_long)"
      ]
    },
    {
      "cell_type": "markdown",
      "id": "51dacb3c",
      "metadata": {
        "lines_to_next_cell": 0
      },
      "source": [
        "---\n",
        "We have reshaped our dataframe but this new format isn’t really what we wanted.\n",
        "\n",
        "What went wrong? Notice that it didn’t know that we wanted to keep `continent` and `country` untouched; we need to give it more information about which columns we want reshaped. We can do this in several ways.\n",
        "\n",
        "One way is to identify the columns is by name. Listing them explicitly can be a good approach if there are just a few. But in our case we have 30 columns. I’m not going to list them out here since there is way too much potential for error if I tried to list `gdpPercap_1952`, `gdpPercap_1957, gdpPercap_1962` and so on. But we could use some of `dplyr`’s awesome helper functions — because we expect that there is a better way to do this!"
      ]
    },
    {
      "cell_type": "code",
      "execution_count": null,
      "id": "9289a498",
      "metadata": {
        "lines_to_next_cell": 0
      },
      "outputs": [],
      "source": [
        "gap_long <- gap_wide |> \n",
        "  gather(key   = obstype_year,\n",
        "         value = obs_values,\n",
        "         dplyr::starts_with('pop'),\n",
        "         dplyr::starts_with('lifeExp'),\n",
        "         dplyr::starts_with('gdpPercap'))  #here i'm listing all the columns to use in gather\n",
        "str(gap_long)"
      ]
    },
    {
      "cell_type": "markdown",
      "id": "f88de3d4",
      "metadata": {},
      "source": [
        "---"
      ]
    },
    {
      "cell_type": "code",
      "execution_count": null,
      "id": "d0d70f4b",
      "metadata": {
        "lines_to_next_cell": 0
      },
      "outputs": [],
      "source": [
        "head(gap_long)\n",
        "tail(gap_long)"
      ]
    },
    {
      "cell_type": "markdown",
      "id": "65986ad5",
      "metadata": {},
      "source": [
        "---\n",
        "Success! And there is another way that is nice to use if your columns don’t follow such a structured pattern: you can exclude the columns you don’t want."
      ]
    },
    {
      "cell_type": "code",
      "execution_count": null,
      "id": "b752642d",
      "metadata": {
        "lines_to_next_cell": 0
      },
      "outputs": [],
      "source": [
        "gap_long <- gap_wide |> \n",
        "  gather(key   = obstype_year,\n",
        "         value = obs_values,\n",
        "         -continent, -country)\n",
        "\n",
        "str(gap_long)\n",
        "head(gap_long, 3)"
      ]
    },
    {
      "cell_type": "markdown",
      "id": "3523faaf",
      "metadata": {},
      "source": [
        "---\n",
        "To recap:\n",
        "\n",
        "Inside `gather()` we first name the new column for the new ID variable (`obstype_year`), the name for the new amalgamated observation variable (`obs_value`), then the names of the old observation variable. We could have typed out all the observation variables, but as in the `select()` function (see `dplyr` lesson), we can use the `starts_with()` argument to select all variables that starts with the desired character string. Gather also allows the alternative syntax of using the - symbol to identify which variables are not to be gathered (i.e. ID variables).\n",
        "\n",
        "OK, but we’re not done yet. `obstype_year` actually contains two pieces of information, the observation type (`pop`,`lifeExp`, or `gdpPercap`) and the year. We can use the `separate()` function to split the character strings into multiple variables.\n",
        "---\n",
        "`?separate` –> the main arguments are `separate(data, col, into, sep ...)`. So we need to specify which column we want separated, name the new columns that we want to create, and specify what we want it to separate by. Since the `obstype_year` variable has observation types and years separated by a `_`, we’ll use that."
      ]
    },
    {
      "cell_type": "code",
      "execution_count": null,
      "id": "27881f8f",
      "metadata": {
        "lines_to_next_cell": 0
      },
      "outputs": [],
      "source": [
        "gap_long <- gap_wide |> \n",
        "  gather(key   = obstype_year,\n",
        "         value = obs_values,\n",
        "         -continent, -country) |>\n",
        "  separate(obstype_year,\n",
        "           into = c('obs_type','year'),\n",
        "           sep = \"_\",\n",
        "           convert = TRUE) #this ensures that the year column is an integer rather than a character\n",
        "str(gap_long)"
      ]
    },
    {
      "cell_type": "markdown",
      "id": "189503ea",
      "metadata": {
        "lines_to_next_cell": 0
      },
      "source": [
        "Excellent. This is long format: every row is a unique observation. \n",
        "\n",
        "---\n",
        "### Plot long format data\n",
        "The long format is the preferred format for plotting with `ggplot2`. Let’s look at an example by plotting just Canada’s life expectancy."
      ]
    },
    {
      "cell_type": "code",
      "execution_count": null,
      "id": "83483d10",
      "metadata": {
        "dpi": 300,
        "fig.height": 5,
        "fig.width": 12,
        "lines_to_next_cell": 2
      },
      "outputs": [],
      "source": [
        "canada_df <- gap_long |>\n",
        "  filter(obs_type == \"lifeExp\",\n",
        "         country == \"Canada\")\n",
        "ggplot(canada_df, aes(x = year, y = obs_values)) +\n",
        "  geom_line()"
      ]
    },
    {
      "cell_type": "code",
      "execution_count": null,
      "id": "3b6ab26d",
      "metadata": {
        "eval": false,
        "include": false,
        "lines_to_next_cell": 0
      },
      "outputs": [],
      "source": [
        "cambodia_df <- gap_long |>\n",
        "  filter(obs_type == \"lifeExp\",\n",
        "         country == \"Cambodia\")\n",
        "ggplot(cambodia_df, aes(x = year, y = obs_values)) +\n",
        "  geom_line()\n",
        "\n",
        "gap_long |>\n",
        "  filter(obs_type == \"lifeExp\",\n",
        "         country == \"China\") |> \n",
        "ggplot(aes(x = year, y = obs_values)) +\n",
        "  geom_point()+\n",
        "  geom_line(col = 'blue')"
      ]
    },
    {
      "cell_type": "markdown",
      "id": "ba9349d4",
      "metadata": {
        "lines_to_next_cell": 0
      },
      "source": [
        "---\n",
        "We can also look at all countries in the Americas:"
      ]
    },
    {
      "cell_type": "code",
      "execution_count": null,
      "id": "96524be2",
      "metadata": {
        "dpi": 300,
        "fig.height": 6.5,
        "fig.width": 12,
        "lines_to_next_cell": 0
      },
      "outputs": [],
      "source": [
        "life_df <- gap_long |>\n",
        "  filter(obs_type == \"lifeExp\",\n",
        "         continent == \"Americas\")\n",
        "ggplot(life_df, aes(x = year, y = obs_values, color = country)) +\n",
        "  geom_line()"
      ]
    },
    {
      "cell_type": "markdown",
      "id": "8d8b8444",
      "metadata": {
        "lines_to_next_cell": 0
      },
      "source": [
        "---\n",
        "### Exercise\n",
        "Using `gap_long`, calculate and plot the the mean life expectancy for each continent over time from 1982 to 2007. Give your plot a title and assign x and y labels. Hint: do this in two steps. First, do the logic and calculations using `dplyr::group_by()` and `dplyr::summarize()`. Second, plot using `ggplot()`."
      ]
    },
    {
      "cell_type": "code",
      "execution_count": null,
      "id": "5996487a",
      "metadata": {
        "eval": false,
        "include": false,
        "lines_to_next_cell": 0
      },
      "outputs": [],
      "source": [
        "continents <- gap_long |> \n",
        "  filter(obs_type == \"lifeExp\", \n",
        "         year > 1980) |> \n",
        "  group_by(continent, year) |> \n",
        "  summarize(mean_le = mean(obs_values)) |>\n",
        "  ungroup()\n",
        "\n",
        "ggplot(data = continents, aes(x = year, y = mean_le, color = continent)) + \n",
        "  geom_line() +\n",
        "  labs(title = \"Mean life expectancy\",\n",
        "       x = \"Year\",\n",
        "       y = \"Age (years)\") \n",
        "\n",
        "## Additional customization\n",
        "ggplot(data = continents, aes(x = year, y = mean_le, color = continent)) + \n",
        "  geom_line() +\n",
        "  labs(title = \"Mean life expectancy\",\n",
        "       x = \"Year\",\n",
        "       y = \"Age (years)\",\n",
        "       color = \"Continent\") +\n",
        "  theme_classic() +\n",
        "  scale_fill_brewer(palette = \"Blues\")   "
      ]
    },
    {
      "cell_type": "markdown",
      "id": "c0d37e8f",
      "metadata": {},
      "source": [
        "---\n",
        "### `spread()`\n",
        "The function `spread()` is used to transform data from long to wide format\n",
        "\n",
        "Alright! Now just to double-check our work, let’s use the opposite of `gather()` to spread our observation variables back to the original format with the aptly named `spread()`. You pass `spread()` the key and value pair, which is now `obs_type` and `obs_values`."
      ]
    },
    {
      "cell_type": "code",
      "execution_count": null,
      "id": "80af4853",
      "metadata": {
        "echo": false,
        "out.width": "400px"
      },
      "outputs": [],
      "source": [
        "knitr::include_graphics('figures/rstudio-cheatsheet-reshaping-data-spread.png')"
      ]
    },
    {
      "cell_type": "code",
      "execution_count": null,
      "id": "9e63e959",
      "metadata": {
        "lines_to_next_cell": 2
      },
      "outputs": [],
      "source": [
        "gap_normal <- gap_long |> \n",
        "  spread(obs_type, obs_values)"
      ]
    },
    {
      "cell_type": "code",
      "execution_count": null,
      "id": "7f8e06d3",
      "metadata": {
        "eval": false,
        "include": false
      },
      "outputs": [],
      "source": [
        "canada_df <- gap_normal |>\n",
        "  filter(country == \"Canada\") \n",
        "ggplot(canada_df, aes(x = gdpPercap, y = lifeExp)) +\n",
        "  geom_point()"
      ]
    },
    {
      "cell_type": "markdown",
      "id": "51057f10",
      "metadata": {
        "lines_to_next_cell": 0
      },
      "source": [
        "---"
      ]
    },
    {
      "cell_type": "code",
      "execution_count": null,
      "id": "f8ff276d",
      "metadata": {
        "lines_to_next_cell": 0
      },
      "outputs": [],
      "source": [
        "dim(gap_normal)\n",
        "dim(gapminder)\n",
        "names(gap_normal)\n",
        "names(gapminder)"
      ]
    },
    {
      "cell_type": "markdown",
      "id": "4cd796d9",
      "metadata": {
        "lines_to_next_cell": 0
      },
      "source": [
        "Now we’ve got a dataframe `gap_normal` with the same dimensions as the original `gapminder`.\n",
        "---\n",
        "### Exercise\n",
        "1. Convert `gap_long` all the way back to `gap_wide`. Hint: Do this in 2 steps. First, create appropriate labels for all our new variables (variable_year combinations) with the opposite of separate: `tidyr::unite()`. Second, `spread()` that variable_year column into wider format."
      ]
    },
    {
      "cell_type": "code",
      "execution_count": null,
      "id": "d255e15d",
      "metadata": {
        "eval": false,
        "include": false,
        "lines_to_next_cell": 0
      },
      "outputs": [],
      "source": [
        "head(gap_long) # remember the columns\n",
        "\n",
        "gap_wide_new <- gap_long |> \n",
        "  # first unite obs_type and year into a new column called var_names. Separate by _\n",
        "  unite(col = var_names, obs_type, year, sep = \"_\") |> \n",
        "  # then spread var_names out by key-value pair.\n",
        "  spread(key = var_names, value = obs_values)\n",
        "str(gap_wide_new)"
      ]
    },
    {
      "cell_type": "markdown",
      "id": "04a06b08",
      "metadata": {
        "lines_to_next_cell": 0
      },
      "source": [
        "2. Knit the R Markdown file and sync to Github (pull, stage, commit, push)\n",
        "\n",
        "### clean up and save your .Rmd\n",
        "Spend some time cleaning up and saving `gapminder-wrangle.Rmd` Restart R. In RStudio, use _Session > Restart R_. Otherwise, quit R with `q()` and re-launch it.\n",
        "\n",
        "---\n",
        "### Is there a relationship between life expectancy and GDP per capita?\n",
        "\n",
        "Let's use the gapminder data to answer this question. To try and answer it we will make a scatterplot. We will do this for the latest entry in the dataset which is:"
      ]
    },
    {
      "cell_type": "code",
      "execution_count": null,
      "id": "fe7ded8c",
      "metadata": {
        "lines_to_next_cell": 0
      },
      "outputs": [],
      "source": [
        "max( gapminder$year )"
      ]
    },
    {
      "cell_type": "code",
      "execution_count": null,
      "id": "ef11d353",
      "metadata": {
        "eval": false,
        "lines_to_next_cell": 0
      },
      "outputs": [],
      "source": [
        "gapminder |> filter(year==2007) |> \n",
        "  ggplot(aes(x = gdpPercap, y = lifeExp))+ \n",
        "  geom_point()+\n",
        "  labs(x = \"GDP per Capita\", \n",
        "       y = \"Life Expectancy\", \n",
        "       title = \"Data from Gapminder\") "
      ]
    },
    {
      "cell_type": "markdown",
      "id": "b477a348",
      "metadata": {
        "lines_to_next_cell": 0
      },
      "source": [
        "---"
      ]
    },
    {
      "cell_type": "code",
      "execution_count": null,
      "id": "daecf6d3",
      "metadata": {
        "echo": false,
        "lines_to_next_cell": 0,
        "out.width": "750px"
      },
      "outputs": [],
      "source": [
        "knitr::include_graphics('figures/gap07.png')"
      ]
    },
    {
      "cell_type": "markdown",
      "id": "14a6151d",
      "metadata": {
        "lines_to_next_cell": 0
      },
      "source": [
        "---\n",
        "From this plot, we see that there is a wide variability in life expectancy for the lower income countries and then somewhat of a positive trend. However, there are many countries with incomes below 5,000 dollars per person and it is hard to see differences between these.\n",
        "\n",
        "We can examine just this variable with a histogram. "
      ]
    },
    {
      "cell_type": "code",
      "execution_count": null,
      "id": "9bfbc341",
      "metadata": {
        "dpi": 300,
        "fig.height": 5,
        "fig.width": 12,
        "lines_to_next_cell": 0
      },
      "outputs": [],
      "source": [
        "gapminder |> \n",
        "    filter(year==2007) |> \n",
        "    ggplot(aes(x=gdpPercap)) + geom_histogram()"
      ]
    },
    {
      "cell_type": "markdown",
      "id": "d1ab4656",
      "metadata": {
        "lines_to_next_cell": 0
      },
      "source": [
        "---\n",
        "The histogram shows very large tails. We may do better by transforming the data. For data like this, the log transformation seems to work well. It also has a nice economic interpretation related to percent growth: in $\\log_{10}$ a change of 1 means the country is 10 times richer.\n",
        "\n",
        "So how do we make the x-axis in the log scale? It is convenient to have this cheat sheet around when using `ggplot2`. From there we see that `scale_x_log10` does what we want."
      ]
    },
    {
      "cell_type": "code",
      "execution_count": null,
      "id": "713c2160",
      "metadata": {
        "dpi": 300,
        "fig.height": 4.5,
        "fig.width": 12,
        "lines_to_next_cell": 0
      },
      "outputs": [],
      "source": [
        "gapminder |> \n",
        "    filter(year==2007) |> \n",
        "    ggplot(aes(x=gdpPercap)) + \n",
        "    geom_histogram(bins=25) + scale_x_log10()"
      ]
    },
    {
      "cell_type": "markdown",
      "id": "dc0e41a2",
      "metadata": {},
      "source": [
        "---\n",
        "We no longer see extreme tails. The scatter plot now looks much more informative:\n",
        "\n",
        "Now we can remake the scatter plot but now make sure the x-axis is in a log-scale."
      ]
    },
    {
      "cell_type": "code",
      "execution_count": null,
      "id": "78e2efd6",
      "metadata": {
        "dpi": 300,
        "fig.height": 5.5,
        "fig.width": 12,
        "lines_to_next_cell": 0
      },
      "outputs": [],
      "source": [
        "gapminder |> \n",
        "    filter(year==2007) |> \n",
        "    ggplot(aes(x=gdpPercap, y = lifeExp)) +\n",
        "    geom_point() + scale_x_log10()"
      ]
    },
    {
      "cell_type": "markdown",
      "id": "6c05d1dc",
      "metadata": {
        "lines_to_next_cell": 0
      },
      "source": [
        "---\n",
        "We can also use other really great packages, such as `ggrepel`:"
      ]
    },
    {
      "cell_type": "code",
      "execution_count": null,
      "id": "a5a01a4e",
      "metadata": {
        "eval": false,
        "lines_to_next_cell": 0
      },
      "outputs": [],
      "source": [
        "library(ggrepel)\n",
        "gapminder |> \n",
        "    filter(year==2007) |> \n",
        "    ggplot(aes(x=gdpPercap, y = lifeExp)) +\n",
        "    geom_point(color = 'red',) + scale_x_log10() + \n",
        "    geom_text_repel(aes(label = country), size = 2) +\n",
        "  theme_classic() "
      ]
    },
    {
      "cell_type": "markdown",
      "id": "7e3f18b0",
      "metadata": {
        "lines_to_next_cell": 0
      },
      "source": [
        "---"
      ]
    },
    {
      "cell_type": "code",
      "execution_count": null,
      "id": "2dab8883",
      "metadata": {
        "echo": false,
        "lines_to_next_cell": 0,
        "out.height": "550px"
      },
      "outputs": [],
      "source": [
        "knitr::include_graphics('figures/gap07_repel.png')"
      ]
    },
    {
      "cell_type": "markdown",
      "id": "3d12a81f",
      "metadata": {},
      "source": [
        "\n"
      ]
    }
  ],
  "metadata": {
    "jupytext": {
      "cell_metadata_filter": "name,tags,fig.height,echo,include,out.height,message,eval,out.width,dpi,fig.width,-all",
      "main_language": "R",
      "notebook_metadata_filter": "-all"
    },
    "kernelspec": {
      "name": "ir",
      "display_name": "R",
      "language": "R"
    },
    "language_info": {
      "name": "R"
    }
  },
  "nbformat": 4,
  "nbformat_minor": 5
}