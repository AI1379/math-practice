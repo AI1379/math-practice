{
  "cells": [
    {
      "cell_type": "raw",
      "id": "1a223f8b",
      "metadata": {},
      "source": [
        "---\n",
        "title: \"Data Science with R\"\n",
        "subtitle: \"Visualization: ggplot2\"\n",
        "author: \"Peng Zhang\"\n",
        "institute: \"School of Mathematical Sciences, Zhejiang Universtiy\"\n",
        "date: \"2025/06/27\"\n",
        "output:\n",
        "  xaringan::moon_reader:\n",
        "    lib_dir: libs\n",
        "    nature:\n",
        "      highlightStyle: github\n",
        "      highlightLines: true\n",
        "      countIncrementalSlides: false\n",
        "---"
      ]
    },
    {
      "cell_type": "code",
      "execution_count": null,
      "id": "97ff8488",
      "metadata": {
        "lines_to_next_cell": 0,
        "name": "setup",
        "tags": [
          "remove_cell"
        ],
        "vscode": {
          "languageId": "r"
        }
      },
      "outputs": [],
      "source": [
        "options(htmltools.dir.version = FALSE)\n",
        "library(tidyverse)\n",
        "# source('xaringan2pdf.R')\n",
        "# xaringan_to_pdf('Chapter3.html')\n"
      ]
    },
    {
      "cell_type": "markdown",
      "id": "e33cc4e1",
      "metadata": {
        "lines_to_next_cell": 0
      },
      "source": [
        "### Objectives\n",
        "\n",
        "Why do we start with data visualization? Not only is data viz a big part of analysis, it’s a way to SEE your progress as you learn to code.\n",
        "\n",
        "> “ggplot2 implements the grammar of graphics, a coherent system for describing and building graphs. With ggplot2, you can do more faster by learning one system and applying it in many places.” **- R4DS**\n",
        "\n",
        "- install our first package, `ggplot2`, by installing `tidyverse`\n",
        "- learn ggplot2 with a national parks visitation dataset (important to play with other data than your own, you’ll learn something.)\n",
        "- practice writing a script in RMarkdown\n",
        "- practice the rstudio-github workflow\n",
        "\n",
        "---\n",
        "### Install package: `tidyverse`\n",
        "\n",
        "You don’t need to go to CRAN’s website to install packages, we can do it from within R with the command `install.packages(\"package-name-in-quotes\")`.\n",
        "\n",
        "We are going to be using the package `ggplot2`, which is actually bundled into a huge package called `tidyverse`. We will install `tidyverse` now, and use a few functions from the packages within. Also, check out tidyverse.org/."
      ]
    },
    {
      "cell_type": "code",
      "execution_count": null,
      "id": "217330e1",
      "metadata": {
        "vscode": {
          "languageId": "r"
        }
      },
      "outputs": [],
      "source": [
        "## from CRAN:\n",
        "# install.packages(\"tidyverse\") ## do this once only to install the package on your computer."
      ]
    },
    {
      "cell_type": "code",
      "execution_count": null,
      "id": "cc8fb67b",
      "metadata": {
        "lines_to_next_cell": 0,
        "vscode": {
          "languageId": "r"
        }
      },
      "outputs": [],
      "source": [
        "library(tidyverse) ## do this every time you restart R and need it "
      ]
    },
    {
      "cell_type": "markdown",
      "id": "2be10dbf",
      "metadata": {
        "lines_to_next_cell": 0
      },
      "source": [
        "---\n",
        "When you do this, it will tell you which packages are inside of `tidyverse` that have also been installed. Note that there are a few name conflicts; it is alerting you that we’ll be using two functions from `dplyr` instead of the built-in stats package.\n",
        "\n",
        "What’s the difference between `install.packages()` and `library()`? Why do you need both? Here’s an analogy:\n",
        "\n",
        "- `install.packages()` is setting up electricity for your house. Just need to do this once (let’s ignore monthly bills).\n",
        "- `library()` is turning on the lights. You only turn them on when you need them, otherwise it wouldn’t be efficient. And when you quit R, it turns the lights off, but the electricity lines are still there. So when you come back, you’ll have to turn them on again with `library()`, but you already have your electricity set up.\n",
        "\n",
        "---\n",
        "### Load data\n",
        "Copy and paste the code chunk below and read it in to your RStudio to load the five datasets we will use in this section. "
      ]
    },
    {
      "cell_type": "code",
      "execution_count": null,
      "id": "4dd79554",
      "metadata": {
        "lines_to_next_cell": 0,
        "message": false,
        "vscode": {
          "languageId": "r"
        }
      },
      "outputs": [],
      "source": [
        "#National Parks in California\n",
        "ca <- read_csv(\"data/ca.csv\") \n",
        "\n",
        "#Acadia National Park\n",
        "acadia <- read_csv(\"data/acadia.csv\")\n",
        "\n",
        "#Southeast US National Parks\n",
        "se <- read_csv(\"data/se.csv\")\n",
        "\n",
        "#2016 Visitation for all Pacific West National Parks\n",
        "visit_16 <- read_csv(\"data/visit_16.csv\")\n",
        "\n",
        "#All Nationally designated sites in Massachusetts\n",
        "mass <- read_csv(\"data/mass.csv\")"
      ]
    },
    {
      "cell_type": "markdown",
      "id": "b527ef52",
      "metadata": {
        "lines_to_next_cell": 0
      },
      "source": [
        "---\n",
        "### Plotting with `ggplot2`\n",
        "\n",
        "`ggplot2` is a plotting package that makes it simple to create complex plots from data in a data frame. It provides a more programmatic interface for specifying what variables to plot, how they are displayed, and general visual properties. Therefore, we only need minimal changes if the underlying data change or if we decide to change from a bar plot to a scatterplot. This helps in creating publication quality plots with minimal amounts of adjustments and tweaking.\n",
        "\n",
        "ggplot likes data in the ‘long’ format: i.e., a column for every dimension, and a row for every observation. Well structured data will save you lots of time when making figures with ggplot.\n",
        "\n",
        "ggplot graphics are built step by step by adding new elements. Adding layers in this fashion allows for extensive flexibility and customization of plots.\n",
        "---\n",
        "### What does ggplot2 stand for?\n",
        "#### A Grammar of Graphics!\n",
        "```\n",
        "ggplot(data = <DATA>) + \n",
        "  <GEOM_FUNCTION>(\n",
        "     mapping = aes(<MAPPINGS>),\n",
        "     stat = <STAT>, \n",
        "     position = <POSITION>\n",
        "  ) +\n",
        "  <COORDINATE_FUNCTION> +\n",
        "  <FACET_FUNCTION>\n",
        "```\n",
        "\n",
        "**You can uniquely describe any plot as a combination of these 7 parameters.**\n",
        "\n",
        "---"
      ]
    },
    {
      "cell_type": "code",
      "execution_count": null,
      "id": "b0f7efd6",
      "metadata": {
        "echo": false,
        "lines_to_next_cell": 0,
        "out.height": "600px",
        "vscode": {
          "languageId": "r"
        }
      },
      "outputs": [],
      "source": [
        "knitr::include_graphics('figures/rstudio-cheatsheet-ggplot.png')"
      ]
    },
    {
      "cell_type": "markdown",
      "id": "884d2ce1",
      "metadata": {
        "lines_to_next_cell": 0
      },
      "source": [
        "---\n",
        "### Data\n",
        "We are going to use a National Park visitation dataset (from the National Park Service at https://irma.nps.gov/Stats/SSRSReports). Read in the data using `read_csv` and take a look at the first few rows using `head()` or `View()`."
      ]
    },
    {
      "cell_type": "code",
      "execution_count": null,
      "id": "28030a9e",
      "metadata": {
        "lines_to_next_cell": 0,
        "vscode": {
          "languageId": "r"
        }
      },
      "outputs": [],
      "source": [
        "head(ca)"
      ]
    },
    {
      "cell_type": "markdown",
      "id": "1fc590a8",
      "metadata": {
        "lines_to_next_cell": 0
      },
      "source": [
        "---\n",
        "This dataframe is already in a _long_ format where all rows are an observation and all columns are variables. Among the variables in `ca` are:\n",
        "\n",
        "1. `region`, US region where park is located.\n",
        "\n",
        "2. `visitors`, the annual visitation for each `year`\n",
        "\n",
        "To build a ggplot, we need to:\n",
        "\n",
        "- use the `ggplot()` function and bind the plot to a specific data frame using the `data` argument"
      ]
    },
    {
      "cell_type": "code",
      "execution_count": null,
      "id": "a6705542",
      "metadata": {
        "eval": false,
        "lines_to_next_cell": 0,
        "vscode": {
          "languageId": "r"
        }
      },
      "outputs": [],
      "source": [
        "ggplot(data = ca)"
      ]
    },
    {
      "cell_type": "markdown",
      "id": "4d7caa2f",
      "metadata": {
        "lines_to_next_cell": 0
      },
      "source": [
        "- add `geoms` – graphical representation of the data in the plot (points, lines, bars). **ggplot2** offers many different geoms; we will use some common ones today, including:  `geom_point()` for scatter plots, dot plots, etc.  `geom_bar()` for bar charts  `geom_line()` for trend lines, time-series, etc.\n",
        "---\n",
        "To add a geom to the plot use `+` operator. Because we have two continuous variables,\n",
        "let’s use `geom_point()` first and then assign `x` and `y` aesthetics (`aes`):"
      ]
    },
    {
      "cell_type": "code",
      "execution_count": null,
      "id": "2f538d2a",
      "metadata": {
        "eval": false,
        "lines_to_next_cell": 0,
        "vscode": {
          "languageId": "r"
        }
      },
      "outputs": [],
      "source": [
        "ggplot(data = ca) +\n",
        "  geom_point(aes(x = year, y = visitors))"
      ]
    },
    {
      "cell_type": "code",
      "execution_count": null,
      "id": "4411b2d0",
      "metadata": {
        "echo": false,
        "out.height": "420px",
        "vscode": {
          "languageId": "r"
        }
      },
      "outputs": [],
      "source": [
        "knitr::include_graphics('figures/ca_bw.png')"
      ]
    },
    {
      "cell_type": "markdown",
      "id": "be5287e1",
      "metadata": {},
      "source": [
        "---\n",
        "#### Notes:"
      ]
    },
    {
      "cell_type": "markdown",
      "id": "6da39550",
      "metadata": {},
      "source": [
        "- Anything you put in the `ggplot()` function can be seen by any geom layers that you add (i.e., these are universal plot settings). This includes the x and y axis you set up in `aes()`.\n",
        "\n",
        "- You can also specify aesthetics for a given geom independently of the aesthetics defined globally in the `ggplot()` function.\n",
        "\n",
        "- The `+` sign used to add layers must be placed at the end of each line containing a layer. If, instead, the `+` sign is added in the line before the other layer, **ggplot2** will not add the new layer and will return an error message."
      ]
    },
    {
      "cell_type": "markdown",
      "id": "6b623d31",
      "metadata": {
        "lines_to_next_cell": 0
      },
      "source": [
        "> **STOP: let’s Commit, Pull and Push to GitHub**\n",
        "\n",
        "---\n",
        "### Building your plots iteratively\n",
        "Building plots with ggplot is typically an iterative process. We start by defining the dataset we’ll use, lay the axes. We can distinguish each park by added the color argument to the aes:"
      ]
    },
    {
      "cell_type": "code",
      "execution_count": null,
      "id": "e7c4a89c",
      "metadata": {
        "eval": false,
        "lines_to_next_cell": 0,
        "vscode": {
          "languageId": "r"
        }
      },
      "outputs": [],
      "source": [
        "ggplot(data = ca) +\n",
        "    geom_point(aes(x = year, y = visitors, color = park_name))"
      ]
    },
    {
      "cell_type": "code",
      "execution_count": null,
      "id": "415e3bff",
      "metadata": {
        "echo": false,
        "lines_to_next_cell": 0,
        "out.height": "350px",
        "vscode": {
          "languageId": "r"
        }
      },
      "outputs": [],
      "source": [
        "knitr::include_graphics('figures/ca_col.png')"
      ]
    },
    {
      "cell_type": "markdown",
      "id": "49f3fa7c",
      "metadata": {
        "lines_to_next_cell": 0
      },
      "source": [
        "---\n",
        "### Customizing plots\n",
        "Take a look at the **ggplot2** cheat sheet, and think of ways you could improve the plot.\n",
        "\n",
        "Now, let’s capitalize the x and y axis labels and add a main title to the figure. I also like to remove that standard gray background using a different `theme`. Many themes come built into the `ggplot2` package. My preference is `theme_bw()` but once you start typing `theme_` a list of options will pop up. The last thing I’m going to do is remove the legend title."
      ]
    },
    {
      "cell_type": "code",
      "execution_count": null,
      "id": "f350e5ac",
      "metadata": {
        "eval": false,
        "lines_to_next_cell": 0,
        "vscode": {
          "languageId": "r"
        }
      },
      "outputs": [],
      "source": [
        "ggplot(data = ca) +\n",
        "    geom_point(aes(x = year, y = visitors, color = park_name)) +\n",
        "    labs(x = \"Year\",\n",
        "       y = \"Visitation\",\n",
        "       title = \"California National Park Visitation\") +\n",
        "    theme_bw() +\n",
        "    theme(legend.title=element_blank())"
      ]
    },
    {
      "cell_type": "markdown",
      "id": "6942f1cb",
      "metadata": {
        "lines_to_next_cell": 0
      },
      "source": [
        "---"
      ]
    },
    {
      "cell_type": "code",
      "execution_count": null,
      "id": "7ffe6c4f",
      "metadata": {
        "echo": false,
        "lines_to_next_cell": 0,
        "out.height": "600px",
        "vscode": {
          "languageId": "r"
        }
      },
      "outputs": [],
      "source": [
        "knitr::include_graphics('figures/ca_th.png')"
      ]
    },
    {
      "cell_type": "markdown",
      "id": "19c85efd",
      "metadata": {
        "lines_to_next_cell": 0
      },
      "source": [
        "---\n",
        "### ggplot2 themes\n",
        "In addition to `theme_bw()`, which changes the plot background to white, **ggplot2** comes with several other themes which can be useful to quickly change the look of your visualization.\n",
        "\n",
        "The `ggthemes` package provides a wide variety of options (including an Excel 2003 theme). The **ggplot2** extensions website provides a list of packages that extend the capabilities of **ggplot2**, including additional themes.\n",
        "---\n",
        "### Exercise (10 min)\n",
        "1. Using the `se` dataset, make a scatterplot showing visitation to all national parks in the Southeast region with color identifying individual parks.\n",
        "\n",
        "2. Change the plot so that color indicates `state`.\n",
        "\n",
        "3. Customize by adding your own title and theme. You can also change the text sizes and angles. Try applying a 45 degree angle to the x-axis. Use your cheatsheet!\n",
        "\n",
        "4. In the code below, why isn’t the data showing up?"
      ]
    },
    {
      "cell_type": "code",
      "execution_count": null,
      "id": "469262e5",
      "metadata": {
        "eval": false,
        "lines_to_next_cell": 0,
        "vscode": {
          "languageId": "r"
        }
      },
      "outputs": [],
      "source": [
        "ggplot(data = se, aes(x = year, y = visitors))"
      ]
    },
    {
      "cell_type": "markdown",
      "id": "ccf2405e",
      "metadata": {
        "lines_to_next_cell": 0
      },
      "source": [
        "---\n",
        "### Faceting\n",
        "ggplot has a special technique called _faceting_ that allows the user to split one plot into multiple plots based on data in the dataset. We will use it to make a plot of park visitation by state:"
      ]
    },
    {
      "cell_type": "code",
      "execution_count": null,
      "id": "fbddfeec",
      "metadata": {
        "eval": false,
        "lines_to_next_cell": 0,
        "vscode": {
          "languageId": "r"
        }
      },
      "outputs": [],
      "source": [
        "ggplot(data = se) +\n",
        "    geom_point(aes(x = year, y = visitors)) +\n",
        "    facet_wrap(~ state)"
      ]
    },
    {
      "cell_type": "code",
      "execution_count": null,
      "id": "f111f1eb",
      "metadata": {
        "echo": false,
        "lines_to_next_cell": 0,
        "out.height": "350px",
        "vscode": {
          "languageId": "r"
        }
      },
      "outputs": [],
      "source": [
        "knitr::include_graphics('figures/se_fac.png')"
      ]
    },
    {
      "cell_type": "markdown",
      "id": "3d7889bb",
      "metadata": {
        "lines_to_next_cell": 0
      },
      "source": [
        "---\n",
        "We can now make the faceted plot by splitting further by park using park_name (within a single plot):"
      ]
    },
    {
      "cell_type": "code",
      "execution_count": null,
      "id": "1e3b8ac9",
      "metadata": {
        "eval": false,
        "lines_to_next_cell": 0,
        "vscode": {
          "languageId": "r"
        }
      },
      "outputs": [],
      "source": [
        "ggplot(data = se) +\n",
        "     geom_point(aes(x = year, y = visitors, color = park_name)) +\n",
        "     facet_wrap(~ state, scales = \"free\")"
      ]
    },
    {
      "cell_type": "code",
      "execution_count": null,
      "id": "8a6ae946",
      "metadata": {
        "echo": false,
        "out.height": "450px",
        "vscode": {
          "languageId": "r"
        }
      },
      "outputs": [],
      "source": [
        "knitr::include_graphics('figures/se_col.png')"
      ]
    },
    {
      "cell_type": "markdown",
      "id": "8ea847e8",
      "metadata": {
        "lines_to_next_cell": 0
      },
      "source": [
        "---\n",
        "### Geometric objects (geoms)\n",
        "A **geom** is the geometrical object that a plot uses to represent data. People often describe plots by the type of geom that the plot uses. For example, bar charts use bar geoms, line charts use line geoms, boxplots use boxplot geoms, and so on. Scatterplots break the trend; they use the point geom. You can use different geoms to plot the same data. To change the geom in your plot, change the geom function that you add to `ggplot()`. Let’s look at a few ways of viewing the distribution of annual visitation (`visitors`) for each park (`park_name`)."
      ]
    },
    {
      "cell_type": "code",
      "execution_count": null,
      "id": "b340aabd",
      "metadata": {
        "eval": false,
        "lines_to_next_cell": 0,
        "vscode": {
          "languageId": "r"
        }
      },
      "outputs": [],
      "source": [
        "ggplot(data = se) + \n",
        "  geom_jitter(aes(x = park_name, y = visitors, color = park_name), \n",
        "              width = 0.1, \n",
        "              alpha = 0.4) +\n",
        "  coord_flip() +\n",
        "  theme(legend.position = \"none\") "
      ]
    },
    {
      "cell_type": "markdown",
      "id": "5373b2dd",
      "metadata": {
        "lines_to_next_cell": 0
      },
      "source": [
        "---"
      ]
    },
    {
      "cell_type": "code",
      "execution_count": null,
      "id": "e7c9b67a",
      "metadata": {
        "echo": false,
        "lines_to_next_cell": 0,
        "out.height": "600px",
        "vscode": {
          "languageId": "r"
        }
      },
      "outputs": [],
      "source": [
        "knitr::include_graphics('figures/se_ji.png')"
      ]
    },
    {
      "cell_type": "markdown",
      "id": "2ea29b04",
      "metadata": {
        "lines_to_next_cell": 0
      },
      "source": [
        "---"
      ]
    },
    {
      "cell_type": "code",
      "execution_count": null,
      "id": "01eb366a",
      "metadata": {
        "eval": false,
        "lines_to_next_cell": 0,
        "vscode": {
          "languageId": "r"
        }
      },
      "outputs": [],
      "source": [
        "ggplot(se, aes(x = park_name, y = visitors)) + \n",
        "  geom_boxplot() +\n",
        "  theme(axis.text.x = element_text(angle = 45, hjust = 1))"
      ]
    },
    {
      "cell_type": "code",
      "execution_count": null,
      "id": "b195738e",
      "metadata": {
        "echo": false,
        "lines_to_next_cell": 0,
        "out.height": "500px",
        "vscode": {
          "languageId": "r"
        }
      },
      "outputs": [],
      "source": [
        "knitr::include_graphics('figures/se_box.png')"
      ]
    },
    {
      "cell_type": "markdown",
      "id": "2486dc29",
      "metadata": {
        "lines_to_next_cell": 0
      },
      "source": [
        "---\n",
        "None of these are great for visualizing data over time. We can use `geom_line()` in the same way we used `geom_point`."
      ]
    },
    {
      "cell_type": "code",
      "execution_count": null,
      "id": "25b25286",
      "metadata": {
        "eval": false,
        "vscode": {
          "languageId": "r"
        }
      },
      "outputs": [],
      "source": [
        "ggplot(se, aes(x = year, y = visitors, color = park_name)) +\n",
        "   geom_line()"
      ]
    },
    {
      "cell_type": "code",
      "execution_count": null,
      "id": "f7a7aa2a",
      "metadata": {
        "echo": false,
        "lines_to_next_cell": 0,
        "out.height": "500px",
        "vscode": {
          "languageId": "r"
        }
      },
      "outputs": [],
      "source": [
        "knitr::include_graphics('figures/se_line.png')"
      ]
    },
    {
      "cell_type": "markdown",
      "id": "4ea33cf0",
      "metadata": {
        "lines_to_next_cell": 0
      },
      "source": [
        "---\n",
        "**ggplot2** provides over 30 geoms, and extension packages provide even more (see https://www.ggplot2-exts.org for a sampling). The best way to get a comprehensive overview is the ggplot2 cheatsheet. To learn more about any single geom, use help: `?geom_smooth`.\n",
        "\n",
        "To display multiple geoms in the same plot, add multiple geom functions to `ggplot()`:\n",
        "\n",
        "`geom_smooth` allows you to view a smoothed mean of data. Here we look at the smooth mean of visitation over time to Acadia National Park:"
      ]
    },
    {
      "cell_type": "code",
      "execution_count": null,
      "id": "2abda2ec",
      "metadata": {
        "eval": false,
        "lines_to_next_cell": 0,
        "vscode": {
          "languageId": "r"
        }
      },
      "outputs": [],
      "source": [
        "ggplot(data = acadia) + \n",
        "  geom_point(aes(x = year, y = visitors)) +\n",
        "  geom_line(aes(x = year, y = visitors)) +\n",
        "  geom_smooth(aes(x = year, y = visitors)) +\n",
        "  labs(title = \"Acadia National Park Visitation\",\n",
        "       y = \"Visitation\",\n",
        "       x = \"Year\") +\n",
        "  theme_bw()"
      ]
    },
    {
      "cell_type": "markdown",
      "id": "5bd5b8f1",
      "metadata": {
        "lines_to_next_cell": 0
      },
      "source": [
        "---"
      ]
    },
    {
      "cell_type": "code",
      "execution_count": null,
      "id": "7f7a64d3",
      "metadata": {
        "echo": false,
        "lines_to_next_cell": 0,
        "out.height": "560px",
        "vscode": {
          "languageId": "r"
        }
      },
      "outputs": [],
      "source": [
        "knitr::include_graphics('figures/ac_smooth.png')"
      ]
    },
    {
      "cell_type": "markdown",
      "id": "c565f4e1",
      "metadata": {
        "lines_to_next_cell": 0
      },
      "source": [
        "---\n",
        "### Bar charts\n",
        "Next, let’s take a look at a bar chart. Bar charts seem simple, but they are interesting because they reveal something subtle about plots. Consider a basic bar chart, as drawn with geom_bar(). The following chart displays the total number of parks in each state within the Pacific West region."
      ]
    },
    {
      "cell_type": "code",
      "execution_count": null,
      "id": "0e4c7106",
      "metadata": {
        "eval": false,
        "lines_to_next_cell": 0,
        "vscode": {
          "languageId": "r"
        }
      },
      "outputs": [],
      "source": [
        "ggplot(data = visit_16, aes(x = state)) + \n",
        "  geom_bar()"
      ]
    },
    {
      "cell_type": "code",
      "execution_count": null,
      "id": "9c04c31a",
      "metadata": {
        "echo": false,
        "lines_to_next_cell": 0,
        "out.height": "350px",
        "vscode": {
          "languageId": "r"
        }
      },
      "outputs": [],
      "source": [
        "knitr::include_graphics('figures/vi_bar.png')"
      ]
    },
    {
      "cell_type": "markdown",
      "id": "eb77fe93",
      "metadata": {
        "lines_to_next_cell": 0
      },
      "source": [
        "---\n",
        "On the x-axis, the chart displays state, a variable from `visit_16`. On the y-axis, it displays count, but count is not a variable in `visit_16`! Where does count come from? Many graphs, like scatterplots, plot the raw values of your dataset. Other graphs, like bar charts, calculate new values to plot:\n",
        "\n",
        "- bar charts, histograms, and frequency polygons bin your data and then plot bin counts, the number of points that fall in each bin.\n",
        "\n",
        "- smoothers fit a model to your data and then plot predictions from the model.\n",
        "\n",
        "- boxplots compute a robust summary of the distribution and then display a specially formatted box.\n",
        "\n",
        "The algorithm used to calculate new values for a graph is called a **stat**, short for statistical transformation.\n",
        "---\n",
        "You can learn which stat a geom uses by inspecting the default value for the stat argument. For example, `?geom_bar` shows that the default value for stat is “count”, which means that `geom_bar()` uses `stat_count()`. `stat_count()` is documented on the same page as `geom_bar()`, and if you scroll down you can find a section called “Computed variables”. That describes how it computes two new variables: count and prop.\n",
        "\n",
        "**ggplot2** provides over 20 stats for you to use. Each stat is a function, so you can get help in the usual way, e.g. `?stat_bin`. To see a complete list of stats, try the ggplot2 cheatsheet.\n",
        "\n",
        "---\n",
        "### Position adjustments\n",
        "There’s one more piece of magic associated with bar charts. You can colour a bar chart using either the `color` aesthetic, or, more usefully, `fill`:"
      ]
    },
    {
      "cell_type": "code",
      "execution_count": null,
      "id": "dc269abc",
      "metadata": {
        "eval": false,
        "lines_to_next_cell": 0,
        "vscode": {
          "languageId": "r"
        }
      },
      "outputs": [],
      "source": [
        "ggplot(data = visit_16, aes(x = state, y = visitors, fill = park_name)) + \n",
        "  geom_bar(stat = \"identity\")"
      ]
    },
    {
      "cell_type": "code",
      "execution_count": null,
      "id": "695d9e4c",
      "metadata": {
        "echo": false,
        "lines_to_next_cell": 0,
        "out.height": "400px",
        "vscode": {
          "languageId": "r"
        }
      },
      "outputs": [],
      "source": [
        "knitr::include_graphics('figures/vi_fill.png')"
      ]
    },
    {
      "cell_type": "markdown",
      "id": "61724718",
      "metadata": {
        "lines_to_next_cell": 0
      },
      "source": [
        "---\n",
        " The stacking is performed automatically by the **position adjustment** specified by the position argument. If you don’t want a stacked bar chart, you can use `dodge`.\n",
        "\n",
        "- `position = \"dodge\"` places overlapping objects directly beside one another. This makes it easier to compare individual values."
      ]
    },
    {
      "cell_type": "code",
      "execution_count": null,
      "id": "ef3dc41b",
      "metadata": {
        "eval": false,
        "vscode": {
          "languageId": "r"
        }
      },
      "outputs": [],
      "source": [
        "ggplot(data = visit_16, aes(x = state, y = visitors, fill = park_name)) + \n",
        "  geom_bar(stat = \"identity\", position = \"dodge\")"
      ]
    },
    {
      "cell_type": "code",
      "execution_count": null,
      "id": "e312c9a7",
      "metadata": {
        "echo": false,
        "lines_to_next_cell": 0,
        "out.height": "400px",
        "vscode": {
          "languageId": "r"
        }
      },
      "outputs": [],
      "source": [
        "knitr::include_graphics('figures/vi_dod.png')"
      ]
    },
    {
      "cell_type": "markdown",
      "id": "f3c1f8c4",
      "metadata": {},
      "source": [
        "---\n",
        "### Arranging and exporting plots\n",
        "After creating your plot, you can save it to a file in your favorite format. The Export tab in the **Plot** pane in RStudio will save your plots at low resolution, which will not be accepted by many journals and will not scale well for posters.\n",
        "\n",
        "Instead, use the `ggsave()` function, which allows you easily change the dimension and resolution of your plot by adjusting the appropriate arguments (`width`, `height` and `dpi`):"
      ]
    },
    {
      "cell_type": "code",
      "execution_count": null,
      "id": "050e0835",
      "metadata": {
        "eval": false,
        "lines_to_next_cell": 0,
        "vscode": {
          "languageId": "r"
        }
      },
      "outputs": [],
      "source": [
        "my_plot <- ggplot(data = mass) + \n",
        "      geom_bar(aes(x = type, fill = park_name)) +\n",
        "  labs(x = \"\", y = \"\")+\n",
        "  theme(axis.text.x = element_text(angle = 45, hjust = 1, size = 7))\n",
        "ggsave(\"name_of_file.png\", my_plot, width = 15, height = 10)"
      ]
    },
    {
      "cell_type": "markdown",
      "id": "edcf05ca",
      "metadata": {},
      "source": [
        "Note: The parameters `width` and `height` also determine the font size in the saved plot.\n",
        "\n",
        "---\n",
        "class: inverse, center, middle\n",
        "\n",
        "#  More advanced visualization methods\n",
        "\n",
        "---\n",
        "\n",
        "### Scatter plots\n",
        "\n",
        "We'll start by visualizing the relationship between automobile weight and fuel efficiency."
      ]
    },
    {
      "cell_type": "code",
      "execution_count": null,
      "id": "68a59794",
      "metadata": {
        "eval": false,
        "vscode": {
          "languageId": "r"
        }
      },
      "outputs": [],
      "source": [
        "data(mtcars) #1 \n",
        "mtcars |> ggplot(aes(x=wt, y=mpg)) + \n",
        "  geom_point() + \n",
        "  geom_smooth(method=\"lm\", se=FALSE, color=\"red\") + \n",
        "  geom_smooth(method=\"loess\", se=FALSE,\n",
        "    color=\"blue\", linetype=\"dashed\") +\n",
        "    labs(title = \"Basic Scatter Plot of MPG vs. Weight\",\n",
        "    x = \"Car Weight (lbs/1000)\", y = \"Miles Per Gallon\")"
      ]
    },
    {
      "cell_type": "markdown",
      "id": "620a5a3e",
      "metadata": {},
      "source": [
        "---"
      ]
    },
    {
      "cell_type": "code",
      "execution_count": null,
      "id": "183bd6e3",
      "metadata": {
        "echo": false,
        "out.height": "560px",
        "vscode": {
          "languageId": "r"
        }
      },
      "outputs": [],
      "source": [
        "knitr::include_graphics('figures/carscatter.png')"
      ]
    },
    {
      "cell_type": "markdown",
      "id": "f63d5a18",
      "metadata": {},
      "source": [
        "---\n",
        "\n",
        "### A scatter plot with separate best-fit lines"
      ]
    },
    {
      "cell_type": "code",
      "execution_count": null,
      "id": "9aeeb2f2",
      "metadata": {
        "eval": false,
        "vscode": {
          "languageId": "r"
        }
      },
      "outputs": [],
      "source": [
        "mtcars |> ggplot(aes(x=wt, y=mpg, color=factor(cyl),\n",
        "      shape=factor(cyl))) +\n",
        "  geom_point(size=2) +\n",
        "  geom_smooth(method=\"lm\", se=FALSE) + \n",
        "  geom_smooth(method=\"loess\", se=FALSE, linetype=\"dashed\") + \n",
        "  labs(title = \"Scatter Plot of MPG vs. Weight\", \n",
        "       subtitle = \"By Number of Cylinders\", \n",
        "       x = \"Car Weight (lbs/1000)\", y = \"Miles Per Gallon\", \n",
        "       color = \"Number of \\nCylinders\", \n",
        "       shape = \"Number of \\nCylinders\") +\n",
        "  theme_bw()"
      ]
    },
    {
      "cell_type": "markdown",
      "id": "6ce92ee8",
      "metadata": {},
      "source": [
        "---"
      ]
    },
    {
      "cell_type": "code",
      "execution_count": null,
      "id": "767c11c3",
      "metadata": {
        "echo": false,
        "out.height": "560px",
        "vscode": {
          "languageId": "r"
        }
      },
      "outputs": [],
      "source": [
        "knitr::include_graphics('figures/carbestfit.png')"
      ]
    },
    {
      "cell_type": "markdown",
      "id": "bf986759",
      "metadata": {},
      "source": [
        "---\n",
        "\n",
        "### Scatter-plot matrices"
      ]
    },
    {
      "cell_type": "code",
      "execution_count": null,
      "id": "1514641a",
      "metadata": {
        "eval": false,
        "vscode": {
          "languageId": "r"
        }
      },
      "outputs": [],
      "source": [
        "library(GGally) \n",
        "ggpairs(mtcars[c(\"mpg\",\"disp\",\"drat\", \"wt\")])"
      ]
    },
    {
      "cell_type": "code",
      "execution_count": null,
      "id": "0042fc8c",
      "metadata": {
        "echo": false,
        "out.height": "460px",
        "vscode": {
          "languageId": "r"
        }
      },
      "outputs": [],
      "source": [
        "knitr::include_graphics('figures/carggpairs.png')"
      ]
    },
    {
      "cell_type": "markdown",
      "id": "45e41345",
      "metadata": {},
      "source": [
        "---\n",
        "\n",
        "### Bubble plots"
      ]
    },
    {
      "cell_type": "code",
      "execution_count": null,
      "id": "c355af9d",
      "metadata": {
        "eval": false,
        "vscode": {
          "languageId": "r"
        }
      },
      "outputs": [],
      "source": [
        "mtcars |> ggplot(aes(x = wt, y = mpg, size = disp)) +\n",
        "  geom_point() +\n",
        "  labs(title=\"Bubble Plot with point size proportional to displacement\",\n",
        "    x=\"Weight of Car (lbs/1000)\", y=\"Miles Per Gallon\")"
      ]
    },
    {
      "cell_type": "code",
      "execution_count": null,
      "id": "a2a1314c",
      "metadata": {
        "eval": false,
        "vscode": {
          "languageId": "r"
        }
      },
      "outputs": [],
      "source": [
        "mtcars |> ggplot(aes(x = wt, y = mpg, size = disp, \n",
        "    fill=factor(cyl))) +\n",
        "  geom_point(alpha = .5, color = \"black\", shape = 21) +\n",
        "  scale_size_continuous(range = c(1, 10)) +\n",
        "  labs(title = \"Auto mileage by weight and horsepower\",\n",
        "    subtitle = \"Motor Trend US Magazine (1973-74 models)\", \n",
        "    x = \"Weight (1000 lbs)\",\n",
        "    y = \"Miles/(US) gallon\", size = \"Engine\\ndisplacement\", \n",
        "    fill = \"Cylinders\") + \n",
        "  theme_minimal()"
      ]
    },
    {
      "cell_type": "markdown",
      "id": "058e5699",
      "metadata": {},
      "source": [
        "---"
      ]
    },
    {
      "cell_type": "code",
      "execution_count": null,
      "id": "ecd9eb86",
      "metadata": {
        "echo": false,
        "out.height": "560px",
        "vscode": {
          "languageId": "r"
        }
      },
      "outputs": [],
      "source": [
        "knitr::include_graphics('figures/carbubble.png')"
      ]
    },
    {
      "cell_type": "markdown",
      "id": "f250966c",
      "metadata": {},
      "source": [
        "---\n",
        "\n",
        "### Corrgram"
      ]
    },
    {
      "cell_type": "code",
      "execution_count": null,
      "id": "7b673410",
      "metadata": {
        "eval": false,
        "vscode": {
          "languageId": "r"
        }
      },
      "outputs": [],
      "source": [
        "library(corrgram)\n",
        "corrgram(mtcars, order=TRUE, lower.panel=panel.shade, \n",
        "         upper.panel=panel.cor,\n",
        "  main=\"Corrgram of mtcars data using shading and coefficients\")\n"
      ]
    },
    {
      "cell_type": "markdown",
      "id": "29d6e908",
      "metadata": {},
      "source": [
        "---"
      ]
    },
    {
      "cell_type": "code",
      "execution_count": null,
      "id": "0801bec0",
      "metadata": {
        "echo": false,
        "lines_to_next_cell": 0,
        "out.height": "560px",
        "vscode": {
          "languageId": "r"
        }
      },
      "outputs": [],
      "source": [
        "knitr::include_graphics('figures/carcorr.png')"
      ]
    },
    {
      "cell_type": "markdown",
      "id": "acb3ae8d",
      "metadata": {},
      "source": []
    }
  ],
  "metadata": {
    "jupytext": {
      "cell_metadata_filter": "out.height,tags,message,name,eval,echo,-all",
      "main_language": "R",
      "notebook_metadata_filter": "-all"
    },
    "kernelspec": {
      "name": "ir",
      "display_name": "R",
      "language": "R"
    },
    "language_info": {
      "name": "R"
    }
  },
  "nbformat": 4,
  "nbformat_minor": 5
}