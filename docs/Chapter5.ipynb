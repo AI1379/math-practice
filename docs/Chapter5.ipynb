{
  "cells": [
    {
      "cell_type": "raw",
      "id": "d4382bd3",
      "metadata": {},
      "source": [
        "---\n",
        "title: \"Date Science with R\"\n",
        "subtitle: \"Writing and Using Functions\"\n",
        "author: \"Peng Zhang\"\n",
        "institute: \"School of Mathematical Sciences, Zhejiang University\"\n",
        "date: \"2025/06/29\"\n",
        "output:\n",
        "  xaringan::moon_reader:\n",
        "    lib_dir: libs\n",
        "    nature:\n",
        "      highlightStyle: github\n",
        "      highlightLines: true\n",
        "      countIncrementalSlides: false\n",
        "---"
      ]
    },
    {
      "cell_type": "code",
      "execution_count": null,
      "id": "40538152",
      "metadata": {
        "lines_to_next_cell": 0,
        "message": false,
        "name": "setup",
        "tags": [
          "remove_cell"
        ]
      },
      "outputs": [],
      "source": [
        "options(htmltools.dir.version = FALSE)\n",
        "# source('xaringan2pdf.R')\n",
        "# xaringan_to_pdf('Chapter5.html')\n",
        "library(tidyverse)"
      ]
    },
    {
      "cell_type": "markdown",
      "id": "ddb69878",
      "metadata": {
        "lines_to_next_cell": 0
      },
      "source": [
        "### Create an R script\n",
        "Now, we are going to create an R script. What is an R script? It’s a text file with a .R extension. We’ve been writing R code in R Markdown files so far; R scripts are just R code without the Markdown along with it.\n",
        "\n",
        "Go to File > New File > R Script (or click the green plus in the top left corner).\n",
        "\n",
        "Let’s start off with a few comments so that we know what it is for, and save it:"
      ]
    },
    {
      "cell_type": "code",
      "execution_count": null,
      "id": "efac0589",
      "metadata": {
        "lines_to_next_cell": 0
      },
      "outputs": [],
      "source": [
        "## r-programming.R\n",
        "## condition, iteration and functions\n",
        "## Peng Zhang pengz@zju.edu.cn"
      ]
    },
    {
      "cell_type": "markdown",
      "id": "4ce9981d",
      "metadata": {},
      "source": [
        "---\n",
        "## Agenda\n",
        "-  Conditonals and iterations\n",
        "-  Defining functions: Tying related commands into bundles\n",
        "-  Interfaces: Controlling what the function can see and do\n",
        "-  Example: Parameter estimation code\n",
        "\n",
        "---\n",
        "\n",
        "### Control and iteration"
      ]
    },
    {
      "cell_type": "code",
      "execution_count": null,
      "id": "e4ff3898",
      "metadata": {},
      "outputs": [],
      "source": [
        "library(datasets)\n",
        "states <- data.frame(state.x77, abb=state.abb, region=state.region, division=state.division)"
      ]
    },
    {
      "cell_type": "markdown",
      "id": "f5068b65",
      "metadata": {
        "lines_to_next_cell": 0
      },
      "source": [
        "#### Conditionals\n",
        "\n",
        "Have the computer decide what to do next\n",
        "- Mathematically:\n",
        "$$|x| = \\left\\{ \\begin{array}{cl} x & \\mathrm{if}~x\\geq 0 \\\\\n",
        "-x &\\mathrm{if}~ x < 0\\end{array}\\right. ~,~ \n",
        "\\psi(x) = \\left\\{ \\begin{array}{cl} x^2 & \\mathrm{if}~|x|\\leq 1\\\\\n",
        "2|x|-1 &\\mathrm{if}~ |x| > 1\\end{array}\\right.$$\n",
        "\n",
        "<small>Exercise: plot $\\psi$ in R</small>\n",
        "- Computationally:\n",
        "\n",
        "```\n",
        "if the country code is not \"US\"\n",
        "multiply prices by current exchange rate\n",
        "```\n",
        "---\n",
        "\n",
        "#### if()\n",
        "\n",
        "Simplest conditional:\n",
        "```\n",
        "if (x >= 0) {\n",
        "  x\n",
        "} else {\n",
        "  -x\n",
        "}\n",
        "```\n",
        "Condition in `if` needs to give _one_ `TRUE` or `FALSE` value\n",
        "\n",
        "`else` clause is optional\n",
        "\n",
        "one-line actions don't need braces\n",
        "```\n",
        "if (x >= 0) x else -x\n",
        "```\n",
        "---\n",
        "#### Nested if()\n",
        "\n",
        "`if` can *nest* arbitrarily deeply:\n",
        "```\n",
        "if (x^2 < 1) {\n",
        "  x^2\n",
        "} else {\n",
        "  if (x >= 0) {\n",
        "    2*x-1\n",
        "  } else {\n",
        "     -2*x-1\n",
        "  }\n",
        "}\n",
        "```\n",
        "Can get ugly though\n",
        "\n",
        "---\n",
        "#### Combining Booleans: && and ||\n",
        "\n",
        "`&` work `|` like `+` or `*`: combine terms element-wise\n",
        "\n",
        "Flow control wants *one* Boolean value, and to skip calculating what's not needed\n",
        "\n",
        "`&&` and `||` give _one_ Boolean, lazily:"
      ]
    },
    {
      "cell_type": "code",
      "execution_count": null,
      "id": "722f0531",
      "metadata": {
        "lines_to_next_cell": 0
      },
      "outputs": [],
      "source": [
        "(0 > 0) && (all.equal(42%%6, 169%%13))"
      ]
    },
    {
      "cell_type": "markdown",
      "id": "c611ae94",
      "metadata": {
        "lines_to_next_cell": 0
      },
      "source": [
        "<small>This *never* evaluates the complex expression on the right</small>\n",
        "\n",
        "Use `&&` and `||` for control, `&` and `|` for subsetting\n",
        "\n",
        "---\n",
        "#### Iteration\n",
        "\n",
        "Repeat similar actions multiple times:"
      ]
    },
    {
      "cell_type": "code",
      "execution_count": null,
      "id": "1f4b99e3",
      "metadata": {
        "lines_to_next_cell": 0
      },
      "outputs": [],
      "source": [
        "table.of.logarithms <- vector(length=7,mode=\"numeric\")\n",
        "table.of.logarithms\n",
        "for (i in 1:length(table.of.logarithms)) {\n",
        "  table.of.logarithms[i] <- log(i)\n",
        "}\n",
        "table.of.logarithms"
      ]
    },
    {
      "cell_type": "markdown",
      "id": "372b3697",
      "metadata": {},
      "source": [
        "---\n",
        "#### for()\n",
        "\n",
        "```\n",
        "for (i in 1:length(table.of.logarithms)) {\n",
        "  table.of.logarithms[i] <- log(i)\n",
        "}\n",
        "```\n",
        "`for` increments a **counter** (here `i`) along a vector (here `1:length(table.of.logarithms)`) and **loops through** the **body* until it runs through the vector\n",
        "\n",
        "\"**iterates over** the vector\"\n",
        "\n",
        "N.B., there is a better way to do this job!\n",
        "\n",
        "---\n",
        "#### The body of the for() loop\n",
        "\n",
        "Can contain just about anything, including:\n",
        "- if() clauses\n",
        "- other for() loops (nested iteration)\n",
        "\n",
        "#### Nested iteration example\n",
        "```\n",
        "c <- matrix(0, nrow=nrow(a), ncol=ncol(b))\n",
        "if (ncol(a) == nrow(b)) {\n",
        "  for (i in 1:nrow(c)) {\n",
        "    for (j in 1:ncol(c)) {\n",
        "      for (k in 1:ncol(a)) {\n",
        "        c[i,j] <- c[i,j] + a[i,k]*b[k,j]\n",
        "      }\n",
        "    }\n",
        "  }\n",
        "} else {\n",
        "  stop(\"matrices a and b non-conformable\")\n",
        "}\n",
        "```\n",
        "---\n",
        "#### while(): conditional iteration"
      ]
    },
    {
      "cell_type": "code",
      "execution_count": null,
      "id": "8244c47f",
      "metadata": {},
      "outputs": [],
      "source": [
        "x <- 1:10\n",
        "while (max(x) - 1 > 1e-06) {\n",
        "  x <- sqrt(x)\n",
        "}"
      ]
    },
    {
      "cell_type": "markdown",
      "id": "1450d168",
      "metadata": {
        "lines_to_next_cell": 0
      },
      "source": [
        "Condition in the argument to `while` must be a single Boolean value (like `if`)\n",
        "\n",
        "Body is looped over until the condition is `FALSE`\n",
        "<small>so can loop forever</small>\n",
        "\n",
        "Loop never begins unless the condition starts `TRUE`\n",
        "\n",
        "#### for() vs. while()\n",
        "\n",
        "for() is better when the number of times to repeat (values to iterate over) is\n",
        "clear in advance\n",
        "\n",
        "while() is better when you can recognize when to stop once you're there, even\n",
        "if you can't guess it to begin with\n",
        "\n",
        "Every for() could be replaced with a while()  \n",
        "<small>Exercise: show this</small>\n",
        "\n",
        "---\n",
        "#### Avoiding iteration\n",
        "\n",
        "R has many ways of _avoiding_ iteration, by acting on whole objects\n",
        "- It's conceptually clearer\n",
        "- It leads to simpler code\n",
        "- It's faster (sometimes a little, sometimes drastically)\n",
        "\n",
        "#### Vectorized arithmetic\n",
        "\n",
        "How many languages add 2 vectors:\n",
        "```\n",
        "c <- vector(length(a))\n",
        "for (i in 1:length(a)) {  c[i] <- a[i] + b[i]  }\n",
        "```\n",
        "\n",
        "How R adds 2 vectors:\n",
        "```\n",
        "a+b\n",
        "```\n",
        "\n",
        "or a triple `for()` loop for matrix multiplication vs. `a %*% b`\n",
        "---\n",
        "#### Advantages of vectorizing\n",
        "\n",
        "- Clarity: the syntax is about _what_ we're doing\n",
        "- Concision: we write less\n",
        "- Abstraction: the syntax hides _how the computer does it_\n",
        "- Generality: same syntax works for numbers, vectors, arrays, ...\n",
        "- Speed: modifying big vectors over and over is slow in R; work gets done by optimized low-level code\n",
        "---\n",
        "#### Vectorized calculations\n",
        "\n",
        "Many functions are set up to vectorize automatically"
      ]
    },
    {
      "cell_type": "code",
      "execution_count": null,
      "id": "aafa6356",
      "metadata": {},
      "outputs": [],
      "source": [
        "abs(-3:3)\n",
        "log(1:7)"
      ]
    },
    {
      "cell_type": "markdown",
      "id": "aedc431f",
      "metadata": {
        "lines_to_next_cell": 0
      },
      "source": [
        "See also `apply()` from last week\n",
        "\n",
        "We'll come back to this in great detail later\n",
        "\n",
        "#### Vectorized conditions: ifelse()\n",
        "```\n",
        "ifelse(x^2 > 1, 2*abs(x)-1, x^2)\n",
        "```\n",
        "\n",
        "1st argument is a Boolean vector, then pick from the 2nd or 3rd vector arguments as `TRUE` or `FALSE`\n",
        "---\n",
        "#### Summary\n",
        "\n",
        "- Dataframes\n",
        "- `if`, nested `if`, `switch`\n",
        "- Iteration: `for`, `while`\n",
        "- Avoiding iteration with whole-object (\"vectorized\") operations\n",
        "\n",
        "---\n",
        "#### What Is Truth?\n",
        "\n",
        "0 counts as `FALSE`; other numeric values count as `TRUE`; the strings \"TRUE\" and \"FALSE\" count as you'd hope; most everything else gives an error\n",
        "\n",
        "Advice: Don't play games here; try to make sure control expressions are getting Boolean values\n",
        "\n",
        "<small>Conversely, in arithmetic, `FALSE` is 0 and `TRUE` is 1"
      ]
    },
    {
      "cell_type": "code",
      "execution_count": null,
      "id": "f006046a",
      "metadata": {
        "lines_to_next_cell": 0
      },
      "outputs": [],
      "source": [
        "mean(states$Murder > 7)"
      ]
    },
    {
      "cell_type": "markdown",
      "id": "a3ea413c",
      "metadata": {},
      "source": [
        "</small>\n",
        "\n",
        "---\n",
        "#### switch()\n",
        "\n",
        "Simplify nested `if` with `switch()`: give a variable to select on, then a value for each option\n",
        "```\n",
        "switch(type.of.summary,\n",
        "       mean=mean(states$Murder),\n",
        "       median=median(states$Murder),\n",
        "       histogram=hist(states$Murder),\n",
        "       \"I don't understand\")\n",
        "```\n",
        "\n",
        "#### Exercise (off-line)\n",
        "\n",
        "Set `type.of.summary` to, succesively, \"mean\", \"median\", \"histogram\", and \"mode\", and explain what happens\n",
        "\n",
        "#### Unconditional iteration\n",
        "\n",
        "```\n",
        "repeat {\n",
        "  print(\"Help! I am Dr. Morris Culpepper, trapped in an endless loop!\")\n",
        "}\n",
        "```\n",
        "---\n",
        "#### \"Manual\" control over iteration\n",
        "\n",
        "```\n",
        "repeat {\n",
        "  if (watched) { next() }\n",
        "  print(\"Help! I am Dr. Morris Culpepper, trapped in an endless loop!\")\n",
        "  if (rescued) { break() }\n",
        "}\n",
        "```\n",
        "`break()` exits the loop; `next()` skips the rest of the body and goes back into the loop\n",
        "\n",
        "both work with `for()` and `while()` as well\n",
        "\n",
        "Exercise: how would you replace `while()` with `repeat()`?\n",
        "\n",
        "---\n",
        "### Why Functions?\n",
        "\n",
        "Data structures tie related values into one object\n",
        "\n",
        "Functions tie related commands into one object\n",
        "\n",
        "In both cases: easier to understand, easier to work with, easier to build into larger things\n",
        "\n",
        "#### For example"
      ]
    },
    {
      "cell_type": "code",
      "execution_count": null,
      "id": "53780792",
      "metadata": {},
      "outputs": [],
      "source": [
        "# \"Robust\" loss function, for outlier-resistant regression\n",
        "# Inputs: vector of numbers (x)\n",
        "# Outputs: vector with x^2 for small entries, 2|x|-1 for large ones\n",
        "psi.1 <- function(x) {\n",
        "  psi <- ifelse(x^2 > 1, 2*abs(x)-1, x^2)\n",
        "  return(psi)\n",
        "}"
      ]
    },
    {
      "cell_type": "markdown",
      "id": "30ee6c33",
      "metadata": {},
      "source": [
        "Our functions get used just like the built-in ones:"
      ]
    },
    {
      "cell_type": "code",
      "execution_count": null,
      "id": "a4a4fc65",
      "metadata": {},
      "outputs": [],
      "source": [
        "z <- c(-0.5,-5,0.9,9)\n",
        "psi.1(z)"
      ]
    },
    {
      "cell_type": "markdown",
      "id": "b81e35ae",
      "metadata": {
        "lines_to_next_cell": 0
      },
      "source": [
        "---\n",
        "\n",
        "Go back to the declaration and look at the parts:"
      ]
    },
    {
      "cell_type": "code",
      "execution_count": null,
      "id": "845dfa2c",
      "metadata": {},
      "outputs": [],
      "source": [
        "# \"Robust\" loss function, for outlier-resistant regression\n",
        "# Inputs: vector of numbers (x)\n",
        "# Outputs: vector with x^2 for small entries, |x| for large ones\n",
        "psi.1 <- function(x) {\n",
        "  psi <- ifelse(x^2 > 1, 2*abs(x)-1, x^2)\n",
        "  return(psi)\n",
        "}"
      ]
    },
    {
      "cell_type": "markdown",
      "id": "d08a21a5",
      "metadata": {},
      "source": [
        "**Interfaces**: the **inputs** or **arguments**; the **outputs** or **return value**\n",
        "\n",
        "Calls other functions `ifelse()`, `abs()`,  operators\n",
        "`^` and `>`  \n",
        "<small>could also call other functions we've written</small>\n",
        "\n",
        "`return()` says what the output is  \n",
        "<small>alternately, return the last evaluation; I like explicit returns better</small>\n",
        "\n",
        "**Comments**: Not required by R, but a Very Good Idea  \n",
        "One-line description of purpose; listing of arguments; listing of outputs\n",
        "\n",
        "---\n",
        "#### What should be a function?\n",
        "\n",
        "- Things you're going to re-run, especially if it will be re-run with changes\n",
        "- Chunks of code you keep highlighting and hitting return on\n",
        "- Chunks of code  which are small parts of bigger analyses\n",
        "- Chunks which are very similar to other chunks\n",
        "\n",
        "<small>will say more about design later</small>\n",
        "\n",
        "---\n",
        "#### Named and default arguments"
      ]
    },
    {
      "cell_type": "code",
      "execution_count": null,
      "id": "34128105",
      "metadata": {},
      "outputs": [],
      "source": [
        "# \"Robust\" loss function, for outlier-resistant regression\n",
        "# Inputs: vector of numbers (x), scale for crossover (c)\n",
        "# Outputs: vector with x^2 for small entries, 2c|x|-c^2 for large ones\n",
        "psi.2 <- function(x,c=1) {\n",
        "  psi <- ifelse(x^2 > c^2, 2*c*abs(x)-c^2, x^2)\n",
        "  return(psi)\n",
        "}"
      ]
    },
    {
      "cell_type": "code",
      "execution_count": null,
      "id": "3e6e358b",
      "metadata": {},
      "outputs": [],
      "source": [
        "identical(psi.1(z), psi.2(z,c=1))"
      ]
    },
    {
      "cell_type": "markdown",
      "id": "e9b0f5da",
      "metadata": {
        "lines_to_next_cell": 0
      },
      "source": [
        "Default values get used if names are missing:"
      ]
    },
    {
      "cell_type": "code",
      "execution_count": null,
      "id": "d66fddf1",
      "metadata": {},
      "outputs": [],
      "source": [
        "identical(psi.2(z,c=1), psi.2(z))"
      ]
    },
    {
      "cell_type": "markdown",
      "id": "895dd553",
      "metadata": {
        "lines_to_next_cell": 0
      },
      "source": [
        "Named arguments can go in any order when explicitly tagged:"
      ]
    },
    {
      "cell_type": "code",
      "execution_count": null,
      "id": "118c47f5",
      "metadata": {},
      "outputs": [],
      "source": [
        "identical(psi.2(x=z,c=2), psi.2(c=2,x=z))"
      ]
    },
    {
      "cell_type": "markdown",
      "id": "90554ac8",
      "metadata": {
        "lines_to_next_cell": 0
      },
      "source": [
        "---\n",
        "#### Checking Arguments\n",
        "\n",
        "_Problem_: Odd behavior when arguments aren't as we expect"
      ]
    },
    {
      "cell_type": "code",
      "execution_count": null,
      "id": "b152c368",
      "metadata": {},
      "outputs": [],
      "source": [
        "psi.2(x=z,c=c(1,1,1,10))\n",
        "psi.2(x=z,c=-1)"
      ]
    },
    {
      "cell_type": "markdown",
      "id": "06796cca",
      "metadata": {},
      "source": [
        "_Solution_: Put little sanity checks into the code"
      ]
    },
    {
      "cell_type": "code",
      "execution_count": null,
      "id": "7d807b58",
      "metadata": {},
      "outputs": [],
      "source": [
        "# \"Robust\" loss function, for outlier-resistant regression\n",
        "# Inputs: vector of numbers (x), scale for crossover (c)\n",
        "# Outputs: vector with x^2 for small entries, 2c|x|-c^2 for large ones\n",
        "psi.3 <- function(x,c=1) {\n",
        "  # Scale should be a single positive number\n",
        "  stopifnot(length(c) == 1,c>0)\n",
        "  psi <- ifelse(x^2 > c^2, 2*c*abs(x)-c^2, x^2)\n",
        "  return(psi)\n",
        "}"
      ]
    },
    {
      "cell_type": "markdown",
      "id": "32f2e025",
      "metadata": {},
      "source": [
        "Arguments to `stopifnot()` are a series of expressions which should all\n",
        "be TRUE; execution halts, with error message, at _first_ FALSE\n",
        "(try it!)\n",
        "\n",
        "---\n",
        "#### What the function can see and do"
      ]
    },
    {
      "cell_type": "markdown",
      "id": "555a993a",
      "metadata": {},
      "source": [
        "- Each function has its own environment  \n",
        "- Names here over-ride names in the global environment  \n",
        "- Internal environment starts with the named arguments  \n",
        "- Assignments inside the function only change the internal environment  \n",
        "<small>There _are_ ways around this, but they are difficult and best avoided; see Chambers, ch. 5, if you must</small>\n",
        "- Names undefined in the function are looked for in the environment the function gets called from  \n",
        "<small>_not_ the environment of definition</small>\n",
        "\n",
        "---\n",
        "#### Internal environment examples"
      ]
    },
    {
      "cell_type": "code",
      "execution_count": null,
      "id": "3a49b175",
      "metadata": {},
      "outputs": [],
      "source": [
        "x <- 7\n",
        "y <- c(\"A\",\"C\",\"G\",\"T\",\"U\")\n",
        "adder <- function(y) { x<- x+y; return(x) }\n",
        "adder(1)\n",
        "x\n",
        "y"
      ]
    },
    {
      "cell_type": "markdown",
      "id": "fb90040a",
      "metadata": {},
      "source": [
        "---\n",
        "\n",
        "#### Internal environment examples cont'd."
      ]
    },
    {
      "cell_type": "code",
      "execution_count": null,
      "id": "5fc39881",
      "metadata": {},
      "outputs": [],
      "source": [
        "circle.area <- function(r) { return(pi*r^2) }\n",
        "circle.area(c(1,2,3))\n",
        "truepi <- pi\n",
        "pi <- 3   # Valid in 1800s Indiana, or drowned R'lyeh\n",
        "circle.area(c(1,2,3))\n",
        "pi <- truepi      # Restore sanity\n",
        "circle.area(c(1,2,3))"
      ]
    },
    {
      "cell_type": "markdown",
      "id": "860d5b65",
      "metadata": {
        "lines_to_next_cell": 0
      },
      "source": [
        "---\n",
        "#### Respect the Interfaces\n",
        "\n",
        "Interfaces mark out a controlled inner environment for our code\n",
        "\n",
        "Interact with the rest of the system only at the interface\n",
        "\n",
        "Advice: arguments explicitly give the function all the information  \n",
        "<small>Reduces risk of confusion and error</small>  \n",
        "<small>Exception: true universals like $\\pi$</small>\n",
        "\n",
        "Likewise, output should only be through the return value\n",
        "\n",
        "More about breaking up tasks and about environments later\n",
        "\n",
        "<small>Further reading: Herbert Simon, _The Sciences of the Artificial_</small>\n",
        "\n",
        "---\n",
        "#### Example: Fitting a Model\n",
        "\n",
        "Fact: bigger cities tend to produce more economically per capita\n",
        "\n",
        "A proposed statistical model (Geoffrey West et al.):\n",
        "\n",
        "$$Y = y_0 N^{a} + \\mathrm{noise}$$\n",
        "\n",
        "where $Y$ is the per-capita \"gross metropolitan product\" of a city, $N$ is\n",
        "its population, and $y_0$ and $a$ are parameters\n",
        "---\n",
        "#### Evidence"
      ]
    },
    {
      "cell_type": "code",
      "execution_count": null,
      "id": "5b32c006",
      "metadata": {
        "lines_to_next_cell": 0
      },
      "outputs": [],
      "source": [
        "gmp <- read.table(\"data/gmp.dat\")\n",
        "gmp <- gmp |> mutate(pop = gmp/pcgmp, nlmfit = 6611*pop^(1/8)) "
      ]
    },
    {
      "cell_type": "code",
      "execution_count": null,
      "id": "468abd24",
      "metadata": {
        "eval": false,
        "lines_to_next_cell": 0
      },
      "outputs": [],
      "source": [
        "gmp |> ggplot() + geom_point(aes(x = pop, y = pcgmp))+\n",
        "  labs(x = \"Population\", y = \"Per-Capita Economic Output ($/person-year)\",\n",
        "  title = \"US Metropolitan Areas, 2006\")+\n",
        "  scale_x_log10()+\n",
        "  geom_line(aes(x = pop, y = nlmfit), col = 'blue', size = 1.5)"
      ]
    },
    {
      "cell_type": "markdown",
      "id": "f44484f6",
      "metadata": {
        "lines_to_next_cell": 0
      },
      "source": [
        "---"
      ]
    },
    {
      "cell_type": "code",
      "execution_count": null,
      "id": "acad7231",
      "metadata": {
        "echo": false,
        "lines_to_next_cell": 0,
        "out.height": "500px"
      },
      "outputs": [],
      "source": [
        "knitr::include_graphics('figures/gmp_scatter.png')"
      ]
    },
    {
      "cell_type": "markdown",
      "id": "d793161b",
      "metadata": {
        "lines_to_next_cell": 0
      },
      "source": [
        "---\n",
        "#### Want to fit the model\n",
        "$$Y = y_0 N^{a} + \\mathrm{noise}$$\n",
        "\n",
        "Take $y_0=6611$  for today\n",
        "\n",
        "Approximate the derivative of error w.r.t $a$ and move against it\n",
        "$$\\begin{eqnarray*}\n",
        "MSE(a) & \\equiv & \\frac{1}{n}\\sum_{i=1}^{n}{(Y_i - y_0 N_i^a)^2}\\\\\n",
        "MSE^{\\prime}(a) & \\approx & \\frac{MSE(a+h) - MSE(a)}{h}\\\\\n",
        "a_{t+1} - a_{t} & \\propto & -MSE^{\\prime}(a)\n",
        "\\end{eqnarray*}$$\n",
        "\n",
        "---\n",
        "\n",
        "An actual first attempt at code:"
      ]
    },
    {
      "cell_type": "code",
      "execution_count": null,
      "id": "c7808d64",
      "metadata": {},
      "outputs": [],
      "source": [
        "maximum.iterations <- 100\n",
        "deriv.step <- 1/1000\n",
        "step.scale <- 1e-12\n",
        "stopping.deriv <- 1/100\n",
        "iteration <- 0\n",
        "deriv <- Inf\n",
        "a <- 0.15\n",
        "while ((iteration < maximum.iterations) && (deriv > stopping.deriv)) {\n",
        "  iteration <- iteration + 1\n",
        "  mse.1 <- mean((gmp$pcgmp - 6611*gmp$pop^a)^2)\n",
        "  mse.2 <- mean((gmp$pcgmp - 6611*gmp$pop^(a+deriv.step))^2)\n",
        "  deriv <- (mse.2 - mse.1)/deriv.step\n",
        "  a <- a - step.scale*deriv\n",
        "}\n",
        "list(a=a,iterations=iteration,converged=(iteration < maximum.iterations))"
      ]
    },
    {
      "cell_type": "markdown",
      "id": "88cc0522",
      "metadata": {
        "lines_to_next_cell": 0
      },
      "source": [
        "---\n",
        "#### What's wrong with this?\n",
        "\n",
        "-  Not _encapsulated_: Re-run by cutting and pasting code --- but how\n",
        "  much of it? Also, hard to make part of something larger\n",
        "-  _Inflexible_: To change initial guess at $a$, have to edit, cut,\n",
        "  paste, and re-run\n",
        "-  _Error-prone_: To change the data set, have to edit, cut, paste,\n",
        "  re-run, and hope that all the edits are consistent\n",
        "-  _Hard to fix_: should stop when _absolute value_ of derivative is\n",
        "  small, but this stops when large and negative.  Imagine having five copies of\n",
        "  this and needing to fix same bug on each.\n",
        "\n",
        "Will turn this into a function and then improve it\n",
        "\n",
        "---\n",
        "\n",
        "First attempt, with logic fix:"
      ]
    },
    {
      "cell_type": "code",
      "execution_count": null,
      "id": "a7a98b49",
      "metadata": {},
      "outputs": [],
      "source": [
        "estimate.scaling.exponent.1 <- function(a) {\n",
        "  maximum.iterations <- 100\n",
        "  deriv.step <- 1/1000\n",
        "  step.scale <- 1e-12\n",
        "  stopping.deriv <- 1/100\n",
        "  iteration <- 0\n",
        "  deriv <- Inf\n",
        "  while ((iteration < maximum.iterations) && (abs(deriv) > stopping.deriv)) {\n",
        "    iteration <- iteration + 1\n",
        "    mse.1 <- mean((gmp$pcgmp - 6611*gmp$pop^a)^2)\n",
        "    mse.2 <- mean((gmp$pcgmp - 6611*gmp$pop^(a+deriv.step))^2)\n",
        "    deriv <- (mse.2 - mse.1)/deriv.step\n",
        "    a <- a - step.scale*deriv\n",
        "  }\n",
        "  fit <- list(a=a,iterations=iteration,\n",
        "    converged=(iteration < maximum.iterations))\n",
        "  return(fit)\n",
        "}"
      ]
    },
    {
      "cell_type": "markdown",
      "id": "10e023e5",
      "metadata": {
        "lines_to_next_cell": 0
      },
      "source": [
        "---\n",
        "\n",
        "_Problem_: All those magic numbers!\n",
        "\n",
        "_Solution_: Make them defaults"
      ]
    },
    {
      "cell_type": "code",
      "execution_count": null,
      "id": "219d76aa",
      "metadata": {},
      "outputs": [],
      "source": [
        "estimate.scaling.exponent.2 <- function(a, y0=6611,\n",
        "  maximum.iterations=100, deriv.step = .001,\n",
        "  step.scale = 1e-12, stopping.deriv = .01) {\n",
        "  iteration <- 0\n",
        "  deriv <- Inf\n",
        "  while ((iteration < maximum.iterations) && (abs(deriv) > stopping.deriv)) {\n",
        "    iteration <- iteration + 1\n",
        "    mse.1 <- mean((gmp$pcgmp - y0*gmp$pop^a)^2)\n",
        "    mse.2 <- mean((gmp$pcgmp - y0*gmp$pop^(a+deriv.step))^2)\n",
        "    deriv <- (mse.2 - mse.1)/deriv.step\n",
        "    a <- a - step.scale*deriv\n",
        "  }\n",
        "  fit <- list(a=a,iterations=iteration,\n",
        "    converged=(iteration < maximum.iterations))\n",
        "  return(fit)\n",
        "}"
      ]
    },
    {
      "cell_type": "markdown",
      "id": "ecd1f2d9",
      "metadata": {},
      "source": [
        "---\n",
        "\n",
        "_Problem:_ Why type out the same calculation of the MSE twice?  \n",
        "_Solution:_ Declare a function"
      ]
    },
    {
      "cell_type": "code",
      "execution_count": null,
      "id": "edba6685",
      "metadata": {},
      "outputs": [],
      "source": [
        "estimate.scaling.exponent.3 <- function(a, y0=6611,\n",
        "  maximum.iterations=100, deriv.step = .001,\n",
        "  step.scale = 1e-12, stopping.deriv = .01) {\n",
        "  iteration <- 0\n",
        "  deriv <- Inf\n",
        "  mse <- function(a) { mean((gmp$pcgmp - y0*gmp$pop^a)^2) }\n",
        "  while ((iteration < maximum.iterations) && (abs(deriv) > stopping.deriv)) {\n",
        "    iteration <- iteration + 1\n",
        "    deriv <- (mse(a+deriv.step) - mse(a))/deriv.step\n",
        "    a <- a - step.scale*deriv\n",
        "  }\n",
        "  fit <- list(a=a,iterations=iteration,\n",
        "    converged=(iteration < maximum.iterations))\n",
        "  return(fit)\n",
        "}"
      ]
    },
    {
      "cell_type": "markdown",
      "id": "f63f55a7",
      "metadata": {},
      "source": [
        "<small>`mse()` declared inside the function, so it can see `y0`, but it's not added to the global environment</small>\n",
        "\n",
        "---\n",
        "\n",
        "_Problem:_ Locked in to using specific columns of `gmp`; shouldn't have to re-write just to compare two data sets  \n",
        "_Solution:_ More arguments, with defaults"
      ]
    },
    {
      "cell_type": "code",
      "execution_count": null,
      "id": "ec4a1fd6",
      "metadata": {},
      "outputs": [],
      "source": [
        "estimate.scaling.exponent.4 <- function(a, y0=6611,\n",
        "  response=gmp$pcgmp, predictor = gmp$pop,\n",
        "  maximum.iterations=100, deriv.step = .001,\n",
        "  step.scale = 1e-12, stopping.deriv = .01) {\n",
        "  iteration <- 0\n",
        "  deriv <- Inf\n",
        "  mse <- function(a) { mean((response - y0*predictor^a)^2) }\n",
        "  while ((iteration < maximum.iterations) && (abs(deriv) > stopping.deriv)) {\n",
        "    iteration <- iteration + 1\n",
        "    deriv <- (mse(a+deriv.step) - mse(a))/deriv.step\n",
        "    a <- a - step.scale*deriv\n",
        "  }\n",
        "  fit <- list(a=a,iterations=iteration,\n",
        "    converged=(iteration < maximum.iterations))\n",
        "  return(fit)\n",
        "}"
      ]
    },
    {
      "cell_type": "markdown",
      "id": "70270a6c",
      "metadata": {},
      "source": [
        "---\n",
        "\n",
        "Respecting the interfaces: We could turn the `while()` loop into\n",
        "a `for()` loop, and nothing outside the function would care"
      ]
    },
    {
      "cell_type": "code",
      "execution_count": null,
      "id": "ffb0cbdf",
      "metadata": {},
      "outputs": [],
      "source": [
        "estimate.scaling.exponent.5 <- function(a, y0=6611,\n",
        "  response=gmp$pcgmp, predictor = gmp$pop,\n",
        "  maximum.iterations=100, deriv.step = .001,\n",
        "  step.scale = 1e-12, stopping.deriv = .01) {\n",
        "  mse <- function(a) { mean((response - y0*predictor^a)^2) }\n",
        "  for (iteration in 1:maximum.iterations) {\n",
        "    deriv <- (mse(a+deriv.step) - mse(a))/deriv.step\n",
        "    a <- a - step.scale*deriv\n",
        "    if (abs(deriv) <= stopping.deriv) { break() }\n",
        "  }\n",
        "  fit <- list(a=a,iterations=iteration,\n",
        "    converged=(iteration < maximum.iterations))\n",
        "  return(fit)\n",
        "}"
      ]
    },
    {
      "cell_type": "markdown",
      "id": "41227011",
      "metadata": {},
      "source": [
        "---\n",
        "#### What have we done?\n",
        "\n",
        "The final code is shorter, clearer, more flexible, and more re-usable\n",
        "\n",
        "_Exercise:_ Run the code with the default values to get\n",
        "an estimate of $a$; plot the curve along with the data points\n",
        "\n",
        "_Exercise:_ Randomly remove one data point --- how much does the estimate change?\n",
        "\n",
        "_Exercise:_ Run the code from multiple starting points --- how different\n",
        "are the estimates of $a$?\n",
        "\n",
        "---\n",
        "#### Summary\n",
        "\n",
        "-  **Functions** bundle related commands together into objects: easier to\n",
        "  re-run, easier to re-use, easier to combine, easier to modify, less risk of error, easier to think about\n",
        "-  **Interfaces** control what the function can see (arguments,\n",
        "  environment) and change (its internals, its return value)\n",
        "-  **Calling** functions we define works just like calling built-in\n",
        "  functions: named arguments, defaults"
      ]
    },
    {
      "cell_type": "markdown",
      "id": "be64a14d",
      "metadata": {},
      "source": [
        "---\n",
        "\n",
        "## How We Extend Functions\n",
        "\n",
        "- Multiple functions: Doing different things to the same object\n",
        "- Sub-functions: Breaking up big jobs into small ones\n",
        "- Example: Back to resource allocation\n",
        "\n",
        "#### In our last episode \n",
        "\n",
        "Functions tie together related commands:\n",
        "\n",
        "```\n",
        "my.clever.function <- function(an.argument,another.argument) {\n",
        "  # many lines of clever calculations\n",
        "  return(important.result)\n",
        "}\n",
        "```\n",
        "\n",
        "Inputs/arguments and outputs/return values define the interface\n",
        "\n",
        "A user only cares about turning inputs into outputs correctly\n",
        "---\n",
        "\n",
        "### Why You Have to Write More Than One Function\n",
        "\n",
        "Meta-problems:\n",
        "\n",
        "- You've got more than one problem\n",
        "- Your problem is too hard to solve in one step\n",
        "- You keep solving the same problems\n",
        "\n",
        "Meta-solutions:\n",
        "\n",
        "- Write multiple functions, which rely on each other\n",
        "- Split your problem, and write functions for the pieces\n",
        "- Solve the recurring problems once, and re-use the solutions\n",
        "\n",
        "---\n",
        "### Writing Multiple Related Functions\n",
        "\n",
        "Statisticians want to do lots of things with their models: estimate, predict,\n",
        "visualize, test, compare, simulate, uncertainty, ...\n",
        "\n",
        "Write multiple functions to do these things\n",
        "\n",
        "Make the model one object; assume it has certain components"
      ]
    },
    {
      "cell_type": "markdown",
      "id": "26adb020",
      "metadata": {},
      "source": [
        "#### Consistent Interfaces\n",
        "\n",
        "- Functions for the same kind of object should use the same arguments, and presume the same structure\n",
        "- Functions for the same kind of task should use the same arguments, and\n",
        "  return the same sort of value\n",
        "\n",
        "(to the extent possible)\n",
        "\n",
        "---\n",
        "### Keep related things together\n",
        "\n",
        "- Put all the related functions in a single file\n",
        "- Source them together\n",
        "- Use comments to note ***dependencies***"
      ]
    },
    {
      "cell_type": "markdown",
      "id": "f371e4e5",
      "metadata": {},
      "source": [
        "#### Power-Law Scaling for Urban Economies (cont'd.)\n",
        "\n",
        "Remember the model:\n",
        "\n",
        "$$Y = y_0 N^{a} + \\mathrm{noise}$$\n",
        "\n",
        "$$(\\mathrm{output}\\ \\mathrm{per}\\ \\mathrm{person}) =$$\n",
        "$$(\\mathrm{baseline}) (\\mathrm{population})^{\\mathrm{scaling}\\ \\mathrm{exponent}} + \\mathrm{noise}$$\n",
        "\n",
        "Estimated parameters $a$, $y_0$ by minimizing the mean squared error\n",
        "\n",
        "Exercise: Modify the estimation code from last time so it returns a list, with components `a` and `y0`\n",
        "\n",
        "---\n",
        "\n",
        "#### Example: Predicting from a Fitted Model\n",
        "\n",
        "Predict values from the power-law model:\n",
        "```\n",
        "# Predict response values from a power-law scaling model\n",
        "# Inputs: fitted power-law model (object), vector of values at which to make\n",
        "  # predictions at (newdata)\n",
        "# Outputs: vector of predicted response values\n",
        "predict.plm <- function(object, newdata) {\n",
        "  # Check that object has the right components\n",
        "  stopifnot(\"a\" %in% names(object), \"y0\" %in% names(object))\n",
        "  a <- object$a\n",
        "  y0 <- object$y0\n",
        "  # Sanity check the inputs\n",
        "  stopifnot(is.numeric(a),length(a)==1)\n",
        "  stopifnot(is.numeric(y0),length(y0)==1)\n",
        "  stopifnot(is.numeric(newdata))\n",
        "  return(y0*newdata^a)  # Actual calculation and return\n",
        "}\n",
        "```\n",
        "---\n",
        "\n",
        "#### Example: Predicting from a Fitted Model\n",
        "\n",
        "```\n",
        "# Plot fitted curve from power law model over specified range\n",
        "# Inputs: list containing parameters (plm), start and end of range (from, to)\n",
        "# Outputs: TRUE, silently, if successful\n",
        "# Side-effect: Makes the plot\n",
        "plot.plm.1 <- function(plm,from,to) {\n",
        "  # Take sanity-checking of parameters as read\n",
        "  y0 <- plm$y0 # Extract parameters\n",
        "  a <- plm$a\n",
        "  f <- function(x) { return(y0*x^a) }\n",
        "  curve(f(x),from=from,to=to)\n",
        "  # Return with no visible value on the terminal\n",
        "  invisible(TRUE)\n",
        "}\n",
        "```\n",
        "\n",
        "When one function calls another, use $\\texttt{...}$ as a meta-argument, to pass along unspecified inputs to the called function:\n",
        "\n",
        "```\n",
        "plot.plm.2 <- function(plm,...) {\n",
        "  y0 <- plm$y0\n",
        "  a <- plm$a\n",
        "  f <- function(x) { return(y0*x^a) }\n",
        "  # from and to are possible arguments to curve()\n",
        "  curve(f(x), ...)\n",
        "  invisible(TRUE)\n",
        "}\n",
        "```\n",
        "---\n",
        "### Sub-Functions\n",
        "\n",
        "Solve big problems by dividing them into a few sub-problems\n",
        "\n",
        "- Easier to understand: get the big picture at a glance\n",
        "- Easier to fix, improve and modify: tinker with sub-problems at leisure\n",
        "- Easier to design: for future lecture\n",
        "- Easier to re-use solutions to recurring sub-problems\n",
        "\n",
        "Rule of thumb: A function longer than a page is probably too long"
      ]
    },
    {
      "cell_type": "markdown",
      "id": "a5520a9e",
      "metadata": {},
      "source": [
        "#### Sub-Functions or Separate Functions?\n",
        "\n",
        "Defining a function inside another function\n",
        "\n",
        "- Pros: Simpler code, access to local variables, doesn't clutter workspace\n",
        "- Cons: Gets re-declared each time, can't access in global environment (or in other functions)\n",
        "- Alternative: Declare the function in the same file, source them together\n",
        "\n",
        "Rule of thumb: If you find yourself writing the same code in multiple places, make it a separate function\n",
        "\n",
        "---\n",
        "\n",
        "#### Example: Plotting a Power-Law Model\n",
        "\n",
        "Our old plotting function calculated the fitted values\n",
        "\n",
        "But so does our prediction function\n",
        "\n",
        "```\n",
        "plot.plm.3 <- function(plm,from,to,n=101,...) {\n",
        "  x <- seq(from=from,to=to,length.out=n)\n",
        "  y <- predict.plm(object=plm,newdata=x)\n",
        "  plot(x,y,...)\n",
        "  invisible(TRUE)\n",
        "}\n",
        "```\n",
        "---\n",
        "\n",
        "### Recursion\n",
        "\n",
        "Reduce the problem to an easier one of the same form:\n",
        "\n",
        "```\n",
        "my.factorial <- function(n) {\n",
        "  if (n == 1) {\n",
        "    return(1)\n",
        "  } else {\n",
        "    return(n*my.factorial(n-1))\n",
        "  }\n",
        "}\n",
        "```\n",
        "\n",
        "or multiple calls:\n",
        "```\n",
        "fib <- function(n) {\n",
        "  if ( (n==1) || (n==0) ) {\n",
        "   return(1)\n",
        "  } else {\n",
        "   return (fib(n-1) + fib(n-2))\n",
        "  }\n",
        "}\n",
        "```\n",
        "\n",
        "Exercise: Convince yourself that any loop can be replaced by\n",
        "recursion; can you always replace recursion with a loop?\n",
        "\n",
        "---\n",
        "\n",
        "#### Cleaner Resource Allocation"
      ]
    },
    {
      "cell_type": "code",
      "execution_count": null,
      "id": "a9c14373",
      "metadata": {
        "lines_to_next_cell": 0
      },
      "outputs": [],
      "source": [
        "planner <- function(output,factory,available,slack,tweak=0.1) {\n",
        "  needed <- plan.needs(output,factory)\n",
        "  if (all(needed <= available) && all(available-needed <= slack)) {\n",
        "    return(list(output=output,needed=needed))\n",
        "  }\n",
        "  else {\n",
        "    output <- adjust.plan(output,needed,available,tweak)\n",
        "    return(planner(output,factory,available,slack))\n",
        "  }\n",
        "}\n",
        "\n",
        "plan.needs <- function(output,factory) { factory %*% output }\n",
        "\n",
        "adjust.plan <- function(output,needed,available,tweak) {\n",
        "  if (all(needed >= available)) { return(output * (1-tweak)) }\n",
        "  if (all(needed < available)) { return(output * (1+tweak)) }\n",
        "  return(output*runif(n=length(output),min=1-tweak,max=1+tweak))\n",
        "}"
      ]
    },
    {
      "cell_type": "markdown",
      "id": "d2c8e3ce",
      "metadata": {},
      "source": [
        "---\n",
        "### Summary\n",
        "\n",
        "- ***Multiple functions*** let us do multiple related jobs, either on the same object or on similar ones\n",
        "- ***Sub-functions*** let us break big problems into smaller ones, and re-use the solutions to the smaller ones\n",
        "- ***Recursion*** is a powerful way of making hard problems simpler\n",
        "\n",
        "---\n",
        "## Top-down design of programs\n",
        "\n",
        "### Abstraction\n",
        "\n",
        "- The point of abstraction: program in ways which don't use people as bad\n",
        "  computers\n",
        "- Economics says: rely on _comparative_ advantage\n",
        "    + Computers: Good at tracking arbitrary details, applying rigid rules\n",
        "    + People: Good at thinking, meaning, discovering patterns\n",
        "- $\\therefore$ organize programming so that people spend their time on the big\n",
        "  picture, and computers on the little things\n",
        "\n",
        "- Abstraction --- hiding details and specifics, dealing in generalities and\n",
        "  common patterns --- is a way to program so you do what you're good at, and the computer does what it's good at\n",
        "- We have talked about lots of examples of this already\n",
        "    + Names; data structures; functions; interfaces\n",
        "\n",
        "---\n",
        "### Top-Down Design\n",
        "\n",
        "- Start with the big-picture view of the problem\n",
        "- Break the problem into a few big parts\n",
        "- Figure out how to fit the parts together\n",
        "- Go do this for each part\n",
        "\n",
        "#### The Big-Picture View\n",
        "\n",
        "- Resources: what information is available as part of the problem?\n",
        "    + Usually arguments to a function\n",
        "- Requirements: what information do we want as part of the solution?\n",
        "    + Usually return values\n",
        "- What do we have to do to transform the problem statement into a solution?\n",
        "\n",
        "---\n",
        "#### Breaking Into Parts\n",
        "\n",
        "- Try to break the calculation into a _few_ (say $\\leq 5$) parts\n",
        "    + Bad: write 500 lines of code, chop it into five 100-line blocks\n",
        "    + Good: each part is an independent calculation, using separate data\n",
        "- Advantages of the good way:\n",
        "    + More comprehensible to human beings\n",
        "    + Easier to improve and extend (respect interfaces)\n",
        "    + Easier to debug\n",
        "    + Easier to test\n",
        "\n",
        "---\n",
        "#### Put the Parts Together\n",
        "\n",
        "- _Assume_ that you can solve each part, and their solutions are functions\n",
        "- Write top-level code for the function which puts those steps together:\n",
        "\n",
        "```\n",
        "# Not actual code\n",
        "big.job <- function(lots.of.arguments) {\n",
        "   intermediate.result <- first.step(some.of.the.args)\n",
        "   final.result <- second.step(intermediate.result,rest.of.the.args)\n",
        "   return(final.result)\n",
        "}\n",
        "```\n",
        "\n",
        "- The sub-functions don't have to be written when you _declare_\n",
        "  the main function, just when you _run_ it"
      ]
    },
    {
      "cell_type": "markdown",
      "id": "566889a6",
      "metadata": {},
      "source": [
        "---\n",
        "### What About the Sub-Functions?\n",
        "\n",
        "- Recursion: Because each sub-function solves a single well-defined problem, we can solve it by top-down design\n",
        "- The step above tells you what the arguments are, and what the return value must be (interface)\n",
        "- The step above doesn't care how you turn inputs to output (internals)\n",
        "- Stop when we hit a sub-problem we can solve in a few steps with _built-in_ functions\n",
        "\n",
        "---\n",
        "### Thinking Algorithmically\n",
        "\n",
        "- Top-down design only works if you understand\n",
        "    + the problem, and\n",
        "    + a systematic method for solving the problem\n",
        "- $\\therefore$ it forces you to think **algorithmically**\n",
        "- First guesses about how to break down the problem are often wrong\n",
        "    + but functional approach contains effects of changes\n",
        "    + $\\therefore$ don't be afraid to change the design\n",
        "\n",
        "---\n",
        "### Combining the Practices\n",
        "\n",
        "- Top-down design fits naturally with functional coding\n",
        "    + Each piece of code has a well-defined interface, no (or few) side-effects\n",
        "- Top-down design makes debugging easier\n",
        "    + Easier to see where the bug occurs (higher-level function vs. sub-functions)\n",
        "    + Easier to fix the bug by changing just one piece of code\n",
        "- Top-down design makes testing easier\n",
        "   + Each function has one _limited_ job\n",
        "   \n",
        "---\n",
        "### Refactoring\n",
        "\n",
        "- One mode of abstraction is **refactoring**\n",
        "\n",
        "- The metaphor: numbers can be factored in many different ways; pick ones which\n",
        "  emphasize the common factors\n",
        "\n",
        "$$\\begin{eqnarray*}\n",
        "    144 & = & 9\\times 16 = 3\\times 3 \\times 4 \\times 2 \\times 2\\\\\n",
        "    360 & = & 6 \\times 60 = 3 \\times 3 \\times 4 \\times 2 \\times 5\n",
        "\\end{eqnarray*}$$\n",
        "\n",
        "Then you can re-use the common part of the work\n",
        "\n",
        "Once we have some code, and it (more or less) works, re-write it to emphasize\n",
        "  commonalities:\n",
        "\n",
        "- Parallel and transparent naming\n",
        "- Grouping related values into objects\n",
        "- Common or parallel sub-tasks become shared functions\n",
        "- Common or parallel over-all tasks become general functions\n",
        "\n",
        "---\n",
        "### Grouping into Objects\n",
        "\n",
        "- _Notice_ that the same variables keep being used together\n",
        "- _Create_ a single data object (data frame, list, ...) that includes\n",
        "  them all as parts\n",
        "- _Replace_ mentions of the individual variables with mentions of parts of\n",
        "  the unified object"
      ]
    },
    {
      "cell_type": "markdown",
      "id": "65260a20",
      "metadata": {},
      "source": [
        "#### Advantages of Grouping\n",
        "\n",
        "- Clarity (especially if you give the object a good name)\n",
        "- Makes sure that the right values are always present (pass the object as an\n",
        "  argument to functions, rather than the components)\n",
        "- Memorization: if you know you are going to want to do the same calculation\n",
        "  many times on these data values, do it once when you create the object, and\n",
        "  store the result as a component\n",
        "\n",
        "---\n",
        "### Extracting the Common Sub-Task\n",
        "\n",
        "- _Notice_ that your code does the same thing, or nearly the same thing, in\n",
        "  multiple places, as part doing something else\n",
        "-  _Extract_ the common operation\n",
        "- _Write_ one function to do that operation, perhaps with additional\n",
        "  arguments\n",
        "- _Call_ the new function in the old locations\n",
        "\n",
        "#### Advantages of Extracting Common Operations\n",
        "\n",
        "- Main code focuses on _what_ is to be done, not _how_ (abstraction,\n",
        "  human understanding)\n",
        "- Only have to test (and debug) one piece of code for the sub-task\n",
        "- Improvements to the sub-task propagate everywhere\n",
        "    + Drawback: bugs propagate everywhere too"
      ]
    },
    {
      "cell_type": "markdown",
      "id": "5b2f433b",
      "metadata": {},
      "source": [
        "---\n",
        "### Extracting General Operations\n",
        "\n",
        "- _Notice_ that you have several functions doing parallel, or nearly\n",
        "  parallel, operations\n",
        "- _Extract_ the common pattern or general operation\n",
        "- _Write_ one function to do the general operation, with additional\n",
        "  arguments (typically including functions)\n",
        "- _Call_ the new general function with appropriate arguments, rather than\n",
        "  the old functions\n",
        "\n",
        "#### Advantages of Extracting General Patterns\n",
        "\n",
        "- Clarifies the logic of what you are doing (abstraction, human understanding,\n",
        "  use of statistical theory)\n",
        "- Extending the same operation to new tasks is easy, not re-writing code from\n",
        "  scratch\n",
        "- Old functions provide test cases to check if general function works\n",
        "- Separate testing/debugging \"puts the pieces together properly\" from \"gets the small pieces right\"\n",
        "\n",
        "---\n",
        "### Refactoring vs. Top-down design\n",
        "\n",
        "Re-factoring tends to make code look more like the result of top-down design\n",
        "\n",
        "_This is no accident_"
      ]
    },
    {
      "cell_type": "markdown",
      "id": "6753b5b8",
      "metadata": {},
      "source": [
        "#### Extended example: the jackknife\n",
        "\n",
        "- Have an estimator $\\hat{\\theta}$ of parameter $\\theta$  \n",
        "  want the standard error of our estimate, $se_{\\hat{\\theta}}$\n",
        "- The jackknife approximation:\n",
        "    + omit case $i$, get estimate $\\hat{\\theta}_{(-i)}$\n",
        "    + Take the variance of all the $\\hat{\\theta}_{(-i)}$\n",
        "    + multiply that variance by $\\frac{(n-1)^2}{n}$ to get $\\approx$ variance of $\\hat{\\theta}$\n",
        "- then $se_{\\hat{\\theta}}=$ square root of that variance\n",
        "\n",
        "<small>(Why $(n-1)^2 / n$?  Think about just getting the standard\n",
        "    error of the mean)</small>\n",
        "    \n",
        "---\n",
        "### Jackknife for the mean\n"
      ]
    },
    {
      "cell_type": "code",
      "execution_count": null,
      "id": "9e51d469",
      "metadata": {},
      "outputs": [],
      "source": [
        "mean.jackknife <- function(a_vector) {\n",
        "  n <- length(a_vector)\n",
        "  jackknife.ests <- vector(length=n)\n",
        "  for (omitted.point in 1:n) {\n",
        "    jackknife.ests[omitted.point] <- mean(a_vector[-omitted.point])\n",
        "  }\n",
        "  variance.of.ests <- var(jackknife.ests)\n",
        "  jackknife.var <- ((n-1)^2/n)*variance.of.ests\n",
        "  jackknife.stderr <- sqrt(jackknife.var)\n",
        "  return(jackknife.stderr)\n",
        "}"
      ]
    },
    {
      "cell_type": "code",
      "execution_count": null,
      "id": "11e9ce2c",
      "metadata": {},
      "outputs": [],
      "source": [
        "some_normals <- rnorm(100,mean=7,sd=5)\n",
        "(formula_se_of_mean <- sd(some_normals)/sqrt(length(some_normals)))\n",
        "all.equal(formula_se_of_mean,mean.jackknife(some_normals))"
      ]
    },
    {
      "cell_type": "markdown",
      "id": "e52a0bbd",
      "metadata": {},
      "source": [
        "---\n",
        "### Jackknife for Gamma Parameters\n",
        "\n",
        "Recall our friend the method of moments estimator:"
      ]
    },
    {
      "cell_type": "code",
      "execution_count": null,
      "id": "d3fb52f3",
      "metadata": {
        "lines_to_next_cell": 2
      },
      "outputs": [],
      "source": [
        "gamma.est <- function(the_data) {\n",
        "  m <- mean(the_data)\n",
        "  v <- var(the_data)\n",
        "  a <- m^2/v\n",
        "  s <- v/m\n",
        "  return(c(a=a,s=s))\n",
        "}"
      ]
    },
    {
      "cell_type": "code",
      "execution_count": null,
      "id": "808d95da",
      "metadata": {
        "lines_to_next_cell": 0
      },
      "outputs": [],
      "source": [
        "gamma.jackknife <- function(a_vector) {\n",
        "  n <- length(a_vector)\n",
        "  jackknife.ests <- matrix(NA,nrow=2,ncol=n)\n",
        "  rownames(jackknife.ests) = c(\"a\",\"s\")\n",
        "  for (omitted.point in 1:n) {\n",
        "    fit <- gamma.est(a_vector[-omitted.point])\n",
        "    jackknife.ests[\"a\",omitted.point] <- fit[\"a\"]\n",
        "    jackknife.ests[\"s\",omitted.point] <- fit[\"s\"]\n",
        "  }\n",
        "  variance.of.ests <- apply(jackknife.ests,1,var)\n",
        "  jackknife.vars <- ((n-1)^2/n)*variance.of.ests\n",
        "  jackknife.stderrs <- sqrt(jackknife.vars)\n",
        "  return(jackknife.stderrs)\n",
        "}"
      ]
    },
    {
      "cell_type": "markdown",
      "id": "a10af0d3",
      "metadata": {},
      "source": [
        "---\n",
        "\n",
        "#### Jackknife for Gamma Parameters"
      ]
    },
    {
      "cell_type": "code",
      "execution_count": null,
      "id": "dbd479ce",
      "metadata": {
        "lines_to_next_cell": 2
      },
      "outputs": [],
      "source": [
        "data(\"cats\",package=\"MASS\")\n",
        "gamma.est(cats$Hwt)\n",
        "gamma.jackknife(cats$Hwt)"
      ]
    },
    {
      "cell_type": "markdown",
      "id": "5a5af18f",
      "metadata": {},
      "source": [
        "---\n",
        "#### Jackknife for linear regression coefficients"
      ]
    },
    {
      "cell_type": "code",
      "execution_count": null,
      "id": "875cffb7",
      "metadata": {},
      "outputs": [],
      "source": [
        "jackknife.lm <- function(df,formula,p) {\n",
        "  n <- nrow(df)\n",
        "  jackknife.ests <- matrix(0,nrow=p,ncol=n)\n",
        "  for (omit in 1:n) {\n",
        "    new.coefs <- lm(as.formula(formula),data=df[-omit,])$coefficients\n",
        "    jackknife.ests[,omit] <- new.coefs\n",
        "  }\n",
        "  variance.of.ests <- apply(jackknife.ests,1,var)\n",
        "  jackknife.var <- ((n-1)^2/n)*variance.of.ests\n",
        "  jackknife.stderr <- sqrt(jackknife.var)\n",
        "  return(jackknife.stderr)\n",
        "}"
      ]
    },
    {
      "cell_type": "code",
      "execution_count": null,
      "id": "78b66892",
      "metadata": {},
      "outputs": [],
      "source": [
        "cats.lm <- lm(Hwt~Bwt,data=cats)\n",
        "# \"Official\" standard errors\n",
        "sqrt(diag(vcov(cats.lm)))\n",
        "jackknife.lm(df=cats,formula=\"Hwt~Bwt\",p=2)"
      ]
    },
    {
      "cell_type": "markdown",
      "id": "eb47b38d",
      "metadata": {},
      "source": [
        "---\n",
        "#### Refactoring the Jackknife\n",
        "\n",
        "- Omitting one point or row is a common sub-task\n",
        "\n",
        "- The general pattern:\n",
        "\n",
        "```\n",
        "figure out the size of the data\n",
        "for each case\n",
        "   omit that case\n",
        "   repeat some estimation and get a vector of numbers\n",
        "take variances across cases\n",
        "scale up variances\n",
        "take the square roots\n",
        "```\n",
        "\n",
        "- Refactor by extracting the common \"omit one\" operation\n",
        "\n",
        "- Refactor by defining a general \"jackknife\" operation\n",
        "\n",
        "---\n",
        "### The Common Operation\n",
        "\n",
        "- _Problem_: Omit one particular data point from a larger structure\n",
        "\n",
        "- _Difficulty_: Do we need a comma in the index or not?\n",
        "\n",
        "- _Solution_: Works for vectors, lists, 1D and 2D arrays, matrices, data frames:"
      ]
    },
    {
      "cell_type": "code",
      "execution_count": null,
      "id": "a0123c40",
      "metadata": {},
      "outputs": [],
      "source": [
        "omit.case <- function(the_data,omitted_point) {\n",
        "  data_dims <- dim(the_data)\n",
        "  if (is.null(data_dims) || (length(data_dims)==1)) {\n",
        "    return(the_data[-omitted_point])\n",
        "  } else {\n",
        "    return(the_data[-omitted_point,])\n",
        "  }\n",
        "}"
      ]
    },
    {
      "cell_type": "markdown",
      "id": "8513018f",
      "metadata": {},
      "source": [
        "<small>**Exercise**: Modify so it also handles higher-dimensional\n",
        "    arrays</small>\n",
        "\n",
        "---\n",
        "### The General Operation\n"
      ]
    },
    {
      "cell_type": "code",
      "execution_count": null,
      "id": "ca883079",
      "metadata": {},
      "outputs": [],
      "source": [
        "jackknife <- function(estimator,the_data) {\n",
        "  if (is.null(dim(the_data))) { n <- length(the_data) }\n",
        "  else { n <- nrow(the_data) }\n",
        "  omit_and_est <- function(omit) {\n",
        "    estimator(omit.case(the_data,omit))\n",
        "  }\n",
        "  jackknife.ests <- matrix(sapply(1:n, omit_and_est), ncol=n)\n",
        "  var.of.reestimates <- apply(jackknife.ests,1,var)\n",
        "  jackknife.var <- ((n-1)^2/n)* var.of.reestimates\n",
        "  jackknife.stderr <- sqrt(jackknife.var)\n",
        "  return(jackknife.stderr)\n",
        "}"
      ]
    },
    {
      "cell_type": "markdown",
      "id": "60922a2e",
      "metadata": {},
      "source": [
        "<small>Could allow other arguments to `estimator`, spin off\n",
        "    finding `n` as its own function, etc.</small>\n",
        "---\n",
        "#### It works"
      ]
    },
    {
      "cell_type": "code",
      "execution_count": null,
      "id": "7331c3f7",
      "metadata": {},
      "outputs": [],
      "source": [
        "jackknife(estimator=mean,the_data=some_normals)\n",
        "all.equal(jackknife(estimator=mean,the_data=some_normals),\n",
        "          mean.jackknife(some_normals))"
      ]
    },
    {
      "cell_type": "code",
      "execution_count": null,
      "id": "f4236997",
      "metadata": {},
      "outputs": [],
      "source": [
        "all.equal(jackknife(estimator=gamma.est,the_data=cats$Hwt),\n",
        "          gamma.jackknife(cats$Hwt))"
      ]
    },
    {
      "cell_type": "code",
      "execution_count": null,
      "id": "7dd03c82",
      "metadata": {},
      "outputs": [],
      "source": [
        "all.equal(jackknife(estimator=gamma.est,the_data=cats$Hwt),\n",
        "          gamma.jackknife(cats$Hwt), check.names=FALSE)"
      ]
    },
    {
      "cell_type": "markdown",
      "id": "28d4e007",
      "metadata": {
        "lines_to_next_cell": 0
      },
      "source": [
        "<small>Exercise: Have `jackknife()` figure out component\n",
        "names for its output, if `estimator` has named components</small>\n",
        "---\n",
        "#### It works"
      ]
    },
    {
      "cell_type": "code",
      "execution_count": null,
      "id": "d851c4c8",
      "metadata": {},
      "outputs": [],
      "source": [
        "est.coefs <- function(the_data) {\n",
        "  return(lm(Hwt~Bwt,data=the_data)$coefficients)\n",
        "}\n",
        "est.coefs(cats)\n",
        "all.equal(est.coefs(cats), coefficients(cats.lm))"
      ]
    },
    {
      "cell_type": "code",
      "execution_count": null,
      "id": "205ea31a",
      "metadata": {
        "lines_to_next_cell": 0
      },
      "outputs": [],
      "source": [
        "jackknife(estimator=est.coefs,the_data=cats)\n",
        "all.equal(jackknife(estimator=est.coefs,the_data=cats),\n",
        "          jackknife.lm(df=cats,formula=\"Hwt~Bwt\",p=2))"
      ]
    },
    {
      "cell_type": "markdown",
      "id": "089cc4a8",
      "metadata": {},
      "source": [
        "---\n",
        "### Refactoring + Testing\n",
        "\n",
        "We have just tested the new code against the old to make sure we've not _added_ errors\n",
        "\n",
        "i.e., we have done **regression testing**\n",
        "\n",
        "### Summary\n",
        "\n",
        "1. Top-down design is a recursive heuristic for coding\n",
        "    + Split your problem into a few sub-problems; write code tying their solutions together\n",
        "    + If any sub-problems still need solving, go write their functions\n",
        "    \n",
        "2. Leads to multiple short functions, each solving a limited problem\n",
        "3. Disciplines you to think algorithmically\n",
        "4. Once you have working code, re-factor it to make it look more like it came from a top-down design\n",
        "    + Factor out similar or repeated sub-operations\n",
        "    + Factor out common over-all operations\n",
        "\n",
        "---\n",
        "### Further Refactoring of jackknife()\n",
        "\n",
        "The code for `jackknife()` is still a bit clunky:\n",
        "- Ugly `if-else` for finding `n`\n",
        "- Bit at the end for scaling variances down to standard errors"
      ]
    },
    {
      "cell_type": "code",
      "execution_count": null,
      "id": "c15328b6",
      "metadata": {},
      "outputs": [],
      "source": [
        "data_size <- function(the_data) {\n",
        "  if (is.null(dim(the_data))) { n <- length(the_data) }\n",
        "  else { n <- nrow(the_data) }\n",
        "}"
      ]
    },
    {
      "cell_type": "code",
      "execution_count": null,
      "id": "0aba5659",
      "metadata": {
        "lines_to_next_cell": 0
      },
      "outputs": [],
      "source": [
        "scale_and_sqrt_vars <- function(jackknife.ests,n) {\n",
        "  var.of.reestimates <- apply(jackknife.ests,1,var)\n",
        "  jackknife.var <- ((n-1)^2/n)* var.of.reestimates\n",
        "  jackknife.stderr <- sqrt(jackknife.var)\n",
        "  return(jackknife.stderr)\n",
        "}"
      ]
    },
    {
      "cell_type": "markdown",
      "id": "ad4ba50d",
      "metadata": {},
      "source": [
        "---\n",
        "### Further Refactoring of jackknife()\n",
        "\n",
        "Now invoke those functions"
      ]
    },
    {
      "cell_type": "code",
      "execution_count": null,
      "id": "6b3f8575",
      "metadata": {
        "lines_to_next_cell": 0
      },
      "outputs": [],
      "source": [
        "jackknife <- function(estimator,the_data) {\n",
        "  n <- data_size(the_data)\n",
        "  omit_and_est <- function(omit) {\n",
        "    estimator(omit.case(the_data,omit))\n",
        "  }\n",
        "  jackknife.ests <- matrix(sapply(1:n, omit_and_est), ncol=n)\n",
        "  return(scale_and_sqrt_vars(jackknife.ests,n))\n",
        "}"
      ]
    },
    {
      "cell_type": "markdown",
      "id": "8342e7bd",
      "metadata": {},
      "source": [
        "\n",
        "\n",
        "\n",
        "\n"
      ]
    }
  ],
  "metadata": {
    "jupytext": {
      "cell_metadata_filter": "tags,echo,name,message,out.height,eval,-all",
      "main_language": "R",
      "notebook_metadata_filter": "-all"
    },
    "kernelspec": {
      "name": "ir",
      "display_name": "R",
      "language": "R"
    },
    "language_info": {
      "name": "R"
    }
  },
  "nbformat": 4,
  "nbformat_minor": 5
}