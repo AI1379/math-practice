{
  "cells": [
    {
      "cell_type": "raw",
      "id": "004fcc04",
      "metadata": {
        "lines_to_next_cell": 0
      },
      "source": [
        "---\n",
        "title: \"Data Science with R\"\n",
        "subtitle: \"Data type and data structure\"\n",
        "author: \"Peng Zhang\"\n",
        "institute: \"School of Mathematical Sciences, Zhejiang University\"\n",
        "date: \"2025/06/26\"\n",
        "output:\n",
        "  xaringan::moon_reader:\n",
        "    lib_dir: libs\n",
        "    nature:\n",
        "      highlightStyle: github\n",
        "      highlightLines: true\n",
        "      countIncrementalSlides: false\n",
        "---"
      ]
    },
    {
      "cell_type": "code",
      "execution_count": null,
      "id": "10ebdc61",
      "metadata": {
        "lines_to_next_cell": 0,
        "message": false,
        "name": "setup",
        "tags": [
          "remove_cell"
        ],
        "vscode": {
          "languageId": "r"
        }
      },
      "outputs": [],
      "source": [
        "options(htmltools.dir.version = FALSE)\n",
        "# source('xaringan2pdf.R')\n",
        "# xaringan_to_pdf('Chapter2.html')\n",
        "library(tidyverse)\n",
        "library(pdfetch)\n"
      ]
    },
    {
      "cell_type": "markdown",
      "id": "59b4d67c",
      "metadata": {},
      "source": [
        "## Data Type\n",
        "\n",
        "All data is represented in binary format, by **bits** (TRUE/FALSE, YES/NO, 1/0)\n",
        "\n",
        "- **Booleans** Direct binary values: `TRUE` or `FALSE` in R\n",
        "- **Integers**: whole numbers (positive, negative or zero), represented by a fixed-length block of bits\n",
        "- **Characters** fixed-length blocks of bits, with special coding;\n",
        "**strings** = sequences of characters\n",
        "- **Floating point numbers**: a fraction (with a finite number of bits) times an exponent, like $1.87 \\times {10}^{6}$, but in binary form\n",
        "- **Missing or ill-defined values**: `NA`, `NaN`, etc.\n",
        "\n",
        "---\n",
        "### More types\n",
        "\n",
        "`typeof()` function returns the type\n",
        "\n",
        "`is.`_foo_`()` functions return Booleans for whether the argument is of type _foo_\n",
        "\n",
        "`as.`_foo_`()` (tries to) \"cast\" its argument to type _foo_ --- to translate it sensibly into a _foo_-type value"
      ]
    },
    {
      "cell_type": "code",
      "execution_count": null,
      "id": "c8fff7b8",
      "metadata": {
        "lines_to_next_cell": 0,
        "vscode": {
          "languageId": "r"
        }
      },
      "outputs": [
        {
          "data": {
            "text/html": [
              "'double'"
            ],
            "text/latex": [
              "'double'"
            ],
            "text/markdown": [
              "'double'"
            ],
            "text/plain": [
              "[1] \"double\""
            ]
          },
          "metadata": {},
          "output_type": "display_data"
        },
        {
          "data": {
            "text/html": [
              "TRUE"
            ],
            "text/latex": [
              "TRUE"
            ],
            "text/markdown": [
              "TRUE"
            ],
            "text/plain": [
              "[1] TRUE"
            ]
          },
          "metadata": {},
          "output_type": "display_data"
        },
        {
          "data": {
            "text/html": [
              "FALSE"
            ],
            "text/latex": [
              "FALSE"
            ],
            "text/markdown": [
              "FALSE"
            ],
            "text/plain": [
              "[1] FALSE"
            ]
          },
          "metadata": {},
          "output_type": "display_data"
        },
        {
          "data": {
            "text/html": [
              "TRUE"
            ],
            "text/latex": [
              "TRUE"
            ],
            "text/markdown": [
              "TRUE"
            ],
            "text/plain": [
              "[1] TRUE"
            ]
          },
          "metadata": {},
          "output_type": "display_data"
        }
      ],
      "source": [
        "typeof(7)\n",
        "is.numeric(7)\n",
        "is.na(7 / 0)\n",
        "is.na(0 / 0) # Why is 7/0 not NA, but 0/0 is?\n"
      ]
    },
    {
      "cell_type": "markdown",
      "id": "48653ff3",
      "metadata": {},
      "source": [
        "---"
      ]
    },
    {
      "cell_type": "code",
      "execution_count": null,
      "id": "bf635a07",
      "metadata": {
        "lines_to_next_cell": 0,
        "vscode": {
          "languageId": "r"
        }
      },
      "outputs": [
        {
          "data": {
            "text/html": [
              "FALSE"
            ],
            "text/latex": [
              "FALSE"
            ],
            "text/markdown": [
              "FALSE"
            ],
            "text/plain": [
              "[1] FALSE"
            ]
          },
          "metadata": {},
          "output_type": "display_data"
        },
        {
          "data": {
            "text/html": [
              "TRUE"
            ],
            "text/latex": [
              "TRUE"
            ],
            "text/markdown": [
              "TRUE"
            ],
            "text/plain": [
              "[1] TRUE"
            ]
          },
          "metadata": {},
          "output_type": "display_data"
        },
        {
          "data": {
            "text/html": [
              "TRUE"
            ],
            "text/latex": [
              "TRUE"
            ],
            "text/markdown": [
              "TRUE"
            ],
            "text/plain": [
              "[1] TRUE"
            ]
          },
          "metadata": {},
          "output_type": "display_data"
        },
        {
          "data": {
            "text/html": [
              "FALSE"
            ],
            "text/latex": [
              "FALSE"
            ],
            "text/markdown": [
              "FALSE"
            ],
            "text/plain": [
              "[1] FALSE"
            ]
          },
          "metadata": {},
          "output_type": "display_data"
        }
      ],
      "source": [
        "is.character(7)\n",
        "is.character(\"7\")\n",
        "is.character(\"seven\")\n",
        "is.na(\"seven\")\n"
      ]
    },
    {
      "cell_type": "markdown",
      "id": "f02ac913",
      "metadata": {
        "lines_to_next_cell": 0
      },
      "source": [
        "---"
      ]
    },
    {
      "cell_type": "code",
      "execution_count": null,
      "id": "cc149635",
      "metadata": {
        "lines_to_next_cell": 0,
        "vscode": {
          "languageId": "r"
        }
      },
      "outputs": [
        {
          "data": {
            "text/html": [
              "'0.833333333333333'"
            ],
            "text/latex": [
              "'0.833333333333333'"
            ],
            "text/markdown": [
              "'0.833333333333333'"
            ],
            "text/plain": [
              "[1] \"0.833333333333333\""
            ]
          },
          "metadata": {},
          "output_type": "display_data"
        },
        {
          "data": {
            "text/html": [
              "0.833333333333333"
            ],
            "text/latex": [
              "0.833333333333333"
            ],
            "text/markdown": [
              "0.833333333333333"
            ],
            "text/plain": [
              "[1] 0.8333333"
            ]
          },
          "metadata": {},
          "output_type": "display_data"
        },
        {
          "data": {
            "text/html": [
              "5"
            ],
            "text/latex": [
              "5"
            ],
            "text/markdown": [
              "5"
            ],
            "text/plain": [
              "[1] 5"
            ]
          },
          "metadata": {},
          "output_type": "display_data"
        },
        {
          "data": {
            "text/html": [
              "FALSE"
            ],
            "text/latex": [
              "FALSE"
            ],
            "text/markdown": [
              "FALSE"
            ],
            "text/plain": [
              "[1] FALSE"
            ]
          },
          "metadata": {},
          "output_type": "display_data"
        }
      ],
      "source": [
        "as.character(5 / 6)\n",
        "as.numeric(as.character(5 / 6))\n",
        "6 * as.numeric(as.character(5 / 6))\n",
        "5 / 6 == as.numeric(as.character(5 / 6))\n"
      ]
    },
    {
      "cell_type": "markdown",
      "id": "bf1fa4d1",
      "metadata": {
        "lines_to_next_cell": 0
      },
      "source": [
        "<small>(why is that last FALSE?)</small>\n",
        "\n",
        "---\n",
        "### Data can have names\n",
        "\n",
        "We can give names to data objects; these give us **variables**\n",
        "\n",
        "A few variables are built in:"
      ]
    },
    {
      "cell_type": "code",
      "execution_count": null,
      "id": "6e0758d9",
      "metadata": {
        "lines_to_next_cell": 0,
        "vscode": {
          "languageId": "r"
        }
      },
      "outputs": [
        {
          "data": {
            "text/html": [
              "3.14159265358979"
            ],
            "text/latex": [
              "3.14159265358979"
            ],
            "text/markdown": [
              "3.14159265358979"
            ],
            "text/plain": [
              "[1] 3.141593"
            ]
          },
          "metadata": {},
          "output_type": "display_data"
        }
      ],
      "source": [
        "pi\n"
      ]
    },
    {
      "cell_type": "markdown",
      "id": "18d27da8",
      "metadata": {
        "lines_to_next_cell": 0
      },
      "source": [
        "Variables can be arguments to functions or operators, just like constants:"
      ]
    },
    {
      "cell_type": "code",
      "execution_count": 71,
      "id": "9c4ea1e9",
      "metadata": {
        "lines_to_next_cell": 0,
        "vscode": {
          "languageId": "r"
        }
      },
      "outputs": [
        {
          "data": {
            "text/html": [
              "31.4159265358979"
            ],
            "text/latex": [
              "31.4159265358979"
            ],
            "text/markdown": [
              "31.4159265358979"
            ],
            "text/plain": [
              "[1] 31.41593"
            ]
          },
          "metadata": {},
          "output_type": "display_data"
        },
        {
          "data": {
            "text/html": [
              "-1"
            ],
            "text/latex": [
              "-1"
            ],
            "text/markdown": [
              "-1"
            ],
            "text/plain": [
              "[1] -1"
            ]
          },
          "metadata": {},
          "output_type": "display_data"
        }
      ],
      "source": [
        "pi * 10\n",
        "cos(pi)\n"
      ]
    },
    {
      "cell_type": "markdown",
      "id": "f5cce5d9",
      "metadata": {},
      "source": [
        "---\n",
        "### Peculiarites of floating-point numbers\n",
        "\n",
        "The more bits in the fraction part, the more precision\n",
        "\n",
        "The R floating-point data type is a `double`, a.k.a. `numeric`\n",
        "<small>back when memory was expensive, the now-standard\n",
        "number of bits was twice the default</small>\n",
        "\n",
        "Finite precision $\\Rightarrow$ arithmetic on `doubles` $\\neq$ arithmetic on $\\mathbb{R}$."
      ]
    },
    {
      "cell_type": "code",
      "execution_count": null,
      "id": "fe1a435e",
      "metadata": {
        "vscode": {
          "languageId": "r"
        }
      },
      "outputs": [
        {
          "data": {
            "text/html": [
              "FALSE"
            ],
            "text/latex": [
              "FALSE"
            ],
            "text/markdown": [
              "FALSE"
            ],
            "text/plain": [
              "[1] FALSE"
            ]
          },
          "metadata": {},
          "output_type": "display_data"
        },
        {
          "data": {
            "text/html": [
              "5.55111512312578e-17"
            ],
            "text/latex": [
              "5.55111512312578e-17"
            ],
            "text/markdown": [
              "5.55111512312578e-17"
            ],
            "text/plain": [
              "[1] 5.551115e-17"
            ]
          },
          "metadata": {},
          "output_type": "display_data"
        }
      ],
      "source": [
        "0.45 == 3 * 0.15\n",
        "0.45 - 3 * 0.15\n"
      ]
    },
    {
      "cell_type": "markdown",
      "id": "a4202a12",
      "metadata": {
        "lines_to_next_cell": 0
      },
      "source": [
        "---\n",
        "\n",
        "Often ignorable, but not always\n",
        "- Rounding errors tend to accumulate in long calculations\n",
        "- When results should be $\\approx 0$, errors can flip signs\n",
        "- Usually better to use `all.equal()` than exact comparison"
      ]
    },
    {
      "cell_type": "code",
      "execution_count": null,
      "id": "85cfd055",
      "metadata": {
        "vscode": {
          "languageId": "r"
        }
      },
      "outputs": [
        {
          "data": {
            "text/html": [
              "FALSE"
            ],
            "text/latex": [
              "FALSE"
            ],
            "text/markdown": [
              "FALSE"
            ],
            "text/plain": [
              "[1] FALSE"
            ]
          },
          "metadata": {},
          "output_type": "display_data"
        },
        {
          "data": {
            "text/html": [
              "TRUE"
            ],
            "text/latex": [
              "TRUE"
            ],
            "text/markdown": [
              "TRUE"
            ],
            "text/plain": [
              "[1] TRUE"
            ]
          },
          "metadata": {},
          "output_type": "display_data"
        }
      ],
      "source": [
        "(0.5 - 0.3) == (0.3 - 0.1)\n",
        "all.equal(0.5 - 0.3, 0.3 - 0.1)\n"
      ]
    },
    {
      "cell_type": "markdown",
      "id": "97fcb905",
      "metadata": {
        "lines_to_next_cell": 0
      },
      "source": [
        "---\n",
        "## Data structures\n",
        "\n",
        "- Vectors\n",
        "- Arrays\n",
        "- Matrices\n",
        "- Lists\n",
        "- Dataframes\n",
        "- Structures of structures\n",
        "\n",
        "---\n",
        "### First data structure: vectors\n",
        "\n",
        "Group related data values into one object, a **data structure**\n",
        "\n",
        "A **vector** is a sequence of values, all of the same type"
      ]
    },
    {
      "cell_type": "code",
      "execution_count": null,
      "id": "43b01287",
      "metadata": {
        "lines_to_next_cell": 0,
        "vscode": {
          "languageId": "r"
        }
      },
      "outputs": [
        {
          "data": {
            "text/html": [
              "<style>\n",
              ".list-inline {list-style: none; margin:0; padding: 0}\n",
              ".list-inline>li {display: inline-block}\n",
              ".list-inline>li:not(:last-child)::after {content: \"\\00b7\"; padding: 0 .5ex}\n",
              "</style>\n",
              "<ol class=list-inline><li>7</li><li>8</li><li>10</li><li>45</li></ol>\n"
            ],
            "text/latex": [
              "\\begin{enumerate*}\n",
              "\\item 7\n",
              "\\item 8\n",
              "\\item 10\n",
              "\\item 45\n",
              "\\end{enumerate*}\n"
            ],
            "text/markdown": [
              "1. 7\n",
              "2. 8\n",
              "3. 10\n",
              "4. 45\n",
              "\n",
              "\n"
            ],
            "text/plain": [
              "[1]  7  8 10 45"
            ]
          },
          "metadata": {},
          "output_type": "display_data"
        },
        {
          "data": {
            "text/html": [
              "TRUE"
            ],
            "text/latex": [
              "TRUE"
            ],
            "text/markdown": [
              "TRUE"
            ],
            "text/plain": [
              "[1] TRUE"
            ]
          },
          "metadata": {},
          "output_type": "display_data"
        }
      ],
      "source": [
        "x <- c(7, 8, 10, 45)\n",
        "x\n",
        "is.vector(x)\n"
      ]
    },
    {
      "cell_type": "markdown",
      "id": "107c87b7",
      "metadata": {
        "lines_to_next_cell": 0
      },
      "source": [
        "---\n",
        "`c()` function returns a vector containing all its arguments in order\n",
        "\n",
        "`x[1]` is the first element, `x[4]` is the 4th element  \n",
        "`x[-4]` is a vector containing all but the fourth element\n",
        "\n",
        "`vector(length=6)` returns an empty vector of length 6; helpful for filling things up later"
      ]
    },
    {
      "cell_type": "code",
      "execution_count": null,
      "id": "b2dd8184",
      "metadata": {
        "vscode": {
          "languageId": "r"
        }
      },
      "outputs": [
        {
          "data": {
            "text/html": [
              "<style>\n",
              ".list-inline {list-style: none; margin:0; padding: 0}\n",
              ".list-inline>li {display: inline-block}\n",
              ".list-inline>li:not(:last-child)::after {content: \"\\00b7\"; padding: 0 .5ex}\n",
              "</style>\n",
              "<ol class=list-inline><li>0</li><li>0</li><li>0</li><li>0</li><li>8</li></ol>\n"
            ],
            "text/latex": [
              "\\begin{enumerate*}\n",
              "\\item 0\n",
              "\\item 0\n",
              "\\item 0\n",
              "\\item 0\n",
              "\\item 8\n",
              "\\end{enumerate*}\n"
            ],
            "text/markdown": [
              "1. 0\n",
              "2. 0\n",
              "3. 0\n",
              "4. 0\n",
              "5. 8\n",
              "\n",
              "\n"
            ],
            "text/plain": [
              "[1] 0 0 0 0 8"
            ]
          },
          "metadata": {},
          "output_type": "display_data"
        }
      ],
      "source": [
        "weekly_hours <- vector(length = 5)\n",
        "weekly_hours[5] <- 8\n",
        "weekly_hours\n"
      ]
    },
    {
      "cell_type": "markdown",
      "id": "bebfa700",
      "metadata": {
        "lines_to_next_cell": 0
      },
      "source": [
        "---\n",
        "\n",
        "### Vector arithmetic\n",
        "\n",
        "Operators apply to vectors \"pairwise\" or \"elementwise\":"
      ]
    },
    {
      "cell_type": "code",
      "execution_count": null,
      "id": "b21d6aaf",
      "metadata": {
        "vscode": {
          "languageId": "r"
        }
      },
      "outputs": [
        {
          "data": {
            "text/html": [
              "<style>\n",
              ".list-inline {list-style: none; margin:0; padding: 0}\n",
              ".list-inline>li {display: inline-block}\n",
              ".list-inline>li:not(:last-child)::after {content: \"\\00b7\"; padding: 0 .5ex}\n",
              "</style>\n",
              "<ol class=list-inline><li>0</li><li>0</li><li>0</li><li>0</li></ol>\n"
            ],
            "text/latex": [
              "\\begin{enumerate*}\n",
              "\\item 0\n",
              "\\item 0\n",
              "\\item 0\n",
              "\\item 0\n",
              "\\end{enumerate*}\n"
            ],
            "text/markdown": [
              "1. 0\n",
              "2. 0\n",
              "3. 0\n",
              "4. 0\n",
              "\n",
              "\n"
            ],
            "text/plain": [
              "[1] 0 0 0 0"
            ]
          },
          "metadata": {},
          "output_type": "display_data"
        },
        {
          "data": {
            "text/html": [
              "<style>\n",
              ".list-inline {list-style: none; margin:0; padding: 0}\n",
              ".list-inline>li {display: inline-block}\n",
              ".list-inline>li:not(:last-child)::after {content: \"\\00b7\"; padding: 0 .5ex}\n",
              "</style>\n",
              "<ol class=list-inline><li>-49</li><li>-64</li><li>-100</li><li>-2025</li></ol>\n"
            ],
            "text/latex": [
              "\\begin{enumerate*}\n",
              "\\item -49\n",
              "\\item -64\n",
              "\\item -100\n",
              "\\item -2025\n",
              "\\end{enumerate*}\n"
            ],
            "text/markdown": [
              "1. -49\n",
              "2. -64\n",
              "3. -100\n",
              "4. -2025\n",
              "\n",
              "\n"
            ],
            "text/plain": [
              "[1]   -49   -64  -100 -2025"
            ]
          },
          "metadata": {},
          "output_type": "display_data"
        }
      ],
      "source": [
        "y <- c(-7, -8, -10, -45)\n",
        "x + y\n",
        "x * y\n"
      ]
    },
    {
      "cell_type": "markdown",
      "id": "16db3031",
      "metadata": {
        "lines_to_next_cell": 0
      },
      "source": [
        "---\n",
        "### Recycling\n",
        "\n",
        "**Recycling** repeat elements in shorter vector when combined with longer"
      ]
    },
    {
      "cell_type": "code",
      "execution_count": null,
      "id": "d0bf6c9b",
      "metadata": {
        "vscode": {
          "languageId": "r"
        }
      },
      "outputs": [
        {
          "data": {
            "text/html": [
              "<style>\n",
              ".list-inline {list-style: none; margin:0; padding: 0}\n",
              ".list-inline>li {display: inline-block}\n",
              ".list-inline>li:not(:last-child)::after {content: \"\\00b7\"; padding: 0 .5ex}\n",
              "</style>\n",
              "<ol class=list-inline><li>0</li><li>0</li><li>3</li><li>37</li></ol>\n"
            ],
            "text/latex": [
              "\\begin{enumerate*}\n",
              "\\item 0\n",
              "\\item 0\n",
              "\\item 3\n",
              "\\item 37\n",
              "\\end{enumerate*}\n"
            ],
            "text/markdown": [
              "1. 0\n",
              "2. 0\n",
              "3. 3\n",
              "4. 37\n",
              "\n",
              "\n"
            ],
            "text/plain": [
              "[1]  0  0  3 37"
            ]
          },
          "metadata": {},
          "output_type": "display_data"
        },
        {
          "data": {
            "text/html": [
              "<style>\n",
              ".list-inline {list-style: none; margin:0; padding: 0}\n",
              ".list-inline>li {display: inline-block}\n",
              ".list-inline>li:not(:last-child)::after {content: \"\\00b7\"; padding: 0 .5ex}\n",
              "</style>\n",
              "<ol class=list-inline><li>7</li><li>8</li><li>10</li><li>45</li></ol>\n"
            ],
            "text/latex": [
              "\\begin{enumerate*}\n",
              "\\item 7\n",
              "\\item 8\n",
              "\\item 10\n",
              "\\item 45\n",
              "\\end{enumerate*}\n"
            ],
            "text/markdown": [
              "1. 7\n",
              "2. 8\n",
              "3. 10\n",
              "4. 45\n",
              "\n",
              "\n"
            ],
            "text/plain": [
              "[1]  7  8 10 45"
            ]
          },
          "metadata": {},
          "output_type": "display_data"
        },
        {
          "data": {
            "text/html": [
              "<style>\n",
              ".list-inline {list-style: none; margin:0; padding: 0}\n",
              ".list-inline>li {display: inline-block}\n",
              ".list-inline>li:not(:last-child)::after {content: \"\\00b7\"; padding: 0 .5ex}\n",
              "</style>\n",
              "<ol class=list-inline><li>7</li><li>1</li><li>0.1</li><li>6.70820393249937</li></ol>\n"
            ],
            "text/latex": [
              "\\begin{enumerate*}\n",
              "\\item 7\n",
              "\\item 1\n",
              "\\item 0.1\n",
              "\\item 6.70820393249937\n",
              "\\end{enumerate*}\n"
            ],
            "text/markdown": [
              "1. 7\n",
              "2. 1\n",
              "3. 0.1\n",
              "4. 6.70820393249937\n",
              "\n",
              "\n"
            ],
            "text/plain": [
              "[1] 7.000000 1.000000 0.100000 6.708204"
            ]
          },
          "metadata": {},
          "output_type": "display_data"
        }
      ],
      "source": [
        "x + c(-7, -8)\n",
        "x\n",
        "x^c(1, 0, -1, 0.5)\n"
      ]
    },
    {
      "cell_type": "markdown",
      "id": "24475b6b",
      "metadata": {
        "lines_to_next_cell": 0
      },
      "source": [
        "Single numbers are vectors of length 1 for purposes of recycling:"
      ]
    },
    {
      "cell_type": "code",
      "execution_count": null,
      "id": "edafc201",
      "metadata": {
        "lines_to_next_cell": 0,
        "vscode": {
          "languageId": "r"
        }
      },
      "outputs": [
        {
          "data": {
            "text/html": [
              "<style>\n",
              ".list-inline {list-style: none; margin:0; padding: 0}\n",
              ".list-inline>li {display: inline-block}\n",
              ".list-inline>li:not(:last-child)::after {content: \"\\00b7\"; padding: 0 .5ex}\n",
              "</style>\n",
              "<ol class=list-inline><li>14</li><li>16</li><li>20</li><li>90</li></ol>\n"
            ],
            "text/latex": [
              "\\begin{enumerate*}\n",
              "\\item 14\n",
              "\\item 16\n",
              "\\item 20\n",
              "\\item 90\n",
              "\\end{enumerate*}\n"
            ],
            "text/markdown": [
              "1. 14\n",
              "2. 16\n",
              "3. 20\n",
              "4. 90\n",
              "\n",
              "\n"
            ],
            "text/plain": [
              "[1] 14 16 20 90"
            ]
          },
          "metadata": {},
          "output_type": "display_data"
        }
      ],
      "source": [
        "2 * x\n"
      ]
    },
    {
      "cell_type": "markdown",
      "id": "b82f4df1",
      "metadata": {
        "lines_to_next_cell": 0
      },
      "source": [
        "---\n",
        "\n",
        "Can also do pairwise comparisons:"
      ]
    },
    {
      "cell_type": "code",
      "execution_count": null,
      "id": "0dfaedfd",
      "metadata": {
        "lines_to_next_cell": 0,
        "vscode": {
          "languageId": "r"
        }
      },
      "outputs": [
        {
          "data": {
            "text/html": [
              "<style>\n",
              ".list-inline {list-style: none; margin:0; padding: 0}\n",
              ".list-inline>li {display: inline-block}\n",
              ".list-inline>li:not(:last-child)::after {content: \"\\00b7\"; padding: 0 .5ex}\n",
              "</style>\n",
              "<ol class=list-inline><li>FALSE</li><li>FALSE</li><li>TRUE</li><li>TRUE</li></ol>\n"
            ],
            "text/latex": [
              "\\begin{enumerate*}\n",
              "\\item FALSE\n",
              "\\item FALSE\n",
              "\\item TRUE\n",
              "\\item TRUE\n",
              "\\end{enumerate*}\n"
            ],
            "text/markdown": [
              "1. FALSE\n",
              "2. FALSE\n",
              "3. TRUE\n",
              "4. TRUE\n",
              "\n",
              "\n"
            ],
            "text/plain": [
              "[1] FALSE FALSE  TRUE  TRUE"
            ]
          },
          "metadata": {},
          "output_type": "display_data"
        }
      ],
      "source": [
        "x > 9\n"
      ]
    },
    {
      "cell_type": "markdown",
      "id": "93cdbeae",
      "metadata": {
        "lines_to_next_cell": 0
      },
      "source": [
        "Note: returns Boolean vector\n",
        "\n",
        "Boolean operators work elementwise:"
      ]
    },
    {
      "cell_type": "code",
      "execution_count": null,
      "id": "63d44cd7",
      "metadata": {
        "vscode": {
          "languageId": "r"
        }
      },
      "outputs": [
        {
          "data": {
            "text/html": [
              "<style>\n",
              ".list-inline {list-style: none; margin:0; padding: 0}\n",
              ".list-inline>li {display: inline-block}\n",
              ".list-inline>li:not(:last-child)::after {content: \"\\00b7\"; padding: 0 .5ex}\n",
              "</style>\n",
              "<ol class=list-inline><li>FALSE</li><li>FALSE</li><li>TRUE</li><li>FALSE</li></ol>\n"
            ],
            "text/latex": [
              "\\begin{enumerate*}\n",
              "\\item FALSE\n",
              "\\item FALSE\n",
              "\\item TRUE\n",
              "\\item FALSE\n",
              "\\end{enumerate*}\n"
            ],
            "text/markdown": [
              "1. FALSE\n",
              "2. FALSE\n",
              "3. TRUE\n",
              "4. FALSE\n",
              "\n",
              "\n"
            ],
            "text/plain": [
              "[1] FALSE FALSE  TRUE FALSE"
            ]
          },
          "metadata": {},
          "output_type": "display_data"
        }
      ],
      "source": [
        "(x > 9) & (x < 20)\n"
      ]
    },
    {
      "cell_type": "markdown",
      "id": "ad34d3eb",
      "metadata": {
        "lines_to_next_cell": 0
      },
      "source": [
        "---\n",
        "\n",
        "To compare whole vectors, best to use `identical()` or `all.equal()`:"
      ]
    },
    {
      "cell_type": "code",
      "execution_count": null,
      "id": "0dc9e0f2",
      "metadata": {
        "lines_to_next_cell": 0,
        "vscode": {
          "languageId": "r"
        }
      },
      "outputs": [
        {
          "data": {
            "text/html": [
              "<style>\n",
              ".list-inline {list-style: none; margin:0; padding: 0}\n",
              ".list-inline>li {display: inline-block}\n",
              ".list-inline>li:not(:last-child)::after {content: \"\\00b7\"; padding: 0 .5ex}\n",
              "</style>\n",
              "<ol class=list-inline><li>TRUE</li><li>TRUE</li><li>TRUE</li><li>TRUE</li></ol>\n"
            ],
            "text/latex": [
              "\\begin{enumerate*}\n",
              "\\item TRUE\n",
              "\\item TRUE\n",
              "\\item TRUE\n",
              "\\item TRUE\n",
              "\\end{enumerate*}\n"
            ],
            "text/markdown": [
              "1. TRUE\n",
              "2. TRUE\n",
              "3. TRUE\n",
              "4. TRUE\n",
              "\n",
              "\n"
            ],
            "text/plain": [
              "[1] TRUE TRUE TRUE TRUE"
            ]
          },
          "metadata": {},
          "output_type": "display_data"
        },
        {
          "data": {
            "text/html": [
              "TRUE"
            ],
            "text/latex": [
              "TRUE"
            ],
            "text/markdown": [
              "TRUE"
            ],
            "text/plain": [
              "[1] TRUE"
            ]
          },
          "metadata": {},
          "output_type": "display_data"
        },
        {
          "data": {
            "text/html": [
              "FALSE"
            ],
            "text/latex": [
              "FALSE"
            ],
            "text/markdown": [
              "FALSE"
            ],
            "text/plain": [
              "[1] FALSE"
            ]
          },
          "metadata": {},
          "output_type": "display_data"
        },
        {
          "data": {
            "text/html": [
              "TRUE"
            ],
            "text/latex": [
              "TRUE"
            ],
            "text/markdown": [
              "TRUE"
            ],
            "text/plain": [
              "[1] TRUE"
            ]
          },
          "metadata": {},
          "output_type": "display_data"
        }
      ],
      "source": [
        "x == -y\n",
        "identical(x, -y)\n",
        "identical(c(0.5 - 0.3, 0.3 - 0.1), c(0.3 - 0.1, 0.5 - 0.3))\n",
        "all.equal(c(0.5 - 0.3, 0.3 - 0.1), c(0.3 - 0.1, 0.5 - 0.3))\n"
      ]
    },
    {
      "cell_type": "markdown",
      "id": "7060782e",
      "metadata": {
        "lines_to_next_cell": 0
      },
      "source": [
        "---\n",
        "\n",
        "### Addressing vectors\n",
        "\n",
        "Vector of indices:"
      ]
    },
    {
      "cell_type": "code",
      "execution_count": null,
      "id": "1cf53f64",
      "metadata": {
        "vscode": {
          "languageId": "r"
        }
      },
      "outputs": [
        {
          "data": {
            "text/html": [
              "<style>\n",
              ".list-inline {list-style: none; margin:0; padding: 0}\n",
              ".list-inline>li {display: inline-block}\n",
              ".list-inline>li:not(:last-child)::after {content: \"\\00b7\"; padding: 0 .5ex}\n",
              "</style>\n",
              "<ol class=list-inline><li>8</li><li>45</li></ol>\n"
            ],
            "text/latex": [
              "\\begin{enumerate*}\n",
              "\\item 8\n",
              "\\item 45\n",
              "\\end{enumerate*}\n"
            ],
            "text/markdown": [
              "1. 8\n",
              "2. 45\n",
              "\n",
              "\n"
            ],
            "text/plain": [
              "[1]  8 45"
            ]
          },
          "metadata": {},
          "output_type": "display_data"
        }
      ],
      "source": [
        "x[c(2, 4)]\n"
      ]
    },
    {
      "cell_type": "markdown",
      "id": "e3921071",
      "metadata": {
        "lines_to_next_cell": 0
      },
      "source": [
        "Vector of negative indices"
      ]
    },
    {
      "cell_type": "code",
      "execution_count": null,
      "id": "c65dd005",
      "metadata": {
        "lines_to_next_cell": 0,
        "vscode": {
          "languageId": "r"
        }
      },
      "outputs": [
        {
          "data": {
            "text/html": [
              "<style>\n",
              ".list-inline {list-style: none; margin:0; padding: 0}\n",
              ".list-inline>li {display: inline-block}\n",
              ".list-inline>li:not(:last-child)::after {content: \"\\00b7\"; padding: 0 .5ex}\n",
              "</style>\n",
              "<ol class=list-inline><li>8</li><li>45</li></ol>\n"
            ],
            "text/latex": [
              "\\begin{enumerate*}\n",
              "\\item 8\n",
              "\\item 45\n",
              "\\end{enumerate*}\n"
            ],
            "text/markdown": [
              "1. 8\n",
              "2. 45\n",
              "\n",
              "\n"
            ],
            "text/plain": [
              "[1]  8 45"
            ]
          },
          "metadata": {},
          "output_type": "display_data"
        }
      ],
      "source": [
        "x[c(-1, -3)]\n"
      ]
    },
    {
      "cell_type": "markdown",
      "id": "47b53a10",
      "metadata": {
        "lines_to_next_cell": 0
      },
      "source": [
        "<small>(why that, and not  `8 10`?)</small>\n",
        "\n",
        "---\n",
        "\n",
        "Boolean vector:"
      ]
    },
    {
      "cell_type": "code",
      "execution_count": null,
      "id": "058f02aa",
      "metadata": {
        "vscode": {
          "languageId": "r"
        }
      },
      "outputs": [
        {
          "data": {
            "text/html": [
              "<style>\n",
              ".list-inline {list-style: none; margin:0; padding: 0}\n",
              ".list-inline>li {display: inline-block}\n",
              ".list-inline>li:not(:last-child)::after {content: \"\\00b7\"; padding: 0 .5ex}\n",
              "</style>\n",
              "<ol class=list-inline><li>10</li><li>45</li></ol>\n"
            ],
            "text/latex": [
              "\\begin{enumerate*}\n",
              "\\item 10\n",
              "\\item 45\n",
              "\\end{enumerate*}\n"
            ],
            "text/markdown": [
              "1. 10\n",
              "2. 45\n",
              "\n",
              "\n"
            ],
            "text/plain": [
              "[1] 10 45"
            ]
          },
          "metadata": {},
          "output_type": "display_data"
        },
        {
          "data": {
            "text/html": [
              "<style>\n",
              ".list-inline {list-style: none; margin:0; padding: 0}\n",
              ".list-inline>li {display: inline-block}\n",
              ".list-inline>li:not(:last-child)::after {content: \"\\00b7\"; padding: 0 .5ex}\n",
              "</style>\n",
              "<ol class=list-inline><li>-10</li><li>-45</li></ol>\n"
            ],
            "text/latex": [
              "\\begin{enumerate*}\n",
              "\\item -10\n",
              "\\item -45\n",
              "\\end{enumerate*}\n"
            ],
            "text/markdown": [
              "1. -10\n",
              "2. -45\n",
              "\n",
              "\n"
            ],
            "text/plain": [
              "[1] -10 -45"
            ]
          },
          "metadata": {},
          "output_type": "display_data"
        }
      ],
      "source": [
        "x[x > 9]\n",
        "y[x > 9]\n"
      ]
    },
    {
      "cell_type": "markdown",
      "id": "5212f01a",
      "metadata": {
        "lines_to_next_cell": 0
      },
      "source": [
        "`which()` turns a Boolean vector in vector of TRUE indices:"
      ]
    },
    {
      "cell_type": "code",
      "execution_count": null,
      "id": "b5d3c8c4",
      "metadata": {
        "vscode": {
          "languageId": "r"
        }
      },
      "outputs": [
        {
          "data": {
            "text/html": [
              "<style>\n",
              ".list-inline {list-style: none; margin:0; padding: 0}\n",
              ".list-inline>li {display: inline-block}\n",
              ".list-inline>li:not(:last-child)::after {content: \"\\00b7\"; padding: 0 .5ex}\n",
              "</style>\n",
              "<ol class=list-inline><li>3</li><li>4</li></ol>\n"
            ],
            "text/latex": [
              "\\begin{enumerate*}\n",
              "\\item 3\n",
              "\\item 4\n",
              "\\end{enumerate*}\n"
            ],
            "text/markdown": [
              "1. 3\n",
              "2. 4\n",
              "\n",
              "\n"
            ],
            "text/plain": [
              "[1] 3 4"
            ]
          },
          "metadata": {},
          "output_type": "display_data"
        },
        {
          "data": {
            "text/html": [
              "<style>\n",
              ".list-inline {list-style: none; margin:0; padding: 0}\n",
              ".list-inline>li {display: inline-block}\n",
              ".list-inline>li:not(:last-child)::after {content: \"\\00b7\"; padding: 0 .5ex}\n",
              "</style>\n",
              "<ol class=list-inline><li>-10</li><li>-45</li></ol>\n"
            ],
            "text/latex": [
              "\\begin{enumerate*}\n",
              "\\item -10\n",
              "\\item -45\n",
              "\\end{enumerate*}\n"
            ],
            "text/markdown": [
              "1. -10\n",
              "2. -45\n",
              "\n",
              "\n"
            ],
            "text/plain": [
              "[1] -10 -45"
            ]
          },
          "metadata": {},
          "output_type": "display_data"
        }
      ],
      "source": [
        "places <- which(x > 9)\n",
        "places\n",
        "y[places]\n"
      ]
    },
    {
      "cell_type": "markdown",
      "id": "d14fe32b",
      "metadata": {
        "lines_to_next_cell": 0
      },
      "source": [
        "---\n",
        "### Named components\n",
        "\n",
        "You can give names to elements or components of vectors"
      ]
    },
    {
      "cell_type": "code",
      "execution_count": null,
      "id": "0053fa41",
      "metadata": {
        "lines_to_next_cell": 0,
        "vscode": {
          "languageId": "r"
        }
      },
      "outputs": [
        {
          "data": {
            "text/html": [
              "<style>\n",
              ".list-inline {list-style: none; margin:0; padding: 0}\n",
              ".list-inline>li {display: inline-block}\n",
              ".list-inline>li:not(:last-child)::after {content: \"\\00b7\"; padding: 0 .5ex}\n",
              "</style>\n",
              "<ol class=list-inline><li>'v1'</li><li>'v2'</li><li>'v3'</li><li>'fred'</li></ol>\n"
            ],
            "text/latex": [
              "\\begin{enumerate*}\n",
              "\\item 'v1'\n",
              "\\item 'v2'\n",
              "\\item 'v3'\n",
              "\\item 'fred'\n",
              "\\end{enumerate*}\n"
            ],
            "text/markdown": [
              "1. 'v1'\n",
              "2. 'v2'\n",
              "3. 'v3'\n",
              "4. 'fred'\n",
              "\n",
              "\n"
            ],
            "text/plain": [
              "[1] \"v1\"   \"v2\"   \"v3\"   \"fred\""
            ]
          },
          "metadata": {},
          "output_type": "display_data"
        },
        {
          "data": {
            "text/html": [
              "<style>\n",
              ".dl-inline {width: auto; margin:0; padding: 0}\n",
              ".dl-inline>dt, .dl-inline>dd {float: none; width: auto; display: inline-block}\n",
              ".dl-inline>dt::after {content: \":\\0020\"; padding-right: .5ex}\n",
              ".dl-inline>dt:not(:first-of-type) {padding-left: .5ex}\n",
              "</style><dl class=dl-inline><dt>fred</dt><dd>45</dd><dt>v1</dt><dd>7</dd></dl>\n"
            ],
            "text/latex": [
              "\\begin{description*}\n",
              "\\item[fred] 45\n",
              "\\item[v1] 7\n",
              "\\end{description*}\n"
            ],
            "text/markdown": [
              "fred\n",
              ":   45v1\n",
              ":   7\n",
              "\n"
            ],
            "text/plain": [
              "fred   v1 \n",
              "  45    7 "
            ]
          },
          "metadata": {},
          "output_type": "display_data"
        }
      ],
      "source": [
        "names(x) <- c(\"v1\", \"v2\", \"v3\", \"fred\")\n",
        "names(x)\n",
        "x[c(\"fred\", \"v1\")]\n"
      ]
    },
    {
      "cell_type": "markdown",
      "id": "48e02ad0",
      "metadata": {
        "lines_to_next_cell": 0
      },
      "source": [
        "note the labels in what R prints; not actually part of the value\n",
        "\n",
        "---\n",
        "\n",
        "`names(x)` is just another vector (of characters):"
      ]
    },
    {
      "cell_type": "code",
      "execution_count": null,
      "id": "149a22e0",
      "metadata": {
        "vscode": {
          "languageId": "r"
        }
      },
      "outputs": [
        {
          "data": {
            "text/html": [
              "<style>\n",
              ".list-inline {list-style: none; margin:0; padding: 0}\n",
              ".list-inline>li {display: inline-block}\n",
              ".list-inline>li:not(:last-child)::after {content: \"\\00b7\"; padding: 0 .5ex}\n",
              "</style>\n",
              "<ol class=list-inline><li>'fred'</li><li>'v1'</li><li>'v2'</li><li>'v3'</li></ol>\n"
            ],
            "text/latex": [
              "\\begin{enumerate*}\n",
              "\\item 'fred'\n",
              "\\item 'v1'\n",
              "\\item 'v2'\n",
              "\\item 'v3'\n",
              "\\end{enumerate*}\n"
            ],
            "text/markdown": [
              "1. 'fred'\n",
              "2. 'v1'\n",
              "3. 'v2'\n",
              "4. 'v3'\n",
              "\n",
              "\n"
            ],
            "text/plain": [
              "[1] \"fred\" \"v1\"   \"v2\"   \"v3\"  "
            ]
          },
          "metadata": {},
          "output_type": "display_data"
        },
        {
          "data": {
            "text/html": [
              "4"
            ],
            "text/latex": [
              "4"
            ],
            "text/markdown": [
              "4"
            ],
            "text/plain": [
              "[1] 4"
            ]
          },
          "metadata": {},
          "output_type": "display_data"
        }
      ],
      "source": [
        "names(y) <- names(x)\n",
        "sort(names(x))\n",
        "which(names(x) == \"fred\")\n"
      ]
    },
    {
      "cell_type": "markdown",
      "id": "83f489d5",
      "metadata": {
        "lines_to_next_cell": 0
      },
      "source": [
        "---\n",
        "\n",
        "### Functions on vectors\n",
        "\n",
        "Lots of functions take vectors as arguments:\n",
        "- `mean()`, `median()`, `sd()`, `var()`, `max()`, `min()`, `length()`, `sum()`: return single numbers\n",
        "- `sort()` returns a new vector\n",
        "- `hist()` takes a vector of numbers and produces a histogram, a highly structured object, with the side-effect of making a plot\n",
        "- Similarly `ecdf()` produces a cumulative-density-function object\n",
        "- `summary()` gives a five-number summary of numerical vectors\n",
        "- `any()` and `all()` are useful on Boolean vectors\n",
        "\n",
        "Not all functions have (or require) arguments:"
      ]
    },
    {
      "cell_type": "code",
      "execution_count": null,
      "id": "12d17e83",
      "metadata": {
        "lines_to_next_cell": 0,
        "vscode": {
          "languageId": "r"
        }
      },
      "outputs": [
        {
          "data": {
            "text/html": [
              "'Thu Jun 26 08:42:22 2025'"
            ],
            "text/latex": [
              "'Thu Jun 26 08:42:22 2025'"
            ],
            "text/markdown": [
              "'Thu Jun 26 08:42:22 2025'"
            ],
            "text/plain": [
              "[1] \"Thu Jun 26 08:42:22 2025\""
            ]
          },
          "metadata": {},
          "output_type": "display_data"
        }
      ],
      "source": [
        "date()\n"
      ]
    },
    {
      "cell_type": "markdown",
      "id": "4c96a95f",
      "metadata": {
        "lines_to_next_cell": 0
      },
      "source": [
        "---\n",
        "### Vector structures, starting with arrays\n",
        "\n",
        "Many data structures in R are made by adding bells and whistles to vectors, so \"vector structures\"\n",
        "\n",
        "Most useful: **arrays**"
      ]
    },
    {
      "cell_type": "code",
      "execution_count": 137,
      "id": "2967cdd4",
      "metadata": {
        "lines_to_next_cell": 0,
        "vscode": {
          "languageId": "r"
        }
      },
      "outputs": [
        {
          "data": {
            "text/html": [
              "<table class=\"dataframe\">\n",
              "<caption>A matrix: 2 × 3 of type dbl</caption>\n",
              "<tbody>\n",
              "\t<tr><td>7</td><td>10</td><td>1</td></tr>\n",
              "\t<tr><td>8</td><td>45</td><td>2</td></tr>\n",
              "</tbody>\n",
              "</table>\n"
            ],
            "text/latex": [
              "A matrix: 2 × 3 of type dbl\n",
              "\\begin{tabular}{lll}\n",
              "\t 7 & 10 & 1\\\\\n",
              "\t 8 & 45 & 2\\\\\n",
              "\\end{tabular}\n"
            ],
            "text/markdown": [
              "\n",
              "A matrix: 2 × 3 of type dbl\n",
              "\n",
              "| 7 | 10 | 1 |\n",
              "| 8 | 45 | 2 |\n",
              "\n"
            ],
            "text/plain": [
              "     [,1] [,2] [,3]\n",
              "[1,] 7    10   1   \n",
              "[2,] 8    45   2   "
            ]
          },
          "metadata": {},
          "output_type": "display_data"
        }
      ],
      "source": [
        "x <- c(7, 8, 10, 45, 1, 2)\n",
        "x.arr <- array(x, dim = c(2, 3))\n",
        "x.arr\n"
      ]
    },
    {
      "cell_type": "markdown",
      "id": "2a420c90",
      "metadata": {
        "lines_to_next_cell": 0
      },
      "source": [
        "`dim` says how many rows and columns; filled by columns\n",
        "\n",
        "Can have $3, 4, \\ldots n$ dimensional arrays; `dim` is a length $n$ vector\n",
        "\n",
        "---\n",
        "\n",
        "Some properties of the array:"
      ]
    },
    {
      "cell_type": "code",
      "execution_count": 138,
      "id": "91346317",
      "metadata": {
        "vscode": {
          "languageId": "r"
        }
      },
      "outputs": [
        {
          "data": {
            "text/html": [
              "<style>\n",
              ".list-inline {list-style: none; margin:0; padding: 0}\n",
              ".list-inline>li {display: inline-block}\n",
              ".list-inline>li:not(:last-child)::after {content: \"\\00b7\"; padding: 0 .5ex}\n",
              "</style>\n",
              "<ol class=list-inline><li>2</li><li>3</li></ol>\n"
            ],
            "text/latex": [
              "\\begin{enumerate*}\n",
              "\\item 2\n",
              "\\item 3\n",
              "\\end{enumerate*}\n"
            ],
            "text/markdown": [
              "1. 2\n",
              "2. 3\n",
              "\n",
              "\n"
            ],
            "text/plain": [
              "[1] 2 3"
            ]
          },
          "metadata": {},
          "output_type": "display_data"
        },
        {
          "data": {
            "text/html": [
              "FALSE"
            ],
            "text/latex": [
              "FALSE"
            ],
            "text/markdown": [
              "FALSE"
            ],
            "text/plain": [
              "[1] FALSE"
            ]
          },
          "metadata": {},
          "output_type": "display_data"
        },
        {
          "data": {
            "text/html": [
              "TRUE"
            ],
            "text/latex": [
              "TRUE"
            ],
            "text/markdown": [
              "TRUE"
            ],
            "text/plain": [
              "[1] TRUE"
            ]
          },
          "metadata": {},
          "output_type": "display_data"
        }
      ],
      "source": [
        "dim(x.arr)\n",
        "is.vector(x.arr)\n",
        "is.array(x.arr)\n"
      ]
    },
    {
      "cell_type": "markdown",
      "id": "8b25e114",
      "metadata": {
        "lines_to_next_cell": 0
      },
      "source": [
        "---"
      ]
    },
    {
      "cell_type": "code",
      "execution_count": 139,
      "id": "6c841ced",
      "metadata": {
        "lines_to_next_cell": 0,
        "vscode": {
          "languageId": "r"
        }
      },
      "outputs": [
        {
          "data": {
            "text/html": [
              "'double'"
            ],
            "text/latex": [
              "'double'"
            ],
            "text/markdown": [
              "'double'"
            ],
            "text/plain": [
              "[1] \"double\""
            ]
          },
          "metadata": {},
          "output_type": "display_data"
        },
        {
          "name": "stdout",
          "output_type": "stream",
          "text": [
            " num [1:2, 1:3] 7 8 10 45 1 2\n"
          ]
        },
        {
          "data": {
            "text/html": [
              "<strong>$dim</strong> = <style>\n",
              ".list-inline {list-style: none; margin:0; padding: 0}\n",
              ".list-inline>li {display: inline-block}\n",
              ".list-inline>li:not(:last-child)::after {content: \"\\00b7\"; padding: 0 .5ex}\n",
              "</style>\n",
              "<ol class=list-inline><li>2</li><li>3</li></ol>\n"
            ],
            "text/latex": [
              "\\textbf{\\$dim} = \\begin{enumerate*}\n",
              "\\item 2\n",
              "\\item 3\n",
              "\\end{enumerate*}\n"
            ],
            "text/markdown": [
              "**$dim** = 1. 2\n",
              "2. 3\n",
              "\n",
              "\n"
            ],
            "text/plain": [
              "$dim\n",
              "[1] 2 3\n"
            ]
          },
          "metadata": {},
          "output_type": "display_data"
        }
      ],
      "source": [
        "typeof(x.arr)\n",
        "str(x.arr)\n",
        "attributes(x.arr)\n"
      ]
    },
    {
      "cell_type": "code",
      "execution_count": 140,
      "id": "b2bac4b8",
      "metadata": {
        "vscode": {
          "languageId": "r"
        }
      },
      "outputs": [
        {
          "data": {
            "text/html": [
              "'double'"
            ],
            "text/latex": [
              "'double'"
            ],
            "text/markdown": [
              "'double'"
            ],
            "text/plain": [
              "[1] \"double\""
            ]
          },
          "metadata": {},
          "output_type": "display_data"
        },
        {
          "name": "stdout",
          "output_type": "stream",
          "text": [
            " num [1:6] 7 8 10 45 1 2\n"
          ]
        },
        {
          "data": {
            "text/plain": [
              "NULL"
            ]
          },
          "metadata": {},
          "output_type": "display_data"
        }
      ],
      "source": [
        "typeof(x)\n",
        "str(x)\n",
        "attributes(x)"
      ]
    },
    {
      "cell_type": "markdown",
      "id": "85bcfdcb",
      "metadata": {},
      "source": [
        "`typeof()` returns the type of the _elements_\n",
        "\n",
        "`str()` gives the **structure**: here, a numeric array, with two dimensions, both indexed 1--2, and then the actual numbers\n",
        "\n",
        "Exercise: try all these with `x`\n",
        "\n",
        "---\n",
        "### Accessing and operating on arrays\n",
        "\n",
        "Can access a 2-D array either by pairs of indices or by the underlying vector:"
      ]
    },
    {
      "cell_type": "code",
      "execution_count": 143,
      "id": "adf4f7d3",
      "metadata": {
        "vscode": {
          "languageId": "r"
        }
      },
      "outputs": [
        {
          "data": {
            "text/html": [
              "10"
            ],
            "text/latex": [
              "10"
            ],
            "text/markdown": [
              "10"
            ],
            "text/plain": [
              "[1] 10"
            ]
          },
          "metadata": {},
          "output_type": "display_data"
        },
        {
          "data": {
            "text/html": [
              "10"
            ],
            "text/latex": [
              "10"
            ],
            "text/markdown": [
              "10"
            ],
            "text/plain": [
              "[1] 10"
            ]
          },
          "metadata": {},
          "output_type": "display_data"
        },
        {
          "data": {
            "text/html": [
              "<table class=\"dataframe\">\n",
              "<caption>A matrix: 2 × 3 of type dbl</caption>\n",
              "<tbody>\n",
              "\t<tr><td>7</td><td>10</td><td>1</td></tr>\n",
              "\t<tr><td>8</td><td>45</td><td>2</td></tr>\n",
              "</tbody>\n",
              "</table>\n"
            ],
            "text/latex": [
              "A matrix: 2 × 3 of type dbl\n",
              "\\begin{tabular}{lll}\n",
              "\t 7 & 10 & 1\\\\\n",
              "\t 8 & 45 & 2\\\\\n",
              "\\end{tabular}\n"
            ],
            "text/markdown": [
              "\n",
              "A matrix: 2 × 3 of type dbl\n",
              "\n",
              "| 7 | 10 | 1 |\n",
              "| 8 | 45 | 2 |\n",
              "\n"
            ],
            "text/plain": [
              "     [,1] [,2] [,3]\n",
              "[1,] 7    10   1   \n",
              "[2,] 8    45   2   "
            ]
          },
          "metadata": {},
          "output_type": "display_data"
        }
      ],
      "source": [
        "x.arr[1, 2]\n",
        "x.arr[3]\n",
        "x.arr\n"
      ]
    },
    {
      "cell_type": "markdown",
      "id": "6330351d",
      "metadata": {
        "lines_to_next_cell": 0
      },
      "source": [
        "Omitting an index means \"all of it\":"
      ]
    },
    {
      "cell_type": "code",
      "execution_count": null,
      "id": "7e88a226",
      "metadata": {
        "lines_to_next_cell": 0,
        "vscode": {
          "languageId": "r"
        }
      },
      "outputs": [
        {
          "data": {
            "text/html": [
              "<style>\n",
              ".list-inline {list-style: none; margin:0; padding: 0}\n",
              ".list-inline>li {display: inline-block}\n",
              ".list-inline>li:not(:last-child)::after {content: \"\\00b7\"; padding: 0 .5ex}\n",
              "</style>\n",
              "<ol class=list-inline><li>10</li><li>45</li></ol>\n"
            ],
            "text/latex": [
              "\\begin{enumerate*}\n",
              "\\item 10\n",
              "\\item 45\n",
              "\\end{enumerate*}\n"
            ],
            "text/markdown": [
              "1. 10\n",
              "2. 45\n",
              "\n",
              "\n"
            ],
            "text/plain": [
              "[1] 10 45"
            ]
          },
          "metadata": {},
          "output_type": "display_data"
        },
        {
          "data": {
            "text/html": [
              "<style>\n",
              ".list-inline {list-style: none; margin:0; padding: 0}\n",
              ".list-inline>li {display: inline-block}\n",
              ".list-inline>li:not(:last-child)::after {content: \"\\00b7\"; padding: 0 .5ex}\n",
              "</style>\n",
              "<ol class=list-inline><li>10</li><li>45</li></ol>\n"
            ],
            "text/latex": [
              "\\begin{enumerate*}\n",
              "\\item 10\n",
              "\\item 45\n",
              "\\end{enumerate*}\n"
            ],
            "text/markdown": [
              "1. 10\n",
              "2. 45\n",
              "\n",
              "\n"
            ],
            "text/plain": [
              "[1] 10 45"
            ]
          },
          "metadata": {},
          "output_type": "display_data"
        }
      ],
      "source": [
        "x.arr[c(1:2), 2]\n",
        "x.arr[, 2]\n"
      ]
    },
    {
      "cell_type": "markdown",
      "id": "0b04a29c",
      "metadata": {
        "lines_to_next_cell": 0
      },
      "source": [
        "---\n",
        "### Functions on arrays\n",
        "\n",
        "Using a vector-style function on a vector structure will go down to the underlying vector, _unless_ the function is set up to handle arrays specially:"
      ]
    },
    {
      "cell_type": "code",
      "execution_count": null,
      "id": "6467c9ec",
      "metadata": {
        "lines_to_next_cell": 0,
        "vscode": {
          "languageId": "r"
        }
      },
      "outputs": [
        {
          "data": {
            "text/html": [
              "<style>\n",
              ".list-inline {list-style: none; margin:0; padding: 0}\n",
              ".list-inline>li {display: inline-block}\n",
              ".list-inline>li:not(:last-child)::after {content: \"\\00b7\"; padding: 0 .5ex}\n",
              "</style>\n",
              "<ol class=list-inline><li>3</li><li>4</li></ol>\n"
            ],
            "text/latex": [
              "\\begin{enumerate*}\n",
              "\\item 3\n",
              "\\item 4\n",
              "\\end{enumerate*}\n"
            ],
            "text/markdown": [
              "1. 3\n",
              "2. 4\n",
              "\n",
              "\n"
            ],
            "text/plain": [
              "[1] 3 4"
            ]
          },
          "metadata": {},
          "output_type": "display_data"
        }
      ],
      "source": [
        "which(x.arr > 9)\n"
      ]
    },
    {
      "cell_type": "markdown",
      "id": "2e1ca29b",
      "metadata": {
        "lines_to_next_cell": 0
      },
      "source": [
        "---\n",
        "Many functions _do_ preserve array structure:"
      ]
    },
    {
      "cell_type": "code",
      "execution_count": 145,
      "id": "003252e0",
      "metadata": {
        "vscode": {
          "languageId": "r"
        }
      },
      "outputs": [
        {
          "data": {
            "text/html": [
              "<table class=\"dataframe\">\n",
              "<caption>A matrix: 2 × 3 of type dbl</caption>\n",
              "<tbody>\n",
              "\t<tr><td>0</td><td>0</td><td>0</td></tr>\n",
              "\t<tr><td>0</td><td>0</td><td>0</td></tr>\n",
              "</tbody>\n",
              "</table>\n"
            ],
            "text/latex": [
              "A matrix: 2 × 3 of type dbl\n",
              "\\begin{tabular}{lll}\n",
              "\t 0 & 0 & 0\\\\\n",
              "\t 0 & 0 & 0\\\\\n",
              "\\end{tabular}\n"
            ],
            "text/markdown": [
              "\n",
              "A matrix: 2 × 3 of type dbl\n",
              "\n",
              "| 0 | 0 | 0 |\n",
              "| 0 | 0 | 0 |\n",
              "\n"
            ],
            "text/plain": [
              "     [,1] [,2] [,3]\n",
              "[1,] 0    0    0   \n",
              "[2,] 0    0    0   "
            ]
          },
          "metadata": {},
          "output_type": "display_data"
        }
      ],
      "source": [
        "y <- -x\n",
        "y.arr <- array(y, dim = c(2, 3))\n",
        "y.arr + x.arr\n"
      ]
    },
    {
      "cell_type": "markdown",
      "id": "59757188",
      "metadata": {
        "lines_to_next_cell": 0
      },
      "source": [
        "Others specifically act on each row or column of the array separately:"
      ]
    },
    {
      "cell_type": "code",
      "execution_count": 146,
      "id": "10a5c577",
      "metadata": {
        "vscode": {
          "languageId": "r"
        }
      },
      "outputs": [
        {
          "data": {
            "text/html": [
              "<style>\n",
              ".list-inline {list-style: none; margin:0; padding: 0}\n",
              ".list-inline>li {display: inline-block}\n",
              ".list-inline>li:not(:last-child)::after {content: \"\\00b7\"; padding: 0 .5ex}\n",
              "</style>\n",
              "<ol class=list-inline><li>18</li><li>55</li></ol>\n"
            ],
            "text/latex": [
              "\\begin{enumerate*}\n",
              "\\item 18\n",
              "\\item 55\n",
              "\\end{enumerate*}\n"
            ],
            "text/markdown": [
              "1. 18\n",
              "2. 55\n",
              "\n",
              "\n"
            ],
            "text/plain": [
              "[1] 18 55"
            ]
          },
          "metadata": {},
          "output_type": "display_data"
        }
      ],
      "source": [
        "rowSums(x.arr)\n"
      ]
    },
    {
      "cell_type": "markdown",
      "id": "a7436b57",
      "metadata": {},
      "source": [
        "<small>We will see a lot more of this idea</small>"
      ]
    },
    {
      "cell_type": "markdown",
      "id": "59093bc3",
      "metadata": {
        "lines_to_next_cell": 0
      },
      "source": [
        "---\n",
        "### Example: Price of houses in PA\n",
        "\n",
        "Census data for California and Pennsylvania on housing prices,\n",
        "by Census \"tract\""
      ]
    },
    {
      "cell_type": "code",
      "execution_count": 147,
      "id": "0f7b9e69",
      "metadata": {
        "lines_to_next_cell": 0,
        "message": false,
        "vscode": {
          "languageId": "r"
        }
      },
      "outputs": [
        {
          "name": "stderr",
          "output_type": "stream",
          "text": [
            "\u001b[1m\u001b[22mNew names:\n",
            "\u001b[36m•\u001b[39m `` -> `...1`\n",
            "\u001b[1mRows: \u001b[22m\u001b[34m11275\u001b[39m \u001b[1mColumns: \u001b[22m\u001b[34m34\u001b[39m\n",
            "\u001b[36m──\u001b[39m \u001b[1mColumn specification\u001b[22m \u001b[36m────────────────────────────────────────────────────────\u001b[39m\n",
            "\u001b[1mDelimiter:\u001b[22m \",\"\n",
            "\u001b[31mchr\u001b[39m  (4): STATEFP, COUNTYFP, TRACTCE, GEO.display.label\n",
            "\u001b[32mdbl\u001b[39m (30): ...1, GEO.id2, POPULATION, LATITUDE, LONGITUDE, Median_house_value...\n",
            "\n",
            "\u001b[36mℹ\u001b[39m Use `spec()` to retrieve the full column specification for this data.\n",
            "\u001b[36mℹ\u001b[39m Specify the column types or set `show_col_types = FALSE` to quiet this message.\n"
          ]
        },
        {
          "data": {
            "text/html": [
              "<style>\n",
              ".dl-inline {width: auto; margin:0; padding: 0}\n",
              ".dl-inline>dt, .dl-inline>dd {float: none; width: auto; display: inline-block}\n",
              ".dl-inline>dt::after {content: \":\\0020\"; padding-right: .5ex}\n",
              ".dl-inline>dt:not(:first-of-type) {padding-left: .5ex}\n",
              "</style><dl class=dl-inline><dt>(Intercept)</dt><dd>-26434.7298581711</dd><dt>Median_household_income</dt><dd>3.65505360898024</dd></dl>\n"
            ],
            "text/latex": [
              "\\begin{description*}\n",
              "\\item[(Intercept)] -26434.7298581711\n",
              "\\item[Median\\textbackslash{}\\_household\\textbackslash{}\\_income] 3.65505360898024\n",
              "\\end{description*}\n"
            ],
            "text/markdown": [
              "(Intercept)\n",
              ":   -26434.7298581711Median_household_income\n",
              ":   3.65505360898024\n",
              "\n"
            ],
            "text/plain": [
              "            (Intercept) Median_household_income \n",
              "          -26434.729858                3.655054 "
            ]
          },
          "metadata": {},
          "output_type": "display_data"
        },
        {
          "name": "stderr",
          "output_type": "stream",
          "text": [
            "\u001b[1m\u001b[22m`geom_smooth()` using formula = 'y ~ x'\n",
            "Warning message:\n",
            "\"\u001b[1m\u001b[22mRemoved 50 rows containing non-finite outside the scale range\n",
            "(`stat_smooth()`).\"\n",
            "Warning message:\n",
            "\"\u001b[1m\u001b[22mRemoved 50 rows containing missing values or values outside the scale range\n",
            "(`geom_point()`).\"\n"
          ]
        },
        {
          "data": {
            "image/png": "[encoded data removed]",
            "text/plain": [
              "plot without title"
            ]
          },
          "metadata": {
            "image/png": {
              "height": 420,
              "width": 420
            }
          },
          "output_type": "display_data"
        }
      ],
      "source": [
        "calif_penn <- read_csv(\"data/calif_penn_2011.csv\")\n",
        "penn <- calif_penn |> filter(STATEFP == \"42\")\n",
        "#|> filter(!(Median_household_income < 10000 & Median_house_value > 70000))#calif_penn[calif_penn$STATEFP == '42',]\n",
        "penn <- penn[!penn$TRACTCE %in% c(\"961102\", \"000800\"), ]\n",
        "coefficients(lm(Median_house_value ~ Median_household_income, data = penn))\n",
        "penn |> ggplot(aes(x = Median_household_income, y = Median_house_value)) +\n",
        "    geom_point() +\n",
        "    geom_smooth(method = \"lm\", se = FALSE) +\n",
        "    labs(\n",
        "        x = \"Median household income\",\n",
        "        y = \"Median house value\",\n",
        "        title = \"Pennsylvania House Values vs Household Income\"\n",
        "    )\n"
      ]
    },
    {
      "cell_type": "markdown",
      "id": "7439ae7f",
      "metadata": {
        "lines_to_next_cell": 0
      },
      "source": [
        "Fit a simple linear model, predicting median house price from median household income\n",
        "\n",
        "---\n",
        "Census tracts 24--425 are Allegheny county\n",
        "\n",
        "Tract 24 has a median income of `$14,719`; actual median house value is `$34,100` --- is that above or below what's?"
      ]
    },
    {
      "cell_type": "code",
      "execution_count": null,
      "id": "d5e278d6",
      "metadata": {
        "vscode": {
          "languageId": "r"
        }
      },
      "outputs": [
        {
          "data": {
            "text/html": [
              "FALSE"
            ],
            "text/latex": [
              "FALSE"
            ],
            "text/markdown": [
              "FALSE"
            ],
            "text/plain": [
              "[1] FALSE"
            ]
          },
          "metadata": {},
          "output_type": "display_data"
        }
      ],
      "source": [
        "34100 < -26206.564 + 3.651 * 14719\n"
      ]
    },
    {
      "cell_type": "markdown",
      "id": "c360dbfb",
      "metadata": {
        "lines_to_next_cell": 0
      },
      "source": [
        "Tract 25 has income `$48,102` and house price `$155,900`"
      ]
    },
    {
      "cell_type": "code",
      "execution_count": null,
      "id": "0b2f0863",
      "metadata": {
        "vscode": {
          "languageId": "r"
        }
      },
      "outputs": [
        {
          "data": {
            "text/html": [
              "FALSE"
            ],
            "text/latex": [
              "FALSE"
            ],
            "text/markdown": [
              "FALSE"
            ],
            "text/plain": [
              "[1] FALSE"
            ]
          },
          "metadata": {},
          "output_type": "display_data"
        }
      ],
      "source": [
        "155900 < -26206.564 + 3.651 * 48102\n"
      ]
    },
    {
      "cell_type": "markdown",
      "id": "f3431d93",
      "metadata": {
        "lines_to_next_cell": 0
      },
      "source": [
        "What about tract 26?\n",
        "\n",
        "---\n",
        "\n",
        "We _could_ just keep plugging in numbers like this, but that's\n",
        "- boring and repetitive\n",
        "- error-prone (what if I forget to change the median income, or drop a minus sign from the intercept?)\n",
        "- obscure if we come back to our work later (what _are_ these numbers?)\n",
        "\n",
        "Use variables and names\n",
        "---"
      ]
    },
    {
      "cell_type": "code",
      "execution_count": null,
      "id": "dc6d7cab",
      "metadata": {
        "vscode": {
          "languageId": "r"
        }
      },
      "outputs": [
        {
          "data": {
            "text/html": [
              "<style>\n",
              ".dl-inline {width: auto; margin:0; padding: 0}\n",
              ".dl-inline>dt, .dl-inline>dd {float: none; width: auto; display: inline-block}\n",
              ".dl-inline>dt::after {content: \":\\0020\"; padding-right: .5ex}\n",
              ".dl-inline>dt:not(:first-of-type) {padding-left: .5ex}\n",
              "</style><dl class=dl-inline><dt>(Intercept)</dt><dd>-26434.7298581711</dd><dt>Median_household_income</dt><dd>3.65505360898024</dd></dl>\n"
            ],
            "text/latex": [
              "\\begin{description*}\n",
              "\\item[(Intercept)] -26434.7298581711\n",
              "\\item[Median\\textbackslash{}\\_household\\textbackslash{}\\_income] 3.65505360898024\n",
              "\\end{description*}\n"
            ],
            "text/markdown": [
              "(Intercept)\n",
              ":   -26434.7298581711Median_household_income\n",
              ":   3.65505360898024\n",
              "\n"
            ],
            "text/plain": [
              "            (Intercept) Median_household_income \n",
              "          -26434.729858                3.655054 "
            ]
          },
          "metadata": {},
          "output_type": "display_data"
        }
      ],
      "source": [
        "penn.coefs <- coefficients(lm(Median_house_value ~ Median_household_income, data = penn))\n",
        "penn.coefs\n"
      ]
    },
    {
      "cell_type": "code",
      "execution_count": null,
      "id": "0256b205",
      "metadata": {
        "vscode": {
          "languageId": "r"
        }
      },
      "outputs": [],
      "source": [
        "allegheny.rows <- 24:425\n",
        "allegheny <- penn |>\n",
        "  slice(allegheny.rows) |>\n",
        "  mutate(fitted = penn.coefs[\"(Intercept)\"] +\n",
        "    penn.coefs[\"Median_household_income\"] * Median_household_income)\n",
        "allegheny <- allegheny[complete.cases(allegheny), ]\n"
      ]
    },
    {
      "cell_type": "markdown",
      "id": "eb3b679b",
      "metadata": {
        "lines_to_next_cell": 0
      },
      "source": [
        "---"
      ]
    },
    {
      "cell_type": "code",
      "execution_count": null,
      "id": "5565ea11",
      "metadata": {
        "dpi": 300,
        "fig.height": 7.5,
        "fig.width": 12,
        "lines_to_next_cell": 0,
        "message": false,
        "vscode": {
          "languageId": "r"
        }
      },
      "outputs": [
        {
          "name": "stderr",
          "output_type": "stream",
          "text": [
            "\u001b[1m\u001b[22m`geom_smooth()` using method = 'loess' and formula = 'y ~ x'\n"
          ]
        },
        {
          "data": {
            "image/png": "[encoded data removed]",
            "text/plain": [
              "plot without title"
            ]
          },
          "metadata": {
            "image/png": {
              "height": 420,
              "width": 420
            }
          },
          "output_type": "display_data"
        }
      ],
      "source": [
        "allegheny |> ggplot(aes(x = fitted, y = Median_house_value)) +\n",
        "   geom_point() +\n",
        "   labs(\n",
        "      x = \"Model-predicted median house values\",\n",
        "      y = \"Actual median house values\"\n",
        "   ) +\n",
        "   geom_smooth() +\n",
        "   geom_abline()\n"
      ]
    },
    {
      "cell_type": "markdown",
      "id": "ff843081",
      "metadata": {
        "lines_to_next_cell": 0
      },
      "source": [
        "---"
      ]
    },
    {
      "cell_type": "code",
      "execution_count": null,
      "id": "77545e7a",
      "metadata": {
        "dpi": 300,
        "fig.height": 8.5,
        "fig.width": 12,
        "lines_to_next_cell": 0,
        "message": false,
        "vscode": {
          "languageId": "r"
        }
      },
      "outputs": [
        {
          "name": "stderr",
          "output_type": "stream",
          "text": [
            "\u001b[1m\u001b[22m`stat_bin()` using `bins = 30`. Pick better value with `binwidth`.\n"
          ]
        },
        {
          "data": {
            "image/png": "[encoded data removed]",
            "text/plain": [
              "plot without title"
            ]
          },
          "metadata": {
            "image/png": {
              "height": 420,
              "width": 420
            }
          },
          "output_type": "display_data"
        }
      ],
      "source": [
        "allegheny |> ggplot(aes(x = Median_household_income)) +\n",
        "  geom_histogram()\n"
      ]
    },
    {
      "cell_type": "markdown",
      "id": "55c53c7a",
      "metadata": {},
      "source": [
        "---\n",
        "### Running example: resource allocation (\"mathematical programming\")\n",
        "\n",
        "Factory makes cars and trucks, using labor and steel\n",
        "\n",
        "- a car takes 40 hours of labor and 1 ton of steel\n",
        "- a truck takes 60 hours and 3 tons of steel\n",
        "- resources: 1600 hours of labor and 70 tons of steel each week\n"
      ]
    },
    {
      "cell_type": "markdown",
      "id": "040ff6d0",
      "metadata": {},
      "source": [
        "---\n",
        "### Matrices\n",
        "\n",
        "In R, a matrix is a specialization of a 2D array"
      ]
    },
    {
      "cell_type": "code",
      "execution_count": null,
      "id": "b22a56ac",
      "metadata": {
        "lines_to_next_cell": 0,
        "vscode": {
          "languageId": "r"
        }
      },
      "outputs": [
        {
          "data": {
            "text/html": [
              "TRUE"
            ],
            "text/latex": [
              "TRUE"
            ],
            "text/markdown": [
              "TRUE"
            ],
            "text/plain": [
              "[1] TRUE"
            ]
          },
          "metadata": {},
          "output_type": "display_data"
        },
        {
          "data": {
            "text/html": [
              "TRUE"
            ],
            "text/latex": [
              "TRUE"
            ],
            "text/markdown": [
              "TRUE"
            ],
            "text/plain": [
              "[1] TRUE"
            ]
          },
          "metadata": {},
          "output_type": "display_data"
        }
      ],
      "source": [
        "factory <- matrix(c(40, 1, 60, 3), nrow = 2)\n",
        "is.array(factory)\n",
        "is.matrix(factory)\n"
      ]
    },
    {
      "cell_type": "markdown",
      "id": "f0424f32",
      "metadata": {},
      "source": [
        "could also specify `ncol`, and/or `byrow=TRUE` to fill by rows.\n",
        "\n",
        "Element-wise operations with the usual arithmetic and comparison operators\n",
        "(e.g., `factory/3`)\n",
        "\n",
        "Compare whole matrices with `identical()` or `all.equal()`"
      ]
    },
    {
      "cell_type": "markdown",
      "id": "f12fe6e8",
      "metadata": {},
      "source": [
        "---\n",
        "### Matrix multiplication\n",
        "\n",
        "Gets a special operator"
      ]
    },
    {
      "cell_type": "code",
      "execution_count": 148,
      "id": "2443a279",
      "metadata": {
        "vscode": {
          "languageId": "r"
        }
      },
      "outputs": [
        {
          "data": {
            "text/html": [
              "<table class=\"dataframe\">\n",
              "<caption>A matrix: 2 × 3 of type dbl</caption>\n",
              "<tbody>\n",
              "\t<tr><td>7</td><td>7</td><td>7</td></tr>\n",
              "\t<tr><td>7</td><td>7</td><td>7</td></tr>\n",
              "</tbody>\n",
              "</table>\n"
            ],
            "text/latex": [
              "A matrix: 2 × 3 of type dbl\n",
              "\\begin{tabular}{lll}\n",
              "\t 7 & 7 & 7\\\\\n",
              "\t 7 & 7 & 7\\\\\n",
              "\\end{tabular}\n"
            ],
            "text/markdown": [
              "\n",
              "A matrix: 2 × 3 of type dbl\n",
              "\n",
              "| 7 | 7 | 7 |\n",
              "| 7 | 7 | 7 |\n",
              "\n"
            ],
            "text/plain": [
              "     [,1] [,2] [,3]\n",
              "[1,] 7    7    7   \n",
              "[2,] 7    7    7   "
            ]
          },
          "metadata": {},
          "output_type": "display_data"
        },
        {
          "data": {
            "text/html": [
              "<table class=\"dataframe\">\n",
              "<caption>A matrix: 2 × 3 of type dbl</caption>\n",
              "<tbody>\n",
              "\t<tr><th scope=row>labor</th><td>700</td><td>700</td><td>700</td></tr>\n",
              "\t<tr><th scope=row>steel</th><td> 28</td><td> 28</td><td> 28</td></tr>\n",
              "</tbody>\n",
              "</table>\n"
            ],
            "text/latex": [
              "A matrix: 2 × 3 of type dbl\n",
              "\\begin{tabular}{r|lll}\n",
              "\tlabor & 700 & 700 & 700\\\\\n",
              "\tsteel &  28 &  28 &  28\\\\\n",
              "\\end{tabular}\n"
            ],
            "text/markdown": [
              "\n",
              "A matrix: 2 × 3 of type dbl\n",
              "\n",
              "| labor | 700 | 700 | 700 |\n",
              "| steel |  28 |  28 |  28 |\n",
              "\n"
            ],
            "text/plain": [
              "      [,1] [,2] [,3]\n",
              "labor 700  700  700 \n",
              "steel  28   28   28 "
            ]
          },
          "metadata": {},
          "output_type": "display_data"
        }
      ],
      "source": [
        "six.sevens <- matrix(rep(7, 6), ncol = 3)\n",
        "six.sevens\n",
        "factory %*% six.sevens # [2x2] * [2x3]\n"
      ]
    },
    {
      "cell_type": "markdown",
      "id": "d43b3c4a",
      "metadata": {},
      "source": [
        "<small>What happens if you try `six.sevens %*% factory`?</small>"
      ]
    },
    {
      "cell_type": "markdown",
      "id": "240fdb7d",
      "metadata": {
        "lines_to_next_cell": 0
      },
      "source": [
        "---\n",
        "### Multiplying matrices and vectors\n",
        "\n",
        "Numeric vectors can act like proper vectors:"
      ]
    },
    {
      "cell_type": "code",
      "execution_count": null,
      "id": "b972fae6",
      "metadata": {
        "lines_to_next_cell": 0,
        "vscode": {
          "languageId": "r"
        }
      },
      "outputs": [
        {
          "data": {
            "text/html": [
              "<table class=\"dataframe\">\n",
              "<caption>A matrix: 2 × 1 of type dbl</caption>\n",
              "<tbody>\n",
              "\t<tr><td>1600</td></tr>\n",
              "\t<tr><td>  70</td></tr>\n",
              "</tbody>\n",
              "</table>\n"
            ],
            "text/latex": [
              "A matrix: 2 × 1 of type dbl\n",
              "\\begin{tabular}{l}\n",
              "\t 1600\\\\\n",
              "\t   70\\\\\n",
              "\\end{tabular}\n"
            ],
            "text/markdown": [
              "\n",
              "A matrix: 2 × 1 of type dbl\n",
              "\n",
              "| 1600 |\n",
              "|   70 |\n",
              "\n"
            ],
            "text/plain": [
              "     [,1]\n",
              "[1,] 1600\n",
              "[2,]   70"
            ]
          },
          "metadata": {},
          "output_type": "display_data"
        },
        {
          "data": {
            "text/html": [
              "<table class=\"dataframe\">\n",
              "<caption>A matrix: 1 × 2 of type dbl</caption>\n",
              "<tbody>\n",
              "\t<tr><td>420</td><td>660</td></tr>\n",
              "</tbody>\n",
              "</table>\n"
            ],
            "text/latex": [
              "A matrix: 1 × 2 of type dbl\n",
              "\\begin{tabular}{ll}\n",
              "\t 420 & 660\\\\\n",
              "\\end{tabular}\n"
            ],
            "text/markdown": [
              "\n",
              "A matrix: 1 × 2 of type dbl\n",
              "\n",
              "| 420 | 660 |\n",
              "\n"
            ],
            "text/plain": [
              "     [,1] [,2]\n",
              "[1,] 420  660 "
            ]
          },
          "metadata": {},
          "output_type": "display_data"
        }
      ],
      "source": [
        "output <- c(10, 20)\n",
        "factory %*% output\n",
        "output %*% factory\n"
      ]
    },
    {
      "cell_type": "markdown",
      "id": "d7e3c8c9",
      "metadata": {},
      "source": [
        "<small>R silently casts the vector as either a row or a column matrix</small>"
      ]
    },
    {
      "cell_type": "markdown",
      "id": "af854b41",
      "metadata": {},
      "source": [
        "---\n",
        "### Matrix operators"
      ]
    },
    {
      "cell_type": "markdown",
      "id": "3a60db55",
      "metadata": {
        "lines_to_next_cell": 0
      },
      "source": [
        "Transpose:"
      ]
    },
    {
      "cell_type": "code",
      "execution_count": null,
      "id": "57c19a4e",
      "metadata": {
        "vscode": {
          "languageId": "r"
        }
      },
      "outputs": [
        {
          "data": {
            "text/html": [
              "<table class=\"dataframe\">\n",
              "<caption>A matrix: 2 × 2 of type dbl</caption>\n",
              "<tbody>\n",
              "\t<tr><td>40</td><td>1</td></tr>\n",
              "\t<tr><td>60</td><td>3</td></tr>\n",
              "</tbody>\n",
              "</table>\n"
            ],
            "text/latex": [
              "A matrix: 2 × 2 of type dbl\n",
              "\\begin{tabular}{ll}\n",
              "\t 40 & 1\\\\\n",
              "\t 60 & 3\\\\\n",
              "\\end{tabular}\n"
            ],
            "text/markdown": [
              "\n",
              "A matrix: 2 × 2 of type dbl\n",
              "\n",
              "| 40 | 1 |\n",
              "| 60 | 3 |\n",
              "\n"
            ],
            "text/plain": [
              "     [,1] [,2]\n",
              "[1,] 40   1   \n",
              "[2,] 60   3   "
            ]
          },
          "metadata": {},
          "output_type": "display_data"
        }
      ],
      "source": [
        "t(factory)\n"
      ]
    },
    {
      "cell_type": "markdown",
      "id": "1a4de4e3",
      "metadata": {
        "lines_to_next_cell": 0
      },
      "source": [
        "Determinant:"
      ]
    },
    {
      "cell_type": "code",
      "execution_count": null,
      "id": "57040ac9",
      "metadata": {
        "lines_to_next_cell": 2,
        "vscode": {
          "languageId": "r"
        }
      },
      "outputs": [
        {
          "data": {
            "text/html": [
              "60"
            ],
            "text/latex": [
              "60"
            ],
            "text/markdown": [
              "60"
            ],
            "text/plain": [
              "[1] 60"
            ]
          },
          "metadata": {},
          "output_type": "display_data"
        }
      ],
      "source": [
        "det(factory)\n"
      ]
    },
    {
      "cell_type": "markdown",
      "id": "5950d0cf",
      "metadata": {
        "lines_to_next_cell": 0
      },
      "source": [
        "---\n",
        "### The diagonal\n",
        "\n",
        "The `diag()` function can extract the diagonal entries of a matrix:"
      ]
    },
    {
      "cell_type": "code",
      "execution_count": null,
      "id": "a684ae39",
      "metadata": {
        "lines_to_next_cell": 0,
        "vscode": {
          "languageId": "r"
        }
      },
      "outputs": [
        {
          "data": {
            "text/html": [
              "<style>\n",
              ".list-inline {list-style: none; margin:0; padding: 0}\n",
              ".list-inline>li {display: inline-block}\n",
              ".list-inline>li:not(:last-child)::after {content: \"\\00b7\"; padding: 0 .5ex}\n",
              "</style>\n",
              "<ol class=list-inline><li>40</li><li>3</li></ol>\n"
            ],
            "text/latex": [
              "\\begin{enumerate*}\n",
              "\\item 40\n",
              "\\item 3\n",
              "\\end{enumerate*}\n"
            ],
            "text/markdown": [
              "1. 40\n",
              "2. 3\n",
              "\n",
              "\n"
            ],
            "text/plain": [
              "[1] 40  3"
            ]
          },
          "metadata": {},
          "output_type": "display_data"
        }
      ],
      "source": [
        "diag(factory)\n"
      ]
    },
    {
      "cell_type": "markdown",
      "id": "b7e5e987",
      "metadata": {
        "lines_to_next_cell": 0
      },
      "source": [
        "It can also _change_ the diagonal:"
      ]
    },
    {
      "cell_type": "code",
      "execution_count": null,
      "id": "c5ee89e5",
      "metadata": {
        "lines_to_next_cell": 0,
        "vscode": {
          "languageId": "r"
        }
      },
      "outputs": [
        {
          "data": {
            "text/html": [
              "<table class=\"dataframe\">\n",
              "<caption>A matrix: 2 × 2 of type dbl</caption>\n",
              "<tbody>\n",
              "\t<tr><td>35</td><td>60</td></tr>\n",
              "\t<tr><td> 1</td><td> 4</td></tr>\n",
              "</tbody>\n",
              "</table>\n"
            ],
            "text/latex": [
              "A matrix: 2 × 2 of type dbl\n",
              "\\begin{tabular}{ll}\n",
              "\t 35 & 60\\\\\n",
              "\t  1 &  4\\\\\n",
              "\\end{tabular}\n"
            ],
            "text/markdown": [
              "\n",
              "A matrix: 2 × 2 of type dbl\n",
              "\n",
              "| 35 | 60 |\n",
              "|  1 |  4 |\n",
              "\n"
            ],
            "text/plain": [
              "     [,1] [,2]\n",
              "[1,] 35   60  \n",
              "[2,]  1    4  "
            ]
          },
          "metadata": {},
          "output_type": "display_data"
        }
      ],
      "source": [
        "diag(factory) <- c(35, 4)\n",
        "factory\n"
      ]
    },
    {
      "cell_type": "markdown",
      "id": "6d9a68dd",
      "metadata": {
        "lines_to_next_cell": 0
      },
      "source": [
        "Re-set it for later:"
      ]
    },
    {
      "cell_type": "code",
      "execution_count": null,
      "id": "67612a51",
      "metadata": {
        "lines_to_next_cell": 2,
        "vscode": {
          "languageId": "r"
        }
      },
      "outputs": [],
      "source": [
        "diag(factory) <- c(40, 3)\n"
      ]
    },
    {
      "cell_type": "markdown",
      "id": "4fb01833",
      "metadata": {},
      "source": [
        "---\n",
        "### Creating a diagonal or identity matrix"
      ]
    },
    {
      "cell_type": "code",
      "execution_count": null,
      "id": "66d3b7e8",
      "metadata": {
        "lines_to_next_cell": 2,
        "vscode": {
          "languageId": "r"
        }
      },
      "outputs": [
        {
          "data": {
            "text/html": [
              "<table class=\"dataframe\">\n",
              "<caption>A matrix: 2 × 2 of type dbl</caption>\n",
              "<tbody>\n",
              "\t<tr><td>3</td><td>0</td></tr>\n",
              "\t<tr><td>0</td><td>4</td></tr>\n",
              "</tbody>\n",
              "</table>\n"
            ],
            "text/latex": [
              "A matrix: 2 × 2 of type dbl\n",
              "\\begin{tabular}{ll}\n",
              "\t 3 & 0\\\\\n",
              "\t 0 & 4\\\\\n",
              "\\end{tabular}\n"
            ],
            "text/markdown": [
              "\n",
              "A matrix: 2 × 2 of type dbl\n",
              "\n",
              "| 3 | 0 |\n",
              "| 0 | 4 |\n",
              "\n"
            ],
            "text/plain": [
              "     [,1] [,2]\n",
              "[1,] 3    0   \n",
              "[2,] 0    4   "
            ]
          },
          "metadata": {},
          "output_type": "display_data"
        },
        {
          "data": {
            "text/html": [
              "<table class=\"dataframe\">\n",
              "<caption>A matrix: 2 × 2 of type dbl</caption>\n",
              "<tbody>\n",
              "\t<tr><td>1</td><td>0</td></tr>\n",
              "\t<tr><td>0</td><td>1</td></tr>\n",
              "</tbody>\n",
              "</table>\n"
            ],
            "text/latex": [
              "A matrix: 2 × 2 of type dbl\n",
              "\\begin{tabular}{ll}\n",
              "\t 1 & 0\\\\\n",
              "\t 0 & 1\\\\\n",
              "\\end{tabular}\n"
            ],
            "text/markdown": [
              "\n",
              "A matrix: 2 × 2 of type dbl\n",
              "\n",
              "| 1 | 0 |\n",
              "| 0 | 1 |\n",
              "\n"
            ],
            "text/plain": [
              "     [,1] [,2]\n",
              "[1,] 1    0   \n",
              "[2,] 0    1   "
            ]
          },
          "metadata": {},
          "output_type": "display_data"
        }
      ],
      "source": [
        "diag(c(3, 4))\n",
        "diag(2)\n"
      ]
    },
    {
      "cell_type": "markdown",
      "id": "fb4fa586",
      "metadata": {},
      "source": [
        "---\n",
        "### Inverting a matrix"
      ]
    },
    {
      "cell_type": "code",
      "execution_count": null,
      "id": "68ccd18a",
      "metadata": {
        "vscode": {
          "languageId": "r"
        }
      },
      "outputs": [
        {
          "data": {
            "text/html": [
              "<table class=\"dataframe\">\n",
              "<caption>A matrix: 2 × 2 of type dbl</caption>\n",
              "<tbody>\n",
              "\t<tr><td> 0.05000000</td><td>-1.0000000</td></tr>\n",
              "\t<tr><td>-0.01666667</td><td> 0.6666667</td></tr>\n",
              "</tbody>\n",
              "</table>\n"
            ],
            "text/latex": [
              "A matrix: 2 × 2 of type dbl\n",
              "\\begin{tabular}{ll}\n",
              "\t  0.05000000 & -1.0000000\\\\\n",
              "\t -0.01666667 &  0.6666667\\\\\n",
              "\\end{tabular}\n"
            ],
            "text/markdown": [
              "\n",
              "A matrix: 2 × 2 of type dbl\n",
              "\n",
              "|  0.05000000 | -1.0000000 |\n",
              "| -0.01666667 |  0.6666667 |\n",
              "\n"
            ],
            "text/plain": [
              "     [,1]        [,2]      \n",
              "[1,]  0.05000000 -1.0000000\n",
              "[2,] -0.01666667  0.6666667"
            ]
          },
          "metadata": {},
          "output_type": "display_data"
        },
        {
          "data": {
            "text/html": [
              "<table class=\"dataframe\">\n",
              "<caption>A matrix: 2 × 2 of type dbl</caption>\n",
              "<tbody>\n",
              "\t<tr><td>1</td><td>0</td></tr>\n",
              "\t<tr><td>0</td><td>1</td></tr>\n",
              "</tbody>\n",
              "</table>\n"
            ],
            "text/latex": [
              "A matrix: 2 × 2 of type dbl\n",
              "\\begin{tabular}{ll}\n",
              "\t 1 & 0\\\\\n",
              "\t 0 & 1\\\\\n",
              "\\end{tabular}\n"
            ],
            "text/markdown": [
              "\n",
              "A matrix: 2 × 2 of type dbl\n",
              "\n",
              "| 1 | 0 |\n",
              "| 0 | 1 |\n",
              "\n"
            ],
            "text/plain": [
              "     [,1] [,2]\n",
              "[1,] 1    0   \n",
              "[2,] 0    1   "
            ]
          },
          "metadata": {},
          "output_type": "display_data"
        }
      ],
      "source": [
        "solve(factory)\n",
        "factory %*% solve(factory)\n"
      ]
    },
    {
      "cell_type": "markdown",
      "id": "09940b0c",
      "metadata": {},
      "source": [
        "---\n",
        "### Why's it called \"solve\"\" anyway?\n",
        "\n",
        "Solving the linear system $\\mathbf{A}\\vec{x} = \\vec{b}$ for $\\vec{x}$:"
      ]
    },
    {
      "cell_type": "code",
      "execution_count": null,
      "id": "9e40f00f",
      "metadata": {
        "vscode": {
          "languageId": "r"
        }
      },
      "outputs": [
        {
          "data": {
            "text/html": [
              "<style>\n",
              ".list-inline {list-style: none; margin:0; padding: 0}\n",
              ".list-inline>li {display: inline-block}\n",
              ".list-inline>li:not(:last-child)::after {content: \"\\00b7\"; padding: 0 .5ex}\n",
              "</style>\n",
              "<ol class=list-inline><li>10</li><li>20</li></ol>\n"
            ],
            "text/latex": [
              "\\begin{enumerate*}\n",
              "\\item 10\n",
              "\\item 20\n",
              "\\end{enumerate*}\n"
            ],
            "text/markdown": [
              "1. 10\n",
              "2. 20\n",
              "\n",
              "\n"
            ],
            "text/plain": [
              "[1] 10 20"
            ]
          },
          "metadata": {},
          "output_type": "display_data"
        },
        {
          "data": {
            "text/html": [
              "<table class=\"dataframe\">\n",
              "<caption>A matrix: 2 × 1 of type dbl</caption>\n",
              "<tbody>\n",
              "\t<tr><td>1600</td></tr>\n",
              "\t<tr><td>  70</td></tr>\n",
              "</tbody>\n",
              "</table>\n"
            ],
            "text/latex": [
              "A matrix: 2 × 1 of type dbl\n",
              "\\begin{tabular}{l}\n",
              "\t 1600\\\\\n",
              "\t   70\\\\\n",
              "\\end{tabular}\n"
            ],
            "text/markdown": [
              "\n",
              "A matrix: 2 × 1 of type dbl\n",
              "\n",
              "| 1600 |\n",
              "|   70 |\n",
              "\n"
            ],
            "text/plain": [
              "     [,1]\n",
              "[1,] 1600\n",
              "[2,]   70"
            ]
          },
          "metadata": {},
          "output_type": "display_data"
        }
      ],
      "source": [
        "available <- c(1600, 70)\n",
        "solve(factory, available)\n",
        "factory %*% solve(factory, available)\n"
      ]
    },
    {
      "cell_type": "markdown",
      "id": "c8750a8b",
      "metadata": {
        "lines_to_next_cell": 0
      },
      "source": [
        "---\n",
        "### Names in matrices\n",
        "\n",
        "We can name either rows or columns or both, with `rownames()` and `colnames()`\n",
        "\n",
        "These are just character vectors, and we use the same function to get and to set their values\n",
        "\n",
        "Names help us understand what we're working with\n",
        "\n",
        "Names can be used to coordinate different objects\n",
        "\n",
        "---"
      ]
    },
    {
      "cell_type": "code",
      "execution_count": 115,
      "id": "daa887ed",
      "metadata": {
        "vscode": {
          "languageId": "r"
        }
      },
      "outputs": [
        {
          "data": {
            "text/html": [
              "<table class=\"dataframe\">\n",
              "<caption>A matrix: 2 × 2 of type dbl</caption>\n",
              "<thead>\n",
              "\t<tr><th></th><th scope=col>cars</th><th scope=col>trucks</th></tr>\n",
              "</thead>\n",
              "<tbody>\n",
              "\t<tr><th scope=row>labor</th><td>40</td><td>60</td></tr>\n",
              "\t<tr><th scope=row>steel</th><td> 1</td><td> 3</td></tr>\n",
              "</tbody>\n",
              "</table>\n"
            ],
            "text/latex": [
              "A matrix: 2 × 2 of type dbl\n",
              "\\begin{tabular}{r|ll}\n",
              "  & cars & trucks\\\\\n",
              "\\hline\n",
              "\tlabor & 40 & 60\\\\\n",
              "\tsteel &  1 &  3\\\\\n",
              "\\end{tabular}\n"
            ],
            "text/markdown": [
              "\n",
              "A matrix: 2 × 2 of type dbl\n",
              "\n",
              "| <!--/--> | cars | trucks |\n",
              "|---|---|---|\n",
              "| labor | 40 | 60 |\n",
              "| steel |  1 |  3 |\n",
              "\n"
            ],
            "text/plain": [
              "      cars trucks\n",
              "labor 40   60    \n",
              "steel  1    3    "
            ]
          },
          "metadata": {},
          "output_type": "display_data"
        }
      ],
      "source": [
        "rownames(factory) <- c(\"labor\", \"steel\")\n",
        "colnames(factory) <- c(\"cars\", \"trucks\")\n",
        "factory\n",
        "available <- c(1600, 70)\n",
        "names(available) <- c(\"labor\", \"steel\")\n"
      ]
    },
    {
      "cell_type": "markdown",
      "id": "7a5c3322",
      "metadata": {
        "lines_to_next_cell": 0
      },
      "source": [
        "---"
      ]
    },
    {
      "cell_type": "code",
      "execution_count": 116,
      "id": "ce5f49bc",
      "metadata": {
        "lines_to_next_cell": 0,
        "vscode": {
          "languageId": "r"
        }
      },
      "outputs": [
        {
          "data": {
            "text/html": [
              "<table class=\"dataframe\">\n",
              "<caption>A matrix: 2 × 1 of type dbl</caption>\n",
              "<tbody>\n",
              "\t<tr><th scope=row>labor</th><td>1400</td></tr>\n",
              "\t<tr><th scope=row>steel</th><td>  50</td></tr>\n",
              "</tbody>\n",
              "</table>\n"
            ],
            "text/latex": [
              "A matrix: 2 × 1 of type dbl\n",
              "\\begin{tabular}{r|l}\n",
              "\tlabor & 1400\\\\\n",
              "\tsteel &   50\\\\\n",
              "\\end{tabular}\n"
            ],
            "text/markdown": [
              "\n",
              "A matrix: 2 × 1 of type dbl\n",
              "\n",
              "| labor | 1400 |\n",
              "| steel |   50 |\n",
              "\n"
            ],
            "text/plain": [
              "      [,1]\n",
              "labor 1400\n",
              "steel   50"
            ]
          },
          "metadata": {},
          "output_type": "display_data"
        },
        {
          "data": {
            "text/html": [
              "<table class=\"dataframe\">\n",
              "<caption>A matrix: 2 × 1 of type dbl</caption>\n",
              "<tbody>\n",
              "\t<tr><th scope=row>labor</th><td>1600</td></tr>\n",
              "\t<tr><th scope=row>steel</th><td>  70</td></tr>\n",
              "</tbody>\n",
              "</table>\n"
            ],
            "text/latex": [
              "A matrix: 2 × 1 of type dbl\n",
              "\\begin{tabular}{r|l}\n",
              "\tlabor & 1600\\\\\n",
              "\tsteel &   70\\\\\n",
              "\\end{tabular}\n"
            ],
            "text/markdown": [
              "\n",
              "A matrix: 2 × 1 of type dbl\n",
              "\n",
              "| labor | 1600 |\n",
              "| steel |   70 |\n",
              "\n"
            ],
            "text/plain": [
              "      [,1]\n",
              "labor 1600\n",
              "steel   70"
            ]
          },
          "metadata": {},
          "output_type": "display_data"
        },
        {
          "data": {
            "text/html": [
              "TRUE"
            ],
            "text/latex": [
              "TRUE"
            ],
            "text/markdown": [
              "TRUE"
            ],
            "text/plain": [
              "[1] TRUE"
            ]
          },
          "metadata": {},
          "output_type": "display_data"
        }
      ],
      "source": [
        "output <- c(20, 10)\n",
        "names(output) <- c(\"trucks\", \"cars\")\n",
        "factory %*% output # But we've got cars and trucks mixed up!\n",
        "factory %*% output[colnames(factory)]\n",
        "all(factory %*% output[colnames(factory)] <= available[rownames(factory)])\n"
      ]
    },
    {
      "cell_type": "markdown",
      "id": "bbdbf105",
      "metadata": {},
      "source": [
        "Notice: Last lines don't have to change if we add motorcycles as output or rubber and glass as inputs (abstraction again)\n",
        "\n",
        "---\n",
        "### Doing the same thing to each row or column\n",
        "\n",
        "Take the mean: `rowMeans()`, `colMeans()`: input is matrix,\n",
        "output is vector.  Also `rowSums()`, etc.\n",
        "\n",
        "`summary()`: vector-style summary of column"
      ]
    },
    {
      "cell_type": "code",
      "execution_count": null,
      "id": "cb84fda5",
      "metadata": {
        "vscode": {
          "languageId": "r"
        }
      },
      "outputs": [
        {
          "data": {
            "text/html": [
              "<style>\n",
              ".dl-inline {width: auto; margin:0; padding: 0}\n",
              ".dl-inline>dt, .dl-inline>dd {float: none; width: auto; display: inline-block}\n",
              ".dl-inline>dt::after {content: \":\\0020\"; padding-right: .5ex}\n",
              ".dl-inline>dt:not(:first-of-type) {padding-left: .5ex}\n",
              "</style><dl class=dl-inline><dt>cars</dt><dd>20.5</dd><dt>trucks</dt><dd>31.5</dd></dl>\n"
            ],
            "text/latex": [
              "\\begin{description*}\n",
              "\\item[cars] 20.5\n",
              "\\item[trucks] 31.5\n",
              "\\end{description*}\n"
            ],
            "text/markdown": [
              "cars\n",
              ":   20.5trucks\n",
              ":   31.5\n",
              "\n"
            ],
            "text/plain": [
              "  cars trucks \n",
              "  20.5   31.5 "
            ]
          },
          "metadata": {},
          "output_type": "display_data"
        },
        {
          "data": {
            "text/plain": [
              "      cars           trucks     \n",
              " Min.   : 1.00   Min.   : 3.00  \n",
              " 1st Qu.:10.75   1st Qu.:17.25  \n",
              " Median :20.50   Median :31.50  \n",
              " Mean   :20.50   Mean   :31.50  \n",
              " 3rd Qu.:30.25   3rd Qu.:45.75  \n",
              " Max.   :40.00   Max.   :60.00  "
            ]
          },
          "metadata": {},
          "output_type": "display_data"
        }
      ],
      "source": [
        "colMeans(factory)\n",
        "summary(factory)\n"
      ]
    },
    {
      "cell_type": "markdown",
      "id": "87d66d74",
      "metadata": {},
      "source": [
        "---\n",
        "`apply()`, takes 3 arguments: the array or matrix, then 1 for rows and 2 for columns, then name of the function to apply to each"
      ]
    },
    {
      "cell_type": "code",
      "execution_count": null,
      "id": "0ebcea22",
      "metadata": {
        "vscode": {
          "languageId": "r"
        }
      },
      "outputs": [
        {
          "data": {
            "text/html": [
              "<style>\n",
              ".dl-inline {width: auto; margin:0; padding: 0}\n",
              ".dl-inline>dt, .dl-inline>dd {float: none; width: auto; display: inline-block}\n",
              ".dl-inline>dt::after {content: \":\\0020\"; padding-right: .5ex}\n",
              ".dl-inline>dt:not(:first-of-type) {padding-left: .5ex}\n",
              "</style><dl class=dl-inline><dt>labor</dt><dd>50</dd><dt>steel</dt><dd>2</dd></dl>\n"
            ],
            "text/latex": [
              "\\begin{description*}\n",
              "\\item[labor] 50\n",
              "\\item[steel] 2\n",
              "\\end{description*}\n"
            ],
            "text/markdown": [
              "labor\n",
              ":   50steel\n",
              ":   2\n",
              "\n"
            ],
            "text/plain": [
              "labor steel \n",
              "   50     2 "
            ]
          },
          "metadata": {},
          "output_type": "display_data"
        },
        {
          "data": {
            "text/html": [
              "<style>\n",
              ".dl-inline {width: auto; margin:0; padding: 0}\n",
              ".dl-inline>dt, .dl-inline>dd {float: none; width: auto; display: inline-block}\n",
              ".dl-inline>dt::after {content: \":\\0020\"; padding-right: .5ex}\n",
              ".dl-inline>dt:not(:first-of-type) {padding-left: .5ex}\n",
              "</style><dl class=dl-inline><dt>labor</dt><dd>50</dd><dt>steel</dt><dd>2</dd></dl>\n"
            ],
            "text/latex": [
              "\\begin{description*}\n",
              "\\item[labor] 50\n",
              "\\item[steel] 2\n",
              "\\end{description*}\n"
            ],
            "text/markdown": [
              "labor\n",
              ":   50steel\n",
              ":   2\n",
              "\n"
            ],
            "text/plain": [
              "labor steel \n",
              "   50     2 "
            ]
          },
          "metadata": {},
          "output_type": "display_data"
        }
      ],
      "source": [
        "rowMeans(factory)\n",
        "apply(factory, 1, mean)\n"
      ]
    },
    {
      "cell_type": "markdown",
      "id": "4b59aa0a",
      "metadata": {},
      "source": [
        "<small>What would `apply(factory,1,sd)` do?</small>"
      ]
    },
    {
      "cell_type": "markdown",
      "id": "39ecbe70",
      "metadata": {},
      "source": [
        "---\n",
        "### Lists\n",
        "\n",
        "Sequence of values, _not_ necessarily all of the same type"
      ]
    },
    {
      "cell_type": "code",
      "execution_count": null,
      "id": "0e39edef",
      "metadata": {
        "vscode": {
          "languageId": "r"
        }
      },
      "outputs": [
        {
          "data": {
            "text/html": [
              "<ol>\n",
              "\t<li>'exponential'</li>\n",
              "\t<li>7</li>\n",
              "\t<li>FALSE</li>\n",
              "</ol>\n"
            ],
            "text/latex": [
              "\\begin{enumerate}\n",
              "\\item 'exponential'\n",
              "\\item 7\n",
              "\\item FALSE\n",
              "\\end{enumerate}\n"
            ],
            "text/markdown": [
              "1. 'exponential'\n",
              "2. 7\n",
              "3. FALSE\n",
              "\n",
              "\n"
            ],
            "text/plain": [
              "[[1]]\n",
              "[1] \"exponential\"\n",
              "\n",
              "[[2]]\n",
              "[1] 7\n",
              "\n",
              "[[3]]\n",
              "[1] FALSE\n"
            ]
          },
          "metadata": {},
          "output_type": "display_data"
        }
      ],
      "source": [
        "my.distribution <- list(\"exponential\", 7, FALSE)\n",
        "my.distribution\n"
      ]
    },
    {
      "cell_type": "markdown",
      "id": "7ca27dd6",
      "metadata": {
        "lines_to_next_cell": 0
      },
      "source": [
        "Most of what you can do with vectors you can also do with lists\n",
        "\n",
        "---\n",
        "### Accessing pieces of lists\n",
        "\n",
        "Can use `[ ]` as with vectors  \n",
        "or use `[[ ]]`, but only with a single index  \n",
        "`[[ ]]` drops names and structures, `[ ]` does not"
      ]
    },
    {
      "cell_type": "code",
      "execution_count": null,
      "id": "9f62b31e",
      "metadata": {
        "lines_to_next_cell": 0,
        "vscode": {
          "languageId": "r"
        }
      },
      "outputs": [
        {
          "data": {
            "text/html": [
              "FALSE"
            ],
            "text/latex": [
              "FALSE"
            ],
            "text/markdown": [
              "FALSE"
            ],
            "text/plain": [
              "[1] FALSE"
            ]
          },
          "metadata": {},
          "output_type": "display_data"
        },
        {
          "data": {
            "text/html": [
              "TRUE"
            ],
            "text/latex": [
              "TRUE"
            ],
            "text/markdown": [
              "TRUE"
            ],
            "text/plain": [
              "[1] TRUE"
            ]
          },
          "metadata": {},
          "output_type": "display_data"
        },
        {
          "data": {
            "text/html": [
              "49"
            ],
            "text/latex": [
              "49"
            ],
            "text/markdown": [
              "49"
            ],
            "text/plain": [
              "[1] 49"
            ]
          },
          "metadata": {},
          "output_type": "display_data"
        }
      ],
      "source": [
        "is.character(my.distribution)\n",
        "is.character(my.distribution[[1]])\n",
        "my.distribution[[2]]^2\n"
      ]
    },
    {
      "cell_type": "markdown",
      "id": "32d1474b",
      "metadata": {
        "lines_to_next_cell": 0
      },
      "source": [
        "<small>What happens if you try `my.distribution[2]^2`?</small>\n",
        "<small>What happens if you try `[[ ]]` on a vector?</small>"
      ]
    },
    {
      "cell_type": "code",
      "execution_count": 151,
      "id": "3d36d205",
      "metadata": {
        "vscode": {
          "languageId": "r"
        }
      },
      "outputs": [
        {
          "data": {
            "text/html": [
              "70"
            ],
            "text/latex": [
              "70"
            ],
            "text/markdown": [
              "70"
            ],
            "text/plain": [
              "[1] 70"
            ]
          },
          "metadata": {},
          "output_type": "display_data"
        },
        {
          "data": {
            "text/html": [
              "'list'"
            ],
            "text/latex": [
              "'list'"
            ],
            "text/markdown": [
              "'list'"
            ],
            "text/plain": [
              "[1] \"list\""
            ]
          },
          "metadata": {},
          "output_type": "display_data"
        }
      ],
      "source": [
        "# my.distribution[2]^2\n",
        "available[[2]]\n",
        "typeof(my.distribution[2])\n"
      ]
    },
    {
      "cell_type": "markdown",
      "id": "72cf0a8d",
      "metadata": {
        "lines_to_next_cell": 0
      },
      "source": [
        "---\n",
        "### Expanding and contracting lists\n",
        "\n",
        "Add to lists with `c()` (also works with vectors):"
      ]
    },
    {
      "cell_type": "code",
      "execution_count": null,
      "id": "e0c66efe",
      "metadata": {
        "vscode": {
          "languageId": "r"
        }
      },
      "outputs": [
        {
          "data": {
            "text/html": [
              "<ol>\n",
              "\t<li>'exponential'</li>\n",
              "\t<li>7</li>\n",
              "\t<li>FALSE</li>\n",
              "\t<li>7</li>\n",
              "</ol>\n"
            ],
            "text/latex": [
              "\\begin{enumerate}\n",
              "\\item 'exponential'\n",
              "\\item 7\n",
              "\\item FALSE\n",
              "\\item 7\n",
              "\\end{enumerate}\n"
            ],
            "text/markdown": [
              "1. 'exponential'\n",
              "2. 7\n",
              "3. FALSE\n",
              "4. 7\n",
              "\n",
              "\n"
            ],
            "text/plain": [
              "[[1]]\n",
              "[1] \"exponential\"\n",
              "\n",
              "[[2]]\n",
              "[1] 7\n",
              "\n",
              "[[3]]\n",
              "[1] FALSE\n",
              "\n",
              "[[4]]\n",
              "[1] 7\n"
            ]
          },
          "metadata": {},
          "output_type": "display_data"
        }
      ],
      "source": [
        "my.distribution <- c(my.distribution, 7)\n",
        "my.distribution\n"
      ]
    },
    {
      "cell_type": "markdown",
      "id": "9169f1cd",
      "metadata": {
        "lines_to_next_cell": 0
      },
      "source": [
        "---\n",
        "Chop off the end of a list by setting the length to something smaller (also works with vectors):"
      ]
    },
    {
      "cell_type": "code",
      "execution_count": null,
      "id": "b7d9c576",
      "metadata": {
        "vscode": {
          "languageId": "r"
        }
      },
      "outputs": [
        {
          "data": {
            "text/html": [
              "4"
            ],
            "text/latex": [
              "4"
            ],
            "text/markdown": [
              "4"
            ],
            "text/plain": [
              "[1] 4"
            ]
          },
          "metadata": {},
          "output_type": "display_data"
        },
        {
          "data": {
            "text/html": [
              "<ol>\n",
              "\t<li>'exponential'</li>\n",
              "\t<li>7</li>\n",
              "\t<li>FALSE</li>\n",
              "</ol>\n"
            ],
            "text/latex": [
              "\\begin{enumerate}\n",
              "\\item 'exponential'\n",
              "\\item 7\n",
              "\\item FALSE\n",
              "\\end{enumerate}\n"
            ],
            "text/markdown": [
              "1. 'exponential'\n",
              "2. 7\n",
              "3. FALSE\n",
              "\n",
              "\n"
            ],
            "text/plain": [
              "[[1]]\n",
              "[1] \"exponential\"\n",
              "\n",
              "[[2]]\n",
              "[1] 7\n",
              "\n",
              "[[3]]\n",
              "[1] FALSE\n"
            ]
          },
          "metadata": {},
          "output_type": "display_data"
        }
      ],
      "source": [
        "length(my.distribution)\n",
        "length(my.distribution) <- 3\n",
        "my.distribution\n"
      ]
    },
    {
      "cell_type": "markdown",
      "id": "91e8e091",
      "metadata": {
        "lines_to_next_cell": 0
      },
      "source": [
        "---\n",
        "### Naming list elements\n",
        "\n",
        "We can name some or all of the elements of a list"
      ]
    },
    {
      "cell_type": "code",
      "execution_count": null,
      "id": "4b2d665a",
      "metadata": {
        "lines_to_next_cell": 2,
        "vscode": {
          "languageId": "r"
        }
      },
      "outputs": [
        {
          "data": {
            "text/html": [
              "<dl>\n",
              "\t<dt>$family</dt>\n",
              "\t\t<dd>'exponential'</dd>\n",
              "\t<dt>$mean</dt>\n",
              "\t\t<dd>7</dd>\n",
              "\t<dt>$is.symmetric</dt>\n",
              "\t\t<dd>FALSE</dd>\n",
              "</dl>\n"
            ],
            "text/latex": [
              "\\begin{description}\n",
              "\\item[\\$family] 'exponential'\n",
              "\\item[\\$mean] 7\n",
              "\\item[\\$is.symmetric] FALSE\n",
              "\\end{description}\n"
            ],
            "text/markdown": [
              "$family\n",
              ":   'exponential'\n",
              "$mean\n",
              ":   7\n",
              "$is.symmetric\n",
              ":   FALSE\n",
              "\n",
              "\n"
            ],
            "text/plain": [
              "$family\n",
              "[1] \"exponential\"\n",
              "\n",
              "$mean\n",
              "[1] 7\n",
              "\n",
              "$is.symmetric\n",
              "[1] FALSE\n"
            ]
          },
          "metadata": {},
          "output_type": "display_data"
        },
        {
          "data": {
            "text/html": [
              "'exponential'"
            ],
            "text/latex": [
              "'exponential'"
            ],
            "text/markdown": [
              "'exponential'"
            ],
            "text/plain": [
              "[1] \"exponential\""
            ]
          },
          "metadata": {},
          "output_type": "display_data"
        },
        {
          "data": {
            "text/html": [
              "<strong>$family</strong> = 'exponential'"
            ],
            "text/latex": [
              "\\textbf{\\$family} = 'exponential'"
            ],
            "text/markdown": [
              "**$family** = 'exponential'"
            ],
            "text/plain": [
              "$family\n",
              "[1] \"exponential\"\n"
            ]
          },
          "metadata": {},
          "output_type": "display_data"
        }
      ],
      "source": [
        "names(my.distribution) <- c(\"family\", \"mean\", \"is.symmetric\")\n",
        "my.distribution\n",
        "my.distribution[[\"family\"]]\n",
        "my.distribution[\"family\"]\n"
      ]
    },
    {
      "cell_type": "markdown",
      "id": "b7103d80",
      "metadata": {
        "lines_to_next_cell": 0
      },
      "source": [
        "---\n",
        "\n",
        "Lists have a special short-cut way of using names, `$` (which removes names and structures):"
      ]
    },
    {
      "cell_type": "code",
      "execution_count": null,
      "id": "46af3115",
      "metadata": {
        "vscode": {
          "languageId": "r"
        }
      },
      "outputs": [
        {
          "data": {
            "text/html": [
              "'exponential'"
            ],
            "text/latex": [
              "'exponential'"
            ],
            "text/markdown": [
              "'exponential'"
            ],
            "text/plain": [
              "[1] \"exponential\""
            ]
          },
          "metadata": {},
          "output_type": "display_data"
        },
        {
          "data": {
            "text/html": [
              "'exponential'"
            ],
            "text/latex": [
              "'exponential'"
            ],
            "text/markdown": [
              "'exponential'"
            ],
            "text/plain": [
              "[1] \"exponential\""
            ]
          },
          "metadata": {},
          "output_type": "display_data"
        }
      ],
      "source": [
        "my.distribution[[\"family\"]]\n",
        "my.distribution$family\n"
      ]
    },
    {
      "cell_type": "markdown",
      "id": "c9969fbd",
      "metadata": {
        "lines_to_next_cell": 0
      },
      "source": [
        "---\n",
        "### Names in lists (cont'd.)\n",
        "\n",
        "Creating a list with names:"
      ]
    },
    {
      "cell_type": "code",
      "execution_count": null,
      "id": "7feffc97",
      "metadata": {
        "vscode": {
          "languageId": "r"
        }
      },
      "outputs": [],
      "source": [
        "another.distribution <- list(family = \"gaussian\", mean = 7, sd = 1, is.symmetric = TRUE)\n"
      ]
    },
    {
      "cell_type": "markdown",
      "id": "7f74d52a",
      "metadata": {
        "lines_to_next_cell": 0
      },
      "source": [
        "Adding named elements:"
      ]
    },
    {
      "cell_type": "code",
      "execution_count": null,
      "id": "3df19590",
      "metadata": {
        "vscode": {
          "languageId": "r"
        }
      },
      "outputs": [],
      "source": [
        "my.distribution$was.estimated <- FALSE\n",
        "my.distribution[[\"last.updated\"]] <- \"2011-08-30\"\n"
      ]
    },
    {
      "cell_type": "markdown",
      "id": "be80a952",
      "metadata": {
        "lines_to_next_cell": 0
      },
      "source": [
        "Removing a named list element, by assigning it the value `NULL`:"
      ]
    },
    {
      "cell_type": "code",
      "execution_count": null,
      "id": "24320467",
      "metadata": {
        "vscode": {
          "languageId": "r"
        }
      },
      "outputs": [],
      "source": [
        "my.distribution$was.estimated <- NULL\n"
      ]
    },
    {
      "cell_type": "markdown",
      "id": "b33648d0",
      "metadata": {},
      "source": [
        "---\n",
        "### Key-Value pairs\n",
        "\n",
        "Lists give us a way to store and look up data by _name_, rather than by _position_\n",
        "\n",
        "A really useful programming concept with many names: **key-value pairs**, **dictionaries**, **associative arrays**, **hashes**\n",
        "\n",
        "If all our distributions have components named `family`, we can look that up by name, without caring where it is in the list"
      ]
    },
    {
      "cell_type": "markdown",
      "id": "364940ae",
      "metadata": {
        "lines_to_next_cell": 0
      },
      "source": [
        "---\n",
        "### Dataframes\n",
        "\n",
        "Dataframe = the classic data table, $n$ rows for cases, $p$ columns for variables\n",
        "\n",
        "Lots of the really-statistical parts of R presume data frames\n",
        "<small>`penn` from last time was really a dataframe</small>\n",
        "\n",
        "Not just a matrix because *columns can have different types*\n",
        "\n",
        "Many matrix functions also work for dataframes (`rowSums()`, `summary()`, `apply()`)\n",
        "\n",
        "<small>but no matrix multiplying dataframes, even if all columns are numeric</small>\n",
        "\n",
        "---"
      ]
    },
    {
      "cell_type": "code",
      "execution_count": null,
      "id": "ce6d023e",
      "metadata": {
        "vscode": {
          "languageId": "r"
        }
      },
      "outputs": [
        {
          "data": {
            "text/html": [
              "<table class=\"dataframe\">\n",
              "<caption>A matrix: 2 × 2 of type dbl</caption>\n",
              "<thead>\n",
              "\t<tr><th scope=col>v1</th><th scope=col>v2</th></tr>\n",
              "</thead>\n",
              "<tbody>\n",
              "\t<tr><td>35</td><td>10</td></tr>\n",
              "\t<tr><td> 8</td><td> 4</td></tr>\n",
              "</tbody>\n",
              "</table>\n"
            ],
            "text/latex": [
              "A matrix: 2 × 2 of type dbl\n",
              "\\begin{tabular}{ll}\n",
              " v1 & v2\\\\\n",
              "\\hline\n",
              "\t 35 & 10\\\\\n",
              "\t  8 &  4\\\\\n",
              "\\end{tabular}\n"
            ],
            "text/markdown": [
              "\n",
              "A matrix: 2 × 2 of type dbl\n",
              "\n",
              "| v1 | v2 |\n",
              "|---|---|\n",
              "| 35 | 10 |\n",
              "|  8 |  4 |\n",
              "\n"
            ],
            "text/plain": [
              "     v1 v2\n",
              "[1,] 35 10\n",
              "[2,]  8  4"
            ]
          },
          "metadata": {},
          "output_type": "display_data"
        },
        {
          "data": {
            "text/html": [
              "<style>\n",
              ".list-inline {list-style: none; margin:0; padding: 0}\n",
              ".list-inline>li {display: inline-block}\n",
              ".list-inline>li:not(:last-child)::after {content: \"\\00b7\"; padding: 0 .5ex}\n",
              "</style>\n",
              "<ol class=list-inline><li>35</li><li>8</li></ol>\n"
            ],
            "text/latex": [
              "\\begin{enumerate*}\n",
              "\\item 35\n",
              "\\item 8\n",
              "\\end{enumerate*}\n"
            ],
            "text/markdown": [
              "1. 35\n",
              "2. 8\n",
              "\n",
              "\n"
            ],
            "text/plain": [
              "[1] 35  8"
            ]
          },
          "metadata": {},
          "output_type": "display_data"
        }
      ],
      "source": [
        "a.matrix <- matrix(c(35, 8, 10, 4), nrow = 2)\n",
        "colnames(a.matrix) <- c(\"v1\", \"v2\")\n",
        "a.matrix\n",
        "a.matrix[, \"v1\"] # Try a.matrix$v1 and see what happens\n"
      ]
    },
    {
      "cell_type": "markdown",
      "id": "2d5d350f",
      "metadata": {
        "lines_to_next_cell": 0
      },
      "source": [
        "---"
      ]
    },
    {
      "cell_type": "code",
      "execution_count": null,
      "id": "9259d768",
      "metadata": {
        "lines_to_next_cell": 0,
        "vscode": {
          "languageId": "r"
        }
      },
      "outputs": [
        {
          "data": {
            "text/html": [
              "<table class=\"dataframe\">\n",
              "<caption>A data.frame: 2 × 3</caption>\n",
              "<thead>\n",
              "\t<tr><th scope=col>v1</th><th scope=col>v2</th><th scope=col>logicals</th></tr>\n",
              "\t<tr><th scope=col>&lt;dbl&gt;</th><th scope=col>&lt;dbl&gt;</th><th scope=col>&lt;lgl&gt;</th></tr>\n",
              "</thead>\n",
              "<tbody>\n",
              "\t<tr><td>35</td><td>10</td><td> TRUE</td></tr>\n",
              "\t<tr><td> 8</td><td> 4</td><td>FALSE</td></tr>\n",
              "</tbody>\n",
              "</table>\n"
            ],
            "text/latex": [
              "A data.frame: 2 × 3\n",
              "\\begin{tabular}{lll}\n",
              " v1 & v2 & logicals\\\\\n",
              " <dbl> & <dbl> & <lgl>\\\\\n",
              "\\hline\n",
              "\t 35 & 10 &  TRUE\\\\\n",
              "\t  8 &  4 & FALSE\\\\\n",
              "\\end{tabular}\n"
            ],
            "text/markdown": [
              "\n",
              "A data.frame: 2 × 3\n",
              "\n",
              "| v1 &lt;dbl&gt; | v2 &lt;dbl&gt; | logicals &lt;lgl&gt; |\n",
              "|---|---|---|\n",
              "| 35 | 10 |  TRUE |\n",
              "|  8 |  4 | FALSE |\n",
              "\n"
            ],
            "text/plain": [
              "  v1 v2 logicals\n",
              "1 35 10  TRUE   \n",
              "2  8  4 FALSE   "
            ]
          },
          "metadata": {},
          "output_type": "display_data"
        },
        {
          "data": {
            "text/html": [
              "<style>\n",
              ".list-inline {list-style: none; margin:0; padding: 0}\n",
              ".list-inline>li {display: inline-block}\n",
              ".list-inline>li:not(:last-child)::after {content: \"\\00b7\"; padding: 0 .5ex}\n",
              "</style>\n",
              "<ol class=list-inline><li>35</li><li>8</li></ol>\n"
            ],
            "text/latex": [
              "\\begin{enumerate*}\n",
              "\\item 35\n",
              "\\item 8\n",
              "\\end{enumerate*}\n"
            ],
            "text/markdown": [
              "1. 35\n",
              "2. 8\n",
              "\n",
              "\n"
            ],
            "text/plain": [
              "[1] 35  8"
            ]
          },
          "metadata": {},
          "output_type": "display_data"
        },
        {
          "data": {
            "text/html": [
              "<style>\n",
              ".list-inline {list-style: none; margin:0; padding: 0}\n",
              ".list-inline>li {display: inline-block}\n",
              ".list-inline>li:not(:last-child)::after {content: \"\\00b7\"; padding: 0 .5ex}\n",
              "</style>\n",
              "<ol class=list-inline><li>35</li><li>8</li></ol>\n"
            ],
            "text/latex": [
              "\\begin{enumerate*}\n",
              "\\item 35\n",
              "\\item 8\n",
              "\\end{enumerate*}\n"
            ],
            "text/markdown": [
              "1. 35\n",
              "2. 8\n",
              "\n",
              "\n"
            ],
            "text/plain": [
              "[1] 35  8"
            ]
          },
          "metadata": {},
          "output_type": "display_data"
        },
        {
          "data": {
            "text/html": [
              "<table class=\"dataframe\">\n",
              "<caption>A data.frame: 1 × 3</caption>\n",
              "<thead>\n",
              "\t<tr><th></th><th scope=col>v1</th><th scope=col>v2</th><th scope=col>logicals</th></tr>\n",
              "\t<tr><th></th><th scope=col>&lt;dbl&gt;</th><th scope=col>&lt;dbl&gt;</th><th scope=col>&lt;lgl&gt;</th></tr>\n",
              "</thead>\n",
              "<tbody>\n",
              "\t<tr><th scope=row>1</th><td>35</td><td>10</td><td>TRUE</td></tr>\n",
              "</tbody>\n",
              "</table>\n"
            ],
            "text/latex": [
              "A data.frame: 1 × 3\n",
              "\\begin{tabular}{r|lll}\n",
              "  & v1 & v2 & logicals\\\\\n",
              "  & <dbl> & <dbl> & <lgl>\\\\\n",
              "\\hline\n",
              "\t1 & 35 & 10 & TRUE\\\\\n",
              "\\end{tabular}\n"
            ],
            "text/markdown": [
              "\n",
              "A data.frame: 1 × 3\n",
              "\n",
              "| <!--/--> | v1 &lt;dbl&gt; | v2 &lt;dbl&gt; | logicals &lt;lgl&gt; |\n",
              "|---|---|---|---|\n",
              "| 1 | 35 | 10 | TRUE |\n",
              "\n"
            ],
            "text/plain": [
              "  v1 v2 logicals\n",
              "1 35 10 TRUE    "
            ]
          },
          "metadata": {},
          "output_type": "display_data"
        },
        {
          "data": {
            "text/html": [
              "<style>\n",
              ".dl-inline {width: auto; margin:0; padding: 0}\n",
              ".dl-inline>dt, .dl-inline>dd {float: none; width: auto; display: inline-block}\n",
              ".dl-inline>dt::after {content: \":\\0020\"; padding-right: .5ex}\n",
              ".dl-inline>dt:not(:first-of-type) {padding-left: .5ex}\n",
              "</style><dl class=dl-inline><dt>v1</dt><dd>21.5</dd><dt>v2</dt><dd>7</dd><dt>logicals</dt><dd>0.5</dd></dl>\n"
            ],
            "text/latex": [
              "\\begin{description*}\n",
              "\\item[v1] 21.5\n",
              "\\item[v2] 7\n",
              "\\item[logicals] 0.5\n",
              "\\end{description*}\n"
            ],
            "text/markdown": [
              "v1\n",
              ":   21.5v2\n",
              ":   7logicals\n",
              ":   0.5\n",
              "\n"
            ],
            "text/plain": [
              "      v1       v2 logicals \n",
              "    21.5      7.0      0.5 "
            ]
          },
          "metadata": {},
          "output_type": "display_data"
        }
      ],
      "source": [
        "a.data.frame <- data.frame(a.matrix, logicals = c(TRUE, FALSE))\n",
        "a.data.frame\n",
        "a.data.frame$v1\n",
        "a.data.frame[, \"v1\"]\n",
        "a.data.frame[1, ]\n",
        "colMeans(a.data.frame)\n"
      ]
    },
    {
      "cell_type": "markdown",
      "id": "4592a0e5",
      "metadata": {
        "lines_to_next_cell": 0
      },
      "source": [
        "---\n",
        "### Adding rows and columns\n",
        "\n",
        "We can add rows or columns to an array or data-frame with `rbind()` and `cbind()`, but be careful about forced type conversions"
      ]
    },
    {
      "cell_type": "code",
      "execution_count": null,
      "id": "10be4ba1",
      "metadata": {
        "vscode": {
          "languageId": "r"
        }
      },
      "outputs": [
        {
          "data": {
            "text/html": [
              "<table class=\"dataframe\">\n",
              "<caption>A data.frame: 3 × 3</caption>\n",
              "<thead>\n",
              "\t<tr><th scope=col>v1</th><th scope=col>v2</th><th scope=col>logicals</th></tr>\n",
              "\t<tr><th scope=col>&lt;dbl&gt;</th><th scope=col>&lt;dbl&gt;</th><th scope=col>&lt;lgl&gt;</th></tr>\n",
              "</thead>\n",
              "<tbody>\n",
              "\t<tr><td>35</td><td>10</td><td> TRUE</td></tr>\n",
              "\t<tr><td> 8</td><td> 4</td><td>FALSE</td></tr>\n",
              "\t<tr><td>-3</td><td>-5</td><td> TRUE</td></tr>\n",
              "</tbody>\n",
              "</table>\n"
            ],
            "text/latex": [
              "A data.frame: 3 × 3\n",
              "\\begin{tabular}{lll}\n",
              " v1 & v2 & logicals\\\\\n",
              " <dbl> & <dbl> & <lgl>\\\\\n",
              "\\hline\n",
              "\t 35 & 10 &  TRUE\\\\\n",
              "\t  8 &  4 & FALSE\\\\\n",
              "\t -3 & -5 &  TRUE\\\\\n",
              "\\end{tabular}\n"
            ],
            "text/markdown": [
              "\n",
              "A data.frame: 3 × 3\n",
              "\n",
              "| v1 &lt;dbl&gt; | v2 &lt;dbl&gt; | logicals &lt;lgl&gt; |\n",
              "|---|---|---|\n",
              "| 35 | 10 |  TRUE |\n",
              "|  8 |  4 | FALSE |\n",
              "| -3 | -5 |  TRUE |\n",
              "\n"
            ],
            "text/plain": [
              "  v1 v2 logicals\n",
              "1 35 10  TRUE   \n",
              "2  8  4 FALSE   \n",
              "3 -3 -5  TRUE   "
            ]
          },
          "metadata": {},
          "output_type": "display_data"
        },
        {
          "data": {
            "text/html": [
              "<table class=\"dataframe\">\n",
              "<caption>A data.frame: 3 × 3</caption>\n",
              "<thead>\n",
              "\t<tr><th scope=col>v1</th><th scope=col>v2</th><th scope=col>logicals</th></tr>\n",
              "\t<tr><th scope=col>&lt;dbl&gt;</th><th scope=col>&lt;dbl&gt;</th><th scope=col>&lt;dbl&gt;</th></tr>\n",
              "</thead>\n",
              "<tbody>\n",
              "\t<tr><td>35</td><td>10</td><td>1</td></tr>\n",
              "\t<tr><td> 8</td><td> 4</td><td>0</td></tr>\n",
              "\t<tr><td> 3</td><td> 4</td><td>6</td></tr>\n",
              "</tbody>\n",
              "</table>\n"
            ],
            "text/latex": [
              "A data.frame: 3 × 3\n",
              "\\begin{tabular}{lll}\n",
              " v1 & v2 & logicals\\\\\n",
              " <dbl> & <dbl> & <dbl>\\\\\n",
              "\\hline\n",
              "\t 35 & 10 & 1\\\\\n",
              "\t  8 &  4 & 0\\\\\n",
              "\t  3 &  4 & 6\\\\\n",
              "\\end{tabular}\n"
            ],
            "text/markdown": [
              "\n",
              "A data.frame: 3 × 3\n",
              "\n",
              "| v1 &lt;dbl&gt; | v2 &lt;dbl&gt; | logicals &lt;dbl&gt; |\n",
              "|---|---|---|\n",
              "| 35 | 10 | 1 |\n",
              "|  8 |  4 | 0 |\n",
              "|  3 |  4 | 6 |\n",
              "\n"
            ],
            "text/plain": [
              "  v1 v2 logicals\n",
              "1 35 10 1       \n",
              "2  8  4 0       \n",
              "3  3  4 6       "
            ]
          },
          "metadata": {},
          "output_type": "display_data"
        }
      ],
      "source": [
        "rbind(a.data.frame, list(v1 = -3, v2 = -5, logicals = TRUE))\n",
        "rbind(a.data.frame, c(3, 4, 6))\n"
      ]
    },
    {
      "cell_type": "markdown",
      "id": "83e7e458",
      "metadata": {
        "lines_to_next_cell": 0
      },
      "source": [
        "---\n",
        "### Structures of Structures\n",
        "\n",
        "So far, every list element has been a single data value\n",
        "\n",
        "List elements can be other data structures, e.g., vectors and matrices:"
      ]
    },
    {
      "cell_type": "code",
      "execution_count": null,
      "id": "e4bf8ad8",
      "metadata": {
        "vscode": {
          "languageId": "r"
        }
      },
      "outputs": [
        {
          "data": {
            "text/html": [
              "<style>\n",
              ".dl-inline {width: auto; margin:0; padding: 0}\n",
              ".dl-inline>dt, .dl-inline>dd {float: none; width: auto; display: inline-block}\n",
              ".dl-inline>dt::after {content: \":\\0020\"; padding-right: .5ex}\n",
              ".dl-inline>dt:not(:first-of-type) {padding-left: .5ex}\n",
              "</style><dl class=dl-inline><dt>trucks</dt><dd>20</dd><dt>cars</dt><dd>10</dd></dl>\n"
            ],
            "text/latex": [
              "\\begin{description*}\n",
              "\\item[trucks] 20\n",
              "\\item[cars] 10\n",
              "\\end{description*}\n"
            ],
            "text/markdown": [
              "trucks\n",
              ":   20cars\n",
              ":   10\n",
              "\n"
            ],
            "text/plain": [
              "trucks   cars \n",
              "    20     10 "
            ]
          },
          "metadata": {},
          "output_type": "display_data"
        }
      ],
      "source": [
        "plan <- list(factory = factory, available = available, output = output)\n",
        "plan$output\n"
      ]
    },
    {
      "cell_type": "markdown",
      "id": "4c970eef",
      "metadata": {},
      "source": [
        "Internally, a dataframe is basically a list of vectors\n",
        "\n",
        "---\n",
        "### Structures of Structures (cont'd.)\n",
        "\n",
        "List elements can even be other lists  \n",
        "which may contain other data structures  \n",
        "including other lists  \n",
        "which may contain other data structures...\n",
        "\n",
        "This **recursion** lets us build arbitrarily complicated data structures from the basic ones\n",
        "\n",
        "Most complicated objects are (usually) lists of data structures\n"
      ]
    },
    {
      "cell_type": "markdown",
      "id": "69d54714",
      "metadata": {},
      "source": [
        "---\n",
        "### Example: Eigenstuff\n",
        "\n",
        "`eigen()` finds eigenvalues and eigenvectors of a matrix  \n",
        "Returns a list of a vector (the eigenvalues) and a matrix (the eigenvectors)"
      ]
    },
    {
      "cell_type": "code",
      "execution_count": null,
      "id": "bce1d240",
      "metadata": {
        "vscode": {
          "languageId": "r"
        }
      },
      "outputs": [
        {
          "data": {
            "text/plain": [
              "eigen() decomposition\n",
              "$values\n",
              "[1] 41.556171  1.443829\n",
              "\n",
              "$vectors\n",
              "           [,1]       [,2]\n",
              "[1,] 0.99966383 -0.8412758\n",
              "[2,] 0.02592747  0.5406062\n"
            ]
          },
          "metadata": {},
          "output_type": "display_data"
        },
        {
          "data": {
            "text/html": [
              "'eigen'"
            ],
            "text/latex": [
              "'eigen'"
            ],
            "text/markdown": [
              "'eigen'"
            ],
            "text/plain": [
              "[1] \"eigen\""
            ]
          },
          "metadata": {},
          "output_type": "display_data"
        }
      ],
      "source": [
        "eigen(factory)\n",
        "class(eigen(factory))\n"
      ]
    },
    {
      "cell_type": "markdown",
      "id": "622a94f8",
      "metadata": {
        "lines_to_next_cell": 0
      },
      "source": [
        "---\n",
        "With complicated objects, you can access parts of parts (of parts...)"
      ]
    },
    {
      "cell_type": "code",
      "execution_count": null,
      "id": "03ec585d",
      "metadata": {
        "lines_to_next_cell": 0,
        "vscode": {
          "languageId": "r"
        }
      },
      "outputs": [
        {
          "data": {
            "text/html": [
              "<table class=\"dataframe\">\n",
              "<caption>A matrix: 2 × 1 of type dbl</caption>\n",
              "<tbody>\n",
              "\t<tr><th scope=row>labor</th><td>-1.2146583</td></tr>\n",
              "\t<tr><th scope=row>steel</th><td> 0.7805429</td></tr>\n",
              "</tbody>\n",
              "</table>\n"
            ],
            "text/latex": [
              "A matrix: 2 × 1 of type dbl\n",
              "\\begin{tabular}{r|l}\n",
              "\tlabor & -1.2146583\\\\\n",
              "\tsteel &  0.7805429\\\\\n",
              "\\end{tabular}\n"
            ],
            "text/markdown": [
              "\n",
              "A matrix: 2 × 1 of type dbl\n",
              "\n",
              "| labor | -1.2146583 |\n",
              "| steel |  0.7805429 |\n",
              "\n"
            ],
            "text/plain": [
              "      [,1]      \n",
              "labor -1.2146583\n",
              "steel  0.7805429"
            ]
          },
          "metadata": {},
          "output_type": "display_data"
        },
        {
          "data": {
            "text/html": [
              "<style>\n",
              ".list-inline {list-style: none; margin:0; padding: 0}\n",
              ".list-inline>li {display: inline-block}\n",
              ".list-inline>li:not(:last-child)::after {content: \"\\00b7\"; padding: 0 .5ex}\n",
              "</style>\n",
              "<ol class=list-inline><li>-1.2146582559812</li><li>0.780542859501526</li></ol>\n"
            ],
            "text/latex": [
              "\\begin{enumerate*}\n",
              "\\item -1.2146582559812\n",
              "\\item 0.780542859501526\n",
              "\\end{enumerate*}\n"
            ],
            "text/markdown": [
              "1. -1.2146582559812\n",
              "2. 0.780542859501526\n",
              "\n",
              "\n"
            ],
            "text/plain": [
              "[1] -1.2146583  0.7805429"
            ]
          },
          "metadata": {},
          "output_type": "display_data"
        },
        {
          "data": {
            "text/html": [
              "1.44382887986842"
            ],
            "text/latex": [
              "1.44382887986842"
            ],
            "text/markdown": [
              "1.44382887986842"
            ],
            "text/plain": [
              "[1] 1.443829"
            ]
          },
          "metadata": {},
          "output_type": "display_data"
        },
        {
          "data": {
            "text/html": [
              "1.44382887986842"
            ],
            "text/latex": [
              "1.44382887986842"
            ],
            "text/markdown": [
              "1.44382887986842"
            ],
            "text/plain": [
              "[1] 1.443829"
            ]
          },
          "metadata": {},
          "output_type": "display_data"
        }
      ],
      "source": [
        "factory %*% eigen(factory)$vectors[, 2]\n",
        "eigen(factory)$values[2] * eigen(factory)$vectors[, 2]\n",
        "eigen(factory)$values[2]\n",
        "eigen(factory)[[1]][[2]] # NOT [[1,2]]\n"
      ]
    },
    {
      "cell_type": "markdown",
      "id": "56a4f7ae",
      "metadata": {},
      "source": [
        "---\n",
        "### Summary\n",
        "\n",
        "- Arrays add multi-dimensional structure to vectors\n",
        "- Matrices act like you'd hope they would\n",
        "- Lists let us combine different types of data\n",
        "- Dataframes are hybrids of matrices and lists, for classic tabular data\n",
        "- Recursion lets us build complicated data structures out of the simpler ones"
      ]
    }
  ],
  "metadata": {
    "jupytext": {
      "cell_metadata_filter": "name,tags,fig.height,dpi,fig.width,message,-all",
      "main_language": "R",
      "notebook_metadata_filter": "-all"
    },
    "kernelspec": {
      "display_name": "R",
      "language": "R",
      "name": "ir"
    },
    "language_info": {
      "codemirror_mode": "r",
      "file_extension": ".r",
      "mimetype": "text/x-r-source",
      "name": "R",
      "pygments_lexer": "r",
      "version": "4.5.1"
    }
  },
  "nbformat": 4,
  "nbformat_minor": 5
}
