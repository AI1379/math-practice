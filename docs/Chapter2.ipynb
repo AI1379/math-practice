{
  "cells": [
    {
      "cell_type": "raw",
      "id": "004fcc04",
      "metadata": {
        "lines_to_next_cell": 0
      },
      "source": [
        "---\n",
        "title: \"Data Science with R\"\n",
        "subtitle: \"Data type and data structure\"\n",
        "author: \"Peng Zhang\"\n",
        "institute: \"School of Mathematical Sciences, Zhejiang University\"\n",
        "date: \"2025/06/26\"\n",
        "output:\n",
        "  xaringan::moon_reader:\n",
        "    lib_dir: libs\n",
        "    nature:\n",
        "      highlightStyle: github\n",
        "      highlightLines: true\n",
        "      countIncrementalSlides: false\n",
        "---"
      ]
    },
    {
      "cell_type": "code",
      "execution_count": null,
      "id": "10ebdc61",
      "metadata": {
        "lines_to_next_cell": 0,
        "message": false,
        "name": "setup",
        "tags": [
          "remove_cell"
        ],
        "vscode": {
          "languageId": "r"
        }
      },
      "outputs": [],
      "source": [
        "options(htmltools.dir.version = FALSE)\n",
        "# source('xaringan2pdf.R')\n",
        "# xaringan_to_pdf('Chapter2.html')\n",
        "library(tidyverse)\n",
        "library(pdfetch)"
      ]
    },
    {
      "cell_type": "markdown",
      "id": "59b4d67c",
      "metadata": {},
      "source": [
        "## Data Type\n",
        "\n",
        "All data is represented in binary format, by **bits** (TRUE/FALSE, YES/NO, 1/0)\n",
        "\n",
        "- **Booleans** Direct binary values: `TRUE` or `FALSE` in R\n",
        "- **Integers**: whole numbers (positive, negative or zero), represented by a fixed-length block of bits\n",
        "- **Characters** fixed-length blocks of bits, with special coding;\n",
        "**strings** = sequences of characters\n",
        "- **Floating point numbers**: a fraction (with a finite number of bits) times an exponent, like $1.87 \\times {10}^{6}$, but in binary form\n",
        "- **Missing or ill-defined values**: `NA`, `NaN`, etc.\n",
        "\n",
        "---\n",
        "### More types\n",
        "\n",
        "`typeof()` function returns the type\n",
        "\n",
        "`is.`_foo_`()` functions return Booleans for whether the argument is of type _foo_\n",
        "\n",
        "`as.`_foo_`()` (tries to) \"cast\" its argument to type _foo_ --- to translate it sensibly into a _foo_-type value"
      ]
    },
    {
      "cell_type": "code",
      "execution_count": null,
      "id": "c8fff7b8",
      "metadata": {
        "lines_to_next_cell": 0,
        "vscode": {
          "languageId": "r"
        }
      },
      "outputs": [],
      "source": [
        "typeof(7)\n",
        "is.numeric(7)\n",
        "is.na(7/0)\n",
        "is.na(0/0)  # Why is 7/0 not NA, but 0/0 is?"
      ]
    },
    {
      "cell_type": "markdown",
      "id": "48653ff3",
      "metadata": {},
      "source": [
        "---"
      ]
    },
    {
      "cell_type": "code",
      "execution_count": null,
      "id": "bf635a07",
      "metadata": {
        "lines_to_next_cell": 0,
        "vscode": {
          "languageId": "r"
        }
      },
      "outputs": [],
      "source": [
        "is.character(7)\n",
        "is.character(\"7\")\n",
        "is.character(\"seven\")\n",
        "is.na(\"seven\")"
      ]
    },
    {
      "cell_type": "markdown",
      "id": "f02ac913",
      "metadata": {
        "lines_to_next_cell": 0
      },
      "source": [
        "---"
      ]
    },
    {
      "cell_type": "code",
      "execution_count": null,
      "id": "cc149635",
      "metadata": {
        "lines_to_next_cell": 0,
        "vscode": {
          "languageId": "r"
        }
      },
      "outputs": [],
      "source": [
        "as.character(5/6)\n",
        "as.numeric(as.character(5/6))\n",
        "6*as.numeric(as.character(5/6))\n",
        "5/6 == as.numeric(as.character(5/6))"
      ]
    },
    {
      "cell_type": "markdown",
      "id": "bf1fa4d1",
      "metadata": {
        "lines_to_next_cell": 0
      },
      "source": [
        "<small>(why is that last FALSE?)</small>\n",
        "\n",
        "---\n",
        "### Data can have names\n",
        "\n",
        "We can give names to data objects; these give us **variables**\n",
        "\n",
        "A few variables are built in:"
      ]
    },
    {
      "cell_type": "code",
      "execution_count": null,
      "id": "6e0758d9",
      "metadata": {
        "lines_to_next_cell": 0,
        "vscode": {
          "languageId": "r"
        }
      },
      "outputs": [],
      "source": [
        "pi"
      ]
    },
    {
      "cell_type": "markdown",
      "id": "18d27da8",
      "metadata": {
        "lines_to_next_cell": 0
      },
      "source": [
        "Variables can be arguments to functions or operators, just like constants:"
      ]
    },
    {
      "cell_type": "code",
      "execution_count": null,
      "id": "9c4ea1e9",
      "metadata": {
        "lines_to_next_cell": 0,
        "vscode": {
          "languageId": "r"
        }
      },
      "outputs": [],
      "source": [
        "pi*10\n",
        "cos(pi)"
      ]
    },
    {
      "cell_type": "markdown",
      "id": "f5cce5d9",
      "metadata": {},
      "source": [
        "---\n",
        "### Peculiarites of floating-point numbers\n",
        "\n",
        "The more bits in the fraction part, the more precision\n",
        "\n",
        "The R floating-point data type is a `double`, a.k.a. `numeric`\n",
        "<small>back when memory was expensive, the now-standard\n",
        "number of bits was twice the default</small>\n",
        "\n",
        "Finite precision $\\Rightarrow$ arithmetic on `doubles` $\\neq$ arithmetic on $\\mathbb{R}$."
      ]
    },
    {
      "cell_type": "code",
      "execution_count": null,
      "id": "fe1a435e",
      "metadata": {
        "vscode": {
          "languageId": "r"
        }
      },
      "outputs": [],
      "source": [
        "0.45 == 3 * 0.15\n",
        "0.45 - 3 * 0.15"
      ]
    },
    {
      "cell_type": "markdown",
      "id": "a4202a12",
      "metadata": {
        "lines_to_next_cell": 0
      },
      "source": [
        "---\n",
        "\n",
        "Often ignorable, but not always\n",
        "- Rounding errors tend to accumulate in long calculations\n",
        "- When results should be $\\approx 0$, errors can flip signs\n",
        "- Usually better to use `all.equal()` than exact comparison"
      ]
    },
    {
      "cell_type": "code",
      "execution_count": null,
      "id": "85cfd055",
      "metadata": {
        "vscode": {
          "languageId": "r"
        }
      },
      "outputs": [],
      "source": [
        "(0.5 - 0.3) == (0.3 - 0.1)\n",
        "all.equal(0.5 - 0.3, 0.3 - 0.1)"
      ]
    },
    {
      "cell_type": "markdown",
      "id": "97fcb905",
      "metadata": {
        "lines_to_next_cell": 0
      },
      "source": [
        "---\n",
        "## Data structures\n",
        "\n",
        "- Vectors\n",
        "- Arrays\n",
        "- Matrices\n",
        "- Lists\n",
        "- Dataframes\n",
        "- Structures of structures\n",
        "\n",
        "---\n",
        "### First data structure: vectors\n",
        "\n",
        "Group related data values into one object, a **data structure**\n",
        "\n",
        "A **vector** is a sequence of values, all of the same type"
      ]
    },
    {
      "cell_type": "code",
      "execution_count": null,
      "id": "43b01287",
      "metadata": {
        "lines_to_next_cell": 0,
        "vscode": {
          "languageId": "r"
        }
      },
      "outputs": [],
      "source": [
        "x <- c(7, 8, 10, 45)\n",
        "x\n",
        "is.vector(x)"
      ]
    },
    {
      "cell_type": "markdown",
      "id": "107c87b7",
      "metadata": {
        "lines_to_next_cell": 0
      },
      "source": [
        "---\n",
        "`c()` function returns a vector containing all its arguments in order\n",
        "\n",
        "`x[1]` is the first element, `x[4]` is the 4th element  \n",
        "`x[-4]` is a vector containing all but the fourth element\n",
        "\n",
        "`vector(length=6)` returns an empty vector of length 6; helpful for filling things up later"
      ]
    },
    {
      "cell_type": "code",
      "execution_count": null,
      "id": "b2dd8184",
      "metadata": {
        "vscode": {
          "languageId": "r"
        }
      },
      "outputs": [],
      "source": [
        "weekly_hours <- vector(length=5)\n",
        "weekly_hours[5] <- 8"
      ]
    },
    {
      "cell_type": "markdown",
      "id": "bebfa700",
      "metadata": {
        "lines_to_next_cell": 0
      },
      "source": [
        "---\n",
        "\n",
        "### Vector arithmetic\n",
        "\n",
        "Operators apply to vectors \"pairwise\" or \"elementwise\":"
      ]
    },
    {
      "cell_type": "code",
      "execution_count": null,
      "id": "b21d6aaf",
      "metadata": {
        "vscode": {
          "languageId": "r"
        }
      },
      "outputs": [],
      "source": [
        "y <- c(-7, -8, -10, -45)\n",
        "x + y\n",
        "x * y"
      ]
    },
    {
      "cell_type": "markdown",
      "id": "16db3031",
      "metadata": {
        "lines_to_next_cell": 0
      },
      "source": [
        "---\n",
        "### Recycling\n",
        "\n",
        "**Recycling** repeat elements in shorter vector when combined with longer"
      ]
    },
    {
      "cell_type": "code",
      "execution_count": null,
      "id": "d0bf6c9b",
      "metadata": {
        "vscode": {
          "languageId": "r"
        }
      },
      "outputs": [],
      "source": [
        "x + c(-7, -8)\n",
        "x ^ c(1, 0, -1, 0.5)"
      ]
    },
    {
      "cell_type": "markdown",
      "id": "24475b6b",
      "metadata": {
        "lines_to_next_cell": 0
      },
      "source": [
        "Single numbers are vectors of length 1 for purposes of recycling:"
      ]
    },
    {
      "cell_type": "code",
      "execution_count": null,
      "id": "edafc201",
      "metadata": {
        "lines_to_next_cell": 0,
        "vscode": {
          "languageId": "r"
        }
      },
      "outputs": [],
      "source": [
        "2 * x"
      ]
    },
    {
      "cell_type": "markdown",
      "id": "b82f4df1",
      "metadata": {
        "lines_to_next_cell": 0
      },
      "source": [
        "---\n",
        "\n",
        "Can also do pairwise comparisons:"
      ]
    },
    {
      "cell_type": "code",
      "execution_count": null,
      "id": "0dfaedfd",
      "metadata": {
        "lines_to_next_cell": 0,
        "vscode": {
          "languageId": "r"
        }
      },
      "outputs": [],
      "source": [
        "x > 9"
      ]
    },
    {
      "cell_type": "markdown",
      "id": "93cdbeae",
      "metadata": {
        "lines_to_next_cell": 0
      },
      "source": [
        "Note: returns Boolean vector\n",
        "\n",
        "Boolean operators work elementwise:"
      ]
    },
    {
      "cell_type": "code",
      "execution_count": null,
      "id": "63d44cd7",
      "metadata": {
        "vscode": {
          "languageId": "r"
        }
      },
      "outputs": [],
      "source": [
        "(x > 9) & (x < 20)"
      ]
    },
    {
      "cell_type": "markdown",
      "id": "ad34d3eb",
      "metadata": {
        "lines_to_next_cell": 0
      },
      "source": [
        "---\n",
        "\n",
        "To compare whole vectors, best to use `identical()` or `all.equal()`:"
      ]
    },
    {
      "cell_type": "code",
      "execution_count": null,
      "id": "0dc9e0f2",
      "metadata": {
        "lines_to_next_cell": 0,
        "vscode": {
          "languageId": "r"
        }
      },
      "outputs": [],
      "source": [
        "x == -y\n",
        "identical(x, -y)\n",
        "identical(c(0.5 - 0.3, 0.3 - 0.1), c(0.3 - 0.1, 0.5 - 0.3))\n",
        "all.equal(c(0.5 - 0.3, 0.3 - 0.1), c(0.3 - 0.1, 0.5 - 0.3))"
      ]
    },
    {
      "cell_type": "markdown",
      "id": "7060782e",
      "metadata": {
        "lines_to_next_cell": 0
      },
      "source": [
        "---\n",
        "\n",
        "### Addressing vectors\n",
        "\n",
        "Vector of indices:"
      ]
    },
    {
      "cell_type": "code",
      "execution_count": null,
      "id": "1cf53f64",
      "metadata": {
        "vscode": {
          "languageId": "r"
        }
      },
      "outputs": [],
      "source": [
        "x[c(2,4)]"
      ]
    },
    {
      "cell_type": "markdown",
      "id": "e3921071",
      "metadata": {
        "lines_to_next_cell": 0
      },
      "source": [
        "Vector of negative indices"
      ]
    },
    {
      "cell_type": "code",
      "execution_count": null,
      "id": "c65dd005",
      "metadata": {
        "lines_to_next_cell": 0,
        "vscode": {
          "languageId": "r"
        }
      },
      "outputs": [],
      "source": [
        "x[c(-1,-3)]"
      ]
    },
    {
      "cell_type": "markdown",
      "id": "47b53a10",
      "metadata": {
        "lines_to_next_cell": 0
      },
      "source": [
        "<small>(why that, and not  `8 10`?)</small>\n",
        "\n",
        "---\n",
        "\n",
        "Boolean vector:"
      ]
    },
    {
      "cell_type": "code",
      "execution_count": null,
      "id": "058f02aa",
      "metadata": {
        "vscode": {
          "languageId": "r"
        }
      },
      "outputs": [],
      "source": [
        "x[x>9]\n",
        "y[x>9]"
      ]
    },
    {
      "cell_type": "markdown",
      "id": "5212f01a",
      "metadata": {
        "lines_to_next_cell": 0
      },
      "source": [
        "`which()` turns a Boolean vector in vector of TRUE indices:"
      ]
    },
    {
      "cell_type": "code",
      "execution_count": null,
      "id": "b5d3c8c4",
      "metadata": {
        "vscode": {
          "languageId": "r"
        }
      },
      "outputs": [],
      "source": [
        "places <- which(x > 9)\n",
        "places\n",
        "y[places]"
      ]
    },
    {
      "cell_type": "markdown",
      "id": "d14fe32b",
      "metadata": {
        "lines_to_next_cell": 0
      },
      "source": [
        "---\n",
        "### Named components\n",
        "\n",
        "You can give names to elements or components of vectors"
      ]
    },
    {
      "cell_type": "code",
      "execution_count": null,
      "id": "0053fa41",
      "metadata": {
        "lines_to_next_cell": 0,
        "vscode": {
          "languageId": "r"
        }
      },
      "outputs": [],
      "source": [
        "names(x) <- c(\"v1\",\"v2\",\"v3\",\"fred\")\n",
        "names(x)\n",
        "x[c(\"fred\",\"v1\")]"
      ]
    },
    {
      "cell_type": "markdown",
      "id": "48e02ad0",
      "metadata": {
        "lines_to_next_cell": 0
      },
      "source": [
        "note the labels in what R prints; not actually part of the value\n",
        "\n",
        "---\n",
        "\n",
        "`names(x)` is just another vector (of characters):"
      ]
    },
    {
      "cell_type": "code",
      "execution_count": null,
      "id": "149a22e0",
      "metadata": {
        "vscode": {
          "languageId": "r"
        }
      },
      "outputs": [],
      "source": [
        "names(y) <- names(x)\n",
        "sort(names(x))\n",
        "which(names(x)==\"fred\")"
      ]
    },
    {
      "cell_type": "markdown",
      "id": "83f489d5",
      "metadata": {
        "lines_to_next_cell": 0
      },
      "source": [
        "---\n",
        "\n",
        "### Functions on vectors\n",
        "\n",
        "Lots of functions take vectors as arguments:\n",
        "- `mean()`, `median()`, `sd()`, `var()`, `max()`, `min()`, `length()`, `sum()`: return single numbers\n",
        "- `sort()` returns a new vector\n",
        "- `hist()` takes a vector of numbers and produces a histogram, a highly structured object, with the side-effect of making a plot\n",
        "- Similarly `ecdf()` produces a cumulative-density-function object\n",
        "- `summary()` gives a five-number summary of numerical vectors\n",
        "- `any()` and `all()` are useful on Boolean vectors\n",
        "\n",
        "Not all functions have (or require) arguments:"
      ]
    },
    {
      "cell_type": "code",
      "execution_count": null,
      "id": "12d17e83",
      "metadata": {
        "lines_to_next_cell": 0,
        "vscode": {
          "languageId": "r"
        }
      },
      "outputs": [],
      "source": [
        "date()"
      ]
    },
    {
      "cell_type": "markdown",
      "id": "4c96a95f",
      "metadata": {
        "lines_to_next_cell": 0
      },
      "source": [
        "---\n",
        "### Vector structures, starting with arrays\n",
        "\n",
        "Many data structures in R are made by adding bells and whistles to vectors, so \"vector structures\"\n",
        "\n",
        "Most useful: **arrays**"
      ]
    },
    {
      "cell_type": "code",
      "execution_count": null,
      "id": "2967cdd4",
      "metadata": {
        "lines_to_next_cell": 0,
        "vscode": {
          "languageId": "r"
        }
      },
      "outputs": [],
      "source": [
        "x <- c(7, 8, 10, 45)\n",
        "x.arr <- array(x,dim=c(2,2))\n",
        "x.arr"
      ]
    },
    {
      "cell_type": "markdown",
      "id": "2a420c90",
      "metadata": {
        "lines_to_next_cell": 0
      },
      "source": [
        "`dim` says how many rows and columns; filled by columns\n",
        "\n",
        "Can have $3, 4, \\ldots n$ dimensional arrays; `dim` is a length $n$ vector\n",
        "\n",
        "---\n",
        "\n",
        "Some properties of the array:"
      ]
    },
    {
      "cell_type": "code",
      "execution_count": null,
      "id": "91346317",
      "metadata": {
        "vscode": {
          "languageId": "r"
        }
      },
      "outputs": [],
      "source": [
        "dim(x.arr)\n",
        "is.vector(x.arr)\n",
        "is.array(x.arr)"
      ]
    },
    {
      "cell_type": "markdown",
      "id": "8b25e114",
      "metadata": {
        "lines_to_next_cell": 0
      },
      "source": [
        "---"
      ]
    },
    {
      "cell_type": "code",
      "execution_count": null,
      "id": "6c841ced",
      "metadata": {
        "lines_to_next_cell": 0,
        "vscode": {
          "languageId": "r"
        }
      },
      "outputs": [],
      "source": [
        "typeof(x.arr)\n",
        "str(x.arr)\n",
        "attributes(x.arr)"
      ]
    },
    {
      "cell_type": "markdown",
      "id": "808d1d34",
      "metadata": {
        "lines_to_next_cell": 0
      },
      "source": [
        "`typeof()` returns the type of the _elements_\n",
        "\n",
        "`str()` gives the **structure**: here, a numeric array, with two dimensions, both indexed 1--2, and then the actual numbers\n",
        "\n",
        "Exercise: try all these with `x`\n",
        "\n",
        "---\n",
        "### Accessing and operating on arrays\n",
        "\n",
        "Can access a 2-D array either by pairs of indices or by the underlying vector:"
      ]
    },
    {
      "cell_type": "code",
      "execution_count": null,
      "id": "adf4f7d3",
      "metadata": {
        "vscode": {
          "languageId": "r"
        }
      },
      "outputs": [],
      "source": [
        "x.arr[1,2]\n",
        "x.arr[3]"
      ]
    },
    {
      "cell_type": "markdown",
      "id": "6330351d",
      "metadata": {
        "lines_to_next_cell": 0
      },
      "source": [
        "Omitting an index means \"all of it\":"
      ]
    },
    {
      "cell_type": "code",
      "execution_count": null,
      "id": "7e88a226",
      "metadata": {
        "lines_to_next_cell": 0,
        "vscode": {
          "languageId": "r"
        }
      },
      "outputs": [],
      "source": [
        "x.arr[c(1:2),2]\n",
        "x.arr[,2]"
      ]
    },
    {
      "cell_type": "markdown",
      "id": "0b04a29c",
      "metadata": {
        "lines_to_next_cell": 0
      },
      "source": [
        "---\n",
        "### Functions on arrays\n",
        "\n",
        "Using a vector-style function on a vector structure will go down to the underlying vector, _unless_ the function is set up to handle arrays specially:"
      ]
    },
    {
      "cell_type": "code",
      "execution_count": null,
      "id": "6467c9ec",
      "metadata": {
        "lines_to_next_cell": 0,
        "vscode": {
          "languageId": "r"
        }
      },
      "outputs": [],
      "source": [
        "which(x.arr > 9)"
      ]
    },
    {
      "cell_type": "markdown",
      "id": "2e1ca29b",
      "metadata": {
        "lines_to_next_cell": 0
      },
      "source": [
        "---\n",
        "Many functions _do_ preserve array structure:"
      ]
    },
    {
      "cell_type": "code",
      "execution_count": null,
      "id": "003252e0",
      "metadata": {
        "vscode": {
          "languageId": "r"
        }
      },
      "outputs": [],
      "source": [
        "y <- -x\n",
        "y.arr <- array(y,dim=c(2,2))\n",
        "y.arr + x.arr"
      ]
    },
    {
      "cell_type": "markdown",
      "id": "59757188",
      "metadata": {
        "lines_to_next_cell": 0
      },
      "source": [
        "Others specifically act on each row or column of the array separately:"
      ]
    },
    {
      "cell_type": "code",
      "execution_count": null,
      "id": "10a5c577",
      "metadata": {
        "vscode": {
          "languageId": "r"
        }
      },
      "outputs": [],
      "source": [
        "rowSums(x.arr)"
      ]
    },
    {
      "cell_type": "markdown",
      "id": "a7436b57",
      "metadata": {},
      "source": [
        "<small>We will see a lot more of this idea</small>"
      ]
    },
    {
      "cell_type": "markdown",
      "id": "59093bc3",
      "metadata": {
        "lines_to_next_cell": 0
      },
      "source": [
        "---\n",
        "### Example: Price of houses in PA\n",
        "\n",
        "Census data for California and Pennsylvania on housing prices,\n",
        "by Census \"tract\""
      ]
    },
    {
      "cell_type": "code",
      "execution_count": null,
      "id": "0f7b9e69",
      "metadata": {
        "lines_to_next_cell": 0,
        "message": false,
        "vscode": {
          "languageId": "r"
        }
      },
      "outputs": [],
      "source": [
        "calif_penn <- read_csv(\"data/calif_penn_2011.csv\")\n",
        "penn <- calif_penn |> filter(STATEFP == '42') #|> filter(!(Median_household_income < 10000 & Median_house_value > 70000))#calif_penn[calif_penn$STATEFP == '42',]\n",
        "penn <- penn[!penn$TRACTCE %in% c('961102', '000800'),]\n",
        "coefficients(lm(Median_house_value ~ Median_household_income, data=penn))"
      ]
    },
    {
      "cell_type": "markdown",
      "id": "7439ae7f",
      "metadata": {
        "lines_to_next_cell": 0
      },
      "source": [
        "Fit a simple linear model, predicting median house price from median household income\n",
        "\n",
        "---\n",
        "Census tracts 24--425 are Allegheny county\n",
        "\n",
        "Tract 24 has a median income of `$14,719`; actual median house value is `$34,100` --- is that above or below what's?"
      ]
    },
    {
      "cell_type": "code",
      "execution_count": null,
      "id": "d5e278d6",
      "metadata": {
        "vscode": {
          "languageId": "r"
        }
      },
      "outputs": [],
      "source": [
        "34100 < -26206.564 + 3.651*14719"
      ]
    },
    {
      "cell_type": "markdown",
      "id": "c360dbfb",
      "metadata": {
        "lines_to_next_cell": 0
      },
      "source": [
        "Tract 25 has income `$48,102` and house price `$155,900`"
      ]
    },
    {
      "cell_type": "code",
      "execution_count": null,
      "id": "0b2f0863",
      "metadata": {
        "vscode": {
          "languageId": "r"
        }
      },
      "outputs": [],
      "source": [
        "155900 < -26206.564 + 3.651*48102"
      ]
    },
    {
      "cell_type": "markdown",
      "id": "f3431d93",
      "metadata": {
        "lines_to_next_cell": 0
      },
      "source": [
        "What about tract 26?\n",
        "\n",
        "---\n",
        "\n",
        "We _could_ just keep plugging in numbers like this, but that's\n",
        "- boring and repetitive\n",
        "- error-prone (what if I forget to change the median income, or drop a minus sign from the intercept?)\n",
        "- obscure if we come back to our work later (what _are_ these numbers?)\n",
        "\n",
        "Use variables and names\n",
        "---"
      ]
    },
    {
      "cell_type": "code",
      "execution_count": null,
      "id": "dc6d7cab",
      "metadata": {
        "vscode": {
          "languageId": "r"
        }
      },
      "outputs": [],
      "source": [
        "penn.coefs <- coefficients(lm(Median_house_value ~ Median_household_income, data=penn))\n",
        "penn.coefs"
      ]
    },
    {
      "cell_type": "code",
      "execution_count": null,
      "id": "0256b205",
      "metadata": {
        "vscode": {
          "languageId": "r"
        }
      },
      "outputs": [],
      "source": [
        "allegheny.rows <- 24:425\n",
        "allegheny <- penn |> slice(allegheny.rows) |> \n",
        "  mutate(fitted = penn.coefs[\"(Intercept)\"]+\n",
        "  penn.coefs[\"Median_household_income\"]*Median_household_income)\n",
        "allegheny <- allegheny[complete.cases(allegheny),]"
      ]
    },
    {
      "cell_type": "markdown",
      "id": "eb3b679b",
      "metadata": {
        "lines_to_next_cell": 0
      },
      "source": [
        "---"
      ]
    },
    {
      "cell_type": "code",
      "execution_count": null,
      "id": "5565ea11",
      "metadata": {
        "dpi": 300,
        "fig.height": 7.5,
        "fig.width": 12,
        "lines_to_next_cell": 0,
        "message": false,
        "vscode": {
          "languageId": "r"
        }
      },
      "outputs": [],
      "source": [
        "allegheny |> ggplot(aes(x = fitted, y = Median_house_value))+\n",
        "  geom_point()+\n",
        "  labs(x = \"Model-predicted median house values\",\n",
        "     y =\"Actual median house values\")+\n",
        "  geom_smooth() + geom_abline()"
      ]
    },
    {
      "cell_type": "markdown",
      "id": "ff843081",
      "metadata": {
        "lines_to_next_cell": 0
      },
      "source": [
        "---"
      ]
    },
    {
      "cell_type": "code",
      "execution_count": null,
      "id": "77545e7a",
      "metadata": {
        "dpi": 300,
        "fig.height": 8.5,
        "fig.width": 12,
        "lines_to_next_cell": 0,
        "message": false,
        "vscode": {
          "languageId": "r"
        }
      },
      "outputs": [],
      "source": [
        "allegheny |> ggplot(aes(x = Median_household_income))+\n",
        "  geom_histogram()"
      ]
    },
    {
      "cell_type": "markdown",
      "id": "55c53c7a",
      "metadata": {},
      "source": [
        "---\n",
        "### Running example: resource allocation (\"mathematical programming\")\n",
        "\n",
        "Factory makes cars and trucks, using labor and steel\n",
        "\n",
        "- a car takes 40 hours of labor and 1 ton of steel\n",
        "- a truck takes 60 hours and 3 tons of steel\n",
        "- resources: 1600 hours of labor and 70 tons of steel each week\n"
      ]
    },
    {
      "cell_type": "markdown",
      "id": "040ff6d0",
      "metadata": {},
      "source": [
        "---\n",
        "### Matrices\n",
        "\n",
        "In R, a matrix is a specialization of a 2D array"
      ]
    },
    {
      "cell_type": "code",
      "execution_count": null,
      "id": "b22a56ac",
      "metadata": {
        "lines_to_next_cell": 0,
        "vscode": {
          "languageId": "r"
        }
      },
      "outputs": [],
      "source": [
        "factory <- matrix(c(40,1,60,3),nrow=2)\n",
        "is.array(factory)\n",
        "is.matrix(factory)"
      ]
    },
    {
      "cell_type": "markdown",
      "id": "f0424f32",
      "metadata": {},
      "source": [
        "could also specify `ncol`, and/or `byrow=TRUE` to fill by rows.\n",
        "\n",
        "Element-wise operations with the usual arithmetic and comparison operators\n",
        "(e.g., `factory/3`)\n",
        "\n",
        "Compare whole matrices with `identical()` or `all.equal()`"
      ]
    },
    {
      "cell_type": "markdown",
      "id": "f12fe6e8",
      "metadata": {},
      "source": [
        "---\n",
        "### Matrix multiplication\n",
        "\n",
        "Gets a special operator"
      ]
    },
    {
      "cell_type": "code",
      "execution_count": null,
      "id": "2443a279",
      "metadata": {
        "vscode": {
          "languageId": "r"
        }
      },
      "outputs": [],
      "source": [
        "six.sevens <- matrix(rep(7,6),ncol=3)\n",
        "six.sevens\n",
        "factory %*% six.sevens # [2x2] * [2x3]"
      ]
    },
    {
      "cell_type": "markdown",
      "id": "d43b3c4a",
      "metadata": {},
      "source": [
        "<small>What happens if you try `six.sevens %*% factory`?</small>"
      ]
    },
    {
      "cell_type": "markdown",
      "id": "240fdb7d",
      "metadata": {
        "lines_to_next_cell": 0
      },
      "source": [
        "---\n",
        "### Multiplying matrices and vectors\n",
        "\n",
        "Numeric vectors can act like proper vectors:"
      ]
    },
    {
      "cell_type": "code",
      "execution_count": null,
      "id": "b972fae6",
      "metadata": {
        "lines_to_next_cell": 0,
        "vscode": {
          "languageId": "r"
        }
      },
      "outputs": [],
      "source": [
        "output <- c(10,20)\n",
        "factory %*% output\n",
        "output %*% factory"
      ]
    },
    {
      "cell_type": "markdown",
      "id": "d7e3c8c9",
      "metadata": {},
      "source": [
        "<small>R silently casts the vector as either a row or a column matrix</small>"
      ]
    },
    {
      "cell_type": "markdown",
      "id": "af854b41",
      "metadata": {},
      "source": [
        "---\n",
        "### Matrix operators"
      ]
    },
    {
      "cell_type": "markdown",
      "id": "3a60db55",
      "metadata": {
        "lines_to_next_cell": 0
      },
      "source": [
        "Transpose:"
      ]
    },
    {
      "cell_type": "code",
      "execution_count": null,
      "id": "57c19a4e",
      "metadata": {
        "vscode": {
          "languageId": "r"
        }
      },
      "outputs": [],
      "source": [
        "t(factory)"
      ]
    },
    {
      "cell_type": "markdown",
      "id": "1a4de4e3",
      "metadata": {
        "lines_to_next_cell": 0
      },
      "source": [
        "Determinant:"
      ]
    },
    {
      "cell_type": "code",
      "execution_count": null,
      "id": "57040ac9",
      "metadata": {
        "lines_to_next_cell": 2,
        "vscode": {
          "languageId": "r"
        }
      },
      "outputs": [],
      "source": [
        "det(factory)"
      ]
    },
    {
      "cell_type": "markdown",
      "id": "5950d0cf",
      "metadata": {
        "lines_to_next_cell": 0
      },
      "source": [
        "---\n",
        "### The diagonal\n",
        "\n",
        "The `diag()` function can extract the diagonal entries of a matrix:"
      ]
    },
    {
      "cell_type": "code",
      "execution_count": null,
      "id": "a684ae39",
      "metadata": {
        "lines_to_next_cell": 0,
        "vscode": {
          "languageId": "r"
        }
      },
      "outputs": [],
      "source": [
        "diag(factory)"
      ]
    },
    {
      "cell_type": "markdown",
      "id": "b7e5e987",
      "metadata": {
        "lines_to_next_cell": 0
      },
      "source": [
        "It can also _change_ the diagonal:"
      ]
    },
    {
      "cell_type": "code",
      "execution_count": null,
      "id": "c5ee89e5",
      "metadata": {
        "lines_to_next_cell": 0,
        "vscode": {
          "languageId": "r"
        }
      },
      "outputs": [],
      "source": [
        "diag(factory) <- c(35,4)\n",
        "factory"
      ]
    },
    {
      "cell_type": "markdown",
      "id": "6d9a68dd",
      "metadata": {
        "lines_to_next_cell": 0
      },
      "source": [
        "Re-set it for later:"
      ]
    },
    {
      "cell_type": "code",
      "execution_count": null,
      "id": "67612a51",
      "metadata": {
        "lines_to_next_cell": 2,
        "vscode": {
          "languageId": "r"
        }
      },
      "outputs": [],
      "source": [
        "diag(factory) <- c(40,3)"
      ]
    },
    {
      "cell_type": "markdown",
      "id": "4fb01833",
      "metadata": {},
      "source": [
        "---\n",
        "### Creating a diagonal or identity matrix"
      ]
    },
    {
      "cell_type": "code",
      "execution_count": null,
      "id": "66d3b7e8",
      "metadata": {
        "lines_to_next_cell": 2,
        "vscode": {
          "languageId": "r"
        }
      },
      "outputs": [],
      "source": [
        "diag(c(3,4))\n",
        "diag(2)"
      ]
    },
    {
      "cell_type": "markdown",
      "id": "fb4fa586",
      "metadata": {},
      "source": [
        "---\n",
        "### Inverting a matrix"
      ]
    },
    {
      "cell_type": "code",
      "execution_count": null,
      "id": "68ccd18a",
      "metadata": {
        "vscode": {
          "languageId": "r"
        }
      },
      "outputs": [],
      "source": [
        "solve(factory)\n",
        "factory %*% solve(factory)"
      ]
    },
    {
      "cell_type": "markdown",
      "id": "09940b0c",
      "metadata": {},
      "source": [
        "---\n",
        "### Why's it called \"solve\"\" anyway?\n",
        "\n",
        "Solving the linear system $\\mathbf{A}\\vec{x} = \\vec{b}$ for $\\vec{x}$:"
      ]
    },
    {
      "cell_type": "code",
      "execution_count": null,
      "id": "9e40f00f",
      "metadata": {
        "vscode": {
          "languageId": "r"
        }
      },
      "outputs": [],
      "source": [
        "available <- c(1600,70)\n",
        "solve(factory,available)\n",
        "factory %*% solve(factory,available)"
      ]
    },
    {
      "cell_type": "markdown",
      "id": "c8750a8b",
      "metadata": {
        "lines_to_next_cell": 0
      },
      "source": [
        "---\n",
        "### Names in matrices\n",
        "\n",
        "We can name either rows or columns or both, with `rownames()` and `colnames()`\n",
        "\n",
        "These are just character vectors, and we use the same function to get and to set their values\n",
        "\n",
        "Names help us understand what we're working with\n",
        "\n",
        "Names can be used to coordinate different objects\n",
        "\n",
        "---"
      ]
    },
    {
      "cell_type": "code",
      "execution_count": null,
      "id": "daa887ed",
      "metadata": {
        "vscode": {
          "languageId": "r"
        }
      },
      "outputs": [],
      "source": [
        "rownames(factory) <- c(\"labor\",\"steel\")\n",
        "colnames(factory) <- c(\"cars\",\"trucks\")\n",
        "factory\n",
        "available <- c(1600,70)\n",
        "names(available) <- c(\"labor\",\"steel\")"
      ]
    },
    {
      "cell_type": "markdown",
      "id": "7a5c3322",
      "metadata": {
        "lines_to_next_cell": 0
      },
      "source": [
        "---"
      ]
    },
    {
      "cell_type": "code",
      "execution_count": null,
      "id": "ce5f49bc",
      "metadata": {
        "lines_to_next_cell": 0,
        "vscode": {
          "languageId": "r"
        }
      },
      "outputs": [],
      "source": [
        "output <- c(20,10)\n",
        "names(output) <- c(\"trucks\",\"cars\")\n",
        "factory %*% output # But we've got cars and trucks mixed up!\n",
        "factory %*% output[colnames(factory)]\n",
        "all(factory %*% output[colnames(factory)] <= available[rownames(factory)])"
      ]
    },
    {
      "cell_type": "markdown",
      "id": "bbdbf105",
      "metadata": {},
      "source": [
        "Notice: Last lines don't have to change if we add motorcycles as output or rubber and glass as inputs (abstraction again)\n",
        "\n",
        "---\n",
        "### Doing the same thing to each row or column\n",
        "\n",
        "Take the mean: `rowMeans()`, `colMeans()`: input is matrix,\n",
        "output is vector.  Also `rowSums()`, etc.\n",
        "\n",
        "`summary()`: vector-style summary of column"
      ]
    },
    {
      "cell_type": "code",
      "execution_count": null,
      "id": "cb84fda5",
      "metadata": {
        "vscode": {
          "languageId": "r"
        }
      },
      "outputs": [],
      "source": [
        "colMeans(factory)\n",
        "summary(factory)"
      ]
    },
    {
      "cell_type": "markdown",
      "id": "87d66d74",
      "metadata": {},
      "source": [
        "---\n",
        "`apply()`, takes 3 arguments: the array or matrix, then 1 for rows and 2 for columns, then name of the function to apply to each"
      ]
    },
    {
      "cell_type": "code",
      "execution_count": null,
      "id": "0ebcea22",
      "metadata": {
        "vscode": {
          "languageId": "r"
        }
      },
      "outputs": [],
      "source": [
        "rowMeans(factory)\n",
        "apply(factory,1,mean)"
      ]
    },
    {
      "cell_type": "markdown",
      "id": "4b59aa0a",
      "metadata": {},
      "source": [
        "<small>What would `apply(factory,1,sd)` do?</small>"
      ]
    },
    {
      "cell_type": "markdown",
      "id": "39ecbe70",
      "metadata": {},
      "source": [
        "---\n",
        "### Lists\n",
        "\n",
        "Sequence of values, _not_ necessarily all of the same type"
      ]
    },
    {
      "cell_type": "code",
      "execution_count": null,
      "id": "0e39edef",
      "metadata": {
        "vscode": {
          "languageId": "r"
        }
      },
      "outputs": [],
      "source": [
        "my.distribution <- list(\"exponential\",7,FALSE)\n",
        "my.distribution"
      ]
    },
    {
      "cell_type": "markdown",
      "id": "7ca27dd6",
      "metadata": {
        "lines_to_next_cell": 0
      },
      "source": [
        "Most of what you can do with vectors you can also do with lists\n",
        "\n",
        "---\n",
        "### Accessing pieces of lists\n",
        "\n",
        "Can use `[ ]` as with vectors  \n",
        "or use `[[ ]]`, but only with a single index  \n",
        "`[[ ]]` drops names and structures, `[ ]` does not"
      ]
    },
    {
      "cell_type": "code",
      "execution_count": null,
      "id": "9f62b31e",
      "metadata": {
        "lines_to_next_cell": 0,
        "vscode": {
          "languageId": "r"
        }
      },
      "outputs": [],
      "source": [
        "is.character(my.distribution)\n",
        "is.character(my.distribution[[1]])\n",
        "my.distribution[[2]]^2"
      ]
    },
    {
      "cell_type": "markdown",
      "id": "32d1474b",
      "metadata": {
        "lines_to_next_cell": 0
      },
      "source": [
        "<small>What happens if you try `my.distribution[2]^2`?</small>\n",
        "<small>What happens if you try `[[ ]]` on a vector?</small>"
      ]
    },
    {
      "cell_type": "code",
      "execution_count": null,
      "id": "3d36d205",
      "metadata": {
        "vscode": {
          "languageId": "r"
        }
      },
      "outputs": [],
      "source": [
        "#my.distribution[2]^2\n",
        "available[[2]]"
      ]
    },
    {
      "cell_type": "markdown",
      "id": "72cf0a8d",
      "metadata": {
        "lines_to_next_cell": 0
      },
      "source": [
        "---\n",
        "### Expanding and contracting lists\n",
        "\n",
        "Add to lists with `c()` (also works with vectors):"
      ]
    },
    {
      "cell_type": "code",
      "execution_count": null,
      "id": "e0c66efe",
      "metadata": {
        "vscode": {
          "languageId": "r"
        }
      },
      "outputs": [],
      "source": [
        "my.distribution <- c(my.distribution,7)\n",
        "my.distribution"
      ]
    },
    {
      "cell_type": "markdown",
      "id": "9169f1cd",
      "metadata": {
        "lines_to_next_cell": 0
      },
      "source": [
        "---\n",
        "Chop off the end of a list by setting the length to something smaller (also works with vectors):"
      ]
    },
    {
      "cell_type": "code",
      "execution_count": null,
      "id": "b7d9c576",
      "metadata": {
        "vscode": {
          "languageId": "r"
        }
      },
      "outputs": [],
      "source": [
        "length(my.distribution)\n",
        "length(my.distribution) <- 3\n",
        "my.distribution"
      ]
    },
    {
      "cell_type": "markdown",
      "id": "91e8e091",
      "metadata": {
        "lines_to_next_cell": 0
      },
      "source": [
        "---\n",
        "### Naming list elements\n",
        "\n",
        "We can name some or all of the elements of a list"
      ]
    },
    {
      "cell_type": "code",
      "execution_count": null,
      "id": "4b2d665a",
      "metadata": {
        "lines_to_next_cell": 2,
        "vscode": {
          "languageId": "r"
        }
      },
      "outputs": [],
      "source": [
        "names(my.distribution) <- c(\"family\",\"mean\",\"is.symmetric\")\n",
        "my.distribution\n",
        "my.distribution[[\"family\"]]\n",
        "my.distribution[\"family\"]"
      ]
    },
    {
      "cell_type": "markdown",
      "id": "b7103d80",
      "metadata": {
        "lines_to_next_cell": 0
      },
      "source": [
        "---\n",
        "\n",
        "Lists have a special short-cut way of using names, `$` (which removes names and structures):"
      ]
    },
    {
      "cell_type": "code",
      "execution_count": null,
      "id": "46af3115",
      "metadata": {
        "vscode": {
          "languageId": "r"
        }
      },
      "outputs": [],
      "source": [
        "my.distribution[[\"family\"]]\n",
        "my.distribution$family"
      ]
    },
    {
      "cell_type": "markdown",
      "id": "c9969fbd",
      "metadata": {
        "lines_to_next_cell": 0
      },
      "source": [
        "---\n",
        "### Names in lists (cont'd.)\n",
        "\n",
        "Creating a list with names:"
      ]
    },
    {
      "cell_type": "code",
      "execution_count": null,
      "id": "7feffc97",
      "metadata": {
        "vscode": {
          "languageId": "r"
        }
      },
      "outputs": [],
      "source": [
        "another.distribution <- list(family=\"gaussian\",mean=7,sd=1,is.symmetric=TRUE)"
      ]
    },
    {
      "cell_type": "markdown",
      "id": "7f74d52a",
      "metadata": {
        "lines_to_next_cell": 0
      },
      "source": [
        "Adding named elements:"
      ]
    },
    {
      "cell_type": "code",
      "execution_count": null,
      "id": "3df19590",
      "metadata": {
        "vscode": {
          "languageId": "r"
        }
      },
      "outputs": [],
      "source": [
        "my.distribution$was.estimated <- FALSE\n",
        "my.distribution[[\"last.updated\"]] <- \"2011-08-30\""
      ]
    },
    {
      "cell_type": "markdown",
      "id": "be80a952",
      "metadata": {
        "lines_to_next_cell": 0
      },
      "source": [
        "Removing a named list element, by assigning it the value `NULL`:"
      ]
    },
    {
      "cell_type": "code",
      "execution_count": null,
      "id": "24320467",
      "metadata": {
        "vscode": {
          "languageId": "r"
        }
      },
      "outputs": [],
      "source": [
        "my.distribution$was.estimated <- NULL"
      ]
    },
    {
      "cell_type": "markdown",
      "id": "b33648d0",
      "metadata": {},
      "source": [
        "---\n",
        "### Key-Value pairs\n",
        "\n",
        "Lists give us a way to store and look up data by _name_, rather than by _position_\n",
        "\n",
        "A really useful programming concept with many names: **key-value pairs**, **dictionaries**, **associative arrays**, **hashes**\n",
        "\n",
        "If all our distributions have components named `family`, we can look that up by name, without caring where it is in the list"
      ]
    },
    {
      "cell_type": "markdown",
      "id": "364940ae",
      "metadata": {
        "lines_to_next_cell": 0
      },
      "source": [
        "---\n",
        "### Dataframes\n",
        "\n",
        "Dataframe = the classic data table, $n$ rows for cases, $p$ columns for variables\n",
        "\n",
        "Lots of the really-statistical parts of R presume data frames\n",
        "<small>`penn` from last time was really a dataframe</small>\n",
        "\n",
        "Not just a matrix because *columns can have different types*\n",
        "\n",
        "Many matrix functions also work for dataframes (`rowSums()`, `summary()`, `apply()`)\n",
        "\n",
        "<small>but no matrix multiplying dataframes, even if all columns are numeric</small>\n",
        "\n",
        "---"
      ]
    },
    {
      "cell_type": "code",
      "execution_count": null,
      "id": "ce6d023e",
      "metadata": {
        "vscode": {
          "languageId": "r"
        }
      },
      "outputs": [],
      "source": [
        "a.matrix <- matrix(c(35,8,10,4),nrow=2)\n",
        "colnames(a.matrix) <- c(\"v1\",\"v2\")\n",
        "a.matrix\n",
        "a.matrix[,\"v1\"]  # Try a.matrix$v1 and see what happens"
      ]
    },
    {
      "cell_type": "markdown",
      "id": "2d5d350f",
      "metadata": {
        "lines_to_next_cell": 0
      },
      "source": [
        "---"
      ]
    },
    {
      "cell_type": "code",
      "execution_count": null,
      "id": "9259d768",
      "metadata": {
        "lines_to_next_cell": 0,
        "vscode": {
          "languageId": "r"
        }
      },
      "outputs": [],
      "source": [
        "a.data.frame <- data.frame(a.matrix,logicals=c(TRUE,FALSE))\n",
        "a.data.frame\n",
        "a.data.frame$v1\n",
        "a.data.frame[,\"v1\"]\n",
        "a.data.frame[1,]\n",
        "colMeans(a.data.frame)"
      ]
    },
    {
      "cell_type": "markdown",
      "id": "4592a0e5",
      "metadata": {
        "lines_to_next_cell": 0
      },
      "source": [
        "---\n",
        "### Adding rows and columns\n",
        "\n",
        "We can add rows or columns to an array or data-frame with `rbind()` and `cbind()`, but be careful about forced type conversions"
      ]
    },
    {
      "cell_type": "code",
      "execution_count": null,
      "id": "10be4ba1",
      "metadata": {
        "vscode": {
          "languageId": "r"
        }
      },
      "outputs": [],
      "source": [
        "rbind(a.data.frame,list(v1=-3,v2=-5,logicals=TRUE))\n",
        "rbind(a.data.frame,c(3,4,6))"
      ]
    },
    {
      "cell_type": "markdown",
      "id": "83e7e458",
      "metadata": {
        "lines_to_next_cell": 0
      },
      "source": [
        "---\n",
        "### Structures of Structures\n",
        "\n",
        "So far, every list element has been a single data value\n",
        "\n",
        "List elements can be other data structures, e.g., vectors and matrices:"
      ]
    },
    {
      "cell_type": "code",
      "execution_count": null,
      "id": "e4bf8ad8",
      "metadata": {
        "vscode": {
          "languageId": "r"
        }
      },
      "outputs": [],
      "source": [
        "plan <- list(factory=factory, available=available, output=output)\n",
        "plan$output"
      ]
    },
    {
      "cell_type": "markdown",
      "id": "4c970eef",
      "metadata": {},
      "source": [
        "Internally, a dataframe is basically a list of vectors\n",
        "\n",
        "---\n",
        "### Structures of Structures (cont'd.)\n",
        "\n",
        "List elements can even be other lists  \n",
        "which may contain other data structures  \n",
        "including other lists  \n",
        "which may contain other data structures...\n",
        "\n",
        "This **recursion** lets us build arbitrarily complicated data structures from the basic ones\n",
        "\n",
        "Most complicated objects are (usually) lists of data structures\n"
      ]
    },
    {
      "cell_type": "markdown",
      "id": "69d54714",
      "metadata": {},
      "source": [
        "---\n",
        "### Example: Eigenstuff\n",
        "\n",
        "`eigen()` finds eigenvalues and eigenvectors of a matrix  \n",
        "Returns a list of a vector (the eigenvalues) and a matrix (the eigenvectors)"
      ]
    },
    {
      "cell_type": "code",
      "execution_count": null,
      "id": "bce1d240",
      "metadata": {
        "vscode": {
          "languageId": "r"
        }
      },
      "outputs": [],
      "source": [
        "eigen(factory)\n",
        "class(eigen(factory))"
      ]
    },
    {
      "cell_type": "markdown",
      "id": "622a94f8",
      "metadata": {
        "lines_to_next_cell": 0
      },
      "source": [
        "---\n",
        "With complicated objects, you can access parts of parts (of parts...)"
      ]
    },
    {
      "cell_type": "code",
      "execution_count": null,
      "id": "03ec585d",
      "metadata": {
        "lines_to_next_cell": 0,
        "vscode": {
          "languageId": "r"
        }
      },
      "outputs": [],
      "source": [
        "factory %*% eigen(factory)$vectors[,2]\n",
        "eigen(factory)$values[2] * eigen(factory)$vectors[,2]\n",
        "eigen(factory)$values[2]\n",
        "eigen(factory)[[1]][[2]] # NOT [[1,2]]"
      ]
    },
    {
      "cell_type": "markdown",
      "id": "56a4f7ae",
      "metadata": {},
      "source": [
        "---\n",
        "### Summary\n",
        "\n",
        "- Arrays add multi-dimensional structure to vectors\n",
        "- Matrices act like you'd hope they would\n",
        "- Lists let us combine different types of data\n",
        "- Dataframes are hybrids of matrices and lists, for classic tabular data\n",
        "- Recursion lets us build complicated data structures out of the simpler ones"
      ]
    }
  ],
  "metadata": {
    "jupytext": {
      "cell_metadata_filter": "name,tags,fig.height,dpi,fig.width,message,-all",
      "main_language": "R",
      "notebook_metadata_filter": "-all"
    },
    "kernelspec": {
      "name": "ir",
      "display_name": "R",
      "language": "R"
    },
    "language_info": {
      "name": "R"
    }
  },
  "nbformat": 4,
  "nbformat_minor": 5
}