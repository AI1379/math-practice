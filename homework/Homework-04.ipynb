{
  "cells": [
    {
      "cell_type": "raw",
      "id": "115d6f61",
      "metadata": {},
      "source": [
        "---\n",
        "title: \"Homework 4: Diffusion of Tetracycline\"\n",
        "output: pdf_document\n",
        "---"
      ]
    },
    {
      "cell_type": "markdown",
      "id": "e5e3e091",
      "metadata": {
        "lines_to_next_cell": 0
      },
      "source": [
        "We continue examining the diffusion of tetracycline among doctors in Illinois in the early 1950s, building on our work in lab 6.  You will need the data sets `ckm_nodes.csv` and `ckm_network.dat` from the labs.\n",
        "\n",
        "1. Clean the data to eliminate doctors for whom we have no adoption-date information, as in the labs.  Only use this cleaned data in the rest of the assignment."
      ]
    },
    {
      "cell_type": "code",
      "execution_count": null,
      "id": "b36c6c23",
      "metadata": {
        "message": false
      },
      "outputs": [],
      "source": [
        "library(tidyverse)\n",
        "ckm_nodes <- read_csv('data/ckm_nodes.csv') \n",
        "noinfor <- which(is.na(ckm_nodes$adoption_date))\n",
        "ckm_nodes <- ckm_nodes[-noinfor, ]\n",
        "ckm_network <- read.table('data/ckm_network.dat')\n",
        "ckm_network <- ckm_network[-noinfor, -noinfor]"
      ]
    },
    {
      "cell_type": "markdown",
      "id": "7682788d",
      "metadata": {
        "lines_to_next_cell": 0
      },
      "source": [
        "2. Create a new data frame which records, for every doctor, for every month, whether that doctor began prescribing tetracycline that month, whether they had adopted tetracycline before that month, the number of their contacts who began prescribing strictly _before_ that month, and the number of their contacts who began prescribing in that month or earlier.  Explain why the dataframe should have 6 columns, and 2125 rows. "
      ]
    },
    {
      "cell_type": "code",
      "execution_count": null,
      "id": "e8068a49",
      "metadata": {},
      "outputs": [],
      "source": []
    },
    {
      "cell_type": "markdown",
      "id": "acbc07d8",
      "metadata": {},
      "source": [
        "3.  Let"
      ]
    },
    {
      "cell_type": "code",
      "execution_count": null,
      "id": "0ef28e51",
      "metadata": {
        "language": "=latex"
      },
      "outputs": [],
      "source": [
        "    \\begin{equation}\n",
        "    \\begin{split}\n",
        "    p_k & = \\Pr(\\text{A doctor starts prescribing tetracycline this month} \\mid \\\\\n",
        "     & \\text{Number of doctor's contacts prescribing before this month}=k) \n",
        "     \\end{split}\n",
        "     \\end{equation}"
      ]
    },
    {
      "cell_type": "markdown",
      "id": "a4b54376",
      "metadata": {},
      "source": [
        "and"
      ]
    },
    {
      "cell_type": "code",
      "execution_count": null,
      "id": "4cd9c7cd",
      "metadata": {
        "language": "=latex"
      },
      "outputs": [],
      "source": [
        "    \\begin{equation}\n",
        "    \\begin{split}\n",
        "     q_k & = \\Pr(\\text{A doctor starts prescribing tetracycline this month} \\mid \\\\ \n",
        "     & \\text{Number of doctor's contacts prescribing this month}=k)\n",
        "     \\end{split}\n",
        "     \\end{equation}"
      ]
    },
    {
      "cell_type": "markdown",
      "id": "7673e8f6",
      "metadata": {
        "lines_to_next_cell": 0
      },
      "source": [
        "   We suppose that $p_k$ and $q_k$ are the same for all months.\n",
        "  \n",
        "  a. Explain why there should be no more than $21$ values of $k$ for which we can estimate $p_k$ and $q_k$ directly from the data."
      ]
    },
    {
      "cell_type": "code",
      "execution_count": null,
      "id": "fd8455cd",
      "metadata": {
        "lines_to_next_cell": 0
      },
      "outputs": [],
      "source": []
    },
    {
      "cell_type": "markdown",
      "id": "7772b55a",
      "metadata": {
        "lines_to_next_cell": 0
      },
      "source": [
        "  b. Create a vector of estimated $p_k$ probabilities, using the data frame from (2).  Plot the probabilities against the number of prior-adoptee contacts $k$."
      ]
    },
    {
      "cell_type": "code",
      "execution_count": null,
      "id": "fbb677c4",
      "metadata": {
        "lines_to_next_cell": 0
      },
      "outputs": [],
      "source": []
    },
    {
      "cell_type": "markdown",
      "id": "5ec2f215",
      "metadata": {
        "lines_to_next_cell": 0
      },
      "source": [
        "  c. Create a vector of estimated $q_k$ probabilities, using the data frame from (2). Plot the probabilities against the number of prior-or-contemporary-adoptee contacts $k$."
      ]
    },
    {
      "cell_type": "code",
      "execution_count": null,
      "id": "574cc70f",
      "metadata": {},
      "outputs": [],
      "source": []
    },
    {
      "cell_type": "markdown",
      "id": "20fd64f1",
      "metadata": {
        "lines_to_next_cell": 0
      },
      "source": [
        "4. Because it only conditions on information from the previous month, $p_k$ is a little easier to interpret than $q_k$.  It is the probability per month that a doctor adopts tetracycline, if they have exactly $k$ contacts who had already adopted tetracycline.\n",
        "  a. Suppose $p_k = a + bk$.  This would mean that each friend who adopts the new drug increases the probability of adoption by an equal amount.  Estimate this model by least squares, using the values you constructed in (3b).  Report the parameter estimates."
      ]
    },
    {
      "cell_type": "code",
      "execution_count": null,
      "id": "d548707b",
      "metadata": {
        "lines_to_next_cell": 0
      },
      "outputs": [],
      "source": []
    },
    {
      "cell_type": "markdown",
      "id": "05bf0e65",
      "metadata": {},
      "source": [
        "  b. Suppose $p_k = e^{a+bk}/(1+e^{a+bk})$.  Explain, in words, what this model would imply about the impact of adding one more adoptee friend on a given doctor's probability of adoption.  (You can suppose that $b > 0$, if that makes it easier.)  Estimate the model by least squares, using the values you constructed in (3b)."
      ]
    },
    {
      "cell_type": "code",
      "execution_count": null,
      "id": "e2e14341",
      "metadata": {
        "lines_to_next_cell": 0
      },
      "outputs": [],
      "source": []
    },
    {
      "cell_type": "markdown",
      "id": "e688c6e3",
      "metadata": {},
      "source": [
        "  c. Plot the values from (3b) along with the estimated curves from (4a) and (4b).  (You should have one plot, with $k$ on the horizontal axis, and probabilities on the vertical axis .)  Which model do you prefer, and why?"
      ]
    },
    {
      "cell_type": "code",
      "execution_count": null,
      "id": "55d9c6f8",
      "metadata": {},
      "outputs": [],
      "source": []
    },
    {
      "cell_type": "markdown",
      "id": "cd871dcc",
      "metadata": {},
      "source": [
        "_For quibblers, pedants, and idle hands itching for work to do_: The $p_k$ values from problem 3 aren't all equally precise, because they come from different numbers of observations.  Also, if each doctor with $k$ adoptee contacts is independently deciding whether or not to adopt with probability $p_k$, then the variance in the number of adoptees will depend on $p_k$.  Say that the actual proportion who decide to adopt is $\\hat{p}_k$.  A little probability (exercise!) shows that in this situation, $\\mathbb{E}[\\hat{p}_k] = p_k$, but that $\\mathrm{Var}[\\hat{p}_k] = p_k(1-p_k)/n_k$, where $n_k$ is the number of doctors in that situation.  (We estimate probabilities more precisely when they're really extreme [close to 0 or 1], and/or we have lots of observations.)  We can estimate that variance as $\\hat{V}_k = \\hat{p}_k(1-\\hat{p}_k)/n_k$.  Find the $\\hat{V}_k$, and then re-do the estimation in (4a) and (4b) where the squared error for $p_k$ is divided by $\\hat{V}_k$.  How much do the parameter estimates change?  How much do the plotted curves in (4c) change?"
      ]
    }
  ],
  "metadata": {
    "jupytext": {
      "cell_metadata_filter": "message,language,-all",
      "main_language": "R",
      "notebook_metadata_filter": "-all"
    },
    "kernelspec": {
      "name": "ir",
      "display_name": "R",
      "language": "R"
    },
    "language_info": {
      "name": "R"
    }
  },
  "nbformat": 4,
  "nbformat_minor": 5
}