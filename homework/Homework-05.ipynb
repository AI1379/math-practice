{
  "cells": [
    {
      "cell_type": "raw",
      "id": "41136665",
      "metadata": {},
      "source": [
        "---\n",
        "title: \"Homework 5: Pareto and Kuznets on the Grand Tour\"\n",
        "output: pdf_document\n",
        "---"
      ]
    },
    {
      "cell_type": "code",
      "execution_count": 36,
      "id": "ddda7c56",
      "metadata": {
        "vscode": {
          "languageId": "r"
        }
      },
      "outputs": [],
      "source": [
        "library(ggplot2)"
      ]
    },
    {
      "cell_type": "markdown",
      "id": "0e5d23be",
      "metadata": {},
      "source": [
        "We continue working with the World Top Incomes Database [https://wid.world], and the Pareto distribution, as in the lab.  We also continue to practice working with data frames, manipulating data from one format to another, and writing functions to automate repetitive tasks.\n",
        "\n",
        "We saw in the lab that if the upper tail of the income distribution followed a perfect Pareto distribution, then\n",
        "\n",
        "\\begin{eqnarray}\n",
        "\\label{eqn:1percent-vs-0.1-percent}\n",
        "\\left(\\frac{P99}{P99.9}\\right)^{-a+1}  & = & 10\\\\\n",
        "\\left(\\frac{P99.5}{P99.9}\\right)^{-a+1} & = & 5\\\\\n",
        "\\left(\\frac{P99}{P99.5}\\right)^{-a+1} & = & 2\n",
        "\\label{eqn:1percent-vs-0.5-percent}\n",
        "\\end{eqnarray}\n",
        "\n",
        "We could estimate the Pareto exponent by solving any one of these equations for $a$; in lab we used\n",
        "\n",
        "\\begin{equation}\n",
        "a = 1 - \\frac{\\log{10}}{\\log{(P99/P99.9)}} ~,\n",
        "\\label{eqn:exponent-from-quantile-ratio}\n",
        "\\end{equation}\n",
        "\n",
        "Because of measurement error and sampling noise, we can't find find one value of $a$ which will work for all three equations \\eqref{eqn:1percent-vs-0.1-percent}--\\eqref{eqn:1percent-vs-0.5-percent}.  Generally, trying to make all three equations come close to balancing gives a better estimate of $a$ than just solving one of them.  (This is analogous to finding the slope and intercept of a regression line by trying to come close to all the points in a scatterplot, and not just running a line through two of them.)"
      ]
    },
    {
      "cell_type": "markdown",
      "id": "67ec9fcf",
      "metadata": {},
      "source": [
        "1. We estimate $a$ by minimizing\n",
        "$$\n",
        "\\left(\\left(\\frac{P99}{P99.9}\\right)^{-a+1} - 10\\right)^2 + \\left(\\left(\\frac{P99.5}{P99.9}\\right)^{-a+1} - 5\\right)^2 +  \\left(\\left(\\frac{P99}{P99.5}\\right)^{-a+1} - 2\\right)^2\n",
        "$$\n",
        "Write a function, `percentile_ratio_discrepancies`, which takes as inputs `P99`, `P99.5`, `P99.9` and `a`, and returns the value of the expression above.  Check that when `P99=1e6`, `P99.5=2e6`, `P99.9=1e7` and `a=2`, your function returns `0`.\n"
      ]
    },
    {
      "cell_type": "code",
      "execution_count": null,
      "id": "206b98ea",
      "metadata": {
        "vscode": {
          "languageId": "r"
        }
      },
      "outputs": [
        {
          "data": {
            "text/html": [
              "0"
            ],
            "text/latex": [
              "0"
            ],
            "text/markdown": [
              "0"
            ],
            "text/plain": [
              "[1] 0"
            ]
          },
          "metadata": {},
          "output_type": "display_data"
        }
      ],
      "source": [
        "percentile_ratio_discrepancies <- function(P99, P99.5, P99.9, a) {\n",
        "  term1 <- ((P99 / P99.9)^(-a + 1) - 10)^2\n",
        "  term2 <- ((P99.5 / P99.9)^(-a + 1) - 5)^2\n",
        "  term3 <- ((P99 / P99.5)^(-a + 1) - 2)^2\n",
        "\n",
        "  return(term1 + term2 + term3)\n",
        "}\n",
        "\n",
        "test_result <- percentile_ratio_discrepancies(P99 = 1e6, P99.5 = 2e6, P99.9 = 1e7, a = 2)\n",
        "test_result\n"
      ]
    },
    {
      "cell_type": "markdown",
      "id": "3cc77212",
      "metadata": {},
      "source": [
        "\n",
        "2. Write a function, `exponent.multi_ratios_est`, which takes as inputs `P99`, `P99.5`, `P99.9`, and estimates `a`.  It should minimize your `percentile_ratio_discrepancies` function.  The starting value for the minimization should come from \\eqref{eqn:exponent-from-quantile-ratio} .  Check that when `P99=1e6`, `P99.5=2e6` and `P99.9=1e7`, your function returns an `a` of 2.\n"
      ]
    },
    {
      "cell_type": "code",
      "execution_count": null,
      "id": "007e3c80",
      "metadata": {
        "vscode": {
          "languageId": "r"
        }
      },
      "outputs": [
        {
          "data": {
            "text/html": [
              "2.00001418056065"
            ],
            "text/latex": [
              "2.00001418056065"
            ],
            "text/markdown": [
              "2.00001418056065"
            ],
            "text/plain": [
              "[1] 2.000014"
            ]
          },
          "metadata": {},
          "output_type": "display_data"
        }
      ],
      "source": [
        "exponent.multi_ratios_est <- function(P99, P99.5, P99.9) {\n",
        "  func <- function(a) {\n",
        "    percentile_ratio_discrepancies(P99, P99.5, P99.9, a)\n",
        "  }\n",
        "\n",
        "  result <- optimize(func, interval = c(0.1, 10), maximum = FALSE)\n",
        "\n",
        "  return(result$minimum)\n",
        "}\n",
        "\n",
        "test_a <- exponent.multi_ratios_est(P99 = 1e6, P99.5 = 2e6, P99.9 = 1e7)\n",
        "test_a\n"
      ]
    },
    {
      "cell_type": "markdown",
      "id": "9123d689",
      "metadata": {},
      "source": [
        "\n",
        "3. Write a function which uses  `exponent.multi_ratios_est` to estimate $a$ for the US for every year from 1913 to 2012.  (There are many ways you could do this, including loops.)  Plot the estimates; make sure the labels of the plot are appropriate.\n"
      ]
    },
    {
      "cell_type": "code",
      "execution_count": null,
      "id": "e24216b2",
      "metadata": {
        "vscode": {
          "languageId": "r"
        }
      },
      "outputs": [
        {
          "data": {
            "text/html": [
              "<table class=\"dataframe\">\n",
              "<caption>A data.frame: 6 × 4</caption>\n",
              "<thead>\n",
              "\t<tr><th></th><th scope=col>Year</th><th scope=col>P99.income.threshold</th><th scope=col>P99.5.income.threshold</th><th scope=col>P99.9.income.threshold</th></tr>\n",
              "\t<tr><th></th><th scope=col>&lt;int&gt;</th><th scope=col>&lt;dbl&gt;</th><th scope=col>&lt;dbl&gt;</th><th scope=col>&lt;dbl&gt;</th></tr>\n",
              "</thead>\n",
              "<tbody>\n",
              "\t<tr><th scope=row>1</th><td>1913</td><td>80087.90</td><td>131337.2</td><td>415206.4</td></tr>\n",
              "\t<tr><th scope=row>2</th><td>1914</td><td>74012.72</td><td>122935.9</td><td>397671.6</td></tr>\n",
              "\t<tr><th scope=row>3</th><td>1915</td><td>62392.24</td><td>118717.4</td><td>437522.8</td></tr>\n",
              "\t<tr><th scope=row>4</th><td>1916</td><td>74869.18</td><td>133777.1</td><td>502094.2</td></tr>\n",
              "\t<tr><th scope=row>5</th><td>1917</td><td>92341.21</td><td>149697.9</td><td>519558.7</td></tr>\n",
              "\t<tr><th scope=row>6</th><td>1918</td><td>92221.06</td><td>143219.7</td><td>442731.1</td></tr>\n",
              "</tbody>\n",
              "</table>\n"
            ],
            "text/latex": [
              "A data.frame: 6 × 4\n",
              "\\begin{tabular}{r|llll}\n",
              "  & Year & P99.income.threshold & P99.5.income.threshold & P99.9.income.threshold\\\\\n",
              "  & <int> & <dbl> & <dbl> & <dbl>\\\\\n",
              "\\hline\n",
              "\t1 & 1913 & 80087.90 & 131337.2 & 415206.4\\\\\n",
              "\t2 & 1914 & 74012.72 & 122935.9 & 397671.6\\\\\n",
              "\t3 & 1915 & 62392.24 & 118717.4 & 437522.8\\\\\n",
              "\t4 & 1916 & 74869.18 & 133777.1 & 502094.2\\\\\n",
              "\t5 & 1917 & 92341.21 & 149697.9 & 519558.7\\\\\n",
              "\t6 & 1918 & 92221.06 & 143219.7 & 442731.1\\\\\n",
              "\\end{tabular}\n"
            ],
            "text/markdown": [
              "\n",
              "A data.frame: 6 × 4\n",
              "\n",
              "| <!--/--> | Year &lt;int&gt; | P99.income.threshold &lt;dbl&gt; | P99.5.income.threshold &lt;dbl&gt; | P99.9.income.threshold &lt;dbl&gt; |\n",
              "|---|---|---|---|---|\n",
              "| 1 | 1913 | 80087.90 | 131337.2 | 415206.4 |\n",
              "| 2 | 1914 | 74012.72 | 122935.9 | 397671.6 |\n",
              "| 3 | 1915 | 62392.24 | 118717.4 | 437522.8 |\n",
              "| 4 | 1916 | 74869.18 | 133777.1 | 502094.2 |\n",
              "| 5 | 1917 | 92341.21 | 149697.9 | 519558.7 |\n",
              "| 6 | 1918 | 92221.06 | 143219.7 | 442731.1 |\n",
              "\n"
            ],
            "text/plain": [
              "  Year P99.income.threshold P99.5.income.threshold P99.9.income.threshold\n",
              "1 1913 80087.90             131337.2               415206.4              \n",
              "2 1914 74012.72             122935.9               397671.6              \n",
              "3 1915 62392.24             118717.4               437522.8              \n",
              "4 1916 74869.18             133777.1               502094.2              \n",
              "5 1917 92341.21             149697.9               519558.7              \n",
              "6 1918 92221.06             143219.7               442731.1              "
            ]
          },
          "metadata": {},
          "output_type": "display_data"
        }
      ],
      "source": [
        "wtid_data <- read.csv(\"./data/wtid-report.csv\")\n",
        "\n",
        "us_data <- wtid_data[wtid_data$Country == \"United States\", ]\n",
        "\n",
        "years <- us_data$Year\n",
        "P99 <- us_data$P99.income.threshold\n",
        "P99.5 <- us_data$P99.5.income.threshold\n",
        "P99.9 <- us_data$P99.9.income.threshold\n",
        "\n",
        "head(us_data[, c(\"Year\", \"P99.income.threshold\", \"P99.5.income.threshold\", \"P99.9.income.threshold\")])\n",
        "\n",
        "estimate_pareto_exponents <- function(years, P99, P99.5, P99.9) {\n",
        "  exponents <- numeric(length(years))\n",
        "\n",
        "  for (i in 1:length(years)) {\n",
        "    if (!is.na(P99[i]) && !is.na(P99.5[i]) && !is.na(P99.9[i])) {\n",
        "      exponents[i] <- exponent.multi_ratios_est(P99[i], P99.5[i], P99.9[i])\n",
        "    } else {\n",
        "      exponents[i] <- NA\n",
        "    }\n",
        "  }\n",
        "\n",
        "  return(exponents)\n",
        "}\n",
        "\n",
        "# Estimate Pareto exponents for all years\n",
        "pareto_exponents <- estimate_pareto_exponents(years, P99, P99.5, P99.9)\n",
        "\n",
        "plot_data <- data.frame(\n",
        "       Year = years,\n",
        "       Pareto_Exponent = pareto_exponents\n",
        ")\n",
        "\n",
        "# Calculate summary statistics\n",
        "mean_exponent <- mean(pareto_exponents, na.rm = TRUE)\n",
        "median_exponent <- median(pareto_exponents, na.rm = TRUE)\n",
        "\n",
        "# Create a comprehensive plot using ggplot2\n",
        "ggplot(plot_data, aes(x = Year, y = Pareto_Exponent)) +\n",
        "       geom_line(color = \"blue\", linewidth = 1.2) +\n",
        "       geom_point(color = \"red\", size = 1.5, alpha = 0.7) +\n",
        "       geom_hline(yintercept = mean_exponent, color = \"darkgreen\", linetype = \"dashed\", size = 0.8) +\n",
        "       geom_hline(yintercept = median_exponent, color = \"purple\", linetype = \"dotted\", size = 0.8) +\n",
        "       labs(\n",
        "              title = \"Pareto Exponent Estimates for US Income Distribution (1913-2012)\",\n",
        "              x = \"Year\",\n",
        "              y = \"Estimated Pareto Exponent (a)\",\n",
        "              subtitle = paste(\"Mean =\", round(mean_exponent, 3), \", Median =\", round(median_exponent, 3))\n",
        "       ) +\n",
        "       theme_minimal() +\n",
        "       theme(\n",
        "              plot.title = element_text(hjust = 0.5, size = 14, face = \"bold\"),\n",
        "              plot.subtitle = element_text(hjust = 0.5, size = 12),\n",
        "              panel.grid.major = element_line(color = \"lightgray\", linetype = \"dotted\"),\n",
        "              panel.grid.minor = element_line(color = \"lightgray\", linetype = \"dotted\", size = 0.5)\n",
        "       ) +\n",
        "       scale_x_continuous(breaks = seq(1910, 2010, 20)) +\n",
        "       annotate(\"text\",\n",
        "              x = 1980, y = mean_exponent + 0.05,\n",
        "              label = paste(\"Mean =\", round(mean_exponent, 3)),\n",
        "              color = \"darkgreen\", size = 3.5\n",
        "       ) +\n",
        "       annotate(\"text\",\n",
        "              x = 1980, y = median_exponent - 0.05,\n",
        "              label = paste(\"Median =\", round(median_exponent, 3)),\n",
        "              color = \"purple\", size = 3.5\n",
        "       )\n"
      ]
    },
    {
      "cell_type": "markdown",
      "id": "5620b1df",
      "metadata": {},
      "source": [
        "\n",
        "4. Use \\eqref{eqn:exponent-from-quantile-ratio} to estimate $a$ for the US for every year.  Make a scatter-plot of these estimates against those from problem 3.  If they are identical or completely independent, something is wrong with at least one part of your code.  Otherwise, can you say anything about how the two estimates compare?\n"
      ]
    },
    {
      "cell_type": "code",
      "execution_count": null,
      "id": "cbf6f099",
      "metadata": {
        "vscode": {
          "languageId": "r"
        }
      },
      "outputs": [],
      "source": [
        "# a = 1 - log(10) / log(P99/P99.9)\n",
        "simple_pareto_estimate <- function(P99, P99.9) {\n",
        "  return(1 - log(10) / log(P99 / P99.9))\n",
        "}\n",
        "\n",
        "simple_exponents <- numeric(length(years))\n",
        "for (i in 1:length(years)) {\n",
        "  if (!is.na(P99[i]) && !is.na(P99.9[i])) {\n",
        "    simple_exponents[i] <- simple_pareto_estimate(P99[i], P99.9[i])\n",
        "  } else {\n",
        "    simple_exponents[i] <- NA\n",
        "  }\n",
        "}\n",
        "\n",
        "# Create data frame for ggplot\n",
        "comparison_data <- data.frame(\n",
        "     Simple = simple_exponents,\n",
        "     Multi_Ratio = pareto_exponents\n",
        ")\n",
        "\n",
        "# Calculate correlation and fit\n",
        "correlation <- cor(simple_exponents, pareto_exponents, use = \"complete.obs\")\n",
        "fit <- lm(pareto_exponents ~ simple_exponents)\n",
        "\n",
        "# Create the plot\n",
        "ggplot(comparison_data, aes(x = Simple, y = Multi_Ratio)) +\n",
        "     geom_point(color = \"blue\", size = 2, alpha = 0.7) +\n",
        "     geom_abline(slope = 1, intercept = 0, color = \"red\", linetype = \"dashed\", size = 1.2) +\n",
        "     geom_smooth(method = \"lm\", color = \"darkgreen\", size = 1.2, se = FALSE) +\n",
        "     labs(\n",
        "          title = \"Comparison of Pareto Exponent Estimation Methods\",\n",
        "          x = \"Simple Method (Single Equation): a = 1 - log(10)/log(P99/P99.9)\",\n",
        "          y = \"Multi-Ratio Method (Minimizing Discrepancies)\",\n",
        "          subtitle = paste(\"Correlation:\", round(correlation, 4))\n",
        "     ) +\n",
        "     theme_minimal() +\n",
        "     theme(\n",
        "          plot.title = element_text(hjust = 0.5, size = 14, face = \"bold\"),\n",
        "          plot.subtitle = element_text(hjust = 0.5, size = 12),\n",
        "          panel.grid.major = element_line(color = \"lightgray\", linetype = \"dotted\")\n",
        "     ) +\n",
        "     annotate(\"text\",\n",
        "          x = min(simple_exponents, na.rm = TRUE) + 0.1,\n",
        "          y = max(pareto_exponents, na.rm = TRUE) - 0.1,\n",
        "          label = \"Perfect agreement (y=x)\", color = \"red\", size = 3\n",
        "     ) +\n",
        "     annotate(\"text\",\n",
        "          x = min(simple_exponents, na.rm = TRUE) + 0.1,\n",
        "          y = max(pareto_exponents, na.rm = TRUE) - 0.15,\n",
        "          label = \"Fitted line\", color = \"darkgreen\", size = 3\n",
        "     )\n",
        "\n",
        "\n",
        "# Calculate correlation and other statistics\n",
        "correlation <- cor(simple_exponents, pareto_exponents, use = \"complete.obs\")\n",
        "print(paste(\"Correlation between methods:\", round(correlation, 4)))\n",
        "\n",
        "# Print regression summary\n",
        "print(\"Linear regression: Multi-ratio ~ Simple method\")\n",
        "print(summary(fit))\n"
      ]
    },
    {
      "cell_type": "markdown",
      "id": "e7265726",
      "metadata": {},
      "source": [
        "**Answer**:\n",
        "\n",
        "The scatter plot reveals that the two estimation methods are virtually identical, with a correlation of 0.9999. The fitted regression line is extremely close to the perfect agreement line y = x, indicating that the multi-ratio method produces essentially the same estimates as the simple single-equation method.\n",
        "\n",
        "The multi-ratio optimization method provides essentially identical results to the simple single-equation approach, with only tiny refinements. This suggests that for practical purposes, the simpler method is sufficient, as the additional complexity of minimizing multiple discrepancies doesn't yield substantially different estimates."
      ]
    },
    {
      "cell_type": "code",
      "execution_count": null,
      "id": "fd016bd8",
      "metadata": {
        "vscode": {
          "languageId": "r"
        }
      },
      "outputs": [
        {
          "data": {
            "image/png": "[encoded data removed]",
            "text/plain": [
              "plot without title"
            ]
          },
          "metadata": {
            "image/png": {
              "height": 420,
              "width": 420
            }
          },
          "output_type": "display_data"
        }
      ],
      "source": [
        "# Create a data frame combining both methods for ggplot\n",
        "comparison_time_data <- data.frame(\n",
        "      Year = rep(years, 2),\n",
        "      Pareto_Exponent = c(pareto_exponents, simple_exponents),\n",
        "      Method = factor(rep(c(\"Multi-ratio method (Question 3)\", \"Simple method (Question 4)\"), each = length(years)))\n",
        ")\n",
        "\n",
        "# Create the ggplot\n",
        "ggplot(comparison_time_data, aes(x = Year, y = Pareto_Exponent, color = Method, linetype = Method)) +\n",
        "      geom_line(size = 1.2) +\n",
        "      scale_color_manual(values = c(\"blue\", \"red\")) +\n",
        "      scale_linetype_manual(values = c(\"solid\", \"dashed\")) +\n",
        "      labs(\n",
        "            title = \"Comparison of Pareto Exponent Estimation Methods Over Time\",\n",
        "            x = \"Year\",\n",
        "            y = \"Estimated Pareto Exponent (a)\",\n",
        "            color = \"Method\",\n",
        "            linetype = \"Method\"\n",
        "      ) +\n",
        "      theme_minimal() +\n",
        "      theme(\n",
        "            plot.title = element_text(hjust = 0.5, size = 14, face = \"bold\"),\n",
        "            panel.grid.major = element_line(color = \"lightgray\", linetype = \"dotted\"),\n",
        "            panel.grid.minor = element_line(color = \"lightgray\", linetype = \"dotted\", size = 0.5),\n",
        "            legend.position = \"bottom\"\n",
        "      ) +\n",
        "      scale_x_continuous(breaks = seq(1910, 2010, 20))\n"
      ]
    }
  ],
  "metadata": {
    "jupytext": {
      "cell_metadata_filter": "-all",
      "main_language": "python",
      "notebook_metadata_filter": "-all"
    },
    "kernelspec": {
      "display_name": "R",
      "language": "R",
      "name": "ir"
    },
    "language_info": {
      "codemirror_mode": "r",
      "file_extension": ".r",
      "mimetype": "text/x-r-source",
      "name": "R",
      "pygments_lexer": "r",
      "version": "4.5.1"
    }
  },
  "nbformat": 4,
  "nbformat_minor": 5
}
