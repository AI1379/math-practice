{
  "cells": [
    {
      "cell_type": "raw",
      "id": "41136665",
      "metadata": {},
      "source": [
        "---\n",
        "title: \"Homework 5: Pareto and Kuznets on the Grand Tour\"\n",
        "output: pdf_document\n",
        "---"
      ]
    },
    {
      "cell_type": "markdown",
      "id": "0e5d23be",
      "metadata": {},
      "source": [
        "We continue working with the World Top Incomes Database [https://wid.world], and the Pareto distribution, as in the lab.  We also continue to practice working with data frames, manipulating data from one format to another, and writing functions to automate repetitive tasks.\n",
        "\n",
        "We saw in the lab that if the upper tail of the income distribution followed a perfect Pareto distribution, then\n",
        "\\begin{eqnarray}\n",
        "\\label{eqn:1percent-vs-0.1-percent}\n",
        "\\left(\\frac{P99}{P99.9}\\right)^{-a+1}  & = & 10\\\\\n",
        "\\left(\\frac{P99.5}{P99.9}\\right)^{-a+1} & = & 5\\\\\n",
        "\\left(\\frac{P99}{P99.5}\\right)^{-a+1} & = & 2\n",
        "\\label{eqn:1percent-vs-0.5-percent}\n",
        "\\end{eqnarray}\n",
        "We could estimate the Pareto exponent by solving any one of these equations for $a$; in lab we used\n",
        "\\begin{equation}\n",
        "a = 1 - \\frac{\\log{10}}{\\log{(P99/P99.9)}} ~,\n",
        "\\label{eqn:exponent-from-quantile-ratio}\n",
        "\\end{equation}\n",
        "\n",
        "Because of measurement error and sampling noise, we can't find find one value of $a$ which will work for all three equations \\eqref{eqn:1percent-vs-0.1-percent}--\\eqref{eqn:1percent-vs-0.5-percent}.  Generally, trying to make all three equations come close to balancing gives a better estimate of $a$ than just solving one of them.  (This is analogous to finding the slope and intercept of a regression line by trying to come close to all the points in a scatterplot, and not just running a line through two of them.)"
      ]
    },
    {
      "cell_type": "markdown",
      "id": "67ec9fcf",
      "metadata": {},
      "source": [
        "1. We estimate $a$ by minimizing\n",
        "\\[\n",
        "\\left(\\left(\\frac{P99}{P99.9}\\right)^{-a+1} - 10\\right)^2 + \\left(\\left(\\frac{P99.5}{P99.9}\\right)^{-a+1} - 5\\right)^2 +  \\left(\\left(\\frac{P99}{P99.5}\\right)^{-a+1} - 2\\right)^2\n",
        "\\]\n",
        "Write a function, `percentile_ratio_discrepancies`, which takes as inputs `P99`, `P99.5`, `P99.9` and `a`, and returns the value of the expression above.  Check that when `P99=1e6`, `P99.5=2e6`, `P99.9=1e7` and `a=2`, your function returns `0`.\n",
        "\n",
        "2. Write a function, `exponent.multi_ratios_est`, which takes as inputs `P99`, `P99.5`, `P99.9`, and estimates `a`.  It should minimize your `percentile_ratio_discrepancies` function.  The starting value for the minimization should come from \\eqref{eqn:exponent-from-quantile-ratio}.  Check that when `P99=1e6`, `P99.5=2e6` and `P99.9=1e7`, your function returns an `a` of 2.\n",
        "\n",
        "3. Write a function which uses  `exponent.multi_ratios_est` to estimate $a$ for the US for every year from 1913 to 2012.  (There are many ways you could do thi, including loops.)  Plot the estimates; make sure the labels of the plot are appropriate.\n",
        "\n",
        "4. Use \\eqref{eqn:exponent-from-quantile-ratio} to estimate $a$ for the US for every year.  Make a scatter-plot of these estimates against those from problem 3.  If they are identical or completely independent, something is wrong with at least one part of your code.  Otherwise, can you say anything about how the two estimates compare?\n"
      ]
    }
  ],
  "metadata": {
    "jupytext": {
      "cell_metadata_filter": "-all",
      "main_language": "python",
      "notebook_metadata_filter": "-all"
    },
    "kernelspec": {
      "name": "ir",
      "display_name": "R",
      "language": "R"
    },
    "language_info": {
      "name": "R"
    }
  },
  "nbformat": 4,
  "nbformat_minor": 5
}