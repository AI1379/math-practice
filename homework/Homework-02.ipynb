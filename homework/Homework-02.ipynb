{
  "cells": [
    {
      "cell_type": "raw",
      "id": "a6f0cdf7",
      "metadata": {
        "lines_to_next_cell": 0
      },
      "source": [
        "---\n",
        "title: \"Homework 2\"\n",
        "output: pdf_document\n",
        "---"
      ]
    },
    {
      "cell_type": "code",
      "execution_count": null,
      "id": "16cebb0b",
      "metadata": {
        "message": false,
        "name": "setup",
        "tags": [
          "remove_cell"
        ]
      },
      "outputs": [],
      "source": [
        "options(htmltools.dir.version = FALSE)\n",
        "library(tidyverse)\n",
        "library(DAAG)"
      ]
    },
    {
      "cell_type": "markdown",
      "id": "4a0a1283",
      "metadata": {
        "lines_to_next_cell": 0
      },
      "source": [
        "The data set calif_penn_2011.csv contains information about the housing stock of California and Pennsylvania, as of 2011.  Information as aggregated into \"Census tracts\", geographic regions of a few thousand people which are supposed to be fairly homogeneous economically and socially.\n",
        "\n",
        "1. _Loading and cleaning_\n",
        "    a. Load the data into a dataframe called `ca_pa`.\n",
        "    b. How many rows and columns does the dataframe have?\n",
        "    c. Run this command, and explain, in words, what this does:\n",
        "```\n",
        "colSums(apply(ca_pa,c(1,2),is.na))\n",
        "```\n",
        "    d. The function `na.omit()` takes a dataframe and returns a new dataframe, omitting any row containing an NA value.  Use it to purge the data set of rows with incomplete data.\n",
        "    e. How many rows did this eliminate?\n",
        "    f. Are your answers in (c) and (e) compatible? Explain.\n",
        "\n",
        "2. _This Very New House_  \n",
        "    a. The variable `Built_2005_or_later` indicates the percentage of houses in each Census tract built since 2005.  Plot median house prices against this variable.\n",
        "    b. Make a new plot, or pair of plots, which breaks this out by state.  Note that the state is recorded in the `STATEFP` variable, with California being state 6 and Pennsylvania state 42.\n",
        "\n",
        "3. _Nobody Home_  \n",
        "The vacancy rate is the fraction of housing units which are not occupied.  The dataframe contains columns giving the total number of housing units for each Census tract, and the number of vacant housing units.  \n",
        "    a. Add a new column to the dataframe which contains the vacancy rate.  What are the minimum, maximum, mean, and median vacancy rates?\n",
        "    b. Plot the vacancy rate against median house value.\n",
        "    c. Plot vacancy rate against median house value separately for California and for Pennsylvania.  Is there a difference?\n",
        "    \n",
        "4. The column `COUNTYFP` contains a numerical code for counties within each state.  We are interested in Alameda County (county 1 in California), Santa Clara (county 85 in California), and Allegheny County (county 3 in Pennsylvania).\n",
        "    a. Explain what the block of code at the end of this question is supposed to accomplish, and how it does it.\n",
        "    b. Give a single line of R which gives the same final answer as the block of code.  Note: there are at least two ways to do this; you just have to find one.\n",
        "    c. For Alameda, Santa Clara and Allegheny Counties, what were the average percentages of housing built since 2005?\n",
        "    d. The `cor` function calculates the correlation coefficient between two variables.  What is the correlation between median house value and the percent of housing built since 2005 in (i) the whole data, (ii) all of California, (iii) all of Pennsylvania, (iv) Alameda County, (v) Santa Clara County and (vi) Allegheny County?\n",
        "    e. Make three plots, showing median house values against median income, for Alameda, Santa Clara, and Allegheny Counties.  (If you can fit the information into one plot, clearly distinguishing the three counties, that's OK too.)"
      ]
    },
    {
      "cell_type": "code",
      "execution_count": null,
      "id": "b80c3e87",
      "metadata": {
        "eval": false
      },
      "outputs": [],
      "source": [
        "acca <- c()\n",
        "for (tract in 1:nrow(ca_pa)) {\n",
        "  if (ca_pa$STATEFP[tract] == 6) {\n",
        "    if (ca_pa$COUNTYFP[tract] == 1) {\n",
        "      acca <- c(acca, tract)\n",
        "    }\n",
        "  }\n",
        "}\n",
        "accamhv <- c()\n",
        "for (tract in acca) {\n",
        "  accamhv <- c(accamhv, ca_pa[tract,10])\n",
        "}\n",
        "median(accamhv)"
      ]
    },
    {
      "cell_type": "markdown",
      "id": "cc41d1f3",
      "metadata": {
        "lines_to_next_cell": 0
      },
      "source": [
        "MB.Ch1.11. Run the following code:"
      ]
    },
    {
      "cell_type": "code",
      "execution_count": null,
      "id": "3a3e1651",
      "metadata": {
        "lines_to_next_cell": 0
      },
      "outputs": [],
      "source": [
        "gender <- factor(c(rep(\"female\", 91), rep(\"male\", 92)))\n",
        "table(gender)\n",
        "gender <- factor(gender, levels=c(\"male\", \"female\"))\n",
        "table(gender)\n",
        "gender <- factor(gender, levels=c(\"Male\", \"female\"))\n",
        "# Note the mistake: \"Male\" should be \"male\"\n",
        "table(gender)\n",
        "table(gender, exclude=NULL)\n",
        "rm(gender)  # Remove gender"
      ]
    },
    {
      "cell_type": "markdown",
      "id": "4c3c9fea",
      "metadata": {
        "lines_to_next_cell": 0
      },
      "source": [
        "Explain the output from the successive uses of table().\n",
        "     \n",
        "MB.Ch1.12. Write a function that calculates the proportion of values in a vector x that exceed some value cutoff.\n",
        "\n",
        "(a) Use the sequence of numbers 1, 2, . . . , 100 to check that this function gives the result that is expected."
      ]
    },
    {
      "cell_type": "code",
      "execution_count": null,
      "id": "a36f5614",
      "metadata": {},
      "outputs": [],
      "source": []
    },
    {
      "cell_type": "markdown",
      "id": "53fabf62",
      "metadata": {
        "lines_to_next_cell": 0
      },
      "source": [
        "(b) Obtain the vector ex01.36 from the Devore6 (or Devore7) package. These data give the times required for individuals to escape from an oil platform during a drill. Use dotplot() to show the distribution of times. Calculate the proportion of escape times that exceed 7 minutes."
      ]
    },
    {
      "cell_type": "code",
      "execution_count": null,
      "id": "fd1d32ba",
      "metadata": {},
      "outputs": [],
      "source": []
    },
    {
      "cell_type": "markdown",
      "id": "1432f874",
      "metadata": {
        "lines_to_next_cell": 0
      },
      "source": [
        "MB.Ch1.18. The Rabbit data frame in the MASS library contains blood pressure change measurements on five rabbits (labeled as R1, R2, . . . ,R5) under various control and treatment conditions. Read the help file for more information. Use the unstack() function (three times) to convert Rabbit to the following form:\n",
        "\n",
        "Treatment Dose   R1   R2   R3   R4   R5 \n",
        "\n",
        "1 Control 6.25  0.50 1.00 0.75 1.25 1.5 \n",
        "\n",
        "2 Control 12.50 4.50 1.25 3.00 1.50 1.5 \n",
        "\n",
        "...."
      ]
    },
    {
      "cell_type": "code",
      "execution_count": null,
      "id": "0d78e2d9",
      "metadata": {
        "lines_to_next_cell": 0
      },
      "outputs": [],
      "source": []
    },
    {
      "cell_type": "markdown",
      "id": "2c672ec5",
      "metadata": {},
      "source": []
    }
  ],
  "metadata": {
    "jupytext": {
      "cell_metadata_filter": "eval,tags,name,message,-all",
      "main_language": "R",
      "notebook_metadata_filter": "-all"
    },
    "kernelspec": {
      "name": "ir",
      "display_name": "R",
      "language": "R"
    },
    "language_info": {
      "name": "R"
    }
  },
  "nbformat": 4,
  "nbformat_minor": 5
}