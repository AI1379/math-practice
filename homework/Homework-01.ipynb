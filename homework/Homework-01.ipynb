{
  "cells": [
    {
      "cell_type": "raw",
      "id": "9eb010b6",
      "metadata": {
        "lines_to_next_cell": 0
      },
      "source": [
        "---\n",
        "title: \"Homework 1\"\n",
        "output:\n",
        "  pdf_document: default\n",
        "  html_document:\n",
        "    df_print: paged\n",
        "---"
      ]
    },
    {
      "cell_type": "code",
      "execution_count": null,
      "id": "dc3de180",
      "metadata": {
        "message": false,
        "name": "setup",
        "tags": [
          "remove_cell"
        ]
      },
      "outputs": [],
      "source": [
        "options(htmltools.dir.version = FALSE)\n",
        "library(tidyverse)\n",
        "library(DAAG)"
      ]
    },
    {
      "cell_type": "markdown",
      "id": "e13280ef",
      "metadata": {
        "lines_to_next_cell": 0
      },
      "source": [
        "1. The Iowa data set `iowa.csv` is a toy example that summarises the yield of wheat (bushels per acre) for the state of Iowa between 1930-1962. In addition to yield, year, rainfall and temperature were recorded as the main predictors of yield.\n",
        "    a. First, we need to load the data set into R using the command `read.csv()`. Use the help function to learn what arguments this function takes. Once you have the necessary input, load the data set into R and make it a data frame called `iowa.df`.\n",
        "    b. How many rows and columns does `iowa.df` have? \n",
        "    c. What are the names of the columns of `iowa.df`?\n",
        "    d. What is the value of row 5, column 7 of `iowa.df`?\n",
        "    e. Display the second row of `iowa.df` in its entirety."
      ]
    },
    {
      "cell_type": "code",
      "execution_count": null,
      "id": "6d508fd3",
      "metadata": {},
      "outputs": [],
      "source": [
        "iowa.df<-read.csv(\"data/iowa.csv\", sep = ';', header=T)"
      ]
    },
    {
      "cell_type": "markdown",
      "id": "f4c3f15f",
      "metadata": {},
      "source": [
        "2. Syntax and class-typing.\n",
        "    a. For each of the following commands, either explain why they should be errors, or explain the non-erroneous result.\n",
        "\n",
        "```\n",
        "vector1 <- c(\"5\", \"12\", \"7\", \"32\")\n",
        "max(vector1)\n",
        "sort(vector1)\n",
        "sum(vector1)\n",
        "```\n",
        "    b. For the next series of commands, either explain their results, or why they should produce errors.\n",
        "\n",
        "```\n",
        "vector2 <- c(\"5\",7,12)\n",
        "vector2[2] + vector2[3]\n",
        "\n",
        "dataframe3 <- data.frame(z1=\"5\",z2=7,z3=12)\n",
        "dataframe3[1,2] + dataframe3[1,3]\n",
        "\n",
        "list4 <- list(z1=\"6\", z2=42, z3=\"49\", z4=126)\n",
        "list4[[2]]+list4[[4]]\n",
        "list4[2]+list4[4]\n",
        "```\n",
        "\n",
        "3. Working with functions and operators.\n",
        "    a. The colon operator will create a sequence of integers in order. It is a special case of the function `seq()` which you saw earlier in this assignment. Using the help command `?seq` to learn about the function, design an expression that will give you the sequence of numbers from 1 to 10000 in increments of 372. Design another that will give you a sequence between 1 and 10000 that is exactly 50 numbers in length.\n",
        "    b. The function `rep()` repeats a vector some number of times. Explain the difference between `rep(1:3, times=3)` and `rep(1:3, each=3)`."
      ]
    },
    {
      "cell_type": "markdown",
      "id": "80f3ea64",
      "metadata": {},
      "source": [
        "MB.Ch1.2. The orings data frame gives data on the damage that had occurred in US space shuttle launches prior to the disastrous Challenger launch of 28 January 1986. The observations in rows 1, 2, 4, 11, 13, and 18 were included in the pre-launch charts used in deciding whether to proceed with the launch, while remaining rows were omitted.\n",
        "\n",
        "Create a new data frame by extracting these rows from orings, and plot total incidents against temperature for this new data frame. Obtain a similar plot for the full data set."
      ]
    },
    {
      "cell_type": "markdown",
      "id": "41ef4131",
      "metadata": {},
      "source": [
        "MB.Ch1.4. For the data frame `ais` (DAAG package)\n",
        "\n",
        "(a) Use the function `str()` to get information on each of the columns. Determine whether any of the columns hold missing values.\n",
        "\n",
        "(b) Make a table that shows the numbers of males and females for each different sport. In which sports is there a large imbalance (e.g., by a factor of more than 2:1) in the numbers of the two sexes?\n",
        "\n",
        "MB.Ch1.6.Create a data frame called Manitoba.lakes that contains the lake's elevation (in meters above sea level) and area (in square kilometers) as listed below. Assign the names of the lakes using the `row.names()` function."
      ]
    },
    {
      "cell_type": "code",
      "execution_count": null,
      "id": "4be0bc7f",
      "metadata": {
        "language": "=latex"
      },
      "outputs": [],
      "source": [
        "\\begin{table}[h!]\n",
        "  \\begin{center}\n",
        "\\begin{tabular}{l|r|r} \\hline\n",
        "                & elevation & area \\\\ \\hline\n",
        "Winnipeg        &     217   & 24387 \\\\\n",
        "Winnipegosis    &     254   & 5374 \\\\\n",
        "Manitoba        &     248   & 4624 \\\\\n",
        "SouthernIndian  &     254   & 2247 \\\\\n",
        "Cedar           &     253   & 1353 \\\\\n",
        "Island          &     227   & 1223 \\\\\n",
        "Gods            &     178   & 1151 \\\\\n",
        "Cross           &     207   & 755 \\\\\n",
        "Playgreen       &    217    & 657 \\\\\\hline\n",
        "\\end{tabular}\n",
        "\\end{center}\n",
        "\\end{table}"
      ]
    },
    {
      "cell_type": "markdown",
      "id": "3549ccec",
      "metadata": {},
      "source": [
        "(a) Use the following code to plot `log2(area)` versus elevation, adding labeling information (there is an extreme value of area that makes a logarithmic scale pretty much essential):"
      ]
    },
    {
      "cell_type": "code",
      "execution_count": null,
      "id": "a18a6a07",
      "metadata": {},
      "outputs": [],
      "source": [
        "attach(Manitoba.lakes)\n",
        "plot(log2(area) ~ elevation, pch=16, xlim=c(170,280))\n",
        "# NB: Doubling the area increases log2(area) by 1.0\n",
        "text(log2(area) ~ elevation, labels=row.names(Manitoba.lakes), pos=4)\n",
        "text(log2(area) ~ elevation, labels=area, pos=2) \n",
        "title(\"Manitoba's Largest Lakes\")"
      ]
    },
    {
      "cell_type": "markdown",
      "id": "a5475536",
      "metadata": {
        "lines_to_next_cell": 0
      },
      "source": [
        "Devise captions that explain the labeling on the points and on the y-axis. It will be necessary to explain how distances on the scale relate to changes in area.\n",
        "\n",
        "(b) Repeat the plot and associated labeling, now plotting area versus elevation, but specifying `ylog=TRUE` in order to obtain a logarithmic y-scale."
      ]
    },
    {
      "cell_type": "code",
      "execution_count": null,
      "id": "63d34c87",
      "metadata": {},
      "outputs": [],
      "source": [
        "plot(area ~ elevation, pch=16, xlim=c(170,280), ylog=T)\n",
        "text(area ~ elevation, labels=row.names(Manitoba.lakes), pos=4, ylog=T)\n",
        "text(area ~ elevation, labels=area, pos=2, ylog=T) \n",
        "title(\"Manitoba's Largest Lakes\")\n"
      ]
    },
    {
      "cell_type": "markdown",
      "id": "c2977ff0",
      "metadata": {
        "lines_to_next_cell": 0
      },
      "source": [
        "MB.Ch1.7. Look up the help page for the R function `dotchart()`. Use this function to display the areas of the Manitoba lakes (a) on a linear scale, and (b) on a logarithmic scale. Add, in each case, suitable labeling information."
      ]
    },
    {
      "cell_type": "code",
      "execution_count": null,
      "id": "80a8a6d3",
      "metadata": {},
      "outputs": [],
      "source": [
        "dotchart(log2(area))"
      ]
    },
    {
      "cell_type": "markdown",
      "id": "6a6aded6",
      "metadata": {},
      "source": [
        "MB.Ch1.8. Using the `sum()` function, obtain a lower bound for the area of Manitoba covered by water.\n"
      ]
    }
  ],
  "metadata": {
    "jupytext": {
      "cell_metadata_filter": "language,name,message,tags,-all",
      "main_language": "R",
      "notebook_metadata_filter": "-all"
    },
    "kernelspec": {
      "name": "ir",
      "display_name": "R",
      "language": "R"
    },
    "language_info": {
      "name": "R"
    }
  },
  "nbformat": 4,
  "nbformat_minor": 5
}