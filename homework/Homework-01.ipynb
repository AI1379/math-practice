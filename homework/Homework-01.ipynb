{
  "cells": [
    {
      "cell_type": "raw",
      "id": "9eb010b6",
      "metadata": {
        "lines_to_next_cell": 0
      },
      "source": [
        "---\n",
        "title: \"Homework 1\"\n",
        "output:\n",
        "  pdf_document: default\n",
        "  html_document:\n",
        "    df_print: paged\n",
        "---"
      ]
    },
    {
      "cell_type": "code",
      "execution_count": 1,
      "id": "dc3de180",
      "metadata": {
        "message": false,
        "name": "setup",
        "tags": [
          "remove_cell"
        ],
        "vscode": {
          "languageId": "r"
        }
      },
      "outputs": [
        {
          "name": "stderr",
          "output_type": "stream",
          "text": [
            "── \u001b[1mAttaching core tidyverse packages\u001b[22m ──────────────────────── tidyverse 2.0.0 ──\n",
            "\u001b[32m✔\u001b[39m \u001b[34mdplyr    \u001b[39m 1.1.4     \u001b[32m✔\u001b[39m \u001b[34mreadr    \u001b[39m 2.1.5\n",
            "\u001b[32m✔\u001b[39m \u001b[34mforcats  \u001b[39m 1.0.0     \u001b[32m✔\u001b[39m \u001b[34mstringr  \u001b[39m 1.5.1\n",
            "\u001b[32m✔\u001b[39m \u001b[34mggplot2  \u001b[39m 3.5.2     \u001b[32m✔\u001b[39m \u001b[34mtibble   \u001b[39m 3.3.0\n",
            "\u001b[32m✔\u001b[39m \u001b[34mlubridate\u001b[39m 1.9.4     \u001b[32m✔\u001b[39m \u001b[34mtidyr    \u001b[39m 1.3.1\n",
            "\u001b[32m✔\u001b[39m \u001b[34mpurrr    \u001b[39m 1.0.4     \n",
            "── \u001b[1mConflicts\u001b[22m ────────────────────────────────────────── tidyverse_conflicts() ──\n",
            "\u001b[31m✖\u001b[39m \u001b[34mdplyr\u001b[39m::\u001b[32mfilter()\u001b[39m masks \u001b[34mstats\u001b[39m::filter()\n",
            "\u001b[31m✖\u001b[39m \u001b[34mdplyr\u001b[39m::\u001b[32mlag()\u001b[39m    masks \u001b[34mstats\u001b[39m::lag()\n",
            "\u001b[36mℹ\u001b[39m Use the conflicted package (\u001b[3m\u001b[34m<http://conflicted.r-lib.org/>\u001b[39m\u001b[23m) to force all conflicts to become errors\n"
          ]
        }
      ],
      "source": [
        "options(htmltools.dir.version = FALSE)\n",
        "library(tidyverse)\n",
        "library(DAAG)\n"
      ]
    },
    {
      "cell_type": "markdown",
      "id": "e13280ef",
      "metadata": {
        "lines_to_next_cell": 0
      },
      "source": [
        "1. The Iowa data set `iowa.csv` is a toy example that summarises the yield of wheat (bushels per acre) for the state of Iowa between 1930-1962. In addition to yield, year, rainfall and temperature were recorded as the main predictors of yield.\n",
        "\n",
        "    a. First, we need to load the data set into R using the command `read.csv()`. Use the help function to learn what arguments this function takes. Once you have the necessary input, load the data set into R and make it a data frame called `iowa.df`.\n",
        "\n",
        "    b. How many rows and columns does `iowa.df` have? \n",
        "\n",
        "    c. What are the names of the columns of `iowa.df`?\n",
        "\n",
        "    d. What is the value of row 5, column 7 of `iowa.df`?\n",
        "    \n",
        "    e. Display the second row of `iowa.df` in its entirety."
      ]
    },
    {
      "cell_type": "code",
      "execution_count": 15,
      "id": "6d508fd3",
      "metadata": {
        "vscode": {
          "languageId": "r"
        }
      },
      "outputs": [
        {
          "data": {
            "text/html": [
              "<style>\n",
              ".list-inline {list-style: none; margin:0; padding: 0}\n",
              ".list-inline>li {display: inline-block}\n",
              ".list-inline>li:not(:last-child)::after {content: \"\\00b7\"; padding: 0 .5ex}\n",
              "</style>\n",
              "<ol class=list-inline><li>33</li><li>10</li></ol>\n"
            ],
            "text/latex": [
              "\\begin{enumerate*}\n",
              "\\item 33\n",
              "\\item 10\n",
              "\\end{enumerate*}\n"
            ],
            "text/markdown": [
              "1. 33\n",
              "2. 10\n",
              "\n",
              "\n"
            ],
            "text/plain": [
              "[1] 33 10"
            ]
          },
          "metadata": {},
          "output_type": "display_data"
        },
        {
          "data": {
            "text/html": [
              "<style>\n",
              ".list-inline {list-style: none; margin:0; padding: 0}\n",
              ".list-inline>li {display: inline-block}\n",
              ".list-inline>li:not(:last-child)::after {content: \"\\00b7\"; padding: 0 .5ex}\n",
              "</style>\n",
              "<ol class=list-inline><li>'Year'</li><li>'Rain0'</li><li>'Temp1'</li><li>'Rain1'</li><li>'Temp2'</li><li>'Rain2'</li><li>'Temp3'</li><li>'Rain3'</li><li>'Temp4'</li><li>'Yield'</li></ol>\n"
            ],
            "text/latex": [
              "\\begin{enumerate*}\n",
              "\\item 'Year'\n",
              "\\item 'Rain0'\n",
              "\\item 'Temp1'\n",
              "\\item 'Rain1'\n",
              "\\item 'Temp2'\n",
              "\\item 'Rain2'\n",
              "\\item 'Temp3'\n",
              "\\item 'Rain3'\n",
              "\\item 'Temp4'\n",
              "\\item 'Yield'\n",
              "\\end{enumerate*}\n"
            ],
            "text/markdown": [
              "1. 'Year'\n",
              "2. 'Rain0'\n",
              "3. 'Temp1'\n",
              "4. 'Rain1'\n",
              "5. 'Temp2'\n",
              "6. 'Rain2'\n",
              "7. 'Temp3'\n",
              "8. 'Rain3'\n",
              "9. 'Temp4'\n",
              "10. 'Yield'\n",
              "\n",
              "\n"
            ],
            "text/plain": [
              " [1] \"Year\"  \"Rain0\" \"Temp1\" \"Rain1\" \"Temp2\" \"Rain2\" \"Temp3\" \"Rain3\" \"Temp4\"\n",
              "[10] \"Yield\""
            ]
          },
          "metadata": {},
          "output_type": "display_data"
        },
        {
          "data": {
            "text/html": [
              "79.7"
            ],
            "text/latex": [
              "79.7"
            ],
            "text/markdown": [
              "79.7"
            ],
            "text/plain": [
              "[1] 79.7"
            ]
          },
          "metadata": {},
          "output_type": "display_data"
        },
        {
          "data": {
            "text/html": [
              "<table class=\"dataframe\">\n",
              "<caption>A data.frame: 1 × 10</caption>\n",
              "<thead>\n",
              "\t<tr><th></th><th scope=col>Year</th><th scope=col>Rain0</th><th scope=col>Temp1</th><th scope=col>Rain1</th><th scope=col>Temp2</th><th scope=col>Rain2</th><th scope=col>Temp3</th><th scope=col>Rain3</th><th scope=col>Temp4</th><th scope=col>Yield</th></tr>\n",
              "\t<tr><th></th><th scope=col>&lt;int&gt;</th><th scope=col>&lt;dbl&gt;</th><th scope=col>&lt;dbl&gt;</th><th scope=col>&lt;dbl&gt;</th><th scope=col>&lt;dbl&gt;</th><th scope=col>&lt;dbl&gt;</th><th scope=col>&lt;dbl&gt;</th><th scope=col>&lt;dbl&gt;</th><th scope=col>&lt;dbl&gt;</th><th scope=col>&lt;dbl&gt;</th></tr>\n",
              "</thead>\n",
              "<tbody>\n",
              "\t<tr><th scope=row>2</th><td>1931</td><td>14.76</td><td>57.5</td><td>3.83</td><td>75</td><td>2.72</td><td>77.2</td><td>3.3</td><td>72.6</td><td>32.9</td></tr>\n",
              "</tbody>\n",
              "</table>\n"
            ],
            "text/latex": [
              "A data.frame: 1 × 10\n",
              "\\begin{tabular}{r|llllllllll}\n",
              "  & Year & Rain0 & Temp1 & Rain1 & Temp2 & Rain2 & Temp3 & Rain3 & Temp4 & Yield\\\\\n",
              "  & <int> & <dbl> & <dbl> & <dbl> & <dbl> & <dbl> & <dbl> & <dbl> & <dbl> & <dbl>\\\\\n",
              "\\hline\n",
              "\t2 & 1931 & 14.76 & 57.5 & 3.83 & 75 & 2.72 & 77.2 & 3.3 & 72.6 & 32.9\\\\\n",
              "\\end{tabular}\n"
            ],
            "text/markdown": [
              "\n",
              "A data.frame: 1 × 10\n",
              "\n",
              "| <!--/--> | Year &lt;int&gt; | Rain0 &lt;dbl&gt; | Temp1 &lt;dbl&gt; | Rain1 &lt;dbl&gt; | Temp2 &lt;dbl&gt; | Rain2 &lt;dbl&gt; | Temp3 &lt;dbl&gt; | Rain3 &lt;dbl&gt; | Temp4 &lt;dbl&gt; | Yield &lt;dbl&gt; |\n",
              "|---|---|---|---|---|---|---|---|---|---|---|\n",
              "| 2 | 1931 | 14.76 | 57.5 | 3.83 | 75 | 2.72 | 77.2 | 3.3 | 72.6 | 32.9 |\n",
              "\n"
            ],
            "text/plain": [
              "  Year Rain0 Temp1 Rain1 Temp2 Rain2 Temp3 Rain3 Temp4 Yield\n",
              "2 1931 14.76 57.5  3.83  75    2.72  77.2  3.3   72.6  32.9 "
            ]
          },
          "metadata": {},
          "output_type": "display_data"
        }
      ],
      "source": [
        "iowa.df <- read.csv(\"data/iowa.csv\", sep = \";\", header = T)\n",
        "dim(iowa.df)\n",
        "colnames(iowa.df)\n",
        "iowa.df[5, 7]\n",
        "iowa.df[2, ]\n"
      ]
    },
    {
      "cell_type": "markdown",
      "id": "f4c3f15f",
      "metadata": {},
      "source": [
        "2. Syntax and class-typing.\n",
        "\n",
        "a. For each of the following commands, either explain why they should be errors, or explain the non-erroneous result.\n",
        "\n",
        "```r\n",
        "vector1 <- c(\"5\", \"12\", \"7\", \"32\")\n",
        "max(vector1)\n",
        "sort(vector1)\n",
        "sum(vector1)\n",
        "\n",
        "```\n",
        "\n",
        "> Answer:\n",
        "> - `max(vector1)` will return \"7\" as it compares the strings lexicographically, not numerically.\n",
        "> - `sort(vector1)` will sort the vector lexicographically, resulting in `c(\"12\", \"32\", \"5\", \"7\")`.\n",
        "> - `sum(vector1)` will produce an error because you cannot sum character strings directly; it requires numeric values.\n"
      ]
    },
    {
      "cell_type": "markdown",
      "id": "50effd73",
      "metadata": {},
      "source": [
        "\n",
        "b. For the next series of commands, either explain their results, or why they should produce errors.\n",
        "\n",
        "```r\n",
        "vector2 <- c(\"5\", 7, 12)\n",
        "vector2[2] + vector2[3]\n",
        "\n",
        "dataframe3 <- data.frame(z1 = \"5\", z2 = 7, z3 = 12)\n",
        "dataframe3[1, 2] + dataframe3[1, 3]\n",
        "\n",
        "list4 <- list(z1 = \"6\", z2 = 42, z3 = \"49\", z4 = 126)\n",
        "list4[[2]] + list4[[4]]\n",
        "list4[2] + list4[4]\n",
        "```\n",
        "\n",
        "> Answer:\n",
        "> - `vector2[2] + vector2[3]` will produce error because R automatically converts 7 to a character string \"7\" when it is added to \"12\", resulting in a type mismatch.\n",
        "> - `dataframe3[1, 2] + dataframe3[1, 3]` will produce 19 because R do not convert the type of the data frame elements.\n",
        "> - `list4[[2]] + list4[[4]]` will produce 168 because R converts the elements to numeric before addition.\n",
        "> - `list4[2] + list4[4]` will produce an error because it tries to add two lists, which is not defined in R.\n"
      ]
    },
    {
      "cell_type": "markdown",
      "id": "7ab96d8d",
      "metadata": {},
      "source": [
        "\n",
        "3. Working with functions and operators.\n",
        "\n",
        "    a. The colon operator will create a sequence of integers in order. It is a special case of the function `seq()` which you saw earlier in this assignment. Using the help command `?seq` to learn about the function, design an expression that will give you the sequence of numbers from 1 to 10000 in increments of 372. Design another that will give you a sequence between 1 and 10000 that is exactly 50 numbers in length.\n",
        "\n",
        "    b. The function `rep()` repeats a vector some number of times. Explain the difference between `rep(1:3, times=3)` and `rep(1:3, each=3)`."
      ]
    },
    {
      "cell_type": "markdown",
      "id": "20d5bba4",
      "metadata": {},
      "source": [
        "> Answer a: "
      ]
    },
    {
      "cell_type": "code",
      "execution_count": null,
      "id": "ea74dafe",
      "metadata": {
        "vscode": {
          "languageId": "r"
        }
      },
      "outputs": [
        {
          "data": {
            "text/html": [
              "<style>\n",
              ".list-inline {list-style: none; margin:0; padding: 0}\n",
              ".list-inline>li {display: inline-block}\n",
              ".list-inline>li:not(:last-child)::after {content: \"\\00b7\"; padding: 0 .5ex}\n",
              "</style>\n",
              "<ol class=list-inline><li>1</li><li>373</li><li>745</li><li>1117</li><li>1489</li><li>1861</li><li>2233</li><li>2605</li><li>2977</li><li>3349</li><li>3721</li><li>4093</li><li>4465</li><li>4837</li><li>5209</li><li>5581</li><li>5953</li><li>6325</li><li>6697</li><li>7069</li><li>7441</li><li>7813</li><li>8185</li><li>8557</li><li>8929</li><li>9301</li><li>9673</li></ol>\n"
            ],
            "text/latex": [
              "\\begin{enumerate*}\n",
              "\\item 1\n",
              "\\item 373\n",
              "\\item 745\n",
              "\\item 1117\n",
              "\\item 1489\n",
              "\\item 1861\n",
              "\\item 2233\n",
              "\\item 2605\n",
              "\\item 2977\n",
              "\\item 3349\n",
              "\\item 3721\n",
              "\\item 4093\n",
              "\\item 4465\n",
              "\\item 4837\n",
              "\\item 5209\n",
              "\\item 5581\n",
              "\\item 5953\n",
              "\\item 6325\n",
              "\\item 6697\n",
              "\\item 7069\n",
              "\\item 7441\n",
              "\\item 7813\n",
              "\\item 8185\n",
              "\\item 8557\n",
              "\\item 8929\n",
              "\\item 9301\n",
              "\\item 9673\n",
              "\\end{enumerate*}\n"
            ],
            "text/markdown": [
              "1. 1\n",
              "2. 373\n",
              "3. 745\n",
              "4. 1117\n",
              "5. 1489\n",
              "6. 1861\n",
              "7. 2233\n",
              "8. 2605\n",
              "9. 2977\n",
              "10. 3349\n",
              "11. 3721\n",
              "12. 4093\n",
              "13. 4465\n",
              "14. 4837\n",
              "15. 5209\n",
              "16. 5581\n",
              "17. 5953\n",
              "18. 6325\n",
              "19. 6697\n",
              "20. 7069\n",
              "21. 7441\n",
              "22. 7813\n",
              "23. 8185\n",
              "24. 8557\n",
              "25. 8929\n",
              "26. 9301\n",
              "27. 9673\n",
              "\n",
              "\n"
            ],
            "text/plain": [
              " [1]    1  373  745 1117 1489 1861 2233 2605 2977 3349 3721 4093 4465 4837 5209\n",
              "[16] 5581 5953 6325 6697 7069 7441 7813 8185 8557 8929 9301 9673"
            ]
          },
          "metadata": {},
          "output_type": "display_data"
        },
        {
          "data": {
            "text/html": [
              "<style>\n",
              ".list-inline {list-style: none; margin:0; padding: 0}\n",
              ".list-inline>li {display: inline-block}\n",
              ".list-inline>li:not(:last-child)::after {content: \"\\00b7\"; padding: 0 .5ex}\n",
              "</style>\n",
              "<ol class=list-inline><li>1</li><li>205.061224489796</li><li>409.122448979592</li><li>613.183673469388</li><li>817.244897959184</li><li>1021.30612244898</li><li>1225.36734693878</li><li>1429.42857142857</li><li>1633.48979591837</li><li>1837.55102040816</li><li>2041.61224489796</li><li>2245.67346938776</li><li>2449.73469387755</li><li>2653.79591836735</li><li>2857.85714285714</li><li>3061.91836734694</li><li>3265.97959183673</li><li>3470.04081632653</li><li>3674.10204081633</li><li>3878.16326530612</li><li>4082.22448979592</li><li>4286.28571428571</li><li>4490.34693877551</li><li>4694.40816326531</li><li>4898.4693877551</li><li>5102.5306122449</li><li>5306.59183673469</li><li>5510.65306122449</li><li>5714.71428571429</li><li>5918.77551020408</li><li>6122.83673469388</li><li>6326.89795918367</li><li>6530.95918367347</li><li>6735.02040816326</li><li>6939.08163265306</li><li>7143.14285714286</li><li>7347.20408163265</li><li>7551.26530612245</li><li>7755.32653061224</li><li>7959.38775510204</li><li>8163.44897959184</li><li>8367.51020408163</li><li>8571.57142857143</li><li>8775.63265306122</li><li>8979.69387755102</li><li>9183.75510204082</li><li>9387.81632653061</li><li>9591.87755102041</li><li>9795.9387755102</li><li>10000</li></ol>\n"
            ],
            "text/latex": [
              "\\begin{enumerate*}\n",
              "\\item 1\n",
              "\\item 205.061224489796\n",
              "\\item 409.122448979592\n",
              "\\item 613.183673469388\n",
              "\\item 817.244897959184\n",
              "\\item 1021.30612244898\n",
              "\\item 1225.36734693878\n",
              "\\item 1429.42857142857\n",
              "\\item 1633.48979591837\n",
              "\\item 1837.55102040816\n",
              "\\item 2041.61224489796\n",
              "\\item 2245.67346938776\n",
              "\\item 2449.73469387755\n",
              "\\item 2653.79591836735\n",
              "\\item 2857.85714285714\n",
              "\\item 3061.91836734694\n",
              "\\item 3265.97959183673\n",
              "\\item 3470.04081632653\n",
              "\\item 3674.10204081633\n",
              "\\item 3878.16326530612\n",
              "\\item 4082.22448979592\n",
              "\\item 4286.28571428571\n",
              "\\item 4490.34693877551\n",
              "\\item 4694.40816326531\n",
              "\\item 4898.4693877551\n",
              "\\item 5102.5306122449\n",
              "\\item 5306.59183673469\n",
              "\\item 5510.65306122449\n",
              "\\item 5714.71428571429\n",
              "\\item 5918.77551020408\n",
              "\\item 6122.83673469388\n",
              "\\item 6326.89795918367\n",
              "\\item 6530.95918367347\n",
              "\\item 6735.02040816326\n",
              "\\item 6939.08163265306\n",
              "\\item 7143.14285714286\n",
              "\\item 7347.20408163265\n",
              "\\item 7551.26530612245\n",
              "\\item 7755.32653061224\n",
              "\\item 7959.38775510204\n",
              "\\item 8163.44897959184\n",
              "\\item 8367.51020408163\n",
              "\\item 8571.57142857143\n",
              "\\item 8775.63265306122\n",
              "\\item 8979.69387755102\n",
              "\\item 9183.75510204082\n",
              "\\item 9387.81632653061\n",
              "\\item 9591.87755102041\n",
              "\\item 9795.9387755102\n",
              "\\item 10000\n",
              "\\end{enumerate*}\n"
            ],
            "text/markdown": [
              "1. 1\n",
              "2. 205.061224489796\n",
              "3. 409.122448979592\n",
              "4. 613.183673469388\n",
              "5. 817.244897959184\n",
              "6. 1021.30612244898\n",
              "7. 1225.36734693878\n",
              "8. 1429.42857142857\n",
              "9. 1633.48979591837\n",
              "10. 1837.55102040816\n",
              "11. 2041.61224489796\n",
              "12. 2245.67346938776\n",
              "13. 2449.73469387755\n",
              "14. 2653.79591836735\n",
              "15. 2857.85714285714\n",
              "16. 3061.91836734694\n",
              "17. 3265.97959183673\n",
              "18. 3470.04081632653\n",
              "19. 3674.10204081633\n",
              "20. 3878.16326530612\n",
              "21. 4082.22448979592\n",
              "22. 4286.28571428571\n",
              "23. 4490.34693877551\n",
              "24. 4694.40816326531\n",
              "25. 4898.4693877551\n",
              "26. 5102.5306122449\n",
              "27. 5306.59183673469\n",
              "28. 5510.65306122449\n",
              "29. 5714.71428571429\n",
              "30. 5918.77551020408\n",
              "31. 6122.83673469388\n",
              "32. 6326.89795918367\n",
              "33. 6530.95918367347\n",
              "34. 6735.02040816326\n",
              "35. 6939.08163265306\n",
              "36. 7143.14285714286\n",
              "37. 7347.20408163265\n",
              "38. 7551.26530612245\n",
              "39. 7755.32653061224\n",
              "40. 7959.38775510204\n",
              "41. 8163.44897959184\n",
              "42. 8367.51020408163\n",
              "43. 8571.57142857143\n",
              "44. 8775.63265306122\n",
              "45. 8979.69387755102\n",
              "46. 9183.75510204082\n",
              "47. 9387.81632653061\n",
              "48. 9591.87755102041\n",
              "49. 9795.9387755102\n",
              "50. 10000\n",
              "\n",
              "\n"
            ],
            "text/plain": [
              " [1]     1.0000   205.0612   409.1224   613.1837   817.2449  1021.3061\n",
              " [7]  1225.3673  1429.4286  1633.4898  1837.5510  2041.6122  2245.6735\n",
              "[13]  2449.7347  2653.7959  2857.8571  3061.9184  3265.9796  3470.0408\n",
              "[19]  3674.1020  3878.1633  4082.2245  4286.2857  4490.3469  4694.4082\n",
              "[25]  4898.4694  5102.5306  5306.5918  5510.6531  5714.7143  5918.7755\n",
              "[31]  6122.8367  6326.8980  6530.9592  6735.0204  6939.0816  7143.1429\n",
              "[37]  7347.2041  7551.2653  7755.3265  7959.3878  8163.4490  8367.5102\n",
              "[43]  8571.5714  8775.6327  8979.6939  9183.7551  9387.8163  9591.8776\n",
              "[49]  9795.9388 10000.0000"
            ]
          },
          "metadata": {},
          "output_type": "display_data"
        }
      ],
      "source": [
        "seq(from = 1, to = 10000, by = 372)\n",
        "seq(from = 1, to = 10000, length.out = 50)\n"
      ]
    },
    {
      "cell_type": "markdown",
      "id": "a216351c",
      "metadata": {},
      "source": [
        "> Answer b:\n",
        "> - `rep(1:3, times=3)` will repeat the entire vector `1:3` three times, resulting in `1, 2, 3, 1, 2, 3, 1, 2, 3`.\n",
        "> - `rep(1:3, each=3)` will repeat each element of the vector `1:3` three times, resulting in `1, 1, 1, 2, 2, 2, 3, 3, 3`."
      ]
    },
    {
      "cell_type": "markdown",
      "id": "80f3ea64",
      "metadata": {},
      "source": [
        "MB.Ch1.2. The orings data frame gives data on the damage that had occurred in US space shuttle launches prior to the disastrous Challenger launch of 28 January 1986. The observations in rows 1, 2, 4, 11, 13, and 18 were included in the pre-launch charts used in deciding whether to proceed with the launch, while remaining rows were omitted.\n",
        "\n",
        "Create a new data frame by extracting these rows from orings, and plot total incidents against temperature for this new data frame. Obtain a similar plot for the full data set."
      ]
    },
    {
      "cell_type": "code",
      "execution_count": null,
      "id": "283f8841",
      "metadata": {
        "vscode": {
          "languageId": "r"
        }
      },
      "outputs": [
        {
          "data": {
            "image/png": "[encoded data removed]",
            "text/plain": [
              "Plot with title \"O-Rings Failures vs Temperature\""
            ]
          },
          "metadata": {
            "image/png": {
              "height": 420,
              "width": 420
            }
          },
          "output_type": "display_data"
        },
        {
          "data": {
            "image/png": "[encoded data removed]",
            "text/plain": [
              "Plot with title \"O-Rings Failures vs Temperature\""
            ]
          },
          "metadata": {
            "image/png": {
              "height": 420,
              "width": 420
            }
          },
          "output_type": "display_data"
        }
      ],
      "source": [
        "data(\"orings\")\n",
        "\n",
        "selected_rows <- c(1, 2, 4, 11, 13, 18)\n",
        "orings_subset <- orings[selected_rows, ]\n",
        "\n",
        "plot(orings_subset$Temperature, orings_subset$Failures,\n",
        "    xlab = \"Temperature\", ylab = \"Failures\",\n",
        "    main = \"O-Rings Failures vs Temperature\",\n",
        "    pch = 19, col = \"blue\"\n",
        ")\n",
        "\n",
        "plot(orings$Temperature, orings$Failures,\n",
        "    xlab = \"Temperature\", ylab = \"Failures\",\n",
        "    main = \"O-Rings Failures vs Temperature\",\n",
        "    pch = 19, col = \"blue\"\n",
        ")\n"
      ]
    },
    {
      "cell_type": "markdown",
      "id": "41ef4131",
      "metadata": {},
      "source": [
        "MB.Ch1.4. For the data frame `ais` (DAAG package)\n",
        "\n",
        "(a) Use the function `str()` to get information on each of the columns. Determine whether any of the columns hold missing values.\n",
        "\n",
        "(b) Make a table that shows the numbers of males and females for each different sport. In which sports is there a large imbalance (e.g., by a factor of more than 2:1) in the numbers of the two sexes?\n"
      ]
    },
    {
      "cell_type": "markdown",
      "id": "d8de2e67",
      "metadata": {},
      "source": [
        "> Answer:"
      ]
    },
    {
      "cell_type": "code",
      "execution_count": null,
      "id": "0d8b7844",
      "metadata": {
        "vscode": {
          "languageId": "r"
        }
      },
      "outputs": [
        {
          "name": "stdout",
          "output_type": "stream",
          "text": [
            "'data.frame':\t202 obs. of  13 variables:\n",
            " $ rcc   : num  3.96 4.41 4.14 4.11 4.45 4.1 4.31 4.42 4.3 4.51 ...\n",
            " $ wcc   : num  7.5 8.3 5 5.3 6.8 4.4 5.3 5.7 8.9 4.4 ...\n",
            " $ hc    : num  37.5 38.2 36.4 37.3 41.5 37.4 39.6 39.9 41.1 41.6 ...\n",
            " $ hg    : num  12.3 12.7 11.6 12.6 14 12.5 12.8 13.2 13.5 12.7 ...\n",
            " $ ferr  : num  60 68 21 69 29 42 73 44 41 44 ...\n",
            " $ bmi   : num  20.6 20.7 21.9 21.9 19 ...\n",
            " $ ssf   : num  109.1 102.8 104.6 126.4 80.3 ...\n",
            " $ pcBfat: num  19.8 21.3 19.9 23.7 17.6 ...\n",
            " $ lbm   : num  63.3 58.5 55.4 57.2 53.2 ...\n",
            " $ ht    : num  196 190 178 185 185 ...\n",
            " $ wt    : num  78.9 74.4 69.1 74.9 64.6 63.7 75.2 62.3 66.5 62.9 ...\n",
            " $ sex   : Factor w/ 2 levels \"f\",\"m\": 1 1 1 1 1 1 1 1 1 1 ...\n",
            " $ sport : Factor w/ 10 levels \"B_Ball\",\"Field\",..: 1 1 1 1 1 1 1 1 1 1 ...\n"
          ]
        },
        {
          "data": {
            "text/html": [
              "0"
            ],
            "text/latex": [
              "0"
            ],
            "text/markdown": [
              "0"
            ],
            "text/plain": [
              "[1] 0"
            ]
          },
          "metadata": {},
          "output_type": "display_data"
        },
        {
          "data": {
            "text/html": [
              "<table class=\"dataframe\">\n",
              "<caption>A data.frame: 4 × 2</caption>\n",
              "<thead>\n",
              "\t<tr><th></th><th scope=col>females</th><th scope=col>males</th></tr>\n",
              "\t<tr><th></th><th scope=col>&lt;int&gt;</th><th scope=col>&lt;int&gt;</th></tr>\n",
              "</thead>\n",
              "<tbody>\n",
              "\t<tr><th scope=row>Gym</th><td> 4</td><td> 0</td></tr>\n",
              "\t<tr><th scope=row>Netball</th><td>23</td><td> 0</td></tr>\n",
              "\t<tr><th scope=row>T_Sprnt</th><td> 4</td><td>11</td></tr>\n",
              "\t<tr><th scope=row>W_Polo</th><td> 0</td><td>17</td></tr>\n",
              "</tbody>\n",
              "</table>\n"
            ],
            "text/latex": [
              "A data.frame: 4 × 2\n",
              "\\begin{tabular}{r|ll}\n",
              "  & females & males\\\\\n",
              "  & <int> & <int>\\\\\n",
              "\\hline\n",
              "\tGym &  4 &  0\\\\\n",
              "\tNetball & 23 &  0\\\\\n",
              "\tT\\_Sprnt &  4 & 11\\\\\n",
              "\tW\\_Polo &  0 & 17\\\\\n",
              "\\end{tabular}\n"
            ],
            "text/markdown": [
              "\n",
              "A data.frame: 4 × 2\n",
              "\n",
              "| <!--/--> | females &lt;int&gt; | males &lt;int&gt; |\n",
              "|---|---|---|\n",
              "| Gym |  4 |  0 |\n",
              "| Netball | 23 |  0 |\n",
              "| T_Sprnt |  4 | 11 |\n",
              "| W_Polo |  0 | 17 |\n",
              "\n"
            ],
            "text/plain": [
              "        females males\n",
              "Gym      4       0   \n",
              "Netball 23       0   \n",
              "T_Sprnt  4      11   \n",
              "W_Polo   0      17   "
            ]
          },
          "metadata": {},
          "output_type": "display_data"
        }
      ],
      "source": [
        "data(\"ais\")\n",
        "str(ais)\n",
        "sum(is.na(ais))\n",
        "\n",
        "table <- with(ais, table(sport, sex))\n",
        "\n",
        "gender_ratio <- apply(table, 1, function(x) {\n",
        "    min(x) / max(x)\n",
        "})\n",
        "\n",
        "imbalance_index <- which(gender_ratio < 0.5)\n",
        "\n",
        "imbalance_df <- data.frame(\n",
        "    females = table[imbalance_index, \"f\"],\n",
        "    males = table[imbalance_index, \"m\"]\n",
        ")\n",
        "\n",
        "imbalance_df\n"
      ]
    },
    {
      "cell_type": "markdown",
      "id": "2846cc2d",
      "metadata": {},
      "source": [
        "\n",
        "MB.Ch1.6. Create a data frame called Manitoba.lakes that contains the lake's elevation (in meters above sea level) and area (in square kilometers) as listed below. Assign the names of the lakes using the `row.names()` function."
      ]
    },
    {
      "cell_type": "markdown",
      "id": "4be0bc7f",
      "metadata": {
        "language": "=latex",
        "vscode": {
          "languageId": "r"
        }
      },
      "source": [
        "\\begin{table}\n",
        "  \\begin{center}\n",
        "\\begin{tabular}{l|r|r} \\hline\n",
        "                & elevation & area \\\\ \\hline\n",
        "Winnipeg        &     217   & 24387 \\\\\n",
        "Winnipegosis    &     254   & 5374 \\\\\n",
        "Manitoba        &     248   & 4624 \\\\\n",
        "SouthernIndian  &     254   & 2247 \\\\\n",
        "Cedar           &     253   & 1353 \\\\\n",
        "Island          &     227   & 1223 \\\\\n",
        "Gods            &     178   & 1151 \\\\\n",
        "Cross           &     207   & 755 \\\\\n",
        "Playgreen       &    217    & 657 \\\\\\hline\n",
        "\\end{tabular}\n",
        "\\end{center}\n",
        "\\end{table}"
      ]
    },
    {
      "cell_type": "markdown",
      "id": "3549ccec",
      "metadata": {},
      "source": [
        "(a) Use the following code to plot `log2(area)` versus elevation, adding labeling information (there is an extreme value of area that makes a logarithmic scale pretty much essential):"
      ]
    },
    {
      "cell_type": "code",
      "execution_count": null,
      "id": "a18a6a07",
      "metadata": {
        "vscode": {
          "languageId": "r"
        }
      },
      "outputs": [
        {
          "data": {
            "image/png": "[encoded data removed]",
            "text/plain": [
              "Plot with title \"Manitoba's Largest Lakes\""
            ]
          },
          "metadata": {
            "image/png": {
              "height": 420,
              "width": 420
            }
          },
          "output_type": "display_data"
        }
      ],
      "source": [
        "elevation <- c(217, 254, 248, 254, 253, 227, 178, 207, 217)\n",
        "area <- c(24387, 5374, 4624, 2247, 1353, 1223, 1151, 755, 657)\n",
        "lake_names <- c(\n",
        "    \"Winnipeg\", \"Winnipegosis\", \"Manitoba\", \"SouthernIndian\",\n",
        "    \"Cedar\", \"Island\", \"Gods\", \"Cross\", \"Playgreen\"\n",
        ")\n",
        "\n",
        "Manitoba.lakes <- data.frame(elevation, area)\n",
        "row.names(Manitoba.lakes) <- lake_names\n",
        "\n",
        "plot(log2(area) ~ elevation, pch = 16, xlim = c(170, 280))\n",
        "# NB: Doubling the area increases log2(area) by 1.0\n",
        "text(log2(area) ~ elevation, labels = row.names(Manitoba.lakes), pos = 4)\n",
        "text(log2(area) ~ elevation, labels = area, pos = 2)\n",
        "title(\"Manitoba's Largest Lakes\")\n"
      ]
    },
    {
      "cell_type": "markdown",
      "id": "a5475536",
      "metadata": {
        "lines_to_next_cell": 0
      },
      "source": [
        "Devise captions that explain the labeling on the points and on the y-axis. It will be necessary to explain how distances on the scale relate to changes in area.\n"
      ]
    },
    {
      "cell_type": "markdown",
      "id": "d9566357",
      "metadata": {},
      "source": [
        "> Answer:\n",
        "> \n",
        "> A unit increase in `log2(area)` corresponds to a doubling of the area."
      ]
    },
    {
      "cell_type": "markdown",
      "id": "dc313fbd",
      "metadata": {},
      "source": [
        "\n",
        "(b) Repeat the plot and associated labeling, now plotting area versus elevation, but specifying `ylog=TRUE` in order to obtain a logarithmic y-scale."
      ]
    },
    {
      "cell_type": "code",
      "execution_count": 52,
      "id": "63d34c87",
      "metadata": {
        "vscode": {
          "languageId": "r"
        }
      },
      "outputs": [
        {
          "data": {
            "image/png": "[encoded data removed]",
            "text/plain": [
              "Plot with title \"Manitoba's Largest Lakes\""
            ]
          },
          "metadata": {
            "image/png": {
              "height": 420,
              "width": 420
            }
          },
          "output_type": "display_data"
        }
      ],
      "source": [
        "plot(area ~ elevation, pch = 16, xlim = c(170, 280), log = \"y\")\n",
        "text(area ~ elevation, labels = row.names(Manitoba.lakes), pos = 4, ylog = TRUE)\n",
        "text(area ~ elevation, labels = area, pos = 2, ylog = TRUE)\n",
        "title(\"Manitoba's Largest Lakes\")\n"
      ]
    },
    {
      "cell_type": "markdown",
      "id": "c2977ff0",
      "metadata": {
        "lines_to_next_cell": 0
      },
      "source": [
        "MB.Ch1.7. Look up the help page for the R function `dotchart()`. Use this function to display the areas of the Manitoba lakes (a) on a linear scale, and (b) on a logarithmic scale. Add, in each case, suitable labeling information."
      ]
    },
    {
      "cell_type": "code",
      "execution_count": null,
      "id": "80a8a6d3",
      "metadata": {
        "vscode": {
          "languageId": "r"
        }
      },
      "outputs": [
        {
          "data": {
            "image/png": "[encoded data removed]",
            "text/plain": [
              "Plot with title \"Manitoba Lakes Area (Linear Scale)\""
            ]
          },
          "metadata": {
            "image/png": {
              "height": 420,
              "width": 420
            }
          },
          "output_type": "display_data"
        },
        {
          "data": {
            "image/png": "[encoded data removed]",
            "text/plain": [
              "Plot with title \"Manitoba Lakes Area (Logarithmic Scale)\""
            ]
          },
          "metadata": {
            "image/png": {
              "height": 420,
              "width": 420
            }
          },
          "output_type": "display_data"
        }
      ],
      "source": [
        "dotchart(Manitoba.lakes$area,\n",
        "    labels = row.names(Manitoba.lakes),\n",
        "    main = \"Manitoba Lakes Area (Linear Scale)\",\n",
        "    xlab = \"Area (sq. km)\",\n",
        "    pch = 19,\n",
        "    color = \"blue\"\n",
        ")\n",
        "dotchart(Manitoba.lakes$area,\n",
        "    labels = row.names(Manitoba.lakes),\n",
        "    main = \"Manitoba Lakes Area (Logarithmic Scale)\",\n",
        "    xlab = \"Area (sq. km, log scale)\",\n",
        "    log = \"x\",\n",
        "    pch = 19,\n",
        "    color = \"red\"\n",
        ")\n"
      ]
    },
    {
      "cell_type": "markdown",
      "id": "6a6aded6",
      "metadata": {},
      "source": [
        "MB.Ch1.8. Using the `sum()` function, obtain a lower bound for the area of Manitoba covered by water.\n"
      ]
    },
    {
      "cell_type": "code",
      "execution_count": 54,
      "id": "f5603e6f",
      "metadata": {
        "vscode": {
          "languageId": "r"
        }
      },
      "outputs": [
        {
          "data": {
            "text/html": [
              "41771"
            ],
            "text/latex": [
              "41771"
            ],
            "text/markdown": [
              "41771"
            ],
            "text/plain": [
              "[1] 41771"
            ]
          },
          "metadata": {},
          "output_type": "display_data"
        }
      ],
      "source": [
        "sum(Manitoba.lakes$area)\n"
      ]
    }
  ],
  "metadata": {
    "jupytext": {
      "cell_metadata_filter": "language,name,message,tags,-all",
      "main_language": "R",
      "notebook_metadata_filter": "-all"
    },
    "kernelspec": {
      "display_name": "R",
      "language": "R",
      "name": "ir"
    },
    "language_info": {
      "codemirror_mode": "r",
      "file_extension": ".r",
      "mimetype": "text/x-r-source",
      "name": "R",
      "pygments_lexer": "r",
      "version": "4.5.1"
    }
  },
  "nbformat": 4,
  "nbformat_minor": 5
}
