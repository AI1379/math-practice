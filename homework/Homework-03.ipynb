{
  "cells": [
    {
      "cell_type": "raw",
      "id": "62d3e682",
      "metadata": {},
      "source": [
        "---\n",
        "title: \"Homework 3: The Death and Life of Great American City Scaling Laws\"\n",
        "output: pdf_document\n",
        "---"
      ]
    },
    {
      "cell_type": "markdown",
      "id": "3d445f0a",
      "metadata": {
        "lines_to_next_cell": 0
      },
      "source": [
        "**Background**: In the previous lectures and lab, we fitted the following model\n",
        "\\[\n",
        " Y = y_0 N^a + \\mathrm{noise}\n",
        "\\]\n",
        "by minimizing the mean squared error\n",
        "\\[\n",
        " \\frac{1}{n}\\sum_{i=1}^{n}{(Y_i - y_0 N_i^a)^2}.\n",
        "\\]\n",
        "\n",
        "We did this by approximating the derivative of the MSE, and adjusting $a$ by an amount proportional to that, stopping when the derivative became small.  Our procedure assumed we knew $y_0$.  In this assignment, we will use a built-in R function to estimate both parameters at once; it uses a fancier version of the same idea.\n",
        "\n",
        "Because the model is nonlinear, there is no simple formula for the parameter estimates in terms of the data.  Also unlike linear models, there is no simple formula for the _standard errors_ of the parameter estimates.  We will therefore use a technique called **the jackknife** to get approximate standard errors.\n",
        "\n",
        "Here is how the jackknife works:\n",
        "\n",
        "* Get a set of $n$ data points and get an estimate $\\hat{\\theta}$ for the  parameter of interest $\\theta$.\n",
        "* For each data point $i$, remove $i$ from the data set, and get an  estimate $\\hat{\\theta}_{(-i)}$ from the remaining $n-1$ data points.  The $\\hat{\\theta}_{(-i)}$ are sometimes called the \"jackknife estimates\".\n",
        "* Find the mean $\\overline{\\theta}$ of the $n$ values of $\\hat{\\theta}_{(-i)}$\n",
        "* The jackknife variance of $\\hat{\\theta}$ is\n",
        "  \\[\n",
        "  \\frac{n-1}{n}\\sum_{i=1}^{n}{(\\hat{\\theta}_{(-i)} - \\overline{\\theta})^2} = \\frac{(n-1)^2}{n}\\mathrm{var}{[\\hat{\\theta}_{(-i)}]}\n",
        "  \\]\n",
        "where $\\mathrm{var}$ stands for the sample variance.  (_Challenge_: can you explain the factor of $(n-1)^2/n$?  _Hint_: think about what happens when $n$ is large so $(n-1)/n \\approx 1$.)\n",
        "* The jackknife standard error of $\\hat{\\theta}$ is the square root of the jackknife variance.\n",
        "  \n",
        "You will estimate the power-law scaling model, and its uncertainty, using the data alluded to in lecture, available in the file `gmp.dat` from lecture, which contains data for 2006.\n",
        "```\n",
        "gmp <- read.table(\"gmp.dat\")\n",
        "gmp$pop <- round(gmp$gmp/gmp$pcgmp)\n",
        "```\n",
        "\n",
        "1. First, plot the data as in lecture, with per capita GMP on the y-axis and population on the x-axis. Add the curve function with the default values provided in lecture. Add two more curves corresponding to $a=0.1$ and $a=0.15$; use the `col` option to give each curve a different color (of your choice).\n",
        "\n",
        "2. Write a function, called `mse()`, which calculates the mean squared error of the model on a given data set. `mse()` should take three arguments: a numeric vector of length two, the first component standing for $y_0$ and the second for $a$; a numerical vector containing the values of $N$; and a numerical vector containing the values of $Y$.  The function should return a single numerical value. The latter two arguments should have as the default values the columns `pop` and `pcgmp` (respectively) from the `gmp` data frame from lecture.  Your function may not use `for()` or any other loop. Check that, with the default data, you get the following values.\n",
        "```\n",
        "> mse(c(6611,0.15))\n",
        "[1] 207057513\n",
        "> mse(c(5000,0.10))\n",
        "[1] 298459915\n",
        "```\n",
        "\n",
        "3. R has several built-in functions for optimization, which we will meet as we go through the course.  One of the simplest is `nlm()`, or non-linear minimization. `nlm()` takes two required arguments: a function, and a starting value for that function. Run `nlm()` three times with your function `mse()` and three starting value pairs for $y0$ and $a$ as in\n",
        "```\n",
        "nlm(mse, c(y0=6611,a=1/8))\n",
        "```\n",
        "What do the quantities `minimum` and `estimate` represent? What values does it return for these?\n",
        "\n",
        "4. Using `nlm()`, and the `mse()` function you wrote, write a function, `plm()`, which estimates the parameters $y_0$ and $a$ of the model by minimizing the mean squared error.  It should take the following arguments: an initial guess for $y_0$; an initial guess for $a$; a vector containing the $N$ values; a vector containing the $Y$ values.  All arguments except the initial guesses should have suitable default values.  It should return a list with the following components: the final guess for $y_0$; the final guess for $a$; the final value of the MSE.  Your function must call those you wrote in earlier questions (it should not repeat their code), and the appropriate arguments to `plm()` should be passed on to them.  \n",
        "What parameter estimate do you get when starting from $y_0 = 6611$ and $a = 0.15$?  From $y_0 = 5000$ and $a = 0.10$?  If these are not the same, why do they differ?  Which estimate has the lower MSE?  \n",
        "\n",
        "5. _Convince yourself the jackknife can work_.\n",
        "    a. Calculate the mean per-capita GMP across cities, and the standard error of this mean, using the built-in functions `mean()` and `sd()`, and the formula for the standard error of the mean you learned in your intro. stats. class (or looked up on Wikipedia...).\n",
        "    b. Write a function which takes in an integer `i`, and calculate the mean per-capita GMP for every city _except_ city number `i`.\n",
        "    c. Using this function, create a vector, `jackknifed.means`, which has the mean per-capita GMP where every city is held out in turn.  (You may use a `for` loop or `sapply()`.)\n",
        "    d. Using the vector `jackknifed.means`, calculate the jack-knife approximation to the standard error of the mean.  How well does it match your answer from part (a)?\n",
        "\n",
        "8. Write a function, `plm.jackknife()`, to calculate jackknife standard errors for the parameters $y_0$ and $a$.  It should take the same arguments as `plm()`, and return standard errors for both parameters.  This function should call your `plm()` function repeatedly.  What standard errors do you get for the two parameters?\n",
        "\n",
        "6. The file `gmp-2013.dat` contains measurements for 2013.  Load it, and use `plm()` and `plm.jackknife` to estimate the parameters of the model for 2013, and their standard errors.  Have the parameters of the model changed significantly?"
      ]
    },
    {
      "cell_type": "code",
      "execution_count": null,
      "id": "5102aa2f",
      "metadata": {
        "lines_to_next_cell": 0
      },
      "outputs": [],
      "source": [
        "gmp2013 <- read.table('data/gmp-2013.dat', header = T)"
      ]
    },
    {
      "cell_type": "markdown",
      "id": "21f7ae5b",
      "metadata": {},
      "source": []
    }
  ],
  "metadata": {
    "jupytext": {
      "cell_metadata_filter": "-all",
      "main_language": "R",
      "notebook_metadata_filter": "-all"
    },
    "kernelspec": {
      "name": "ir",
      "display_name": "R",
      "language": "R"
    },
    "language_info": {
      "name": "R"
    }
  },
  "nbformat": 4,
  "nbformat_minor": 5
}