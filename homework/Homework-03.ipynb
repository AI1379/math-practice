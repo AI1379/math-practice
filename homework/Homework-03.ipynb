{
  "cells": [
    {
      "cell_type": "raw",
      "id": "62d3e682",
      "metadata": {
        "vscode": {
          "languageId": "raw"
        }
      },
      "source": [
        "---\n",
        "title: \"Homework 3: The Death and Life of Great American City Scaling Laws\"\n",
        "output: pdf_document\n",
        "---"
      ]
    },
    {
      "cell_type": "markdown",
      "id": "3d445f0a",
      "metadata": {
        "lines_to_next_cell": 0
      },
      "source": [
        "**Background**: In the previous lectures and lab, we fitted the following model\n",
        "$$\n",
        " Y = y_0 N^a + \\mathrm{noise}\n",
        "$$\n",
        "by minimizing the mean squared error\n",
        "$$\n",
        " \\frac{1}{n}\\sum_{i=1}^{n}{(Y_i - y_0 N_i^a)^2}.\n",
        "$$\n",
        "\n",
        "We did this by approximating the derivative of the MSE, and adjusting $a$ by an amount proportional to that, stopping when the derivative became small.  Our procedure assumed we knew $y_0$.  In this assignment, we will use a built-in R function to estimate both parameters at once; it uses a fancier version of the same idea.\n",
        "\n",
        "Because the model is nonlinear, there is no simple formula for the parameter estimates in terms of the data.  Also unlike linear models, there is no simple formula for the _standard errors_ of the parameter estimates.  We will therefore use a technique called **the jackknife** to get approximate standard errors.\n",
        "\n",
        "Here is how the jackknife works:\n",
        "\n",
        "* Get a set of $n$ data points and get an estimate $\\hat{\\theta}$ for the  parameter of interest $\\theta$.\n",
        "* For each data point $i$, remove $i$ from the data set, and get an  estimate $\\hat{\\theta}_{(-i)}$ from the remaining $n-1$ data points.  The $\\hat{\\theta}_{(-i)}$ are sometimes called the \"jackknife estimates\".\n",
        "* Find the mean $\\overline{\\theta}$ of the $n$ values of $\\hat{\\theta}_{(-i)}$\n",
        "* The jackknife variance of $\\hat{\\theta}$ is\n",
        "  $$\n",
        "  \\frac{n-1}{n}\\sum_{i=1}^{n}{(\\hat{\\theta}_{(-i)} - \\overline{\\theta})^2} = \\frac{(n-1)^2}{n}\\mathrm{var}{[\\hat{\\theta}_{(-i)}]}\n",
        "  $$\n",
        "where $\\mathrm{var}$ stands for the sample variance.  (_Challenge_: can you explain the factor of $(n-1)^2/n$?  _Hint_: think about what happens when $n$ is large so $(n-1)/n \\approx 1$.)\n",
        "* The jackknife standard error of $\\hat{\\theta}$ is the square root of the jackknife variance.\n",
        "  \n",
        "You will estimate the power-law scaling model, and its uncertainty, using the data alluded to in lecture, available in the file `gmp.dat` from lecture, which contains data for 2006.\n"
      ]
    },
    {
      "cell_type": "code",
      "execution_count": 56,
      "id": "bad1e670",
      "metadata": {
        "vscode": {
          "languageId": "r"
        }
      },
      "outputs": [],
      "source": [
        "library(ggplot2)\n",
        "options(warn = -1)\n",
        "\n",
        "gmp <- read.table(\"data/gmp.dat\")\n",
        "gmp$pop <- round(gmp$gmp / gmp$pcgmp)\n"
      ]
    },
    {
      "cell_type": "markdown",
      "id": "10eb2f27",
      "metadata": {},
      "source": [
        "\n",
        "1. First, plot the data as in lecture, with per capita GMP on the y-axis and population on the x-axis. Add the curve function with the default values provided in lecture. Add two more curves corresponding to $a=0.1$ and $a=0.15$; use the `col` option to give each curve a different color (of your choice).\n"
      ]
    },
    {
      "cell_type": "code",
      "execution_count": 57,
      "id": "6565dc83",
      "metadata": {
        "vscode": {
          "languageId": "r"
        }
      },
      "outputs": [
        {
          "data": {
            "image/png": "[encoded data removed]",
            "text/plain": [
              "plot without title"
            ]
          },
          "metadata": {
            "image/png": {
              "height": 420,
              "width": 420
            }
          },
          "output_type": "display_data"
        }
      ],
      "source": [
        "base_plot <- ggplot(gmp, aes(x = pop, y = pcgmp)) +\n",
        "    geom_point(alpha = 0.6, size = 2) +\n",
        "    scale_x_log10(labels = scales::comma) +\n",
        "    scale_y_log10(labels = scales::dollar) +\n",
        "    labs(\n",
        "        x = \"Population (log scale)\",\n",
        "        y = \"Per Capita GMP (USD)\",\n",
        "        title = \"Power-law Scaling of City Productivity\"\n",
        "    ) +\n",
        "    theme_minimal(base_size = 12)\n",
        "\n",
        "final_plot <- base_plot +\n",
        "    stat_function(\n",
        "        fun = function(x) 6611 * x^(1 / 8),\n",
        "        aes(color = \"a = 0.125 (Default)\"),\n",
        "        linewidth = 1.2\n",
        "    ) +\n",
        "    stat_function(\n",
        "        fun = function(x) 6611 * x^0.1,\n",
        "        aes(color = \"a = 0.10\"),\n",
        "        linewidth = 1.2\n",
        "    ) +\n",
        "    stat_function(\n",
        "        fun = function(x) 6611 * x^0.15,\n",
        "        aes(color = \"a = 0.15\"),\n",
        "        linewidth = 1.2\n",
        "    ) +\n",
        "    scale_color_manual(\n",
        "        name = \"Theoretical Curves\",\n",
        "        values = c(\n",
        "            \"a = 0.125 (Default)\" = \"red\",\n",
        "            \"a = 0.10\" = \"blue\",\n",
        "            \"a = 0.15\" = \"green\"\n",
        "        )\n",
        "    ) +\n",
        "    theme(\n",
        "        legend.position = c(0.8, 0.2),\n",
        "        legend.background = element_rect(fill = \"white\", color = \"grey50\")\n",
        "    )\n",
        "\n",
        "final_plot\n"
      ]
    },
    {
      "cell_type": "markdown",
      "id": "f7ae9348",
      "metadata": {},
      "source": [
        "\n",
        "2. Write a function, called `mse()`, which calculates the mean squared error of the model on a given data set. `mse()` should take three arguments: a numeric vector of length two, the first component standing for $y_0$ and the second for $a$; a numerical vector containing the values of $N$; and a numerical vector containing the values of $Y$.  The function should return a single numerical value. The latter two arguments should have as the default values the columns `pop` and `pcgmp` (respectively) from the `gmp` data frame from lecture.  Your function may not use `for()` or any other loop. Check that, with the default data, you get the following values.\n",
        "```r\n",
        "> mse(c(6611,0.15))\n",
        "[1] 207057513\n",
        "> mse(c(5000,0.10))\n",
        "[1] 298459915\n",
        "```\n"
      ]
    },
    {
      "cell_type": "code",
      "execution_count": 58,
      "id": "01051f41",
      "metadata": {
        "vscode": {
          "languageId": "r"
        }
      },
      "outputs": [
        {
          "data": {
            "text/html": [
              "207057512.651299"
            ],
            "text/latex": [
              "207057512.651299"
            ],
            "text/markdown": [
              "207057512.651299"
            ],
            "text/plain": [
              "[1] 207057513"
            ]
          },
          "metadata": {},
          "output_type": "display_data"
        },
        {
          "data": {
            "text/html": [
              "298459913.954928"
            ],
            "text/latex": [
              "298459913.954928"
            ],
            "text/markdown": [
              "298459913.954928"
            ],
            "text/plain": [
              "[1] 298459914"
            ]
          },
          "metadata": {},
          "output_type": "display_data"
        }
      ],
      "source": [
        "mse <- function(iv, n = gmp$pop, y = gmp$pcgmp) {\n",
        "    y0 <- iv[1]\n",
        "    a <- iv[2]\n",
        "    y_hat <- y0 * n^a\n",
        "    return(mean((y - y_hat)^2))\n",
        "}\n",
        "\n",
        "mse(c(6611, 0.15))\n",
        "\n",
        "mse(c(5000, 0.10))\n"
      ]
    },
    {
      "cell_type": "markdown",
      "id": "0e17757d",
      "metadata": {},
      "source": [
        "\n",
        "3. R has several built-in functions for optimization, which we will meet as we go through the course.  One of the simplest is `nlm()`, or non-linear minimization. `nlm()` takes two required arguments: a function, and a starting value for that function. Run `nlm()` three times with your function `mse()` and three starting value pairs for $y0$ and $a$ as in\n",
        "```r\n",
        "nlm(mse, c(y0=6611,a=1/8))\n",
        "```\n",
        "What do the quantities `minimum` and `estimate` represent? What values does it return for these?\n"
      ]
    },
    {
      "cell_type": "code",
      "execution_count": 59,
      "id": "1ca32f19",
      "metadata": {
        "vscode": {
          "languageId": "r"
        }
      },
      "outputs": [
        {
          "data": {
            "text/html": [
              "<dl>\n",
              "\t<dt>$minimum</dt>\n",
              "\t\t<dd>61857059.8727315</dd>\n",
              "\t<dt>$estimate</dt>\n",
              "\t\t<dd><style>\n",
              ".list-inline {list-style: none; margin:0; padding: 0}\n",
              ".list-inline>li {display: inline-block}\n",
              ".list-inline>li:not(:last-child)::after {content: \"\\00b7\"; padding: 0 .5ex}\n",
              "</style>\n",
              "<ol class=list-inline><li>6611.00000001484</li><li>0.126317722842728</li></ol>\n",
              "</dd>\n",
              "\t<dt>$gradient</dt>\n",
              "\t\t<dd><style>\n",
              ".list-inline {list-style: none; margin:0; padding: 0}\n",
              ".list-inline>li {display: inline-block}\n",
              ".list-inline>li:not(:last-child)::after {content: \"\\00b7\"; padding: 0 .5ex}\n",
              "</style>\n",
              "<ol class=list-inline><li>50.0486389696241</li><li>-9.98377799987793</li></ol>\n",
              "</dd>\n",
              "\t<dt>$code</dt>\n",
              "\t\t<dd>2</dd>\n",
              "\t<dt>$iterations</dt>\n",
              "\t\t<dd>3</dd>\n",
              "</dl>\n"
            ],
            "text/latex": [
              "\\begin{description}\n",
              "\\item[\\$minimum] 61857059.8727315\n",
              "\\item[\\$estimate] \\begin{enumerate*}\n",
              "\\item 6611.00000001484\n",
              "\\item 0.126317722842728\n",
              "\\end{enumerate*}\n",
              "\n",
              "\\item[\\$gradient] \\begin{enumerate*}\n",
              "\\item 50.0486389696241\n",
              "\\item -9.98377799987793\n",
              "\\end{enumerate*}\n",
              "\n",
              "\\item[\\$code] 2\n",
              "\\item[\\$iterations] 3\n",
              "\\end{description}\n"
            ],
            "text/markdown": [
              "$minimum\n",
              ":   61857059.8727315\n",
              "$estimate\n",
              ":   1. 6611.00000001484\n",
              "2. 0.126317722842728\n",
              "\n",
              "\n",
              "\n",
              "$gradient\n",
              ":   1. 50.0486389696241\n",
              "2. -9.98377799987793\n",
              "\n",
              "\n",
              "\n",
              "$code\n",
              ":   2\n",
              "$iterations\n",
              ":   3\n",
              "\n",
              "\n"
            ],
            "text/plain": [
              "$minimum\n",
              "[1] 61857060\n",
              "\n",
              "$estimate\n",
              "[1] 6611.0000000    0.1263177\n",
              "\n",
              "$gradient\n",
              "[1] 50.048639 -9.983778\n",
              "\n",
              "$code\n",
              "[1] 2\n",
              "\n",
              "$iterations\n",
              "[1] 3\n"
            ]
          },
          "metadata": {},
          "output_type": "display_data"
        },
        {
          "data": {
            "text/html": [
              "<dl>\n",
              "\t<dt>$minimum</dt>\n",
              "\t\t<dd>61857059.8266112</dd>\n",
              "\t<dt>$estimate</dt>\n",
              "\t\t<dd><style>\n",
              ".list-inline {list-style: none; margin:0; padding: 0}\n",
              ".list-inline>li {display: inline-block}\n",
              ".list-inline>li:not(:last-child)::after {content: \"\\00b7\"; padding: 0 .5ex}\n",
              "</style>\n",
              "<ol class=list-inline><li>6610.99999972775</li><li>0.126318156293406</li></ol>\n",
              "</dd>\n",
              "\t<dt>$gradient</dt>\n",
              "\t\t<dd><style>\n",
              ".list-inline {list-style: none; margin:0; padding: 0}\n",
              ".list-inline>li {display: inline-block}\n",
              ".list-inline>li:not(:last-child)::after {content: \"\\00b7\"; padding: 0 .5ex}\n",
              "</style>\n",
              "<ol class=list-inline><li>51.7635428889388</li><li>-210.189484059811</li></ol>\n",
              "</dd>\n",
              "\t<dt>$code</dt>\n",
              "\t\t<dd>2</dd>\n",
              "\t<dt>$iterations</dt>\n",
              "\t\t<dd>7</dd>\n",
              "</dl>\n"
            ],
            "text/latex": [
              "\\begin{description}\n",
              "\\item[\\$minimum] 61857059.8266112\n",
              "\\item[\\$estimate] \\begin{enumerate*}\n",
              "\\item 6610.99999972775\n",
              "\\item 0.126318156293406\n",
              "\\end{enumerate*}\n",
              "\n",
              "\\item[\\$gradient] \\begin{enumerate*}\n",
              "\\item 51.7635428889388\n",
              "\\item -210.189484059811\n",
              "\\end{enumerate*}\n",
              "\n",
              "\\item[\\$code] 2\n",
              "\\item[\\$iterations] 7\n",
              "\\end{description}\n"
            ],
            "text/markdown": [
              "$minimum\n",
              ":   61857059.8266112\n",
              "$estimate\n",
              ":   1. 6610.99999972775\n",
              "2. 0.126318156293406\n",
              "\n",
              "\n",
              "\n",
              "$gradient\n",
              ":   1. 51.7635428889388\n",
              "2. -210.189484059811\n",
              "\n",
              "\n",
              "\n",
              "$code\n",
              ":   2\n",
              "$iterations\n",
              ":   7\n",
              "\n",
              "\n"
            ],
            "text/plain": [
              "$minimum\n",
              "[1] 61857060\n",
              "\n",
              "$estimate\n",
              "[1] 6610.9999997    0.1263182\n",
              "\n",
              "$gradient\n",
              "[1]   51.76354 -210.18948\n",
              "\n",
              "$code\n",
              "[1] 2\n",
              "\n",
              "$iterations\n",
              "[1] 7\n"
            ]
          },
          "metadata": {},
          "output_type": "display_data"
        },
        {
          "data": {
            "text/html": [
              "<dl>\n",
              "\t<dt>$minimum</dt>\n",
              "\t\t<dd>62521483.5949203</dd>\n",
              "\t<dt>$estimate</dt>\n",
              "\t\t<dd><style>\n",
              ".list-inline {list-style: none; margin:0; padding: 0}\n",
              ".list-inline>li {display: inline-block}\n",
              ".list-inline>li:not(:last-child)::after {content: \"\\00b7\"; padding: 0 .5ex}\n",
              "</style>\n",
              "<ol class=list-inline><li>5000.00000075672</li><li>0.147591319991501</li></ol>\n",
              "</dd>\n",
              "\t<dt>$gradient</dt>\n",
              "\t\t<dd><style>\n",
              ".list-inline {list-style: none; margin:0; padding: 0}\n",
              ".list-inline>li {display: inline-block}\n",
              ".list-inline>li:not(:last-child)::after {content: \"\\00b7\"; padding: 0 .5ex}\n",
              "</style>\n",
              "<ol class=list-inline><li>-1028.22544254447</li><li>11.3876163959503</li></ol>\n",
              "</dd>\n",
              "\t<dt>$code</dt>\n",
              "\t\t<dd>2</dd>\n",
              "\t<dt>$iterations</dt>\n",
              "\t\t<dd>5</dd>\n",
              "</dl>\n"
            ],
            "text/latex": [
              "\\begin{description}\n",
              "\\item[\\$minimum] 62521483.5949203\n",
              "\\item[\\$estimate] \\begin{enumerate*}\n",
              "\\item 5000.00000075672\n",
              "\\item 0.147591319991501\n",
              "\\end{enumerate*}\n",
              "\n",
              "\\item[\\$gradient] \\begin{enumerate*}\n",
              "\\item -1028.22544254447\n",
              "\\item 11.3876163959503\n",
              "\\end{enumerate*}\n",
              "\n",
              "\\item[\\$code] 2\n",
              "\\item[\\$iterations] 5\n",
              "\\end{description}\n"
            ],
            "text/markdown": [
              "$minimum\n",
              ":   62521483.5949203\n",
              "$estimate\n",
              ":   1. 5000.00000075672\n",
              "2. 0.147591319991501\n",
              "\n",
              "\n",
              "\n",
              "$gradient\n",
              ":   1. -1028.22544254447\n",
              "2. 11.3876163959503\n",
              "\n",
              "\n",
              "\n",
              "$code\n",
              ":   2\n",
              "$iterations\n",
              ":   5\n",
              "\n",
              "\n"
            ],
            "text/plain": [
              "$minimum\n",
              "[1] 62521484\n",
              "\n",
              "$estimate\n",
              "[1] 5000.0000008    0.1475913\n",
              "\n",
              "$gradient\n",
              "[1] -1028.22544    11.38762\n",
              "\n",
              "$code\n",
              "[1] 2\n",
              "\n",
              "$iterations\n",
              "[1] 5\n"
            ]
          },
          "metadata": {},
          "output_type": "display_data"
        }
      ],
      "source": [
        "nlm(mse, c(y0 = 6611, a = 0.125))\n",
        "nlm(mse, c(y0 = 6611, a = 0.15))\n",
        "nlm(mse, c(y0 = 5000, a = 0.10))\n"
      ]
    },
    {
      "cell_type": "markdown",
      "id": "7086a198",
      "metadata": {},
      "source": [
        "**Answer:**\n",
        "\n",
        "The `minimum` represents the minimum value of the function being optimized (in this case, the MSE), while `estimate` gives the estimated parameters that minimize this function. When running `nlm()` with the provided starting values, it returns the optimal values for $y_0$ and $a$ that minimize the MSE for the given data.\n",
        "\n",
        "For case `c(y0=6611, a=1/8)` and `c(y0=6611, a=0.15)`, the outputs are quite similar. However, for `c(y0=5000, a=0.10)`, the outputs differ significantly, indicating that the choice of starting values can affect the optimization results."
      ]
    },
    {
      "cell_type": "markdown",
      "id": "b0c33a83",
      "metadata": {},
      "source": [
        "\n",
        "4. Using `nlm()`, and the `mse()` function you wrote, write a function, `plm()`, which estimates the parameters $y_0$ and $a$ of the model by minimizing the mean squared error.  It should take the following arguments: an initial guess for $y_0$; an initial guess for $a$; a vector containing the $N$ values; a vector containing the $Y$ values.  All arguments except the initial guesses should have suitable default values.  It should return a list with the following components: the final guess for $y_0$; the final guess for $a$; the final value of the MSE.  Your function must call those you wrote in earlier questions (it should not repeat their code), and the appropriate arguments to `plm()` should be passed on to them. \n",
        "What parameter estimate do you get when starting from $y_0 = 6611$ and $a = 0.15$?  From $y_0 = 5000$ and $a = 0.10$?  If these are not the same, why do they differ?  Which estimate has the lower MSE?  \n"
      ]
    },
    {
      "cell_type": "code",
      "execution_count": 60,
      "id": "d027db08",
      "metadata": {
        "vscode": {
          "languageId": "r"
        }
      },
      "outputs": [
        {
          "data": {
            "text/html": [
              "<dl>\n",
              "\t<dt>$y0</dt>\n",
              "\t\t<dd>6610.99999972775</dd>\n",
              "\t<dt>$a</dt>\n",
              "\t\t<dd>0.126318156293406</dd>\n",
              "\t<dt>$mse</dt>\n",
              "\t\t<dd>61857059.8266112</dd>\n",
              "</dl>\n"
            ],
            "text/latex": [
              "\\begin{description}\n",
              "\\item[\\$y0] 6610.99999972775\n",
              "\\item[\\$a] 0.126318156293406\n",
              "\\item[\\$mse] 61857059.8266112\n",
              "\\end{description}\n"
            ],
            "text/markdown": [
              "$y0\n",
              ":   6610.99999972775\n",
              "$a\n",
              ":   0.126318156293406\n",
              "$mse\n",
              ":   61857059.8266112\n",
              "\n",
              "\n"
            ],
            "text/plain": [
              "$y0\n",
              "[1] 6611\n",
              "\n",
              "$a\n",
              "[1] 0.1263182\n",
              "\n",
              "$mse\n",
              "[1] 61857060\n"
            ]
          },
          "metadata": {},
          "output_type": "display_data"
        },
        {
          "data": {
            "text/html": [
              "<dl>\n",
              "\t<dt>$y0</dt>\n",
              "\t\t<dd>5000.00000075672</dd>\n",
              "\t<dt>$a</dt>\n",
              "\t\t<dd>0.147591319991501</dd>\n",
              "\t<dt>$mse</dt>\n",
              "\t\t<dd>62521483.5949203</dd>\n",
              "</dl>\n"
            ],
            "text/latex": [
              "\\begin{description}\n",
              "\\item[\\$y0] 5000.00000075672\n",
              "\\item[\\$a] 0.147591319991501\n",
              "\\item[\\$mse] 62521483.5949203\n",
              "\\end{description}\n"
            ],
            "text/markdown": [
              "$y0\n",
              ":   5000.00000075672\n",
              "$a\n",
              ":   0.147591319991501\n",
              "$mse\n",
              ":   62521483.5949203\n",
              "\n",
              "\n"
            ],
            "text/plain": [
              "$y0\n",
              "[1] 5000\n",
              "\n",
              "$a\n",
              "[1] 0.1475913\n",
              "\n",
              "$mse\n",
              "[1] 62521484\n"
            ]
          },
          "metadata": {},
          "output_type": "display_data"
        }
      ],
      "source": [
        "plm <- function(y0, a, n = gmp$pop, y = gmp$pcgmp) {\n",
        "    result <- nlm(mse, c(y0 = y0, a = a), n = n, y = y)\n",
        "    return(list(y0 = result$estimate[1], a = result$estimate[2], mse = result$minimum))\n",
        "}\n",
        "plm(6611, 0.15)\n",
        "plm(5000, 0.10)\n"
      ]
    },
    {
      "cell_type": "markdown",
      "id": "31c3b9ab",
      "metadata": {},
      "source": [
        "**Answer**:\n",
        "\n",
        "The `nlm()` algorithm falls into a local minimum, which is not the global minimum, leading to different estimates for the parameters. The choice of starting values can significantly affect the optimization results, especially in non-linear models like this one. \n",
        "\n",
        "When starting from $y_0 = 6611$ and $a = 0.15$, the estimates are close to the expected values, while starting from $y_0 = 5000$ and $a = 0.10$ leads to a different set of estimates. The MSE for the first case is lower than that for the second case, indicating that the first set of parameters provides a better fit to the data."
      ]
    },
    {
      "cell_type": "markdown",
      "id": "a783e3b3",
      "metadata": {},
      "source": [
        "\n",
        "5. _Convince yourself the jackknife can work_.\n",
        "\n",
        "    a. Calculate the mean per-capita GMP across cities, and the standard error of this mean, using the built-in functions `mean()` and `sd()`, and the formula for the standard error of the mean you learned in your intro. stats. class (or looked up on Wikipedia...).\n",
        "\n",
        "    b. Write a function which takes in an integer `i`, and calculate the mean per-capita GMP for every city _except_ city number `i`.\n",
        "\n",
        "    c. Using this function, create a vector, `jackknifed.means`, which has the mean per-capita GMP where every city is held out in turn.  (You may use a `for` loop or `sapply()`.)\n",
        "\n",
        "    d. Using the vector `jackknifed.means`, calculate the jack-knife approximation to the standard error of the mean.  How well does it match your answer from part (a)?\n"
      ]
    },
    {
      "cell_type": "code",
      "execution_count": 61,
      "id": "e2423c6d",
      "metadata": {
        "vscode": {
          "languageId": "r"
        }
      },
      "outputs": [
        {
          "data": {
            "text/html": [
              "<table class=\"dataframe\">\n",
              "<caption>A data.frame: 1 × 3</caption>\n",
              "<thead>\n",
              "\t<tr><th scope=col>mean</th><th scope=col>sd</th><th scope=col>sigma</th></tr>\n",
              "\t<tr><th scope=col>&lt;dbl&gt;</th><th scope=col>&lt;dbl&gt;</th><th scope=col>&lt;dbl&gt;</th></tr>\n",
              "</thead>\n",
              "<tbody>\n",
              "\t<tr><td>32922.53</td><td>9219.663</td><td>481.9195</td></tr>\n",
              "</tbody>\n",
              "</table>\n"
            ],
            "text/latex": [
              "A data.frame: 1 × 3\n",
              "\\begin{tabular}{lll}\n",
              " mean & sd & sigma\\\\\n",
              " <dbl> & <dbl> & <dbl>\\\\\n",
              "\\hline\n",
              "\t 32922.53 & 9219.663 & 481.9195\\\\\n",
              "\\end{tabular}\n"
            ],
            "text/markdown": [
              "\n",
              "A data.frame: 1 × 3\n",
              "\n",
              "| mean &lt;dbl&gt; | sd &lt;dbl&gt; | sigma &lt;dbl&gt; |\n",
              "|---|---|---|\n",
              "| 32922.53 | 9219.663 | 481.9195 |\n",
              "\n"
            ],
            "text/plain": [
              "  mean     sd       sigma   \n",
              "1 32922.53 9219.663 481.9195"
            ]
          },
          "metadata": {},
          "output_type": "display_data"
        },
        {
          "data": {
            "text/html": [
              "481.919529734973"
            ],
            "text/latex": [
              "481.919529734973"
            ],
            "text/markdown": [
              "481.919529734973"
            ],
            "text/plain": [
              "[1] 481.9195"
            ]
          },
          "metadata": {},
          "output_type": "display_data"
        },
        {
          "data": {
            "text/html": [
              "3.89241918342315e-15"
            ],
            "text/latex": [
              "3.89241918342315e-15"
            ],
            "text/markdown": [
              "3.89241918342315e-15"
            ],
            "text/plain": [
              "[1] 3.892419e-15"
            ]
          },
          "metadata": {},
          "output_type": "display_data"
        }
      ],
      "source": [
        "mean_pcgmp <- mean(gmp$pcgmp)\n",
        "sd_pcgmp <- sd(gmp$pcgmp)\n",
        "n <- nrow(gmp)\n",
        "sigma <- sd_pcgmp / sqrt(n)\n",
        "data.frame(\n",
        "    mean = mean_pcgmp,\n",
        "    sd = sd_pcgmp,\n",
        "    sigma = sigma\n",
        ")\n",
        "\n",
        "jack_mean <- function(i, data = gmp$pcgmp) {\n",
        "    return(mean(data[-i]))\n",
        "}\n",
        "\n",
        "jackknifed.means <- sapply(seq_len(n), jack_mean)\n",
        "\n",
        "theta_bar <- mean(jackknifed.means)\n",
        "jack_var <- (n - 1) / n * sum((jackknifed.means - theta_bar)^2)\n",
        "se_jack <- sqrt(jack_var)\n",
        "\n",
        "se_jack\n",
        "abs(se_jack - sigma) / sigma\n"
      ]
    },
    {
      "cell_type": "markdown",
      "id": "e5f13596",
      "metadata": {},
      "source": [
        "\n",
        "6. Write a function, `plm.jackknife()`, to calculate jackknife standard errors for the parameters $y_0$ and $a$.  It should take the same arguments as `plm()`, and return standard errors for both parameters.  This function should call your `plm()` function repeatedly.  What standard errors do you get for the two parameters?\n"
      ]
    },
    {
      "cell_type": "code",
      "execution_count": 62,
      "id": "f6390139",
      "metadata": {
        "vscode": {
          "languageId": "r"
        }
      },
      "outputs": [
        {
          "data": {
            "text/html": [
              "<dl>\n",
              "\t<dt>$se_y0</dt>\n",
              "\t\t<dd>1.21707564159639e-08</dd>\n",
              "\t<dt>$se_a</dt>\n",
              "\t\t<dd>0.000990457212266505</dd>\n",
              "</dl>\n"
            ],
            "text/latex": [
              "\\begin{description}\n",
              "\\item[\\$se\\_y0] 1.21707564159639e-08\n",
              "\\item[\\$se\\_a] 0.000990457212266505\n",
              "\\end{description}\n"
            ],
            "text/markdown": [
              "$se_y0\n",
              ":   1.21707564159639e-08\n",
              "$se_a\n",
              ":   0.000990457212266505\n",
              "\n",
              "\n"
            ],
            "text/plain": [
              "$se_y0\n",
              "[1] 1.217076e-08\n",
              "\n",
              "$se_a\n",
              "[1] 0.0009904572\n"
            ]
          },
          "metadata": {},
          "output_type": "display_data"
        },
        {
          "data": {
            "text/html": [
              "<dl>\n",
              "\t<dt>$se_y0</dt>\n",
              "\t\t<dd>2.03389783175398e-08</dd>\n",
              "\t<dt>$se_a</dt>\n",
              "\t\t<dd>0.000997982365138492</dd>\n",
              "</dl>\n"
            ],
            "text/latex": [
              "\\begin{description}\n",
              "\\item[\\$se\\_y0] 2.03389783175398e-08\n",
              "\\item[\\$se\\_a] 0.000997982365138492\n",
              "\\end{description}\n"
            ],
            "text/markdown": [
              "$se_y0\n",
              ":   2.03389783175398e-08\n",
              "$se_a\n",
              ":   0.000997982365138492\n",
              "\n",
              "\n"
            ],
            "text/plain": [
              "$se_y0\n",
              "[1] 2.033898e-08\n",
              "\n",
              "$se_a\n",
              "[1] 0.0009979824\n"
            ]
          },
          "metadata": {},
          "output_type": "display_data"
        }
      ],
      "source": [
        "jackknife_se <- function(theta_hats) {\n",
        "    n <- length(theta_hats)\n",
        "    theta_bar <- mean(theta_hats)\n",
        "\n",
        "    jack_var <- (n - 1) / n * sum((theta_hats - theta_bar)^2)\n",
        "\n",
        "    sqrt(jack_var)\n",
        "}\n",
        "\n",
        "plm.jackknife <- function(y0, a, N = gmp$pop, Y = gmp$pcgmp) {\n",
        "    n <- length(N)\n",
        "\n",
        "    jack_estimates <- matrix(NA,\n",
        "        nrow = n, ncol = 2,\n",
        "        dimnames = list(NULL, c(\"y0\", \"a\"))\n",
        "    )\n",
        "\n",
        "\n",
        "    for (i in 1:n) {\n",
        "        N_sub <- N[-i]\n",
        "        Y_sub <- Y[-i]\n",
        "\n",
        "        fit <- plm(y0, a, N_sub, Y_sub)\n",
        "\n",
        "        jack_estimates[i, \"y0\"] <- fit$y0\n",
        "        jack_estimates[i, \"a\"] <- fit$a\n",
        "    }\n",
        "\n",
        "    se_y0 <- jackknife_se(jack_estimates[, \"y0\"])\n",
        "    se_a <- jackknife_se(jack_estimates[, \"a\"])\n",
        "\n",
        "    (list(se_y0 = se_y0, se_a = se_a))\n",
        "}\n",
        "\n",
        "plm.jackknife(6611, 0.15)\n",
        "plm.jackknife(5000, 0.10)\n"
      ]
    },
    {
      "cell_type": "markdown",
      "id": "6c73cfc2",
      "metadata": {},
      "source": [
        "\n",
        "7. The file `gmp-2013.dat` contains measurements for 2013.  Load it, and use `plm()` and `plm.jackknife` to estimate the parameters of the model for 2013, and their standard errors.  Have the parameters of the model changed significantly?"
      ]
    },
    {
      "cell_type": "code",
      "execution_count": 63,
      "id": "d67c33c1",
      "metadata": {
        "vscode": {
          "languageId": "r"
        }
      },
      "outputs": [
        {
          "data": {
            "text/html": [
              "<dl>\n",
              "\t<dt>$y0</dt>\n",
              "\t\t<dd>6610.99999993547</dd>\n",
              "\t<dt>$a</dt>\n",
              "\t\t<dd>0.14336878471236</dd>\n",
              "\t<dt>$mse</dt>\n",
              "\t\t<dd>135210524.492827</dd>\n",
              "</dl>\n"
            ],
            "text/latex": [
              "\\begin{description}\n",
              "\\item[\\$y0] 6610.99999993547\n",
              "\\item[\\$a] 0.14336878471236\n",
              "\\item[\\$mse] 135210524.492827\n",
              "\\end{description}\n"
            ],
            "text/markdown": [
              "$y0\n",
              ":   6610.99999993547\n",
              "$a\n",
              ":   0.14336878471236\n",
              "$mse\n",
              ":   135210524.492827\n",
              "\n",
              "\n"
            ],
            "text/plain": [
              "$y0\n",
              "[1] 6611\n",
              "\n",
              "$a\n",
              "[1] 0.1433688\n",
              "\n",
              "$mse\n",
              "[1] 135210524\n"
            ]
          },
          "metadata": {},
          "output_type": "display_data"
        },
        {
          "data": {
            "text/html": [
              "<dl>\n",
              "\t<dt>$se_y0</dt>\n",
              "\t\t<dd>1.34972877742154e-08</dd>\n",
              "\t<dt>$se_a</dt>\n",
              "\t\t<dd>0.00109864979242322</dd>\n",
              "</dl>\n"
            ],
            "text/latex": [
              "\\begin{description}\n",
              "\\item[\\$se\\_y0] 1.34972877742154e-08\n",
              "\\item[\\$se\\_a] 0.00109864979242322\n",
              "\\end{description}\n"
            ],
            "text/markdown": [
              "$se_y0\n",
              ":   1.34972877742154e-08\n",
              "$se_a\n",
              ":   0.00109864979242322\n",
              "\n",
              "\n"
            ],
            "text/plain": [
              "$se_y0\n",
              "[1] 1.349729e-08\n",
              "\n",
              "$se_a\n",
              "[1] 0.00109865\n"
            ]
          },
          "metadata": {},
          "output_type": "display_data"
        },
        {
          "data": {
            "text/html": [
              "<dl>\n",
              "\t<dt>$y0</dt>\n",
              "\t\t<dd>5000.00000119158</dd>\n",
              "\t<dt>$a</dt>\n",
              "\t\t<dd>0.164426974547077</dd>\n",
              "\t<dt>$mse</dt>\n",
              "\t\t<dd>139208731.023517</dd>\n",
              "</dl>\n"
            ],
            "text/latex": [
              "\\begin{description}\n",
              "\\item[\\$y0] 5000.00000119158\n",
              "\\item[\\$a] 0.164426974547077\n",
              "\\item[\\$mse] 139208731.023517\n",
              "\\end{description}\n"
            ],
            "text/markdown": [
              "$y0\n",
              ":   5000.00000119158\n",
              "$a\n",
              ":   0.164426974547077\n",
              "$mse\n",
              ":   139208731.023517\n",
              "\n",
              "\n"
            ],
            "text/plain": [
              "$y0\n",
              "[1] 5000\n",
              "\n",
              "$a\n",
              "[1] 0.164427\n",
              "\n",
              "$mse\n",
              "[1] 139208731\n"
            ]
          },
          "metadata": {},
          "output_type": "display_data"
        },
        {
          "data": {
            "text/html": [
              "<dl>\n",
              "\t<dt>$se_y0</dt>\n",
              "\t\t<dd>6.24847265268916e-08</dd>\n",
              "\t<dt>$se_a</dt>\n",
              "\t\t<dd>0.00112251345167824</dd>\n",
              "</dl>\n"
            ],
            "text/latex": [
              "\\begin{description}\n",
              "\\item[\\$se\\_y0] 6.24847265268916e-08\n",
              "\\item[\\$se\\_a] 0.00112251345167824\n",
              "\\end{description}\n"
            ],
            "text/markdown": [
              "$se_y0\n",
              ":   6.24847265268916e-08\n",
              "$se_a\n",
              ":   0.00112251345167824\n",
              "\n",
              "\n"
            ],
            "text/plain": [
              "$se_y0\n",
              "[1] 6.248473e-08\n",
              "\n",
              "$se_a\n",
              "[1] 0.001122513\n"
            ]
          },
          "metadata": {},
          "output_type": "display_data"
        }
      ],
      "source": [
        "gmp <- read.table(\"data/gmp-2013.dat\")\n",
        "gmp$pop <- round(gmp$gmp / gmp$pcgmp)\n",
        "\n",
        "plm(6611, 0.15, gmp$pop, gmp$pcgmp)\n",
        "plm.jackknife(6611, 0.15, gmp$pop, gmp$pcgmp)\n",
        "\n",
        "plm(5000, 0.10, gmp$pop, gmp$pcgmp)\n",
        "plm.jackknife(5000, 0.10, gmp$pop, gmp$pcgmp)\n"
      ]
    }
  ],
  "metadata": {
    "jupytext": {
      "cell_metadata_filter": "-all",
      "main_language": "R",
      "notebook_metadata_filter": "-all"
    },
    "kernelspec": {
      "display_name": "R",
      "language": "R",
      "name": "ir"
    },
    "language_info": {
      "codemirror_mode": "r",
      "file_extension": ".r",
      "mimetype": "text/x-r-source",
      "name": "R",
      "pygments_lexer": "r",
      "version": "4.5.1"
    }
  },
  "nbformat": 4,
  "nbformat_minor": 5
}
